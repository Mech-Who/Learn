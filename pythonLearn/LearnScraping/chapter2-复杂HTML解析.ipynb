{
 "cells": [
  {
   "cell_type": "markdown",
   "metadata": {},
   "source": [
    "# 二、复杂HTML解析\n",
    "\n",
    "## 2.1 BeautifulSoup选择标签\n",
    "\n",
    "### 2.1.1 findAll() 与 get_text()\n",
    "\n",
    "注意，使用get_text()方法会清楚正在处理的HTML文档中的所有标签，然后返回一个只包含文字的Unicode字符串。\n",
    "\n",
    "因此，我们通常在准备打印、存储和操作最终数据时，应该最后才使用get_text()方法。\n",
    "\n",
    "一般情况下，你应该尽可能地保留HTML文档的标签结构。"
   ]
  },
  {
   "cell_type": "code",
   "execution_count": 2,
   "metadata": {},
   "outputs": [
    {
     "name": "stdout",
     "output_type": "stream",
     "text": [
      "Anna\n",
      "Pavlovna Scherer\n",
      "Empress Marya\n",
      "Fedorovna\n",
      "Prince Vasili Kuragin\n",
      "Anna Pavlovna\n",
      "St. Petersburg\n",
      "the prince\n",
      "Anna Pavlovna\n",
      "Anna Pavlovna\n",
      "the prince\n",
      "the prince\n",
      "the prince\n",
      "Prince Vasili\n",
      "Anna Pavlovna\n",
      "Anna Pavlovna\n",
      "the prince\n",
      "Wintzingerode\n",
      "King of Prussia\n",
      "le Vicomte de Mortemart\n",
      "Montmorencys\n",
      "Rohans\n",
      "Abbe Morio\n",
      "the Emperor\n",
      "the prince\n",
      "Prince Vasili\n",
      "Dowager Empress Marya Fedorovna\n",
      "the baron\n",
      "Anna Pavlovna\n",
      "the Empress\n",
      "the Empress\n",
      "Anna Pavlovna's\n",
      "Her Majesty\n",
      "Baron\n",
      "Funke\n",
      "The prince\n",
      "Anna\n",
      "Pavlovna\n",
      "the Empress\n",
      "The prince\n",
      "Anatole\n",
      "the prince\n",
      "The prince\n",
      "Anna\n",
      "Pavlovna\n",
      "Anna Pavlovna\n"
     ]
    }
   ],
   "source": [
    "from urllib.request import urlopen\n",
    "from bs4 import BeautifulSoup\n",
    "\n",
    "html = urlopen('http://pythonscraping.com/pages/warandpeace.html')\n",
    "bs = BeautifulSoup(html.read(), 'html.parser')\n",
    "\n",
    "nameList = bs.findAll('span', {'class': 'green'})\n",
    "for name in nameList:\n",
    "    print(name.get_text())"
   ]
  },
  {
   "cell_type": "markdown",
   "metadata": {},
   "source": [
    "### 2.1.2 find() 和 find_all()\n",
    "\n",
    "两者的定义：\n",
    "\n",
    "- find_all(tag, attributes, recursive, string, limit, keywords)\n",
    "- find(tag, attributes, recursive, string, keywords)\n",
    "\n",
    "可以看到，这两个方法的定义很类似。以下是参数介绍：\n",
    "\n",
    "- tag：标签名称 或 标签列表，如'h1', ['h1', 'h2', 'h3']等。\n",
    "- attributes：属性字典，封装一个标签的若干属性和对应的属性值，如{ 'class': { 'green', 'red' } }。\n",
    "- recursive：递归参数，布尔值，表示是否需要递归查询，默认值为True，此时会递归查找标签；而为False时只查询文档的一级标签。通常在结构明确且要求抓取速度时手动设置为False。\n",
    "- string：文本参数，表示用标签的文本内容去匹配，而不使用标签的属性，如'the prince'。\n",
    "- limit：范围限制参数（仅用于find_all()方法）。find其实等价于limit=1时的find_all()。表达你需要找到网页中的前limit项结果。不过结果的顺序和你想要的顺序可能不一致，默认的结果顺序是按照网页上的顺序排序的。\n",
    "- keyword：关键词参数，用于选择具有指定属性的标签，如id='title', class_='text'（class写成class_是为了避免python解释器将其视为class关键字）"
   ]
  },
  {
   "cell_type": "code",
   "execution_count": 4,
   "metadata": {},
   "outputs": [
    {
     "name": "stdout",
     "output_type": "stream",
     "text": [
      "h_tag=[<h1>War and Peace</h1>, <h2>Chapter 1</h2>]\n",
      "len(attr_tag)=75\n",
      "len(text_tag)=7\n",
      "title_tag=[]\n",
      "title_tag2=[]\n"
     ]
    }
   ],
   "source": [
    "h_tag = bs.find_all(['h1', 'h2', 'h3', 'h4'])\n",
    "print(f\"{h_tag=}\")\n",
    "attr_tag = bs.find_all('span', {'class': {'green', 'red'}})\n",
    "print(f\"{len(attr_tag)=}\")\n",
    "text_tag = bs.find_all(string='the prince')\n",
    "print(f\"{len(text_tag)=}\")\n",
    "title_tag = bs.find_all(id='title', class_='text')\n",
    "# 等价写法：\n",
    "title_tag2 = bs.find_all('', {'id': 'title', 'class': 'text'})\n",
    "print(f\"{title_tag=}\")\n",
    "print(f\"{title_tag2=}\")"
   ]
  },
  {
   "cell_type": "markdown",
   "metadata": {},
   "source": [
    "### 2.1.3 其他的BeautifulSoup对象\n",
    "\n",
    "BeautifulSoup库中的所有对象：\n",
    "\n",
    "- BeautifulSoup对象\n",
    "- Tag对象：表示标签的对象\n",
    "- NavigableString对象（不常用）：用于表示标签里的文字，而不是标签本身（有些函数可以操作和生成NavigableString对象，而不是标签对象）\n",
    "- Comment对象（不常用）：用于查找HTML文档的注释标签\n",
    "\n",
    "### 2.1.4 导航树\n",
    "\n",
    "通过导航树（navigating trees），我们可以通过标签在文档中的位置来查找标签。\n",
    "\n",
    "例如：http://www.pythonscraping.com/pages/page3.html页面的标签树如下：\n",
    "\n",
    "- HTML\n",
    "  - body\n",
    "    - div.wrapper\n",
    "      - h1\n",
    "      - div.content\n",
    "      - table#giftList\n",
    "        - tr\n",
    "          - th\n",
    "          - th\n",
    "          - th\n",
    "          - th\n",
    "        - tr.gift#gift1\n",
    "          - td\n",
    "          - td\n",
    "            - span.excitingNote\n",
    "          - td\n",
    "          - td\n",
    "            -img\n",
    "        - ...其他表格行（这里省略不写）\n",
    "      - div.footer"
   ]
  },
  {
   "cell_type": "markdown",
   "metadata": {},
   "source": [
    "1. 处理 子标签 和 后代标签"
   ]
  },
  {
   "cell_type": "code",
   "execution_count": 5,
   "metadata": {},
   "outputs": [
    {
     "name": "stdout",
     "output_type": "stream",
     "text": [
      "\n",
      "\n",
      "<tr><th>\n",
      "Item Title\n",
      "</th><th>\n",
      "Description\n",
      "</th><th>\n",
      "Cost\n",
      "</th><th>\n",
      "Image\n",
      "</th></tr>\n",
      "\n",
      "\n",
      "<tr class=\"gift\" id=\"gift1\"><td>\n",
      "Vegetable Basket\n",
      "</td><td>\n",
      "This vegetable basket is the perfect gift for your health conscious (or overweight) friends!\n",
      "<span class=\"excitingNote\">Now with super-colorful bell peppers!</span>\n",
      "</td><td>\n",
      "$15.00\n",
      "</td><td>\n",
      "<img src=\"../img/gifts/img1.jpg\"/>\n",
      "</td></tr>\n",
      "\n",
      "\n",
      "<tr class=\"gift\" id=\"gift2\"><td>\n",
      "Russian Nesting Dolls\n",
      "</td><td>\n",
      "Hand-painted by trained monkeys, these exquisite dolls are priceless! And by \"priceless,\" we mean \"extremely expensive\"! <span class=\"excitingNote\">8 entire dolls per set! Octuple the presents!</span>\n",
      "</td><td>\n",
      "$10,000.52\n",
      "</td><td>\n",
      "<img src=\"../img/gifts/img2.jpg\"/>\n",
      "</td></tr>\n",
      "\n",
      "\n",
      "<tr class=\"gift\" id=\"gift3\"><td>\n",
      "Fish Painting\n",
      "</td><td>\n",
      "If something seems fishy about this painting, it's because it's a fish! <span class=\"excitingNote\">Also hand-painted by trained monkeys!</span>\n",
      "</td><td>\n",
      "$10,005.00\n",
      "</td><td>\n",
      "<img src=\"../img/gifts/img3.jpg\"/>\n",
      "</td></tr>\n",
      "\n",
      "\n",
      "<tr class=\"gift\" id=\"gift4\"><td>\n",
      "Dead Parrot\n",
      "</td><td>\n",
      "This is an ex-parrot! <span class=\"excitingNote\">Or maybe he's only resting?</span>\n",
      "</td><td>\n",
      "$0.50\n",
      "</td><td>\n",
      "<img src=\"../img/gifts/img4.jpg\"/>\n",
      "</td></tr>\n",
      "\n",
      "\n",
      "<tr class=\"gift\" id=\"gift5\"><td>\n",
      "Mystery Box\n",
      "</td><td>\n",
      "If you love suprises, this mystery box is for you! Do not place on light-colored surfaces. May cause oil staining. <span class=\"excitingNote\">Keep your friends guessing!</span>\n",
      "</td><td>\n",
      "$1.50\n",
      "</td><td>\n",
      "<img src=\"../img/gifts/img6.jpg\"/>\n",
      "</td></tr>\n",
      "\n",
      "\n"
     ]
    }
   ],
   "source": [
    "from urllib.request import urlopen\n",
    "from bs4 import BeautifulSoup\n",
    "\n",
    "html = urlopen('http://www.pythonscraping.com/pages/page3.html')\n",
    "bs = BeautifulSoup(html, 'html.parser')\n",
    "\n",
    "for child in bs.find('table', {'id': 'giftList'}).children:\n",
    "    print(child)"
   ]
  },
  {
   "cell_type": "markdown",
   "metadata": {},
   "source": [
    "2. 处理 兄弟标签\n",
    "\n",
    "注意：由于页面的布局可能会随着时间不断发生改变，因此，我们最好使用属性来定位标签，而不是使用布局结构来定位标签。使用属性的爬虫往往更加稳定。"
   ]
  },
  {
   "cell_type": "code",
   "execution_count": 6,
   "metadata": {},
   "outputs": [
    {
     "name": "stdout",
     "output_type": "stream",
     "text": [
      "\n",
      "\n",
      "<tr class=\"gift\" id=\"gift1\"><td>\n",
      "Vegetable Basket\n",
      "</td><td>\n",
      "This vegetable basket is the perfect gift for your health conscious (or overweight) friends!\n",
      "<span class=\"excitingNote\">Now with super-colorful bell peppers!</span>\n",
      "</td><td>\n",
      "$15.00\n",
      "</td><td>\n",
      "<img src=\"../img/gifts/img1.jpg\"/>\n",
      "</td></tr>\n",
      "\n",
      "\n",
      "<tr class=\"gift\" id=\"gift2\"><td>\n",
      "Russian Nesting Dolls\n",
      "</td><td>\n",
      "Hand-painted by trained monkeys, these exquisite dolls are priceless! And by \"priceless,\" we mean \"extremely expensive\"! <span class=\"excitingNote\">8 entire dolls per set! Octuple the presents!</span>\n",
      "</td><td>\n",
      "$10,000.52\n",
      "</td><td>\n",
      "<img src=\"../img/gifts/img2.jpg\"/>\n",
      "</td></tr>\n",
      "\n",
      "\n",
      "<tr class=\"gift\" id=\"gift3\"><td>\n",
      "Fish Painting\n",
      "</td><td>\n",
      "If something seems fishy about this painting, it's because it's a fish! <span class=\"excitingNote\">Also hand-painted by trained monkeys!</span>\n",
      "</td><td>\n",
      "$10,005.00\n",
      "</td><td>\n",
      "<img src=\"../img/gifts/img3.jpg\"/>\n",
      "</td></tr>\n",
      "\n",
      "\n",
      "<tr class=\"gift\" id=\"gift4\"><td>\n",
      "Dead Parrot\n",
      "</td><td>\n",
      "This is an ex-parrot! <span class=\"excitingNote\">Or maybe he's only resting?</span>\n",
      "</td><td>\n",
      "$0.50\n",
      "</td><td>\n",
      "<img src=\"../img/gifts/img4.jpg\"/>\n",
      "</td></tr>\n",
      "\n",
      "\n",
      "<tr class=\"gift\" id=\"gift5\"><td>\n",
      "Mystery Box\n",
      "</td><td>\n",
      "If you love suprises, this mystery box is for you! Do not place on light-colored surfaces. May cause oil staining. <span class=\"excitingNote\">Keep your friends guessing!</span>\n",
      "</td><td>\n",
      "$1.50\n",
      "</td><td>\n",
      "<img src=\"../img/gifts/img6.jpg\"/>\n",
      "</td></tr>\n",
      "\n",
      "\n"
     ]
    }
   ],
   "source": [
    "from urllib.request import urlopen\n",
    "from bs4 import BeautifulSoup\n",
    "\n",
    "html = urlopen('http://www.pythonscraping.com/pages/page3.html')\n",
    "bs = BeautifulSoup(html, 'html.parser')\n",
    "\n",
    "for sibling in bs.find('table', {'id': 'giftList'}).tr.next_siblings:\n",
    "    print(sibling)"
   ]
  },
  {
   "cell_type": "markdown",
   "metadata": {},
   "source": [
    "3. 处理 父标签"
   ]
  },
  {
   "cell_type": "code",
   "execution_count": 7,
   "metadata": {},
   "outputs": [
    {
     "name": "stdout",
     "output_type": "stream",
     "text": [
      "\n",
      "$15.00\n",
      "\n"
     ]
    }
   ],
   "source": [
    "from urllib.request import urlopen\n",
    "from bs4 import BeautifulSoup\n",
    "\n",
    "html = urlopen('http://www.pythonscraping.com/pages/page3.html')\n",
    "bs = BeautifulSoup(html, 'html.parser')\n",
    "\n",
    "print(bs.find('img', {'src': '../img/gifts/img1.jpg'}).parent.previous_sibling.get_text())"
   ]
  },
  {
   "cell_type": "markdown",
   "metadata": {},
   "source": [
    "## 2.2 正则表达式\n",
    "\n",
    "“如果你有一个问题打算用正则表达式来解决，那么就是两个问题了。”——计算机科学领域的一个笑话\n",
    "\n",
    "正则表达式（简写为regex），主要用于复杂查找和过滤，相比于写一堆查找和过滤函数，还是正则表达式更简单。\n",
    "\n",
    "非正则表达式同样存在，例如回文等，不过好在非正则表达式在网络爬虫领域的需求中很少见。\n",
    "\n",
    "正则表达式：\n",
    "\n",
    "- a：就是1个a，可以自行修改\n",
    "- a*：a出现0次或多次\n",
    "- a+：a出现1次或多次\n",
    "- \\[abc\\]：abc中任选其一\n",
    "- (aa)：编组之后得到的aa视为一个整体\n",
    "- {m,n}：匹配前面的字符、子表达式、组出现最少m次，最多n次\n",
    "- \\[\\^abc\\]：abc之外的字符任选一个\n",
    "- \\|：分割的子表达式、符号任选其一，如b(a|b|c)c -> bac, bbc, bcc\n",
    "- \\.：匹配任意单个字符（包括符号、数字和空格等），如a.b -> aab, abb, acb, a1b, a b\n",
    "- \\^：表示一个字符串的开始位置的 字符或者子表达式，如^a -> a, ab, abc\n",
    "- \\：转义字符，将有特殊含义的字符穿换位字面形式，如\\\\.\\\\^\\\\\\\\ -> .^\\\n",
    "- \\$：常用于正则表达式的末尾，表示从字符串的末尾开始匹配。如果不用它，每个正则表达式实际都带着\".\\*\"模式（即后面可以接任意字符）。可以看成是^符号的反义词。如\\[A-Z\\]\\*\\[a-z\\]\\*\\$ -> ABCabc, zzzyx, Bob\n",
    "- ?!：“不包含”，通常放在字符或者正则表达式的前面，表示字符不能出现在目标字符串里。这个符号比较难用，。如果要在整个字符串中彻底排除某个字符，就加上^和$符号。如\\^\\(\\(?!\\[A-Z\\]\\)\\.\\)\\*\\$ -> no-caps-here, $ymb01sa3e f!ne\n",
    "\n",
    "正则表达式练习——邮箱匹配：\n",
    "\n",
    "\\[A-Za-z0-9\\\\\\.\\\\+-\\]+@[A-Za-z0-9]+\\\\\\.\\(com\\|cn\\|org\\|edu\\|net\\)\n",
    "\n",
    "注意，并非所有的正则表达式都一样，但是大部分都相同。如果遇到不同版本的正则表达式，一定要阅读文档进行比对。比如Java中的正则表达式就和Python不一样。\n",
    "\n",
    "## 2.3 正则表达式 + BeautifulSoup\n",
    "\n",
    "正则表达式可以作为BeautifulSoup语句的任意一个参数，让你可以灵活地查找目标元素。"
   ]
  },
  {
   "cell_type": "code",
   "execution_count": 8,
   "metadata": {},
   "outputs": [
    {
     "name": "stdout",
     "output_type": "stream",
     "text": [
      "../img/gifts/img1.jpg\n",
      "../img/gifts/img2.jpg\n",
      "../img/gifts/img3.jpg\n",
      "../img/gifts/img4.jpg\n",
      "../img/gifts/img6.jpg\n"
     ]
    }
   ],
   "source": [
    "from urllib.request import urlopen\n",
    "from bs4 import BeautifulSoup\n",
    "import re\n",
    "\n",
    "html = urlopen('http://www.pythonscraping.com/pages/page3.html')\n",
    "bs = BeautifulSoup(html, 'html.parser')\n",
    "images = bs.find_all('img', {'src': re.compile('\\.\\.\\/img\\/gifts\\/img.*\\.jpg')})\n",
    "for image in images:\n",
    "    print(image['src'])"
   ]
  },
  {
   "cell_type": "markdown",
   "metadata": {},
   "source": [
    "## 2.4 Lambda表达式\n",
    "\n",
    "Lambda表达式本质就是匿名函数，可以作为变量传入另一个函数。\n",
    "\n",
    "BeautifulSoup允许我们把特定类型的函数作为参数传入find_all()函数。唯一的限制条件是：这些函数必须把一个标签对象作为参数并且返回布尔类型的结果。\n",
    "\n",
    "BeautifulSoup用这个函数来评估它遇到的每个标签对象，最后把评估结果为True的标签保留，把其他标签剔除。"
   ]
  },
  {
   "cell_type": "code",
   "execution_count": 11,
   "metadata": {},
   "outputs": [
    {
     "name": "stdout",
     "output_type": "stream",
     "text": [
      "6\n",
      "[<span class=\"excitingNote\">Or maybe he's only resting?</span>]\n"
     ]
    }
   ],
   "source": [
    "two_attrs = bs.find_all(lambda tag: len(tag.attrs) == 2)\n",
    "print(len(two_attrs))\n",
    "\n",
    "special = bs.find_all(lambda tag: tag.get_text() == \"Or maybe he's only resting?\")\n",
    "print(special)"
   ]
  },
  {
   "cell_type": "code",
   "execution_count": null,
   "metadata": {},
   "outputs": [],
   "source": []
  }
 ],
 "metadata": {
  "kernelspec": {
   "display_name": "base",
   "language": "python",
   "name": "python3"
  },
  "language_info": {
   "codemirror_mode": {
    "name": "ipython",
    "version": 3
   },
   "file_extension": ".py",
   "mimetype": "text/x-python",
   "name": "python",
   "nbconvert_exporter": "python",
   "pygments_lexer": "ipython3",
   "version": "3.11.5"
  }
 },
 "nbformat": 4,
 "nbformat_minor": 2
}
