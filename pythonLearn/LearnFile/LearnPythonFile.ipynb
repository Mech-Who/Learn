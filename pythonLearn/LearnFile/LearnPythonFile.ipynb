{
 "cells": [
  {
   "cell_type": "code",
   "execution_count": 3,
   "metadata": {},
   "outputs": [
    {
     "name": "stdout",
     "output_type": "stream",
     "text": [
      "0: first line                                         #  1\n",
      " 1: second line                                        #  2\n",
      " 2: third line                                         #  3\n",
      " "
     ]
    }
   ],
   "source": [
    "\"\"\"\n",
    "open的mode参数：\n",
    "r 只读\n",
    "w 写入，在文件不存在时创建它。\n",
    "x 独占写入，在文件已存在时引发FileExistsError异常\n",
    "a 附加\n",
    "b 二进制模式（与其他模式联用）\n",
    "t 文本模式（与其他模式联用）\n",
    "+ 读写模式（与其他模式联用）\n",
    "\n",
    "要打开一个文本文件进行读写，可使用'r+'。\n",
    "'r+'和'w+'之间有个重要差别：后者截断文件，而前者不会这样做\n",
    "\n",
    "默认模式为'rt'，这意味着将把文件视为经过编码的Unicode文本，因此将自动执行解码和\n",
    "编码，且默认使用UTF-8编码。要指定其他编码和Unicode错误处理策略，可使用关键字参数\n",
    "encoding和errors。\n",
    "\n",
    "通常，Python使用通用换行模式。在这种模式下，后面将讨论的readlines等方法能够识别所\n",
    "有合法的换行符（'\\n'、'\\r'和'\\r\\n'）。如果要使用这种模式，同时禁止自动转换，可将关键字\n",
    "参数newline设置为空字符串，如open(name, newline='')。如果要指定只将'\\r'或'\\r\\n'视为合\n",
    "法的行尾字符，可将参数newline设置为相应的行尾字符。这样，读取时不会对行尾字符进行转\n",
    "换，但写入时将把'\\n'替换为指定的行尾字符。\n",
    "\n",
    "如果文件包含非文本的二进制数据，如声音剪辑片段或图像，你肯定不希望执行上述自动转\n",
    "换。为此，只需使用二进制模式（如'rb'）来禁用与文本相关的功能。\n",
    "\"\"\"\n",
    "# 打开文件\n",
    "f = open(\"param.txt\", 'r')\n",
    "\n",
    "# 操作文件\n",
    "s = f.read(10) \n",
    "print(s)\n",
    "\n",
    "for i in range(3):\n",
    "    print(str(i) + \": \" + f.readline(), end=' ')\n",
    "\n",
    "# 关闭文件\n",
    "f.close()"
   ]
  },
  {
   "cell_type": "code",
   "execution_count": 4,
   "metadata": {},
   "outputs": [
    {
     "name": "stdout",
     "output_type": "stream",
     "text": [
      "['first line                                         #  1\\n',\n",
      " 'second line                                        #  2\\n',\n",
      " 'third line                                         #  3\\n']\n"
     ]
    }
   ],
   "source": [
    "import pprint\n",
    "pprint.pprint(open('param.txt').readlines())"
   ]
  },
  {
   "cell_type": "code",
   "execution_count": 6,
   "metadata": {},
   "outputs": [],
   "source": [
    "f = open('./writefile.txt', 'r')\n",
    "lines = f.readlines()\n",
    "f.close()\n",
    "\n",
    "lines[1] = ''\n",
    "\n",
    "f = open(\"./writefile.txt\", \"w\")\n",
    "f.writelines(lines)\n",
    "f.close()"
   ]
  },
  {
   "cell_type": "code",
   "execution_count": 7,
   "metadata": {},
   "outputs": [],
   "source": [
    "def process(string): \n",
    "    print('Processing:', string)"
   ]
  },
  {
   "cell_type": "code",
   "execution_count": 8,
   "metadata": {},
   "outputs": [
    {
     "name": "stdout",
     "output_type": "stream",
     "text": [
      "Processing: t\n",
      "Processing: h\n",
      "Processing: i\n",
      "Processing: s\n",
      "Processing: \n",
      "\n",
      "Processing:  \n",
      "Processing: h\n",
      "Processing: a\n",
      "Processing: i\n",
      "Processing: k\n",
      "Processing: u\n"
     ]
    }
   ],
   "source": [
    "filename = './writefile.txt'\n",
    "# 迭代字符\n",
    "with open(filename) as f: \n",
    "    char = f.read(1) \n",
    "    while char: \n",
    "        process(char) \n",
    "        char = f.read(1) "
   ]
  },
  {
   "cell_type": "code",
   "execution_count": 9,
   "metadata": {},
   "outputs": [
    {
     "name": "stdout",
     "output_type": "stream",
     "text": [
      "Processing: t\n",
      "Processing: h\n",
      "Processing: i\n",
      "Processing: s\n",
      "Processing: \n",
      "\n",
      "Processing:  \n",
      "Processing: h\n",
      "Processing: a\n",
      "Processing: i\n",
      "Processing: k\n",
      "Processing: u\n"
     ]
    }
   ],
   "source": [
    "# 这种写法更优，因为可以省去while前的一行重复代码\n",
    "with open(filename) as f: \n",
    "    while True: \n",
    "        char = f.read(1) \n",
    "        if not char: \n",
    "            break \n",
    "        process(char) "
   ]
  },
  {
   "cell_type": "code",
   "execution_count": 10,
   "metadata": {},
   "outputs": [
    {
     "name": "stdout",
     "output_type": "stream",
     "text": [
      "Processing: this\n",
      "\n",
      "Processing:  haiku\n"
     ]
    }
   ],
   "source": [
    "# 迭代行\n",
    "with open(filename) as f: \n",
    "    while True: \n",
    "        line = f.readline() \n",
    "        if not line: \n",
    "            break \n",
    "        process(line) "
   ]
  },
  {
   "cell_type": "code",
   "execution_count": 11,
   "metadata": {},
   "outputs": [
    {
     "name": "stdout",
     "output_type": "stream",
     "text": [
      "Processing: t\n",
      "Processing: h\n",
      "Processing: i\n",
      "Processing: s\n",
      "Processing: \n",
      "\n",
      "Processing:  \n",
      "Processing: h\n",
      "Processing: a\n",
      "Processing: i\n",
      "Processing: k\n",
      "Processing: u\n",
      "Processing: this\n",
      "\n",
      "Processing:  haiku\n"
     ]
    }
   ],
   "source": [
    "# 读取整个文件\n",
    "with open(filename) as f: \n",
    "    for char in f.read(): \n",
    "        process(char) \n",
    "\n",
    "with open(filename) as f: \n",
    "    for line in f.readlines(): \n",
    "       process(line) "
   ]
  },
  {
   "cell_type": "code",
   "execution_count": null,
   "metadata": {},
   "outputs": [],
   "source": [
    "# fileinput负责打开文件\n",
    "import fileinput \n",
    "\n",
    "for line in fileinput.input(filename): \n",
    " process(line)"
   ]
  },
  {
   "cell_type": "code",
   "execution_count": 12,
   "metadata": {},
   "outputs": [
    {
     "name": "stdout",
     "output_type": "stream",
     "text": [
      "Processing: this\n",
      "\n",
      "Processing:  haiku\n"
     ]
    }
   ],
   "source": [
    "with open(filename) as f: \n",
    "    for line in f: \n",
    "        process(line) "
   ]
  },
  {
   "cell_type": "code",
   "execution_count": 13,
   "metadata": {},
   "outputs": [
    {
     "name": "stdout",
     "output_type": "stream",
     "text": [
      "Processing: this\n",
      "\n",
      "Processing:  haiku\n"
     ]
    }
   ],
   "source": [
    "# 在不将文件对象赋给变量的情况下迭代文件\n",
    "for line in open(filename): \n",
    "    process(line) "
   ]
  },
  {
   "cell_type": "code",
   "execution_count": 14,
   "metadata": {},
   "outputs": [
    {
     "ename": "KeyboardInterrupt",
     "evalue": "",
     "output_type": "error",
     "traceback": [
      "\u001b[0;31m---------------------------------------------------------------------------\u001b[0m",
      "\u001b[0;31mKeyboardInterrupt\u001b[0m                         Traceback (most recent call last)",
      "\u001b[0;32m/tmp/ipykernel_10202/61721373.py\u001b[0m in \u001b[0;36m<module>\u001b[0;34m\u001b[0m\n\u001b[1;32m      4\u001b[0m \"\"\"\n\u001b[1;32m      5\u001b[0m \u001b[0;32mimport\u001b[0m \u001b[0msys\u001b[0m\u001b[0;34m\u001b[0m\u001b[0;34m\u001b[0m\u001b[0m\n\u001b[0;32m----> 6\u001b[0;31m \u001b[0;32mfor\u001b[0m \u001b[0mline\u001b[0m \u001b[0;32min\u001b[0m \u001b[0msys\u001b[0m\u001b[0;34m.\u001b[0m\u001b[0mstdin\u001b[0m\u001b[0;34m:\u001b[0m\u001b[0;34m\u001b[0m\u001b[0;34m\u001b[0m\u001b[0m\n\u001b[0m\u001b[1;32m      7\u001b[0m     \u001b[0mprocess\u001b[0m\u001b[0;34m(\u001b[0m\u001b[0mline\u001b[0m\u001b[0;34m)\u001b[0m\u001b[0;34m\u001b[0m\u001b[0;34m\u001b[0m\u001b[0m\n",
      "\u001b[0;31mKeyboardInterrupt\u001b[0m: "
     ]
    }
   ],
   "source": [
    "\"\"\"\n",
    " 基本上，可以对迭代对象做的，都可以对文件做\n",
    "\n",
    "请注意，与其他文件一样，sys.stdin也是可迭代的，因此要迭代标准输入中的所有行，可\n",
    "像下面这样做：\n",
    "\"\"\"\n",
    "import sys\n",
    "for line in sys.stdin:\n",
    "    process(line)"
   ]
  },
  {
   "cell_type": "code",
   "execution_count": null,
   "metadata": {},
   "outputs": [],
   "source": []
  }
 ],
 "metadata": {
  "kernelspec": {
   "display_name": "d2l",
   "language": "python",
   "name": "python3"
  },
  "language_info": {
   "codemirror_mode": {
    "name": "ipython",
    "version": 3
   },
   "file_extension": ".py",
   "mimetype": "text/x-python",
   "name": "python",
   "nbconvert_exporter": "python",
   "pygments_lexer": "ipython3",
   "version": "3.7.5"
  }
 },
 "nbformat": 4,
 "nbformat_minor": 2
}
