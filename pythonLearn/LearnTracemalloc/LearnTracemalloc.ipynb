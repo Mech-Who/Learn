{
 "cells": [
  {
   "cell_type": "code",
   "execution_count": 67,
   "metadata": {},
   "outputs": [
    {
     "name": "stdout",
     "output_type": "stream",
     "text": [
      "current=397809, peak=408892, byte/1024/1024=0.55MB\n",
      "current=1012674, peak=1023781, byte/1024/1024=  1.1MB\n",
      "byte/1024=a1,132.5KB\n",
      "byte/1024=1132.5bbKB\n",
      "byte=100011011001000110000KB\n",
      "byte=1,159,728KB\n",
      "byte= 0o433_1060KB\n",
      "byte=+433_1060KB\n",
      "byte=+0x11b230KB\n",
      "byte=+11b2303KB\n",
      "byte=+1159728KB\n"
     ]
    }
   ],
   "source": [
    "import tracemalloc\n",
    "\n",
    "tracemalloc.start()\n",
    "\n",
    "number = []\n",
    "for i in range(10000):\n",
    "    number.append(i)\n",
    "\n",
    "current, peak = tracemalloc.get_traced_memory()\n",
    "byte = tracemalloc.get_tracemalloc_memory()\n",
    "tracemalloc.reset_peak()\n",
    "print(f\"{current=}, {peak=}, {byte/1024/1024=:.2}MB\")\n",
    "\n",
    "string = []\n",
    "for i in range(10000):\n",
    "    string.append(str(i))\n",
    "\n",
    "current, peak = tracemalloc.get_traced_memory()\n",
    "byte = tracemalloc.get_tracemalloc_memory()\n",
    "tracemalloc.reset_peak()\n",
    "print(f\"{current=}, {peak=}, {byte/1024/1024=:5,.2}MB\")\n",
    "\n",
    "tracemalloc.stop()\n",
    "\n"
   ]
  }
 ],
 "metadata": {
  "kernelspec": {
   "display_name": "base",
   "language": "python",
   "name": "python3"
  },
  "language_info": {
   "codemirror_mode": {
    "name": "ipython",
    "version": 3
   },
   "file_extension": ".py",
   "mimetype": "text/x-python",
   "name": "python",
   "nbconvert_exporter": "python",
   "pygments_lexer": "ipython3",
   "version": "3.11.5"
  }
 },
 "nbformat": 4,
 "nbformat_minor": 2
}
