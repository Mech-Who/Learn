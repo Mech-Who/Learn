{
 "cells": [
  {
   "cell_type": "markdown",
   "metadata": {},
   "source": [
    "# 有序字典\n",
    "\n",
    "> 参考知乎：https://zhuanlan.zhihu.com/p/46497740\n",
    "\n",
    "OrderedDict的key的顺序是有序的。在3.6之前对dict做迭代时，我们无法确定key的顺序。\n",
    "\n",
    "在3.6以前的python中，dict的key是无序的，而在3.6之后开始key是有序的了。"
   ]
  },
  {
   "cell_type": "code",
   "execution_count": 2,
   "metadata": {},
   "outputs": [],
   "source": [
    "from IPython.core.interactiveshell import InteractiveShell\n",
    "InteractiveShell.ast_node_interactivity = \"all\""
   ]
  },
  {
   "cell_type": "code",
   "execution_count": 3,
   "metadata": {},
   "outputs": [
    {
     "data": {
      "text/plain": [
       "OrderedDict([('lr', 0.01), ('batch_size', 64), ('num_epochs', 100)])"
      ]
     },
     "execution_count": 3,
     "metadata": {},
     "output_type": "execute_result"
    },
    {
     "data": {
      "text/plain": [
       "OrderedDict([('a', 1), ('b', 2), ('c', 3)])"
      ]
     },
     "execution_count": 3,
     "metadata": {},
     "output_type": "execute_result"
    }
   ],
   "source": [
    "from collections import OrderedDict\n",
    "\n",
    "od1 = OrderedDict(\n",
    "    lr=0.01,\n",
    "    batch_size=64,\n",
    "    num_epochs=100\n",
    ")\n",
    "\n",
    "od2 = OrderedDict({\n",
    "    \"a\": 1,\n",
    "    \"b\": 2,\n",
    "    \"c\": 3\n",
    "})\n",
    "\n",
    "od1\n",
    "od2"
   ]
  },
  {
   "cell_type": "markdown",
   "metadata": {},
   "source": [
    "自己通过sorted方法，并指定排序函数的方式，来指定OrderedDict的内容顺序。"
   ]
  },
  {
   "cell_type": "code",
   "execution_count": 4,
   "metadata": {},
   "outputs": [
    {
     "name": "stdout",
     "output_type": "stream",
     "text": [
      "OrderedDict([('apple', 4), ('banana', 3), ('orange', 2), ('pear', 1)])\n",
      "OrderedDict([('pear', 1), ('orange', 2), ('banana', 3), ('apple', 4)])\n",
      "OrderedDict([('pear', 1), ('apple', 4), ('banana', 3), ('orange', 2)])\n"
     ]
    }
   ],
   "source": [
    "d = {'banana': 3, 'apple': 4, 'pear': 1, 'orange': 2}\n",
    "\n",
    "# 对d字典按 key 排序，生成有序OrderedDict字典\n",
    "d1=OrderedDict(sorted(d.items(),key=lambda t: t[0]))\n",
    "print(d1) \n",
    "# 输出: OrderedDict([('apple', 4), ('banana', 3), ('orange', 2), ('pear', 1)])\n",
    "\n",
    "# 对d字典按 value 排序，生成有序OrderedDict字典\n",
    "d1=OrderedDict(sorted(d.items(),key=lambda t: t[1]))\n",
    "print(d1) \n",
    "# 输出: OrderedDict([('pear', 1), ('orange', 2), ('banana', 3), ('apple', 4)])\n",
    "\n",
    "# 按key的长度升序\n",
    "d1=OrderedDict(sorted(d.items(),key=lambda t: len(t[0])))\n",
    "print(d1)\n",
    "# 输出: OrderedDict([('pear', 1), ('apple', 4), ('banana', 3), ('orange', 2)])"
   ]
  },
  {
   "cell_type": "markdown",
   "metadata": {},
   "source": [
    "OrderedDict类也可以通过继承来实现自定义。"
   ]
  },
  {
   "cell_type": "code",
   "execution_count": 5,
   "metadata": {},
   "outputs": [
    {
     "name": "stdout",
     "output_type": "stream",
     "text": [
      "LastUpdatedOrderedDict([('apple', 4), ('orange', 2), ('pear', 1), ('grape', 5), ('peach', 6), ('banana', 33)])\n"
     ]
    }
   ],
   "source": [
    "class LastUpdatedOrderedDict(OrderedDict):\n",
    "    'Store items in the order the keys were last added'\n",
    "\n",
    "    def __setitem__(self, key, value):\n",
    "        if key in self:\n",
    "            del self[key]\n",
    "        OrderedDict.__setitem__(self, key, value)\n",
    "        \n",
    "d = {'banana': 3, 'apple': 4, 'pear': 1, 'orange': 2}\n",
    "\n",
    "# 按 key 排序存储到新定义的  LastUpdatedOrderedDict\n",
    "d1=LastUpdatedOrderedDict(sorted(d.items(), key=lambda t: t[0]))\n",
    "d1['grape']=5\n",
    "d1.update({'peach':6,'banana':33})\n",
    "print(d1)"
   ]
  },
  {
   "cell_type": "code",
   "execution_count": null,
   "metadata": {},
   "outputs": [],
   "source": []
  }
 ],
 "metadata": {
  "kernelspec": {
   "display_name": "base",
   "language": "python",
   "name": "python3"
  },
  "language_info": {
   "codemirror_mode": {
    "name": "ipython",
    "version": 3
   },
   "file_extension": ".py",
   "mimetype": "text/x-python",
   "name": "python",
   "nbconvert_exporter": "python",
   "pygments_lexer": "ipython3",
   "version": "3.11.5"
  }
 },
 "nbformat": 4,
 "nbformat_minor": 2
}
