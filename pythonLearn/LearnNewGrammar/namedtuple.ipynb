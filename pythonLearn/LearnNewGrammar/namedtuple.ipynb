{
 "cells": [
  {
   "cell_type": "markdown",
   "metadata": {},
   "source": [
    "> 设置jupyter可以多行输出"
   ]
  },
  {
   "cell_type": "code",
   "execution_count": 3,
   "metadata": {},
   "outputs": [],
   "source": [
    "from IPython.core.interactiveshell import InteractiveShell \n",
    "InteractiveShell.ast_node_interactivity = \"all\""
   ]
  },
  {
   "cell_type": "markdown",
   "metadata": {},
   "source": [
    "# NamedTuple和namedtuple（命名元组）\n",
    "\n",
    "> 参考博客：`https://blog.csdn.net/XcantloadX/article/details/134071289`"
   ]
  },
  {
   "cell_type": "markdown",
   "metadata": {},
   "source": [
    "## 一、namedtuple"
   ]
  },
  {
   "cell_type": "markdown",
   "metadata": {},
   "source": [
    "首先是namedtuple，需要从collections中引入。\n",
    "\n",
    "用法为：\n",
    "\n",
    "` 变量名（类名） = namedtuple(<str类型类名>, <空格分割的str、逗号分割的str、str列表或者任何的可迭代对象，表示类的属性有哪些>, *, rename=False<表示无效字段名（类属性的？）是否替换,无效的字段名将被自动更换为位置名称,如_0，_1等>，defaults=(a, b, c)<表示类属性的默认值，默认值从右边数，但是赋值仍然是从左往右赋值>, module=None<默认赋值字段>)`\n",
    "\n",
    "namedtuple返回的是一个类，后面可以用这个类变量创建对象。"
   ]
  },
  {
   "cell_type": "code",
   "execution_count": 4,
   "metadata": {},
   "outputs": [
    {
     "data": {
      "text/plain": [
       "Point(x=1, y=0, z=0)"
      ]
     },
     "execution_count": 4,
     "metadata": {},
     "output_type": "execute_result"
    },
    {
     "data": {
      "text/plain": [
       "Point(x=2, y=2, z=0)"
      ]
     },
     "execution_count": 4,
     "metadata": {},
     "output_type": "execute_result"
    },
    {
     "data": {
      "text/plain": [
       "Point(x=3, y=3, z=3)"
      ]
     },
     "execution_count": 4,
     "metadata": {},
     "output_type": "execute_result"
    }
   ],
   "source": [
    "from collections import namedtuple\n",
    "\n",
    "Point = namedtuple(\"Point\", [\"x\", \"y\", \"z\"], rename=True, defaults=(0, 0), module=None)\n",
    "\n",
    "p1 = Point(1)\n",
    "p2 = Point(2, 2)\n",
    "p3 = Point(x=3, y=3, z=3)\n",
    "\n",
    "p1\n",
    "p2\n",
    "p3"
   ]
  },
  {
   "cell_type": "markdown",
   "metadata": {},
   "source": [
    "namedtuple的使用：\n",
    "\n",
    "namedtuple仍然是元组，因此元组的用法，它都可以用。\n",
    "\n",
    "除此以外，namedtuple支持使用name来获取值，类似于dict，但更好用。"
   ]
  },
  {
   "cell_type": "code",
   "execution_count": 5,
   "metadata": {},
   "outputs": [
    {
     "data": {
      "text/plain": [
       "1"
      ]
     },
     "execution_count": 5,
     "metadata": {},
     "output_type": "execute_result"
    },
    {
     "data": {
      "text/plain": [
       "2"
      ]
     },
     "execution_count": 5,
     "metadata": {},
     "output_type": "execute_result"
    }
   ],
   "source": [
    "p1[0]\n",
    "p2.x"
   ]
  },
  {
   "cell_type": "markdown",
   "metadata": {},
   "source": [
    "可以使用 _make方法 对命名元组整体赋值。\n",
    "\n",
    "可以使用 _replace方法 修改命名元组的元素值，生成新命名元组。\n",
    "\n",
    "可以使用 _asdict方法 得到namedtuple的dict版本的值。\n",
    "\n",
    "可以使用 _fields属性 得到元组形式的所有属性名。\n",
    "\n",
    "可以使用 _field_defaults属性 得到所有属性对应的默认值。"
   ]
  },
  {
   "cell_type": "code",
   "execution_count": 6,
   "metadata": {},
   "outputs": [
    {
     "data": {
      "text/plain": [
       "Point(x=1, y=2, z=3)"
      ]
     },
     "execution_count": 6,
     "metadata": {},
     "output_type": "execute_result"
    },
    {
     "data": {
      "text/plain": [
       "Point(x=1, y=1, z=0)"
      ]
     },
     "execution_count": 6,
     "metadata": {},
     "output_type": "execute_result"
    },
    {
     "data": {
      "text/plain": [
       "{'x': 1, 'y': 1, 'z': 0}"
      ]
     },
     "execution_count": 6,
     "metadata": {},
     "output_type": "execute_result"
    },
    {
     "data": {
      "text/plain": [
       "('x', 'y', 'z')"
      ]
     },
     "execution_count": 6,
     "metadata": {},
     "output_type": "execute_result"
    },
    {
     "data": {
      "text/plain": [
       "{'y': 0, 'z': 0}"
      ]
     },
     "execution_count": 6,
     "metadata": {},
     "output_type": "execute_result"
    }
   ],
   "source": [
    "value = [1, 2, 3]\n",
    "p4 = Point._make(value)\n",
    "p4\n",
    "p5 = p1._replace(y=1)\n",
    "p5\n",
    "p5._asdict()\n",
    "p5._fields\n",
    "p5._field_defaults"
   ]
  },
  {
   "cell_type": "markdown",
   "metadata": {},
   "source": [
    "## 二、 NamedTuple"
   ]
  },
  {
   "cell_type": "markdown",
   "metadata": {},
   "source": [
    "然后是NamedTuple，需要从typing中引入。\n",
    "\n",
    "用法为创建一个类，然后继承自这个NamedTuple。\n",
    "\n",
    "这种写法还可以为这个NamedTuple做扩展，比如添加额外的方法"
   ]
  },
  {
   "cell_type": "code",
   "execution_count": 7,
   "metadata": {},
   "outputs": [
    {
     "data": {
      "text/plain": [
       "Point2(x=0, y=0)"
      ]
     },
     "execution_count": 7,
     "metadata": {},
     "output_type": "execute_result"
    },
    {
     "data": {
      "text/plain": [
       "Point2(x=3, y=4)"
      ]
     },
     "execution_count": 7,
     "metadata": {},
     "output_type": "execute_result"
    },
    {
     "data": {
      "text/plain": [
       "5.0"
      ]
     },
     "execution_count": 7,
     "metadata": {},
     "output_type": "execute_result"
    }
   ],
   "source": [
    "import math\n",
    "from typing import NamedTuple\n",
    "\n",
    "class Point2(NamedTuple):\n",
    "    x: int = 0\n",
    "    y: int = 0\n",
    "\n",
    "    def distance(self, p) -> float:\n",
    "        return math.sqrt((p.x - self.x) ** 2 + (p.y - self.y) ** 2)\n",
    "    \n",
    "pp1 = Point2()\n",
    "pp2 = Point2(3, 4)\n",
    "pp1\n",
    "pp2\n",
    "pp1.distance(pp2)"
   ]
  },
  {
   "cell_type": "markdown",
   "metadata": {},
   "source": [
    "# 三、总结\n",
    "\n",
    "namedtuple比dict更加小也更加快，代价是不可修改。\n",
    "\n",
    "同时，namedtuple可以使用.field的形式来访问属性，而无需[\"field\"]的形式来访问，更方便，更清晰。"
   ]
  },
  {
   "cell_type": "markdown",
   "metadata": {},
   "source": []
  }
 ],
 "metadata": {
  "kernelspec": {
   "display_name": "base",
   "language": "python",
   "name": "python3"
  },
  "language_info": {
   "codemirror_mode": {
    "name": "ipython",
    "version": 3
   },
   "file_extension": ".py",
   "mimetype": "text/x-python",
   "name": "python",
   "nbconvert_exporter": "python",
   "pygments_lexer": "ipython3",
   "version": "3.11.5"
  }
 },
 "nbformat": 4,
 "nbformat_minor": 2
}
