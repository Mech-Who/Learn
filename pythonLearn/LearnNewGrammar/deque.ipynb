{
 "cells": [
  {
   "cell_type": "markdown",
   "metadata": {},
   "source": [
    "# deque\n",
    "\n",
    "list 列表 存储数据时，使用索引访问元素时很快，但插入和删除元素很慢，因为 list 列表 是线性存储数据，数据量越大插入和删除的效率越低。\n",
    "\n",
    "deque 为双向列表，它能高效实现插入和删除操作。\n",
    "\n",
    "deque除了实现list的append()，pop()，extend()外，还支持appendleft()，popleft()，extendleft()，可以非常高效地往头部添加或删除元素。\n",
    "\n",
    "deque还增加了rotate() 翻转函数，可以指定位置移动列表中的元素。"
   ]
  },
  {
   "cell_type": "code",
   "execution_count": 1,
   "metadata": {},
   "outputs": [],
   "source": [
    "from IPython.core.interactiveshell import InteractiveShell\n",
    "InteractiveShell.ast_node_interactivity = \"all\""
   ]
  },
  {
   "cell_type": "markdown",
   "metadata": {},
   "source": [
    "创建双向列表并添加数据"
   ]
  },
  {
   "cell_type": "code",
   "execution_count": 3,
   "metadata": {},
   "outputs": [
    {
     "name": "stdout",
     "output_type": "stream",
     "text": [
      "deque([0, 1, 'a', 'b'])\n"
     ]
    }
   ],
   "source": [
    "from collections import deque\n",
    "\n",
    "dlist=deque([1,'a'])\n",
    "dlist.append('b') # 在末尾加数据\n",
    "dlist.appendleft(0) # 在最前端插入数据\n",
    "print(dlist)\n",
    "# 输出 :  deque([0, 1, 'a', 'b'])"
   ]
  },
  {
   "cell_type": "markdown",
   "metadata": {},
   "source": [
    "删除双向列表的元素"
   ]
  },
  {
   "cell_type": "code",
   "execution_count": 4,
   "metadata": {},
   "outputs": [
    {
     "data": {
      "text/plain": [
       "'b'"
      ]
     },
     "execution_count": 4,
     "metadata": {},
     "output_type": "execute_result"
    },
    {
     "data": {
      "text/plain": [
       "0"
      ]
     },
     "execution_count": 4,
     "metadata": {},
     "output_type": "execute_result"
    },
    {
     "name": "stdout",
     "output_type": "stream",
     "text": [
      "deque([1, 'a'])\n"
     ]
    }
   ],
   "source": [
    "\n",
    "dlist.pop() # 删除末尾的数据\n",
    "dlist.popleft() # 删除最前端的数据\n",
    "print(dlist)\n",
    "# 输出 :  deque([1, 'a'])\n"
   ]
  },
  {
   "cell_type": "markdown",
   "metadata": {},
   "source": [
    "合并列表"
   ]
  },
  {
   "cell_type": "code",
   "execution_count": 5,
   "metadata": {},
   "outputs": [
    {
     "name": "stdout",
     "output_type": "stream",
     "text": [
      "deque([0, -1, 1, 'a', 'b', 'c'])\n"
     ]
    }
   ],
   "source": [
    "\n",
    "dlist.extend(['b','c']) # 在末尾追加list 数据\n",
    "dlist.extendleft([-1,0])# 在前端插入list 数据\n",
    "print(dlist)\n",
    "# 输出 : deque([0, -1, 1, 'a', 'b', 'c'])\n"
   ]
  },
  {
   "cell_type": "markdown",
   "metadata": {},
   "source": [
    "查找索引"
   ]
  },
  {
   "cell_type": "code",
   "execution_count": 6,
   "metadata": {},
   "outputs": [
    {
     "name": "stdout",
     "output_type": "stream",
     "text": [
      "3\n"
     ]
    }
   ],
   "source": [
    "\n",
    "print(dlist.index('a')) # 找出 a 的索引位置\n",
    "# 输出 :  3\n"
   ]
  },
  {
   "cell_type": "markdown",
   "metadata": {},
   "source": [
    "插入数据以及计数"
   ]
  },
  {
   "cell_type": "code",
   "execution_count": 7,
   "metadata": {},
   "outputs": [
    {
     "name": "stdout",
     "output_type": "stream",
     "text": [
      "deque([0, -1, 555, 1, 'a', 'b', 'c'])\n",
      "1\n"
     ]
    }
   ],
   "source": [
    "\n",
    "dlist.insert(2, 555) # 在索引2 的位置插入555\n",
    "print(dlist)\n",
    "# 输出 :  deque([0, -1, 555, 1, 'a', 'b', 'c'])\n",
    "print(dlist.count('a')) # 查找 ‘a’ 的数量\n"
   ]
  },
  {
   "cell_type": "markdown",
   "metadata": {},
   "source": [
    "查找并移除数据"
   ]
  },
  {
   "cell_type": "code",
   "execution_count": 8,
   "metadata": {},
   "outputs": [
    {
     "name": "stdout",
     "output_type": "stream",
     "text": [
      "deque(['c', 'b', 'a', 555, -1, 0])\n"
     ]
    }
   ],
   "source": [
    "dlist.remove(1) # 删除第一个匹配值\n",
    "dlist.reverse()  # 反向\n",
    "print(dlist)\n",
    "# 输出 :  deque(['c', 'b', 'a', 555, -1, 0])\n"
   ]
  },
  {
   "cell_type": "markdown",
   "metadata": {},
   "source": [
    "循环移动（首尾相连的移动循环）"
   ]
  },
  {
   "cell_type": "code",
   "execution_count": 9,
   "metadata": {},
   "outputs": [
    {
     "name": "stdout",
     "output_type": "stream",
     "text": [
      "deque(['a', 555, -1, 0, 'c', 'b'])\n",
      "deque(['c', 'b', 'a', 555, -1, 0])\n"
     ]
    }
   ],
   "source": [
    "\n",
    "dlist.rotate(-2) # 将左端的元素移动到右端\n",
    "print(dlist)\n",
    "# 输出 :  deque(['a', 555, -1, 0, 'c', 'b'])\n",
    "\n",
    "dlist.rotate(2) # 将右端的元素移动到左端\n",
    "print(dlist)\n",
    "# 输出 :  deque(['c', 'b', 'a', 555, -1, 0])\n"
   ]
  },
  {
   "cell_type": "markdown",
   "metadata": {},
   "source": [
    "复制赋值"
   ]
  },
  {
   "cell_type": "code",
   "execution_count": 10,
   "metadata": {},
   "outputs": [
    {
     "data": {
      "text/plain": [
       "0"
      ]
     },
     "execution_count": 10,
     "metadata": {},
     "output_type": "execute_result"
    },
    {
     "name": "stdout",
     "output_type": "stream",
     "text": [
      "deque(['c', 'b', 'a', 555, -1])\n",
      "deque(['c', 'b', 'a', 555, -1, 0])\n"
     ]
    }
   ],
   "source": [
    "\n",
    "dl1=dlist # 赋值 dlist 值变化，dl1的值也会修改\n",
    "dl2=dlist.copy() # 拷贝 dlist, 拷贝后对dl修改不影响dlist的值\n",
    "dlist.pop() # 删除最后一个数据, dl1的值也被修改\n",
    "print(dl1) # 输出： deque(['c', 'b', 'a', 555, -1])\n",
    "print(dl2) # 输出： deque(['c', 'b', 'a', 555, -1, 0])"
   ]
  },
  {
   "cell_type": "code",
   "execution_count": null,
   "metadata": {},
   "outputs": [],
   "source": []
  }
 ],
 "metadata": {
  "kernelspec": {
   "display_name": "base",
   "language": "python",
   "name": "python3"
  },
  "language_info": {
   "codemirror_mode": {
    "name": "ipython",
    "version": 3
   },
   "file_extension": ".py",
   "mimetype": "text/x-python",
   "name": "python",
   "nbconvert_exporter": "python",
   "pygments_lexer": "ipython3",
   "version": "3.11.5"
  }
 },
 "nbformat": 4,
 "nbformat_minor": 2
}
