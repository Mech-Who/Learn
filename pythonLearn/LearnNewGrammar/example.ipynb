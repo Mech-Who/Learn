{
 "cells": [
  {
   "cell_type": "code",
   "execution_count": 6,
   "metadata": {},
   "outputs": [],
   "source": [
    "from IPython.core.interactiveshell import InteractiveShell\n",
    "InteractiveShell.ast_node_interactivity = \"all\""
   ]
  },
  {
   "cell_type": "markdown",
   "metadata": {},
   "source": [
    "# 一、 高级用法案例：创建运行参数\n",
    "\n",
    "所使用的高级用法：\n",
    "\n",
    "1. collections.OrderedDict\n",
    "2. collections.namedtuple\n",
    "3. staticmethod()\n",
    "4. itertools.product()"
   ]
  },
  {
   "cell_type": "code",
   "execution_count": 12,
   "metadata": {},
   "outputs": [
    {
     "data": {
      "text/plain": [
       "[Run(lr=0.01, batch_size=1000, train_set='not_normal'),\n",
       " Run(lr=0.01, batch_size=1000, train_set='normal'),\n",
       " Run(lr=0.01, batch_size=2000, train_set='not_normal'),\n",
       " Run(lr=0.01, batch_size=2000, train_set='normal'),\n",
       " Run(lr=0.001, batch_size=1000, train_set='not_normal'),\n",
       " Run(lr=0.001, batch_size=1000, train_set='normal'),\n",
       " Run(lr=0.001, batch_size=2000, train_set='not_normal'),\n",
       " Run(lr=0.001, batch_size=2000, train_set='normal')]"
      ]
     },
     "execution_count": 12,
     "metadata": {},
     "output_type": "execute_result"
    },
    {
     "data": {
      "text/plain": [
       "odict_keys(['lr', 'batch_size', 'train_set'])"
      ]
     },
     "execution_count": 12,
     "metadata": {},
     "output_type": "execute_result"
    },
    {
     "data": {
      "text/plain": [
       "['lr', 'batch_size', 'train_set']"
      ]
     },
     "execution_count": 12,
     "metadata": {},
     "output_type": "execute_result"
    },
    {
     "data": {
      "text/plain": [
       "odict_values([[0.01, 0.001], [1000, 2000], ['not_normal', 'normal']])"
      ]
     },
     "execution_count": 12,
     "metadata": {},
     "output_type": "execute_result"
    },
    {
     "data": {
      "text/plain": [
       "[[0.01, 0.001], [1000, 2000], ['not_normal', 'normal']]"
      ]
     },
     "execution_count": 12,
     "metadata": {},
     "output_type": "execute_result"
    },
    {
     "data": {
      "text/plain": [
       "[(0.01, 1000, 'not_normal'),\n",
       " (0.01, 1000, 'normal'),\n",
       " (0.01, 2000, 'not_normal'),\n",
       " (0.01, 2000, 'normal'),\n",
       " (0.001, 1000, 'not_normal'),\n",
       " (0.001, 1000, 'normal'),\n",
       " (0.001, 2000, 'not_normal'),\n",
       " (0.001, 2000, 'normal')]"
      ]
     },
     "execution_count": 12,
     "metadata": {},
     "output_type": "execute_result"
    }
   ],
   "source": [
    "from collections import OrderedDict, namedtuple\n",
    "from itertools import product\n",
    "from IPython.display import clear_output, display\n",
    "\n",
    "class RunBuilder():\n",
    "    @staticmethod\n",
    "    def get_runs(params: dict):\n",
    "        Run = namedtuple(\"Run\", params.keys())\n",
    "        runs = []\n",
    "        for v in product(*params.values()):\n",
    "            runs.append(Run(*v))\n",
    "        return runs\n",
    "\n",
    "params = OrderedDict(\n",
    "        lr = [.01, .001],\n",
    "        batch_size = [1000, 2000],\n",
    "        train_set = ['not_normal', 'normal']\n",
    "    )\n",
    "\n",
    "run_list = RunBuilder.get_runs(params)\n",
    "\n",
    "run_list\n",
    "\n",
    "params.keys()\n",
    "[*params.keys()]\n",
    "\n",
    "params.values()\n",
    "[*params.values()]\n",
    "\n",
    "list(product(*params.values()))"
   ]
  },
  {
   "cell_type": "code",
   "execution_count": null,
   "metadata": {},
   "outputs": [],
   "source": []
  }
 ],
 "metadata": {
  "kernelspec": {
   "display_name": "base",
   "language": "python",
   "name": "python3"
  },
  "language_info": {
   "codemirror_mode": {
    "name": "ipython",
    "version": 3
   },
   "file_extension": ".py",
   "mimetype": "text/x-python",
   "name": "python",
   "nbconvert_exporter": "python",
   "pygments_lexer": "ipython3",
   "version": "3.11.5"
  }
 },
 "nbformat": 4,
 "nbformat_minor": 2
}
