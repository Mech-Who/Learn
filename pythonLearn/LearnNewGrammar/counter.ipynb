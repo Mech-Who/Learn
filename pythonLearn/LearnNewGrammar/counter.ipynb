{
 "cells": [
  {
   "cell_type": "markdown",
   "metadata": {},
   "source": [
    "# Counter 计数器\n",
    "\n",
    "Counter是一个简单的计数器，例如，统计字符出现的个数。"
   ]
  },
  {
   "cell_type": "code",
   "execution_count": 1,
   "metadata": {},
   "outputs": [],
   "source": [
    "from IPython.core.interactiveshell import InteractiveShell\n",
    "InteractiveShell.ast_node_interactivity = \"all\""
   ]
  },
  {
   "cell_type": "code",
   "execution_count": 2,
   "metadata": {},
   "outputs": [
    {
     "data": {
      "text/plain": [
       "Counter({'n': 4,\n",
       "         ' ': 3,\n",
       "         'e': 3,\n",
       "         'o': 2,\n",
       "         'c': 2,\n",
       "         't': 2,\n",
       "         'w': 1,\n",
       "         'r': 1,\n",
       "         'd': 1,\n",
       "         'u': 1,\n",
       "         'i': 1,\n",
       "         's': 1,\n",
       "         '.': 1})"
      ]
     },
     "execution_count": 2,
     "metadata": {},
     "output_type": "execute_result"
    },
    {
     "data": {
      "text/plain": [
       "[('n', 4), (' ', 3), ('e', 3)]"
      ]
     },
     "execution_count": 2,
     "metadata": {},
     "output_type": "execute_result"
    },
    {
     "data": {
      "text/plain": [
       "23"
      ]
     },
     "execution_count": 2,
     "metadata": {},
     "output_type": "execute_result"
    }
   ],
   "source": [
    "from collections import Counter\n",
    "\n",
    "c = Counter(\"word count in sentence.\")\n",
    "\n",
    "# 默认排序倒序\n",
    "c\n",
    "# 统计前三位\n",
    "c.most_common(3)\n",
    "# 汇总统计，相当于len(\"word count in sentence.\")\n",
    "sum(c.values())"
   ]
  },
  {
   "cell_type": "code",
   "execution_count": null,
   "metadata": {},
   "outputs": [],
   "source": []
  }
 ],
 "metadata": {
  "kernelspec": {
   "display_name": "base",
   "language": "python",
   "name": "python3"
  },
  "language_info": {
   "codemirror_mode": {
    "name": "ipython",
    "version": 3
   },
   "file_extension": ".py",
   "mimetype": "text/x-python",
   "name": "python",
   "nbconvert_exporter": "python",
   "pygments_lexer": "ipython3",
   "version": "3.11.5"
  }
 },
 "nbformat": 4,
 "nbformat_minor": 2
}
