{
 "cells": [
  {
   "cell_type": "markdown",
   "metadata": {},
   "source": [
    "# ChainMap 映射链\n",
    "\n",
    "ChainMap 非常强大的dict字典组合功能，他将多个dict字典放入到一个list中，他比dict字典使用update快很多。通过ChainMap可以来模拟嵌套的情景，而且多用于模板之中。"
   ]
  },
  {
   "cell_type": "code",
   "execution_count": 1,
   "metadata": {},
   "outputs": [],
   "source": [
    "from IPython.core.interactiveshell import InteractiveShell\n",
    "InteractiveShell.ast_node_interactivity = \"all\""
   ]
  },
  {
   "cell_type": "markdown",
   "metadata": {},
   "source": [
    "创建ChainMap对象"
   ]
  },
  {
   "cell_type": "code",
   "execution_count": 4,
   "metadata": {},
   "outputs": [
    {
     "data": {
      "text/plain": [
       "ChainMap({'type': 'admin', 'codeID': '00001'}, {'name': 'woodname', 'codeID': '00002'}, {'age': 18, 'codeID': '00003'})"
      ]
     },
     "execution_count": 4,
     "metadata": {},
     "output_type": "execute_result"
    },
    {
     "data": {
      "text/plain": [
       "[{'type': 'admin', 'codeID': '00001'},\n",
       " {'name': 'woodname', 'codeID': '00002'},\n",
       " {'age': 18, 'codeID': '00003'}]"
      ]
     },
     "execution_count": 4,
     "metadata": {},
     "output_type": "execute_result"
    }
   ],
   "source": [
    "from collections import ChainMap\n",
    "\n",
    "m1 = {'type': 'admin', 'codeID': '00001'}\n",
    "m2 = {'name': 'woodname', 'codeID': '00002'}\n",
    "m3 = {'age': 18, 'codeID': '00003'}\n",
    "\n",
    "cm = ChainMap(m1, m2, m3)\n",
    "\n",
    "cm\n",
    "cm.maps"
   ]
  },
  {
   "cell_type": "markdown",
   "metadata": {},
   "source": [
    "遍历ChainMap"
   ]
  },
  {
   "cell_type": "code",
   "execution_count": 6,
   "metadata": {},
   "outputs": [
    {
     "name": "stdout",
     "output_type": "stream",
     "text": [
      "('age', 18)\n",
      "('codeID', '00001')\n",
      "('name', 'woodname')\n",
      "('type', 'admin')\n"
     ]
    }
   ],
   "source": [
    "for m in cm.items():\n",
    "    print(m)"
   ]
  },
  {
   "cell_type": "markdown",
   "metadata": {},
   "source": [
    "从ChainMap获取值"
   ]
  },
  {
   "cell_type": "code",
   "execution_count": 11,
   "metadata": {},
   "outputs": [
    {
     "data": {
      "text/plain": [
       "'woodname'"
      ]
     },
     "execution_count": 11,
     "metadata": {},
     "output_type": "execute_result"
    },
    {
     "data": {
      "text/plain": [
       "'00001'"
      ]
     },
     "execution_count": 11,
     "metadata": {},
     "output_type": "execute_result"
    },
    {
     "data": {
      "text/plain": [
       "'admin'"
      ]
     },
     "execution_count": 11,
     "metadata": {},
     "output_type": "execute_result"
    }
   ],
   "source": [
    "# 读取元素的值\n",
    "cm['name']\n",
    "# 注意，当key重复时以最前一个为准\n",
    "cm['codeID']\n",
    "cm.get('type')"
   ]
  },
  {
   "cell_type": "code",
   "execution_count": 12,
   "metadata": {},
   "outputs": [
    {
     "data": {
      "text/plain": [
       "ChainMap({'data': '888'}, {'data': '888'}, {'data': '888'}, {'type': 'admin', 'codeID': '00001'}, {'name': 'woodname', 'codeID': '00002'}, {'age': 18, 'codeID': '00003'})"
      ]
     },
     "execution_count": 12,
     "metadata": {},
     "output_type": "execute_result"
    }
   ],
   "source": [
    "# 新增map（dict）\n",
    "m4 = { 'data': '888' }\n",
    "cm = cm.new_child(m4) # 将 m4 加入 cm\n",
    "cm"
   ]
  },
  {
   "cell_type": "code",
   "execution_count": 14,
   "metadata": {},
   "outputs": [
    {
     "data": {
      "text/plain": [
       "ChainMap({'data': '888'}, {'data': '888'}, {'type': 'admin', 'codeID': '00001'}, {'name': 'woodname', 'codeID': '00002'}, {'age': 18, 'codeID': '00003'})"
      ]
     },
     "execution_count": 14,
     "metadata": {},
     "output_type": "execute_result"
    },
    {
     "data": {
      "text/plain": [
       "ChainMap({'data': '888'}, {'type': 'admin', 'codeID': '00001'}, {'name': 'woodname', 'codeID': '00002'}, {'age': 18, 'codeID': '00003'})"
      ]
     },
     "execution_count": 14,
     "metadata": {},
     "output_type": "execute_result"
    },
    {
     "data": {
      "text/plain": [
       "ChainMap({'type': 'admin', 'codeID': '00001'}, {'name': 'woodname', 'codeID': '00002'}, {'age': 18, 'codeID': '00003'})"
      ]
     },
     "execution_count": 14,
     "metadata": {},
     "output_type": "execute_result"
    },
    {
     "data": {
      "text/plain": [
       "ChainMap({'name': 'woodname', 'codeID': '00002'}, {'age': 18, 'codeID': '00003'})"
      ]
     },
     "execution_count": 14,
     "metadata": {},
     "output_type": "execute_result"
    },
    {
     "data": {
      "text/plain": [
       "ChainMap({'age': 18, 'codeID': '00003'})"
      ]
     },
     "execution_count": 14,
     "metadata": {},
     "output_type": "execute_result"
    }
   ],
   "source": [
    "# cm 的亲子串\n",
    "cm.parents\n",
    "cm.parents.parents\n",
    "cm.parents.parents.parents\n",
    "cm.parents.parents.parents.parents\n",
    "cm.parents.parents.parents.parents.parents"
   ]
  },
  {
   "cell_type": "code",
   "execution_count": null,
   "metadata": {},
   "outputs": [],
   "source": []
  }
 ],
 "metadata": {
  "kernelspec": {
   "display_name": "base",
   "language": "python",
   "name": "python3"
  },
  "language_info": {
   "codemirror_mode": {
    "name": "ipython",
    "version": 3
   },
   "file_extension": ".py",
   "mimetype": "text/x-python",
   "name": "python",
   "nbconvert_exporter": "python",
   "pygments_lexer": "ipython3",
   "version": "3.11.5"
  }
 },
 "nbformat": 4,
 "nbformat_minor": 2
}
