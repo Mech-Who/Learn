{
 "cells": [
  {
   "cell_type": "code",
   "execution_count": 3,
   "metadata": {},
   "outputs": [],
   "source": [
    "# 导入所需的库\n",
    "import pathlib\n",
    "try:\n",
    "    import cv2\n",
    "except ImportError as e:\n",
    "    print(\"ImportError: A problem has occur when import cv2! Trying to Reinstall opencv-python and opencv-contrib-python...\")\n",
    "    %pip install opencv-python\n",
    "    %pip install opencv-contrib-python\n",
    "    import cv2"
   ]
  },
  {
   "cell_type": "markdown",
   "metadata": {},
   "source": [
    "# 一、JPEG介绍\n",
    "\n",
    "JPEG是joint Photographic Experts Group(联合图像专家组)的缩写，文件后辍名为”．jpg”或”．jpeg”。\n",
    "\n",
    "但它是一种有损压缩。支持多种压缩级别，压缩比率通常在10：1到40：1之间，压缩比越大，品质就越低；相反地，压缩比越小，品质就越好。\n",
    "\n",
    "下图是JPEG压缩/解压缩的流程图。我想你最大的疑问估计就是DCT了。\n",
    "\n",
    "![jpeg压缩、解压缩流程图](./img/jpeg_encode_decode_process.jpg)\n",
    "\n",
    "# 二、JPEG压缩流程\n",
    "\n",
    "## 2.1 色彩转换\n",
    "\n",
    "JPEG压缩通常在RGB色彩空间下进行，但在压缩之前，图像通常会被转换到YCbCr色彩空间，这样可以更好地利用人眼对亮度和色度的感知不敏感性。"
   ]
  },
  {
   "cell_type": "code",
   "execution_count": null,
   "metadata": {},
   "outputs": [],
   "source": [
    "img_path = pathlib.Path(\"./elden_ring.jpg\")\n",
    "img = cv2.imread(img_path.absolute())"
   ]
  },
  {
   "cell_type": "markdown",
   "metadata": {},
   "source": [
    "\n",
    "## 2.2 图像分割\n",
    "\n",
    "图像被分成8x8像素的块，每个块作为压缩的基本单元。例如一张64x64的图片就会被分成8x8个8x8的像素块。\n",
    "\n",
    "## 2.3 FDCT（正向离散余弦变换）\n",
    "\n",
    "对这些8x8的像素块进行离散余弦变换，将空间域的像素值转换为频域的系数。\n",
    "\n",
    "## 2.4 量化（根据量化表）\n",
    "\n",
    "对DCT系数进行量化，将它们变为更小的整数，以减少数据量。在这一步中，可以利用量化表（quantization table）来控制压缩的质量。\n",
    "\n",
    "## 2.5 系数编码（根据码表）\n",
    "\n",
    "采用熵编码技术对量化后的DCT系数进行编码。JPEG通常使用基于哈夫曼编码的方法，对系数进行编码以进一步减少数据量。\n",
    "\n",
    "## 2.6 文件封装\n",
    "\n",
    "将经过编码的数据按照JPEG文件格式进行封装，形成最终的JPEG图像文件。\n",
    "\n",
    "# 三、JPEG解压缩流程\n",
    "\n",
    "相当于压缩流程的逆过程\n",
    "\n",
    "## 3.1 系数解码（根据码表）\n",
    "\n",
    "## 3.2 "
   ]
  },
  {
   "cell_type": "code",
   "execution_count": null,
   "metadata": {},
   "outputs": [],
   "source": [
    "import shutil\n",
    "\n"
   ]
  }
 ],
 "metadata": {
  "kernelspec": {
   "display_name": "scraping",
   "language": "python",
   "name": "python3"
  },
  "language_info": {
   "codemirror_mode": {
    "name": "ipython",
    "version": 3
   },
   "file_extension": ".py",
   "mimetype": "text/x-python",
   "name": "python",
   "nbconvert_exporter": "python",
   "pygments_lexer": "ipython3",
   "version": "3.11.6"
  }
 },
 "nbformat": 4,
 "nbformat_minor": 2
}
