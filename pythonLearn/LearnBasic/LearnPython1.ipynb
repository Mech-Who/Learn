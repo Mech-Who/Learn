{
 "cells": [
  {
   "cell_type": "markdown",
   "id": "79400c1d76ae10a",
   "metadata": {
    "collapsed": false
   },
   "source": [
    "# 推导式\n",
    "\n",
    "包含：\n",
    "\n",
    "- 列表推导式\n",
    "- 字典推导式\n",
    "- 集合推导式\n",
    "- 元组推导式（生成器表达式）"
   ]
  },
  {
   "cell_type": "code",
   "execution_count": 1,
   "id": "2fb73a9e465f02fc",
   "metadata": {
    "ExecuteTime": {
     "end_time": "2023-09-15T10:33:26.198651900Z",
     "start_time": "2023-09-15T10:33:25.081316600Z"
    },
    "collapsed": false
   },
   "outputs": [],
   "source": [
    "a = list([1, 2, 3, 4, 5])\n",
    "b = dict({'a': 10, 'b': 11, 'c': 12, 'd': 13, 'e': 14, 'f': 15})\n",
    "c = set({6, 7, 8, 9, 10})\n",
    "d = tuple(('apple', 'banana', 'cherry', 'durian', 'elderberry'))"
   ]
  },
  {
   "cell_type": "code",
   "execution_count": 2,
   "id": "c583886fe7047a7c",
   "metadata": {
    "ExecuteTime": {
     "end_time": "2023-09-15T10:33:26.864500400Z",
     "start_time": "2023-09-15T10:33:25.093287800Z"
    },
    "collapsed": false
   },
   "outputs": [
    {
     "data": {
      "text/plain": [
       "([1, 2, 3, 4, 5], [3, 4, 5], [-1, -2, -3, 4, 5])"
      ]
     },
     "execution_count": 2,
     "metadata": {},
     "output_type": "execute_result"
    }
   ],
   "source": [
    "new_a = [x for x in a]\n",
    "new_a_2 = [x for x in a if x > 2]\n",
    "new_a_3 = [x if x > 3 else -x for x in a]\n",
    "new_a, new_a_2, new_a_3"
   ]
  },
  {
   "cell_type": "code",
   "execution_count": 3,
   "id": "37018796ec2e4b58",
   "metadata": {
    "ExecuteTime": {
     "end_time": "2023-09-15T10:33:26.903393900Z",
     "start_time": "2023-09-15T10:33:25.107248400Z"
    },
    "collapsed": false
   },
   "outputs": [
    {
     "data": {
      "text/plain": [
       "({'a': 11, 'b': 12, 'c': 13, 'd': 14, 'e': 15, 'f': 16},\n",
       " {'d': 14, 'e': 15, 'f': 16},\n",
       " {'a': 8, 'b': 9, 'c': 10, 'd': 15, 'e': 16, 'f': 17})"
      ]
     },
     "execution_count": 3,
     "metadata": {},
     "output_type": "execute_result"
    }
   ],
   "source": [
    "new_b = {k: v+1 for k, v in b.items()}\n",
    "new_b_2 = {k: v+1 for k, v in b.items() if v > 12}\n",
    "new_b_3 = {k: v+2 if v > 12 else v-2 for k, v in b.items()}\n",
    "new_b, new_b_2, new_b_3"
   ]
  },
  {
   "cell_type": "code",
   "execution_count": 4,
   "id": "8bab4fdf3ccec0ad",
   "metadata": {
    "ExecuteTime": {
     "end_time": "2023-09-15T10:33:26.936482400Z",
     "start_time": "2023-09-15T10:33:25.121210500Z"
    },
    "collapsed": false
   },
   "outputs": [
    {
     "data": {
      "text/plain": [
       "({8, 9, 10, 11, 12}, {11, 12}, {4, 5, 6, 11, 12})"
      ]
     },
     "execution_count": 4,
     "metadata": {},
     "output_type": "execute_result"
    }
   ],
   "source": [
    "new_c = {x+2 for x in c}\n",
    "new_c_2 = {x+2 for x in c if x > 8}\n",
    "new_c_3 = {x+2 if x > 8 else x-2 for x in c}\n",
    "new_c, new_c_2, new_c_3"
   ]
  },
  {
   "cell_type": "code",
   "execution_count": 5,
   "id": "bc021b0e9810a102",
   "metadata": {
    "ExecuteTime": {
     "end_time": "2023-09-15T10:33:26.951618100Z",
     "start_time": "2023-09-15T10:33:25.140160800Z"
    },
    "collapsed": false
   },
   "outputs": [
    {
     "name": "stdout",
     "output_type": "stream",
     "text": [
      "<generator object <genexpr> at 0x7f87406527d0> <generator object <genexpr> at 0x7f8740652550> <generator object <genexpr> at 0x7f87406528d0>\n"
     ]
    },
    {
     "data": {
      "text/plain": [
       "(('apple', 'banana', 'cherry', 'durian', 'elderberry'),\n",
       " ('banana_', 'cherry_', 'durian_', 'elderberry_'),\n",
       " ('apple_', '_banana', '_cherry', '_durian', '_elderberry'))"
      ]
     },
     "execution_count": 5,
     "metadata": {},
     "output_type": "execute_result"
    }
   ],
   "source": [
    "new_d = (x for x in d)\n",
    "new_d_2 = (x +'_'for x in d if x != 'apple')\n",
    "new_d_3 = (x + '_' if x == 'apple' else '_' + x for x in d)\n",
    "# 返回的是生成器对象\n",
    "print(new_d, new_d_2, new_d_3, end='\\n')\n",
    "# 使用 tuple() 函数，可以直接将生成器对象转换成元组\n",
    "tuple(new_d), tuple(new_d_2), tuple(new_d_3)"
   ]
  },
  {
   "cell_type": "markdown",
   "id": "5bb41972687191a1",
   "metadata": {
    "collapsed": false
   },
   "source": [
    "# 迭代器与生成器\n",
    "\n",
    "## 使用迭代器\n",
    "\n",
    "迭代器有两个基本的方法：iter() 和 next()。\n",
    "字符串，列表或元组对象都可用于创建迭代器"
   ]
  },
  {
   "cell_type": "code",
   "execution_count": 6,
   "id": "2494070f5217454",
   "metadata": {
    "ExecuteTime": {
     "end_time": "2023-09-15T10:33:26.967828200Z",
     "start_time": "2023-09-15T10:33:25.153162Z"
    },
    "collapsed": false
   },
   "outputs": [
    {
     "name": "stdout",
     "output_type": "stream",
     "text": [
      "<list_iterator object at 0x7f872b281110>\n",
      "1\n",
      "2\n"
     ]
    }
   ],
   "source": [
    "it_a = iter(a)\n",
    "print(it_a)\n",
    "print(next(it_a))\n",
    "print(next(it_a))"
   ]
  },
  {
   "cell_type": "markdown",
   "id": "1a254b1e7b1db866",
   "metadata": {
    "collapsed": false
   },
   "source": [
    "## 遍历迭代器"
   ]
  },
  {
   "cell_type": "code",
   "execution_count": 7,
   "id": "45c59fb2954dd585",
   "metadata": {
    "ExecuteTime": {
     "end_time": "2023-09-15T10:33:26.975863600Z",
     "start_time": "2023-09-15T10:33:25.170081300Z"
    },
    "collapsed": false
   },
   "outputs": [
    {
     "name": "stdout",
     "output_type": "stream",
     "text": [
      "1,2,3,4,5,\n",
      "1 2 3 4 5 "
     ]
    }
   ],
   "source": [
    "it_a = iter(a)\n",
    "\n",
    "# 常规for循环\n",
    "for x in it_a:\n",
    "    print(x, end=',')\n",
    "print()\n",
    "\n",
    "it_a = iter(a)\n",
    "\n",
    "# 常规while循环\n",
    "while True:\n",
    "    try:\n",
    "        print(next(it_a), end=' ')\n",
    "    except StopIteration:\n",
    "        break"
   ]
  },
  {
   "cell_type": "markdown",
   "id": "639107c849b577d0",
   "metadata": {
    "collapsed": false
   },
   "source": [
    "## 创建迭代器类\n",
    "\n",
    "把一个类作为一个迭代器使用需要在类中实现两个方法 __iter__() 与 __next__() 。\n",
    "\n",
    "StopIteration 异常用于标识迭代的完成，防止出现无限循环的情况。\n",
    "在 __next__() 方法中我们可以设置在完成指定循环次数后触发 StopIteration 异常来结束迭代。"
   ]
  },
  {
   "cell_type": "code",
   "execution_count": 8,
   "id": "77cc3ef54bce9955",
   "metadata": {
    "ExecuteTime": {
     "end_time": "2023-09-15T10:33:26.993973400Z",
     "start_time": "2023-09-15T10:33:25.186831900Z"
    },
    "collapsed": false
   },
   "outputs": [
    {
     "name": "stdout",
     "output_type": "stream",
     "text": [
      "1 2 3 4 5 6 7 8 9 10 11 12 13 14 15 16 17 18 19 "
     ]
    }
   ],
   "source": [
    "class MyNumber:\n",
    "    def __iter__(self):\n",
    "        self.a = 1\n",
    "        return self\n",
    "\n",
    "    def __next__(self):\n",
    "        if self.a <20:\n",
    "            x = self.a\n",
    "            self.a += 1\n",
    "            return x\n",
    "        else:\n",
    "            raise StopIteration\n",
    "    \n",
    "my = MyNumber()\n",
    "my_it = iter(my)\n",
    "for x in my_it:\n",
    "    print(x, end=' ')"
   ]
  },
  {
   "cell_type": "markdown",
   "id": "4be3ded617b3d952",
   "metadata": {
    "collapsed": false
   },
   "source": [
    "## 使用生成器\n",
    "\n",
    "在 Python 中，使用了 yield 的函数被称为生成器（generator）。\n",
    "yield 是一个关键字，用于定义生成器函数，生成器函数是一种特殊的函数，可以在迭代过程中逐步产生值，而不是一次性返回所有结果。\n",
    "跟普通函数不同的是，生成器是一个返回迭代器的函数，只能用于迭代操作，更简单点理解生成器就是一个迭代器。\n",
    "\n",
    "当在生成器函数中使用 yield 语句时，函数的执行将会暂停，并将 yield 后面的表达式作为当前迭代的值返回。\n",
    "然后，每次调用生成器的 next() 方法或使用 for 循环进行迭代时，函数会从上次暂停的地方继续执行，直到再次遇到 yield 语句。\n",
    "这样，生成器函数可以逐步产生值，而不需要一次性计算并返回所有结果。\n",
    "\n",
    "调用一个生成器函数，返回的是一个迭代器对象。"
   ]
  },
  {
   "cell_type": "code",
   "execution_count": 9,
   "id": "f92372fa58f929bd",
   "metadata": {
    "ExecuteTime": {
     "end_time": "2023-09-15T10:33:27.004917300Z",
     "start_time": "2023-09-15T10:33:25.201385200Z"
    },
    "collapsed": false
   },
   "outputs": [
    {
     "name": "stdout",
     "output_type": "stream",
     "text": [
      "10 9 8 7 6 5 4 3 2 1 "
     ]
    }
   ],
   "source": [
    "def count_down(n):\n",
    "    while n > 0:\n",
    "        yield n\n",
    "        n -= 1\n",
    "\n",
    "# 创建生成器对象\n",
    "gen = count_down(10)\n",
    "\n",
    "# for循环迭代生成器\n",
    "for x in gen:\n",
    "    print(x, end=' ')"
   ]
  },
  {
   "cell_type": "markdown",
   "id": "771115e2e75c4c48",
   "metadata": {
    "collapsed": false
   },
   "source": [
    "# 函数的参数传递\n",
    "\n",
    "在 python 中，类型属于对象，对象有不同类型的区分，变量是没有类型的：\n",
    "\n",
    "## 可更改(mutable)与不可更改(immutable)对象\n",
    "\n",
    "在 python 中，strings, tuples, 和 numbers 是不可更改的对象，而 list,dict 等则是可以修改的对象。\n",
    "\n",
    "- 不可变类型：变量赋值 a=5 后再赋值 a=10，这里实际是新生成一个 int 值对象 10，再让 a 指向它，而 5 被丢弃，不是改变 a 的值，相当于新生成了 a。\n",
    "- 可变类型：变量赋值 la=[1,2,3,4] 后再赋值 la[2]=5 则是将 list la 的第三个元素值更改，本身la没有动，只是其内部的一部分值被修改了。\n",
    "\n",
    "python 函数的参数传递：\n",
    "\n",
    "- 不可变类型：类似 C++ 的值传递，如整数、字符串、元组。如 fun(a)，传递的只是 a 的值，没有影响 a 对象本身。如果在 fun(a) 内部修改 a 的值，则是新生成一个 a 的对象。\n",
    "- 可变类型：类似 C++ 的引用传递，如 列表，字典。如 fun(la)，则是将 la 真正的传过去，修改后 fun 外部的 la 也会受影响\n",
    "\n",
    "python 中一切都是对象，严格意义我们不能说值传递还是引用传递，我们应该说传不可变对象和传可变对象。\n",
    "\n",
    "## python 传不可变对象实例\n",
    "\n",
    "通过 id() 函数来查看内存地址变化："
   ]
  },
  {
   "cell_type": "code",
   "execution_count": 10,
   "id": "b8dbfec2ae86c9a0",
   "metadata": {
    "ExecuteTime": {
     "end_time": "2023-09-15T10:33:27.016885600Z",
     "start_time": "2023-09-15T10:33:25.213352900Z"
    },
    "collapsed": false
   },
   "outputs": [
    {
     "name": "stdout",
     "output_type": "stream",
     "text": [
      "94848928359936\n",
      "94848928359936\n",
      "94848928359456\n"
     ]
    }
   ],
   "source": [
    "def change(a):\n",
    "    print(id(a))\n",
    "    a = 10\n",
    "    print(id(a))\n",
    "    \n",
    "a = 25\n",
    "print(id(a))\n",
    "change(a)"
   ]
  },
  {
   "cell_type": "markdown",
   "id": "1fbdc6254ba735c7",
   "metadata": {
    "collapsed": false
   },
   "source": [
    "可以看见在调用函数前后，形参和实参指向的是同一个对象（对象 id 相同），在函数内部修改形参后，形参指向的是不同的 id。\n",
    "\n",
    "## 传可变对象实例\n",
    "\n",
    "可变对象在函数里修改了参数，那么在调用这个函数的函数里，原始的参数也被改变了。例如："
   ]
  },
  {
   "cell_type": "code",
   "execution_count": 11,
   "id": "417766fdaef3736a",
   "metadata": {
    "ExecuteTime": {
     "end_time": "2023-09-15T10:33:27.059479100Z",
     "start_time": "2023-09-15T10:33:25.231305Z"
    },
    "collapsed": false
   },
   "outputs": [
    {
     "name": "stdout",
     "output_type": "stream",
     "text": [
      "140218877829920\n",
      "140218877829920\n",
      "140218877829920\n",
      "函数内取值:  [10, 20, 30, [1, 2, 3, 4]]\n",
      "140218877829920\n",
      "函数外取值:  [10, 20, 30, [1, 2, 3, 4]]\n"
     ]
    }
   ],
   "source": [
    "# 可写函数说明\n",
    "def change_me(my_list):\n",
    "    \"\"\"修改传入的列表\"\"\"\n",
    "    print(id(my_list))\n",
    "    my_list.append([1,2,3,4])\n",
    "    print(id(my_list))\n",
    "    print (\"函数内取值: \", my_list)\n",
    "    return\n",
    "\n",
    "# 调用change_me函数\n",
    "mylist = [10,20,30]\n",
    "print(id(mylist))\n",
    "change_me(mylist)\n",
    "print(id(mylist))\n",
    "print (\"函数外取值: \", mylist)"
   ]
  },
  {
   "cell_type": "markdown",
   "id": "3a249bffeac6d129",
   "metadata": {
    "collapsed": false
   },
   "source": [
    "# 函数的参数\n",
    "\n",
    "## 函数的不定长参数\n",
    "\n",
    "你可能需要一个函数能处理比当初声明时更多的参数。这些参数叫做不定长参数，声明时不会命名。基本语法如下：\n",
    "\n",
    "```txt\n",
    "def functionname([formal_args,] *var_args_tuple ):\n",
    "   \"函数_文档字符串\"\n",
    "   function_suite\n",
    "   return [expression]\n",
    "```\n",
    "\n",
    "加了星号 * 的参数会以元组(tuple)的形式导入，存放所有未命名的变量参数。\n",
    "如果在函数调用时没有指定参数，它就是一个空元组。我们也可以不向函数传递未命名的变量。"
   ]
  },
  {
   "cell_type": "code",
   "execution_count": 12,
   "id": "5696eb719b640800",
   "metadata": {
    "ExecuteTime": {
     "end_time": "2023-09-15T10:33:27.064500200Z",
     "start_time": "2023-09-15T10:33:25.248259900Z"
    },
    "collapsed": false
   },
   "outputs": [
    {
     "name": "stdout",
     "output_type": "stream",
     "text": [
      "0\n",
      "(1, 5, 2, 3, 4)\n",
      "0\n",
      "()\n"
     ]
    }
   ],
   "source": [
    "def print_info(arg1, *infos):\n",
    "    \"\"\"可以打印任意多个输入的参数\"\"\"\n",
    "    print(arg1)\n",
    "    print(infos)\n",
    "    \n",
    "print_info(0, 1, 5, 2, 3, 4)\n",
    "print_info(0)"
   ]
  },
  {
   "cell_type": "markdown",
   "id": "bcfbae099f146eed",
   "metadata": {
    "collapsed": false
   },
   "source": [
    "还有一种就是参数带两个星号 **基本语法如下：\n",
    "\n",
    "```txt\n",
    "def functionname([formal_args,] **var_args_dict ):\n",
    "   \"函数_文档字符串\"\n",
    "   function_suite\n",
    "   return [expression]\n",
    "```\n",
    "\n",
    "加了两个星号 ** 的参数会以字典的形式导入。"
   ]
  },
  {
   "cell_type": "code",
   "execution_count": 13,
   "id": "a3714290298b667a",
   "metadata": {
    "ExecuteTime": {
     "end_time": "2023-09-15T10:33:27.087436700Z",
     "start_time": "2023-09-15T10:33:25.262222300Z"
    },
    "collapsed": false
   },
   "outputs": [
    {
     "name": "stdout",
     "output_type": "stream",
     "text": [
      "0\n",
      "{'a': 1, 'b': 2, 'c': 3}\n",
      "0\n",
      "{}\n"
     ]
    }
   ],
   "source": [
    "def print_infos(arg1, **infos):\n",
    "    \"\"\"可以打印任意多输入的参数\"\"\"\n",
    "    print(arg1)\n",
    "    print(infos)\n",
    "    \n",
    "print_infos(0, a=1, b=2, c=3)\n",
    "print_infos(0)"
   ]
  },
  {
   "cell_type": "markdown",
   "id": "82be10665bd14fca",
   "metadata": {
    "collapsed": false
   },
   "source": [
    "声明函数时，参数中星号 * 可以单独出现，例如:\n",
    "\n",
    "```python\n",
    "def f(a,b,*,c):\n",
    "    return a+b+c\n",
    "```\n",
    "\n",
    "如果参数定义中单独出现星号 *，则表示星号 * 后的参数必须用关键字传入"
   ]
  },
  {
   "cell_type": "code",
   "execution_count": 14,
   "id": "5cae45f963d7b1e6",
   "metadata": {
    "ExecuteTime": {
     "end_time": "2023-09-15T10:33:27.103399200Z",
     "start_time": "2023-09-15T10:33:25.278180800Z"
    },
    "collapsed": false
   },
   "outputs": [
    {
     "name": "stdout",
     "output_type": "stream",
     "text": [
      "调用方法出错\n",
      "6\n"
     ]
    }
   ],
   "source": [
    "def f(a, b, *, c):\n",
    "    print(a+b+c)\n",
    "\n",
    "try:\n",
    "    f(1, 2, 3)\n",
    "except TypeError:\n",
    "    print(\"调用方法出错\")\n",
    "    \n",
    "f(1, 2, c=3)"
   ]
  },
  {
   "cell_type": "markdown",
   "id": "67ff15b461a76b29",
   "metadata": {
    "collapsed": false
   },
   "source": [
    "## 匿名函数（lambda）\n",
    "\n",
    "Python 使用 lambda 来创建匿名函数。\n",
    "\n",
    "所谓匿名，意即不再使用 def 语句这样标准的形式定义一个函数。\n",
    "\n",
    "- lambda 只是一个表达式，函数体比 def 简单很多。\n",
    "- lambda 的主体是一个表达式，而不是一个代码块。仅仅能在 lambda 表达式中封装有限的逻辑进去。\n",
    "- lambda 函数拥有自己的命名空间，且不能访问自己参数列表之外或全局命名空间里的参数。\n",
    "- 虽然 lambda 函数看起来只能写一行，却不等同于 C 或 C++ 的内联函数，内联函数的目的是调用小函数时不占用栈内存从而减少函数调用的开销，提高代码的执行速度。"
   ]
  },
  {
   "cell_type": "code",
   "execution_count": 15,
   "id": "e09757bae475df43",
   "metadata": {
    "ExecuteTime": {
     "end_time": "2023-09-15T10:33:27.122310200Z",
     "start_time": "2023-09-15T10:33:25.295134Z"
    },
    "collapsed": false
   },
   "outputs": [
    {
     "data": {
      "text/plain": [
       "6"
      ]
     },
     "execution_count": 15,
     "metadata": {},
     "output_type": "execute_result"
    }
   ],
   "source": [
    "add_5 = lambda x: x+5\n",
    "\n",
    "add_5(1)"
   ]
  },
  {
   "cell_type": "code",
   "execution_count": 16,
   "id": "b6e58da3409214f",
   "metadata": {
    "ExecuteTime": {
     "end_time": "2023-09-15T10:33:27.137492500Z",
     "start_time": "2023-09-15T10:33:25.309701Z"
    },
    "collapsed": false
   },
   "outputs": [
    {
     "data": {
      "text/plain": [
       "3"
      ]
     },
     "execution_count": 16,
     "metadata": {},
     "output_type": "execute_result"
    }
   ],
   "source": [
    "add = lambda x, y: x+y\n",
    "\n",
    "add(1, 2)"
   ]
  },
  {
   "cell_type": "code",
   "execution_count": 17,
   "id": "fa146f54b40dcbcb",
   "metadata": {
    "ExecuteTime": {
     "end_time": "2023-09-15T10:33:27.138489800Z",
     "start_time": "2023-09-15T10:33:25.324792700Z"
    },
    "collapsed": false
   },
   "outputs": [
    {
     "data": {
      "text/plain": [
       "(4, 6)"
      ]
     },
     "execution_count": 17,
     "metadata": {},
     "output_type": "execute_result"
    }
   ],
   "source": [
    "def create_lambda(n):\n",
    "    return lambda x: x*n\n",
    "\n",
    "two_mul = create_lambda(2)\n",
    "three_mul = create_lambda(3)\n",
    "\n",
    "two_mul(2), three_mul(2)"
   ]
  },
  {
   "cell_type": "markdown",
   "id": "524ad535f8790fc2",
   "metadata": {
    "collapsed": false
   },
   "source": [
    "## 强制位置参数\n",
    "\n",
    "Python3.8 新增了一个函数形参语法 / 用来指明函数形参必须使用指定位置参数，不能使用关键字参数的形式。\n",
    "\n",
    "在以下的例子中，形参 a 和 b 必须使用指定位置参数，c 或 d 可以是位置形参或关键字形参，而 e 和 f 要求为关键字形参:\n",
    "\n",
    "```python\n",
    "def f(a, b, /, c, d, *, e, f):\n",
    "    print(a, b, c, d, e, f)\n",
    "```\n",
    "\n",
    "以下使用方法是正确的:\n",
    "\n",
    "```python\n",
    "f(10, 20, 30, d=40, e=50, f=60)\n",
    "```\n",
    "\n",
    "以下使用方法会发生错误:\n",
    "\n",
    "```python\n",
    "f(10, b=20, c=30, d=40, e=50, f=60)   # b 不能使用关键字参数的形式\n",
    "f(10, 20, 30, 40, 50, f=60)           # e 必须使用关键字参数的形式\n",
    "```"
   ]
  },
  {
   "cell_type": "markdown",
   "id": "e140cb01ee0459e5",
   "metadata": {
    "collapsed": false
   },
   "source": [
    "# 数据结构\n",
    "\n",
    "## 列表\n",
    "\n",
    "Python中列表是可变的，这是它区别于字符串和元组的最重要的特点，一句话概括即：列表可以修改，而字符串和元组不能。\n",
    "\n",
    "以下是 Python 中列表的方法：\n",
    "\n",
    "| 方法                 | 描述                                  |\n",
    "|--------------------|-------------------------------------|\n",
    "| list.append(x)     | 把一个元素添加到列表的结尾，相当于 a[len(a):] = [x]。 |\n",
    "| list.extend(L)     |\t通过添加指定列表的所有元素来扩充列表，相当于 a[len(a):] = L。|\n",
    "| list.insert(i, x)  |\t在指定位置插入一个元素。第一个参数是准备插入到其前面的那个元素的索引，例如 a.insert(0, x) 会插入到整个列表之前，而 a.insert(len(a), x) 相当于 a.append(x) 。|\n",
    "| list.remove(x)     |\t删除列表中值为 x 的第一个元素。如果没有这样的元素，就会返回一个错误。|\n",
    "| list.pop([i])      |\t从列表的指定位置移除元素，并将其返回。如果没有指定索引，a.pop()返回最后一个元素。元素随即从列表中被移除。（方法中 i 两边的方括号表示这个参数是可选的，而不是要求你输入一对方括号，你会经常在 Python 库参考手册中遇到这样的标记。）|\n",
    "| list.clear()       |\t移除列表中的所有项，等于del a[:]。|\n",
    "| list.index(x)      |\t返回列表中第一个值为 x 的元素的索引。如果没有匹配的元素就会返回一个错误。|\n",
    "| list.count(x)      |\t返回 x 在列表中出现的次数。|\n",
    "| list.sort()        |\t对列表中的元素进行排序。|\n",
    "| list.reverse()     |\t倒排列表中的元素。|\n",
    "| list.copy()        |\t返回列表的浅复制，等于a[:]。|"
   ]
  },
  {
   "cell_type": "code",
   "execution_count": 18,
   "id": "176655f2aef163a8",
   "metadata": {
    "ExecuteTime": {
     "end_time": "2023-09-15T10:33:27.203482800Z",
     "start_time": "2023-09-15T10:33:25.339750200Z"
    },
    "collapsed": false
   },
   "outputs": [
    {
     "name": "stdout",
     "output_type": "stream",
     "text": [
      "[3, 4, 5, 6, 7]\n",
      "7\n",
      "[3, 4, 5, 6]\n",
      "6\n",
      "5\n",
      "[3, 4]\n"
     ]
    }
   ],
   "source": [
    "# 堆栈用法\n",
    "stack = [3, 4, 5]\n",
    "stack.append(6)\n",
    "stack.append(7)\n",
    "print(stack)\n",
    "print(stack.pop())\n",
    "print(stack)\n",
    "print(stack.pop())\n",
    "print(stack.pop())\n",
    "print(stack)"
   ]
  },
  {
   "cell_type": "code",
   "execution_count": 19,
   "id": "af3002a7d04edd89",
   "metadata": {
    "ExecuteTime": {
     "end_time": "2023-09-15T10:33:27.220038100Z",
     "start_time": "2023-09-15T10:33:25.358279Z"
    },
    "collapsed": false
   },
   "outputs": [
    {
     "name": "stdout",
     "output_type": "stream",
     "text": [
      "deque(['Eric', 'John', 'Michael'])\n",
      "deque(['Eric', 'John', 'Michael', 'Terry', 'Graham'])\n",
      "Eric\n",
      "John\n",
      "deque(['Michael', 'Terry', 'Graham'])\n"
     ]
    }
   ],
   "source": [
    "# 队列用法\n",
    "from collections import deque\n",
    "queue = deque([\"Eric\", \"John\", \"Michael\"])\n",
    "print(queue)\n",
    "queue.append(\"Terry\") # Terry arrives\n",
    "queue.append(\"Graham\") # Graham arrives\n",
    "print(queue)\n",
    "print(queue.popleft()) # The first to arrive now leaves\n",
    "print(queue.popleft()) # The second to arrive now leaves\n",
    "print(queue) # Remaining queue in order of arrival"
   ]
  },
  {
   "cell_type": "markdown",
   "id": "860602d932aa6592",
   "metadata": {
    "collapsed": false
   },
   "source": [
    "## 嵌套列表解析"
   ]
  },
  {
   "cell_type": "code",
   "execution_count": 20,
   "id": "7b70b934322424e6",
   "metadata": {
    "ExecuteTime": {
     "end_time": "2023-09-15T10:33:27.229557900Z",
     "start_time": "2023-09-15T10:33:25.370256800Z"
    },
    "collapsed": false
   },
   "outputs": [
    {
     "data": {
      "text/plain": [
       "[[1, 5, 9], [2, 6, 10], [3, 7, 11], [4, 8, 12]]"
      ]
     },
     "execution_count": 20,
     "metadata": {},
     "output_type": "execute_result"
    }
   ],
   "source": [
    "matrix = [\n",
    "    [1, 2, 3, 4],\n",
    "    [5, 6, 7, 8],\n",
    "    [9, 10, 11, 12],\n",
    "]\n",
    "\n",
    "[[row[i] for row in matrix] for i in range(4)]"
   ]
  },
  {
   "cell_type": "markdown",
   "id": "7d8d0ec8cb3d9482",
   "metadata": {
    "collapsed": false
   },
   "source": [
    "## 元组和序列\n",
    "元组由若干逗号分隔的值组成\n",
    "\n",
    "元组在输出时总是有括号的，以便于正确表达嵌套结构。在输入时可能有或没有括号，不过括号通常是必须的（如果元组是更大的表达式的一部分）。"
   ]
  },
  {
   "cell_type": "code",
   "execution_count": 21,
   "id": "2faf68bfa6308a0d",
   "metadata": {
    "ExecuteTime": {
     "end_time": "2023-09-15T10:33:27.244482400Z",
     "start_time": "2023-09-15T10:33:25.389197800Z"
    },
    "collapsed": false
   },
   "outputs": [
    {
     "name": "stdout",
     "output_type": "stream",
     "text": [
      "(12345, 54321, 'hello!')\n",
      "((12345, 54321, 'hello!'), (1, 2, 3, 4, 5))\n"
     ]
    }
   ],
   "source": [
    "t = 12345, 54321, 'hello!'\n",
    "print(t)\n",
    "\n",
    "# 元组嵌套\n",
    "u = t, (1, 2, 3, 4, 5)\n",
    "print(u)"
   ]
  },
  {
   "cell_type": "markdown",
   "id": "9edb21b9569de32c",
   "metadata": {
    "collapsed": false
   },
   "source": [
    "\n",
    "## 集合\n",
    "\n",
    "集合是一个无序不重复元素的集。基本功能包括关系测试和消除重复元素。\n",
    "\n",
    "可以用大括号({})创建集合。\n",
    "注意：如果要创建一个空集合，你必须用 set() 而不是 {} ；后者创建一个空的字典。"
   ]
  },
  {
   "cell_type": "code",
   "execution_count": 22,
   "id": "d887b83687015515",
   "metadata": {
    "ExecuteTime": {
     "end_time": "2023-09-15T10:33:27.260472600Z",
     "start_time": "2023-09-15T10:33:25.403160400Z"
    },
    "collapsed": false
   },
   "outputs": [
    {
     "name": "stdout",
     "output_type": "stream",
     "text": [
      "{'pear', 'banana', 'apple', 'orange'}\n",
      "True\n",
      "False\n",
      "a: {'c', 'b', 'a', 'r', 'd'} b: {'c', 'l', 'a', 'z', 'm'}\n",
      "\n",
      "{'r', 'b', 'd'}\n",
      "{'b', 'c', 'l', 'a', 'r', 'z', 'm', 'd'}\n",
      "{'a', 'c'}\n",
      "{'r', 'm', 'z', 'b', 'l', 'd'}\n"
     ]
    }
   ],
   "source": [
    "basket = {'apple', 'orange', 'apple', 'pear', 'orange', 'banana'}\n",
    "print(basket)\n",
    "\n",
    "print('orange' in basket) # 成员检测\n",
    "print('crabgrass' in basket)\n",
    "\n",
    "a = set('abracadabra')\n",
    "b = set('alacazam')\n",
    "print('a:', a, 'b:', b)\n",
    "print()\n",
    "\n",
    "# 集合运算\n",
    "print(a - b)\n",
    "print(a | b)\n",
    "print(a & b)\n",
    "print(a ^ b)"
   ]
  },
  {
   "cell_type": "markdown",
   "id": "2d25a5e970441e46",
   "metadata": {
    "collapsed": false
   },
   "source": [
    "\n",
    "## 字典\n",
    "\n",
    "另一个非常有用的 Python 内建数据类型是字典。\n",
    "\n",
    "序列是以连续的整数为索引，与此不同的是，字典以关键字为索引，关键字可以是任意不可变类型，通常用字符串或数值。\n",
    "\n",
    "理解字典的最佳方式是把它看做无序的键=>值对集合。在同一个字典之内，关键字必须是互不相同。\n",
    "\n",
    "创建字典：\n",
    "- 一对大括号创建一个空的字典：{}。\n",
    "- 构造函数 dict() 直接从键值对元组列表中构建字典。如果有固定的模式，列表推导式指定特定的键值对。\n",
    "- 此外，字典推导可以用来创建任意键和值的表达式词典：\n",
    "- 如果关键字只是简单的字符串，使用关键字参数指定键值对有时候更方便："
   ]
  },
  {
   "cell_type": "code",
   "execution_count": 23,
   "id": "15f25a183577b40b",
   "metadata": {
    "ExecuteTime": {
     "end_time": "2023-09-15T10:33:27.278393600Z",
     "start_time": "2023-09-15T10:33:25.419758600Z"
    },
    "collapsed": false
   },
   "outputs": [
    {
     "name": "stdout",
     "output_type": "stream",
     "text": [
      "{'jack': 4098, 'sape': 4139}\n"
     ]
    }
   ],
   "source": [
    "tel = {'jack': 4098, 'sape': 4139}\n",
    "print(tel)"
   ]
  },
  {
   "cell_type": "code",
   "execution_count": 24,
   "id": "e6bd0465e92ef8fb",
   "metadata": {
    "ExecuteTime": {
     "end_time": "2023-09-15T10:33:27.296370200Z",
     "start_time": "2023-09-15T10:33:25.435714500Z"
    },
    "collapsed": false
   },
   "outputs": [
    {
     "name": "stdout",
     "output_type": "stream",
     "text": [
      "4098\n",
      "4127\n",
      "{'jack': 4098, 'sape': 4139, 'guido': 4127}\n",
      "{'jack': 4098, 'guido': 4127}\n"
     ]
    }
   ],
   "source": [
    "# 访问\n",
    "print(tel['jack'])\n",
    "# 修改\n",
    "tel['guido'] = 4127\n",
    "print(tel['guido'])\n",
    "# 删除\n",
    "tel['sape']=4139\n",
    "print(tel)\n",
    "del tel['sape']\n",
    "print(tel)"
   ]
  },
  {
   "cell_type": "code",
   "execution_count": 25,
   "id": "ff777ccbd0800c95",
   "metadata": {
    "ExecuteTime": {
     "end_time": "2023-09-15T10:33:27.323242300Z",
     "start_time": "2023-09-15T10:33:25.450675100Z"
    },
    "collapsed": false
   },
   "outputs": [
    {
     "name": "stdout",
     "output_type": "stream",
     "text": [
      "['jack', 'guido']\n",
      "['guido', 'jack']\n"
     ]
    }
   ],
   "source": [
    "# 转换\n",
    "print(list(tel.keys()))\n",
    "print(sorted(tel.keys()))"
   ]
  },
  {
   "cell_type": "code",
   "execution_count": 26,
   "id": "963f74f7f32c782f",
   "metadata": {
    "ExecuteTime": {
     "end_time": "2023-09-15T10:33:27.323242300Z",
     "start_time": "2023-09-15T10:33:25.465318800Z"
    },
    "collapsed": false
   },
   "outputs": [
    {
     "name": "stdout",
     "output_type": "stream",
     "text": [
      "True\n",
      "False\n"
     ]
    }
   ],
   "source": [
    "# 搜索\n",
    "print('guido' in tel)\n",
    "print('jack' not in tel)"
   ]
  },
  {
   "cell_type": "code",
   "execution_count": 27,
   "id": "b9390dcc3e87ee67",
   "metadata": {
    "ExecuteTime": {
     "end_time": "2023-09-15T10:33:27.355194200Z",
     "start_time": "2023-09-15T10:33:25.482274800Z"
    },
    "collapsed": false
   },
   "outputs": [
    {
     "name": "stdout",
     "output_type": "stream",
     "text": [
      "{2: 4, 4: 16, 6: 36}\n",
      "{'sape': 4139, 'guido': 4127, 'jack': 4098}\n"
     ]
    }
   ],
   "source": [
    "# 创建\n",
    "print({x: x**2 for x in (2, 4, 6)})\n",
    "print(dict(sape=4139, guido=4127, jack=4098))"
   ]
  },
  {
   "cell_type": "markdown",
   "id": "b1094bf9b7a3f3e9",
   "metadata": {
    "collapsed": false
   },
   "source": [
    "## 遍历技巧"
   ]
  },
  {
   "cell_type": "code",
   "execution_count": 28,
   "id": "b804c6eb44a3f670",
   "metadata": {
    "ExecuteTime": {
     "end_time": "2023-09-15T10:33:27.382112600Z",
     "start_time": "2023-09-15T10:33:25.498851Z"
    },
    "collapsed": false
   },
   "outputs": [],
   "source": [
    "ad = dict(sape=4139, guido=4127, jack=4098)"
   ]
  },
  {
   "cell_type": "markdown",
   "id": "892f891b62b7b60b",
   "metadata": {
    "collapsed": false
   },
   "source": [
    "在字典中遍历时，关键字和对应的值可以使用 items() 方法同时解读出来："
   ]
  },
  {
   "cell_type": "code",
   "execution_count": 29,
   "id": "6c2e92657f1beb7f",
   "metadata": {
    "ExecuteTime": {
     "end_time": "2023-09-15T10:33:27.437587700Z",
     "start_time": "2023-09-15T10:33:25.511815500Z"
    },
    "collapsed": false
   },
   "outputs": [
    {
     "name": "stdout",
     "output_type": "stream",
     "text": [
      "sape: 4139\n",
      "guido: 4127\n",
      "jack: 4098\n"
     ]
    }
   ],
   "source": [
    "for k,v in ad.items():\n",
    "    print('%s: %d' % (k, v))"
   ]
  },
  {
   "cell_type": "markdown",
   "id": "3a1818aa133fa85e",
   "metadata": {
    "collapsed": false
   },
   "source": [
    "在序列中遍历时，索引位置和对应值可以使用 enumerate() 函数同时得到："
   ]
  },
  {
   "cell_type": "code",
   "execution_count": 30,
   "id": "97c8ebe458fe0c7c",
   "metadata": {
    "ExecuteTime": {
     "end_time": "2023-09-15T10:33:27.452513500Z",
     "start_time": "2023-09-15T10:33:25.532429800Z"
    },
    "collapsed": false
   },
   "outputs": [
    {
     "name": "stdout",
     "output_type": "stream",
     "text": [
      "0 tic\n",
      "1 tac\n",
      "2 toe\n"
     ]
    }
   ],
   "source": [
    "for i, v in enumerate(['tic', 'tac', 'toe']):\n",
    "    print(i, v)"
   ]
  },
  {
   "cell_type": "markdown",
   "id": "f0fdd58f13c64933",
   "metadata": {
    "collapsed": false
   },
   "source": [
    "同时遍历两个或更多的序列，可以使用 zip() 组合："
   ]
  },
  {
   "cell_type": "code",
   "execution_count": 31,
   "id": "9ec4846a48ddc429",
   "metadata": {
    "ExecuteTime": {
     "end_time": "2023-09-15T10:33:27.473457400Z",
     "start_time": "2023-09-15T10:33:25.544399800Z"
    },
    "collapsed": false
   },
   "outputs": [
    {
     "name": "stdout",
     "output_type": "stream",
     "text": [
      "questions: name, answers: lancelot\n",
      "questions: quest, answers: the holy grail\n",
      "questions: favorite color, answers: blue\n"
     ]
    }
   ],
   "source": [
    "questions = ['name', 'quest', 'favorite color']\n",
    "answers = ['lancelot', 'the holy grail', 'blue']\n",
    "for q, a in zip(questions, answers):\n",
    "    print('questions: {0}, answers: {1}'.format(q, a))"
   ]
  },
  {
   "cell_type": "markdown",
   "id": "d4a8844f178e45b7",
   "metadata": {
    "collapsed": false
   },
   "source": [
    "要反向遍历一个序列，首先指定这个序列，然后调用 reversed() 函数："
   ]
  },
  {
   "cell_type": "code",
   "execution_count": 32,
   "id": "289e8a5d1b37f4c3",
   "metadata": {
    "ExecuteTime": {
     "end_time": "2023-09-15T10:33:27.481041900Z",
     "start_time": "2023-09-15T10:33:25.559360600Z"
    },
    "collapsed": false
   },
   "outputs": [
    {
     "name": "stdout",
     "output_type": "stream",
     "text": [
      "9 7 5 3 1 "
     ]
    }
   ],
   "source": [
    "for i in reversed(range(1, 10, 2)):\n",
    "    print(i, end=' ')"
   ]
  },
  {
   "cell_type": "markdown",
   "id": "c9af5a7ee2af077d",
   "metadata": {
    "collapsed": false
   },
   "source": [
    "要按顺序遍历一个序列，使用 sorted() 函数返回一个已排序的序列，并不修改原值："
   ]
  },
  {
   "cell_type": "code",
   "execution_count": 33,
   "id": "32dfe09e40282ad9",
   "metadata": {
    "ExecuteTime": {
     "end_time": "2023-09-15T10:33:27.496002500Z",
     "start_time": "2023-09-15T10:33:25.575315800Z"
    },
    "collapsed": false
   },
   "outputs": [
    {
     "name": "stdout",
     "output_type": "stream",
     "text": [
      "apple banana orange pear "
     ]
    }
   ],
   "source": [
    "for f in sorted(set(basket)):\n",
    "    print(f, end=' ')"
   ]
  },
  {
   "cell_type": "markdown",
   "id": "2865d09a95551437",
   "metadata": {
    "collapsed": false
   },
   "source": [
    "# 模块\n",
    "\n",
    "## 主模块\n",
    "\n",
    "主模块的名字永远是\"\\_\\_main\\_\\_\"，一个Python应用程序的主模块，应当总是使用绝对路径引用。\n",
    "\n",
    "## dir()函数\n",
    "\n",
    "内置的函数 dir() 可以找到模块内定义的所有名称。以一个字符串列表的形式返回。\n",
    "如果没有给定参数(模块名)，那么 dir() 函数会罗列出当前定义的所有名称。"
   ]
  },
  {
   "cell_type": "code",
   "execution_count": 34,
   "id": "19c4ca0b09625bba",
   "metadata": {
    "ExecuteTime": {
     "end_time": "2023-09-15T10:33:27.510658700Z",
     "start_time": "2023-09-15T10:33:25.591274900Z"
    },
    "collapsed": false
   },
   "outputs": [
    {
     "data": {
      "text/plain": [
       "['MAXYEAR',\n",
       " 'MINYEAR',\n",
       " '__builtins__',\n",
       " '__cached__',\n",
       " '__doc__',\n",
       " '__file__',\n",
       " '__loader__',\n",
       " '__name__',\n",
       " '__package__',\n",
       " '__spec__',\n",
       " 'date',\n",
       " 'datetime',\n",
       " 'datetime_CAPI',\n",
       " 'sys',\n",
       " 'time',\n",
       " 'timedelta',\n",
       " 'timezone',\n",
       " 'tzinfo']"
      ]
     },
     "execution_count": 34,
     "metadata": {},
     "output_type": "execute_result"
    }
   ],
   "source": [
    "import datetime\n",
    "dir(datetime)"
   ]
  },
  {
   "cell_type": "code",
   "execution_count": 35,
   "id": "4a02dc39abf27bf1",
   "metadata": {
    "ExecuteTime": {
     "end_time": "2023-09-15T10:33:27.518636900Z",
     "start_time": "2023-09-15T10:33:25.607232600Z"
    },
    "collapsed": false
   },
   "outputs": [
    {
     "data": {
      "text/plain": [
       "['In',\n",
       " 'MyNumber',\n",
       " 'Out',\n",
       " '_',\n",
       " '_15',\n",
       " '_16',\n",
       " '_17',\n",
       " '_2',\n",
       " '_20',\n",
       " '_3',\n",
       " '_34',\n",
       " '_4',\n",
       " '_5',\n",
       " '__',\n",
       " '___',\n",
       " '__builtin__',\n",
       " '__builtins__',\n",
       " '__doc__',\n",
       " '__loader__',\n",
       " '__name__',\n",
       " '__package__',\n",
       " '__spec__',\n",
       " '__vsc_ipynb_file__',\n",
       " '_dh',\n",
       " '_i',\n",
       " '_i1',\n",
       " '_i10',\n",
       " '_i11',\n",
       " '_i12',\n",
       " '_i13',\n",
       " '_i14',\n",
       " '_i15',\n",
       " '_i16',\n",
       " '_i17',\n",
       " '_i18',\n",
       " '_i19',\n",
       " '_i2',\n",
       " '_i20',\n",
       " '_i21',\n",
       " '_i22',\n",
       " '_i23',\n",
       " '_i24',\n",
       " '_i25',\n",
       " '_i26',\n",
       " '_i27',\n",
       " '_i28',\n",
       " '_i29',\n",
       " '_i3',\n",
       " '_i30',\n",
       " '_i31',\n",
       " '_i32',\n",
       " '_i33',\n",
       " '_i34',\n",
       " '_i35',\n",
       " '_i4',\n",
       " '_i5',\n",
       " '_i6',\n",
       " '_i7',\n",
       " '_i8',\n",
       " '_i9',\n",
       " '_ih',\n",
       " '_ii',\n",
       " '_iii',\n",
       " '_oh',\n",
       " 'a',\n",
       " 'ad',\n",
       " 'add',\n",
       " 'add_5',\n",
       " 'answers',\n",
       " 'b',\n",
       " 'basket',\n",
       " 'c',\n",
       " 'change',\n",
       " 'change_me',\n",
       " 'count_down',\n",
       " 'create_lambda',\n",
       " 'd',\n",
       " 'datetime',\n",
       " 'deque',\n",
       " 'exit',\n",
       " 'f',\n",
       " 'gen',\n",
       " 'get_ipython',\n",
       " 'i',\n",
       " 'it_a',\n",
       " 'k',\n",
       " 'matrix',\n",
       " 'my',\n",
       " 'my_it',\n",
       " 'mylist',\n",
       " 'new_a',\n",
       " 'new_a_2',\n",
       " 'new_a_3',\n",
       " 'new_b',\n",
       " 'new_b_2',\n",
       " 'new_b_3',\n",
       " 'new_c',\n",
       " 'new_c_2',\n",
       " 'new_c_3',\n",
       " 'new_d',\n",
       " 'new_d_2',\n",
       " 'new_d_3',\n",
       " 'print_info',\n",
       " 'print_infos',\n",
       " 'q',\n",
       " 'questions',\n",
       " 'queue',\n",
       " 'quit',\n",
       " 'stack',\n",
       " 't',\n",
       " 'tel',\n",
       " 'three_mul',\n",
       " 'two_mul',\n",
       " 'u',\n",
       " 'v',\n",
       " 'x']"
      ]
     },
     "execution_count": 35,
     "metadata": {},
     "output_type": "execute_result"
    }
   ],
   "source": [
    "dir()"
   ]
  },
  {
   "cell_type": "markdown",
   "id": "9c68f1099a446962",
   "metadata": {
    "collapsed": false
   },
   "source": [
    "## 额外功能\n",
    "\n",
    "包还提供一个额外的属性__path__。这是一个目录列表，里面每一个包含的目录都有为这个包服务的__init__.py，你得在其他__init__.py被执行前定义哦。可以修改这个变量，用来影响包含在包里面的模块和子包。\n",
    "\n",
    "这个功能并不常用，一般用来扩展包里面的模块。\n",
    "\n",
    "## 标准模块\n",
    "\n",
    "如sys，os，math，datetime等"
   ]
  },
  {
   "cell_type": "markdown",
   "id": "a33ab61e3c774120",
   "metadata": {
    "collapsed": false
   },
   "source": [
    "# 输入和输出\n",
    "\n",
    "## 输出格式美化\n",
    "\n",
    "Python两种输出值的方式: 表达式语句和 print() 函数。\n",
    "第三种方式是使用文件对象的 write() 方法，标准输出文件可以用 sys.stdout 引用。\n",
    "\n",
    "如果你希望输出的形式更加多样，可以使用 str.format() 函数来格式化输出值。\n",
    "\n",
    "如果你希望将输出的值转成字符串，可以使用 repr() 或 str() 函数来实现。\n",
    "\n",
    "- str()： 函数返回一个用户易读的表达形式。\n",
    "- repr()： 产生一个解释器易读的表达形式。\n",
    "\n",
    "repr() 函数可以转义字符串中的特殊字符\n",
    "repr() 的参数可以是 Python 的任何对象"
   ]
  },
  {
   "cell_type": "code",
   "execution_count": 36,
   "id": "a4ceeb484cfb1d35",
   "metadata": {
    "ExecuteTime": {
     "end_time": "2023-09-15T10:33:27.533600100Z",
     "start_time": "2023-09-15T10:33:25.622190600Z"
    },
    "collapsed": false
   },
   "outputs": [
    {
     "name": "stdout",
     "output_type": "stream",
     "text": [
      "'hello, runoob\\n'\n"
     ]
    }
   ],
   "source": [
    "hello = 'hello, runoob\\n'\n",
    "hellos = repr(hello)\n",
    "print(hellos)"
   ]
  },
  {
   "cell_type": "code",
   "execution_count": 37,
   "id": "22e1d87491bbd2a5",
   "metadata": {
    "ExecuteTime": {
     "end_time": "2023-09-15T10:33:27.551303100Z",
     "start_time": "2023-09-15T10:33:25.635833300Z"
    },
    "collapsed": false
   },
   "outputs": [
    {
     "name": "stdout",
     "output_type": "stream",
     "text": [
      "(37.5, 40000, ('Google', 'Runoob'))\n"
     ]
    }
   ],
   "source": [
    "x = 37.5\n",
    "y = 40000\n",
    "helloss = repr((x, y, ('Google', 'Runoob')))\n",
    "print(helloss)"
   ]
  },
  {
   "cell_type": "markdown",
   "id": "9296e22d45ecf8c0",
   "metadata": {
    "collapsed": false
   },
   "source": [
    "两种方式输出一个平方与立方的表:\n",
    "\n",
    "这个例子展示了字符串对象的 rjust() 方法, 它可以将字符串靠右, 并在左边填充空格。\n",
    "还有类似的方法, 如 ljust() 和 center()。 这些方法并不会写任何东西, 它们仅仅返回新的字符串。\n",
    "另一个方法 zfill(), 它会在数字的左边填充 0"
   ]
  },
  {
   "cell_type": "code",
   "execution_count": 38,
   "id": "2868449727cc44d4",
   "metadata": {
    "ExecuteTime": {
     "end_time": "2023-09-15T10:33:27.558283100Z",
     "start_time": "2023-09-15T10:33:25.653298800Z"
    },
    "collapsed": false
   },
   "outputs": [
    {
     "name": "stdout",
     "output_type": "stream",
     "text": [
      " 1   1    1\n",
      " 2   4    8\n",
      " 3   9   27\n",
      " 4  16   64\n",
      " 5  25  125\n",
      " 6  36  216\n",
      " 7  49  343\n",
      " 8  64  512\n",
      " 9  81  729\n",
      "10 100 1000\n"
     ]
    }
   ],
   "source": [
    "for x in range(1, 11):\n",
    "    print(repr(x).rjust(2), repr(x**2).rjust(3), end=' ')\n",
    "    print(repr(x**3).rjust(4))"
   ]
  },
  {
   "cell_type": "code",
   "execution_count": 39,
   "id": "e270e53398a4ed08",
   "metadata": {
    "ExecuteTime": {
     "end_time": "2023-09-15T10:33:27.558283100Z",
     "start_time": "2023-09-15T10:33:25.669254100Z"
    },
    "collapsed": false
   },
   "outputs": [
    {
     "name": "stdout",
     "output_type": "stream",
     "text": [
      " 1   1    1\n",
      " 2   4    8\n",
      " 3   9   27\n",
      " 4  16   64\n",
      " 5  25  125\n",
      " 6  36  216\n",
      " 7  49  343\n",
      " 8  64  512\n",
      " 9  81  729\n",
      "10 100 1000\n"
     ]
    }
   ],
   "source": [
    "for x in range(1, 11):\n",
    "    print('{0:2d} {1:3d} {2:4d}'.format(x, x**2, x**3))"
   ]
  },
  {
   "cell_type": "markdown",
   "id": "68c7498ff8c76920",
   "metadata": {
    "collapsed": false
   },
   "source": [
    "# str.format()用法"
   ]
  },
  {
   "cell_type": "code",
   "execution_count": 40,
   "id": "d86cca605b08655",
   "metadata": {
    "ExecuteTime": {
     "end_time": "2023-09-15T10:33:27.573243300Z",
     "start_time": "2023-09-15T10:33:25.682219300Z"
    },
    "collapsed": false
   },
   "outputs": [
    {
     "name": "stdout",
     "output_type": "stream",
     "text": [
      "菜鸟教程网址： \"www.runoob.com!\"\n"
     ]
    }
   ],
   "source": [
    "print('{}网址： \"{}!\"'.format('菜鸟教程', 'www.runoob.com'))"
   ]
  },
  {
   "cell_type": "code",
   "execution_count": 41,
   "id": "d25dea36fec7aa3b",
   "metadata": {
    "ExecuteTime": {
     "end_time": "2023-09-15T10:33:27.574244600Z",
     "start_time": "2023-09-15T10:33:25.699895400Z"
    },
    "collapsed": false
   },
   "outputs": [
    {
     "name": "stdout",
     "output_type": "stream",
     "text": [
      "Google 和 Runoob\n",
      "Runoob 和 Google\n"
     ]
    }
   ],
   "source": [
    "print('{0} 和 {1}'.format('Google', 'Runoob'))\n",
    "print('{1} 和 {0}'.format('Google', 'Runoob'))"
   ]
  },
  {
   "cell_type": "code",
   "execution_count": 42,
   "id": "ee696cc89a3ef221",
   "metadata": {
    "ExecuteTime": {
     "end_time": "2023-09-15T10:33:27.589200600Z",
     "start_time": "2023-09-15T10:33:25.714498300Z"
    },
    "collapsed": false
   },
   "outputs": [
    {
     "name": "stdout",
     "output_type": "stream",
     "text": [
      "菜鸟教程网址： www.runoob.com\n"
     ]
    }
   ],
   "source": [
    "print('{name}网址： {site}'.format(name='菜鸟教程', site='www.runoob.com'))"
   ]
  },
  {
   "cell_type": "code",
   "execution_count": 43,
   "id": "4ff8cbbc1ac6f8c7",
   "metadata": {
    "ExecuteTime": {
     "end_time": "2023-09-15T10:33:27.589200600Z",
     "start_time": "2023-09-15T10:33:25.729458500Z"
    },
    "collapsed": false
   },
   "outputs": [
    {
     "name": "stdout",
     "output_type": "stream",
     "text": [
      "站点列表 Google, Runoob, 和 Taobao。\n"
     ]
    }
   ],
   "source": [
    "print('站点列表 {0}, {1}, 和 {other}。'.format('Google', 'Runoob', other='Taobao'))"
   ]
  },
  {
   "cell_type": "markdown",
   "id": "31a276c31f7eaa97",
   "metadata": {
    "collapsed": false
   },
   "source": [
    "!a (使用 ascii()), !s (使用 str()) 和 !r (使用 repr()) 可以用于在格式化某个值之前对其进行转化:"
   ]
  },
  {
   "cell_type": "code",
   "execution_count": 44,
   "id": "59cd2f7140097fa4",
   "metadata": {
    "ExecuteTime": {
     "end_time": "2023-09-15T10:33:27.597179300Z",
     "start_time": "2023-09-15T10:33:25.746413100Z"
    },
    "collapsed": false
   },
   "outputs": [
    {
     "name": "stdout",
     "output_type": "stream",
     "text": [
      "常量 PI 的值近似为： 3.141592653589793。\n",
      "常量 PI 的值近似为： 3.141592653589793。\n"
     ]
    }
   ],
   "source": [
    "import math\n",
    "print('常量 PI 的值近似为： {}。'.format(math.pi))\n",
    "print('常量 PI 的值近似为： {!r}。'.format(math.pi))"
   ]
  },
  {
   "cell_type": "markdown",
   "id": "951c35f14f7f29a7",
   "metadata": {
    "collapsed": false
   },
   "source": [
    "可选项 : 和格式标识符可以跟着字段名。 这就允许对值进行更好的格式化。"
   ]
  },
  {
   "cell_type": "code",
   "execution_count": 45,
   "id": "4a900ebf57934e16",
   "metadata": {
    "ExecuteTime": {
     "end_time": "2023-09-15T10:33:27.597179300Z",
     "start_time": "2023-09-15T10:33:25.757383100Z"
    },
    "collapsed": false
   },
   "outputs": [
    {
     "name": "stdout",
     "output_type": "stream",
     "text": [
      "常量 PI 的值近似为 3.142。\n"
     ]
    }
   ],
   "source": [
    "print('常量 PI 的值近似为 {0:.3f}。'.format(math.pi))"
   ]
  },
  {
   "cell_type": "markdown",
   "id": "e9d7209f658df328",
   "metadata": {
    "collapsed": false
   },
   "source": [
    "在 : 后传入一个整数, 可以保证该域至少有这么多的宽度。 用于美化表格时很有用。"
   ]
  },
  {
   "cell_type": "code",
   "execution_count": 46,
   "id": "ad34f24c3d759c9a",
   "metadata": {
    "ExecuteTime": {
     "end_time": "2023-09-15T10:33:27.597179300Z",
     "start_time": "2023-09-15T10:33:25.773340700Z"
    },
    "collapsed": false
   },
   "outputs": [
    {
     "name": "stdout",
     "output_type": "stream",
     "text": [
      "Google     ==>          1\n",
      "Runoob     ==>          2\n",
      "Taobao     ==>          3\n"
     ]
    }
   ],
   "source": [
    "table = {'Google': 1, 'Runoob': 2, 'Taobao': 3}\n",
    "for name, number in table.items():\n",
    "    print('{0:10} ==> {1:10d}'.format(name, number))"
   ]
  },
  {
   "cell_type": "markdown",
   "id": "8c5b7c58bb45f081",
   "metadata": {
    "collapsed": false
   },
   "source": [
    "如果你有一个很长的格式化字符串, 而你不想将它们分开, 那么在格式化时通过变量名而非位置会是很好的事情。\n",
    "最简单的就是传入一个字典, 然后使用方括号 [] 来访问键值 :"
   ]
  },
  {
   "cell_type": "code",
   "execution_count": 47,
   "id": "acd1aab6ab8c98e4",
   "metadata": {
    "ExecuteTime": {
     "end_time": "2023-09-15T10:33:27.625104Z",
     "start_time": "2023-09-15T10:33:25.787303400Z"
    },
    "collapsed": false
   },
   "outputs": [
    {
     "name": "stdout",
     "output_type": "stream",
     "text": [
      "Runoob: 2; Google: 1; Taobao: 3\n"
     ]
    }
   ],
   "source": [
    "print('Runoob: {0[Runoob]:d}; Google: {0[Google]:d}; Taobao: {0[Taobao]:d}'.format(table))"
   ]
  },
  {
   "cell_type": "markdown",
   "id": "7b6276a938a8e9ce",
   "metadata": {
    "collapsed": false
   },
   "source": [
    "也可以通过在 table 变量前使用 ** 来实现相同的功能："
   ]
  },
  {
   "cell_type": "code",
   "execution_count": 48,
   "id": "6e3e90b80156f6a3",
   "metadata": {
    "ExecuteTime": {
     "end_time": "2023-09-15T10:33:27.632086Z",
     "start_time": "2023-09-15T10:33:25.800966900Z"
    },
    "collapsed": false
   },
   "outputs": [
    {
     "name": "stdout",
     "output_type": "stream",
     "text": [
      "Runoob: 2; Google: 1; Taobao: 3\n"
     ]
    }
   ],
   "source": [
    "print('Runoob: {Runoob:d}; Google: {Google:d}; Taobao: {Taobao:d}'.format(**table))"
   ]
  },
  {
   "cell_type": "markdown",
   "id": "88d9405d5dde5443",
   "metadata": {
    "collapsed": false
   },
   "source": [
    "## 旧式字符串格式化\n",
    "\n",
    "% 操作符也可以实现字符串格式化。 它将左边的参数作为类似 sprintf() 式的格式化字符串, 而将右边的代入, 然后返回格式化后的字符串"
   ]
  },
  {
   "cell_type": "code",
   "execution_count": 49,
   "id": "7cd74a2d7dcc9095",
   "metadata": {
    "ExecuteTime": {
     "end_time": "2023-09-15T10:33:27.646604800Z",
     "start_time": "2023-09-15T10:33:25.818918900Z"
    },
    "collapsed": false
   },
   "outputs": [
    {
     "name": "stdout",
     "output_type": "stream",
     "text": [
      "常量 PI 的值近似为：3.142。\n"
     ]
    }
   ],
   "source": [
    "print('常量 PI 的值近似为：%5.3f。' % math.pi)"
   ]
  },
  {
   "cell_type": "markdown",
   "id": "564c611a1b8c0fe6",
   "metadata": {
    "collapsed": false
   },
   "source": [
    "## 读取键盘输入\n",
    "\n",
    "Python 提供了 input() 内置函数从标准输入读入一行文本，默认的标准输入是键盘。\n",
    "\n",
    "## 读和写文件\n",
    "\n",
    "open() 将会返回一个 file 对象，基本语法格式如下:\n",
    "\n",
    "```python\n",
    "open(filename, mode)\n",
    "```\n",
    "\n",
    "- filename：包含了你要访问的文件名称的字符串值。\n",
    "- mode：决定了打开文件的模式：只读，写入，追加等。所有可取值见如下的完全列表。这个参数是非强制的，默认文件访问模式为只读(r)。\n",
    "\n",
    "不同模式打开文件的完全列表：\n",
    "\n",
    "| 模式  | 描述                                                                                |\n",
    "|-----|-----------------------------------------------------------------------------------|\n",
    "| r   | 以只读方式打开文件。文件的指针将会放在文件的开头。这是默认模式。                                                  |\n",
    "| rb  | 以二进制格式打开一个文件用于只读。文件指针将会放在文件的开头。                                                   |\n",
    "| r+  | 打开一个文件用于读写。文件指针将会放在文件的开头。                                                         |\n",
    "| rb+ | 以二进制格式打开一个文件用于读写。文件指针将会放在文件的开头。                                                   |\n",
    "| w   | 打开一个文件只用于写入。如果该文件已存在则打开文件，并从开头开始编辑，即原有内容会被删除。如果该文件不存在，创建新文件。                      |\n",
    "| wb  | 以二进制格式打开一个文件只用于写入。如果该文件已存在则打开文件，并从开头开始编辑，即原有内容会被删除。如果该文件不存在，创建新文件。                |\n",
    "| w+  | 打开一个文件用于读写。如果该文件已存在则打开文件，并从开头开始编辑，即原有内容会被删除。如果该文件不存在，创建新文件。                       |\n",
    "| wb+ | 以二进制格式打开一个文件用于读写。如果该文件已存在则打开文件，并从开头开始编辑，即原有内容会被删除。如果该文件不存在，创建新文件。                 |\n",
    "| a   | 打开一个文件用于追加。如果该文件已存在，文件指针将会放在文件的结尾。也就是说，新的内容将会被写入到已有内容之后。如果该文件不存在，创建新文件进行写入。       |\n",
    "| ab  | 以二进制格式打开一个文件用于追加。如果该文件已存在，文件指针将会放在文件的结尾。也就是说，新的内容将会被写入到已有内容之后。如果该文件不存在，创建新文件进行写入。 |\n",
    "| a+  | 打开一个文件用于读写。如果该文件已存在，文件指针将会放在文件的结尾。文件打开时会是追加模式。如果该文件不存在，创建新文件用于读写。                 |\n",
    "| ab+ | 以二进制格式打开一个文件用于追加。如果该文件已存在，文件指针将会放在文件的结尾。如果该文件不存在，创建新文件用于读写。                       |\n",
    "\n",
    "\n",
    "下图很好的总结了这几种模式：\n",
    "![文件访问方式](./learn_python_img/openfile.png)\n",
    "\n",
    "| 模式\t   | r\t | r+\t | w\t  | w+\t | a\t  | a+  |\n",
    "|-------|----|-----|-----|-----|-----|-----|\n",
    "| 读     | \t+ | \t+  | \t\t  | +   | \t\t  | +   |\n",
    "| 写     | \t  | \t+  | \t+  | \t+  | \t+  | \t+  |\n",
    "| 创建    | \t  | \t   | \t+  | \t+  | \t+  | \t+  |\n",
    "| 覆盖    | \t  | \t   | \t+  | \t+  | \t   | \t   |\n",
    "| 指针在开始 | \t+ | \t+  | \t+  | \t+  | \t   | \t   |\n",
    "| 指针在结尾 | \t  | \t   | \t   | \t   | \t+  | \t+  |\n",
    "\n",
    "以下实例将字符串写入到文件 foo.txt 中："
   ]
  },
  {
   "cell_type": "code",
   "execution_count": 50,
   "id": "57ad78d7401ccf1",
   "metadata": {
    "ExecuteTime": {
     "end_time": "2023-09-15T10:33:27.660725200Z",
     "start_time": "2023-09-15T10:33:25.832883400Z"
    },
    "collapsed": false
   },
   "outputs": [
    {
     "ename": "FileNotFoundError",
     "evalue": "[Errno 2] No such file or directory: './data/foo.txt'",
     "output_type": "error",
     "traceback": [
      "\u001b[0;31m---------------------------------------------------------------------------\u001b[0m",
      "\u001b[0;31mFileNotFoundError\u001b[0m                         Traceback (most recent call last)",
      "\u001b[0;32m/tmp/ipykernel_17170/855733791.py\u001b[0m in \u001b[0;36m<module>\u001b[0;34m\u001b[0m\n\u001b[1;32m      1\u001b[0m \u001b[0;31m# 打开一个文件\u001b[0m\u001b[0;34m\u001b[0m\u001b[0;34m\u001b[0m\u001b[0;34m\u001b[0m\u001b[0m\n\u001b[0;32m----> 2\u001b[0;31m \u001b[0mf\u001b[0m \u001b[0;34m=\u001b[0m \u001b[0mopen\u001b[0m\u001b[0;34m(\u001b[0m\u001b[0;34m'./data/foo.txt'\u001b[0m\u001b[0;34m,\u001b[0m \u001b[0;34m'w'\u001b[0m\u001b[0;34m)\u001b[0m\u001b[0;34m\u001b[0m\u001b[0;34m\u001b[0m\u001b[0m\n\u001b[0m\u001b[1;32m      3\u001b[0m \u001b[0;34m\u001b[0m\u001b[0m\n\u001b[1;32m      4\u001b[0m \u001b[0mf\u001b[0m\u001b[0;34m.\u001b[0m\u001b[0mwrite\u001b[0m\u001b[0;34m(\u001b[0m\u001b[0;34m\"Python是一门好语言，我正在学习！\\n希望大家也能喜欢！\\n\"\u001b[0m\u001b[0;34m)\u001b[0m\u001b[0;34m\u001b[0m\u001b[0;34m\u001b[0m\u001b[0m\n\u001b[1;32m      5\u001b[0m \u001b[0;34m\u001b[0m\u001b[0m\n",
      "\u001b[0;31mFileNotFoundError\u001b[0m: [Errno 2] No such file or directory: './data/foo.txt'"
     ]
    }
   ],
   "source": [
    "# 打开一个文件\n",
    "f = open('./data/foo.txt', 'w')\n",
    "\n",
    "f.write(\"Python是一门好语言，我正在学习！\\n希望大家也能喜欢！\\n\")\n",
    "\n",
    "# 关闭打开的文件\n",
    "f.close()"
   ]
  },
  {
   "cell_type": "markdown",
   "id": "6fe136f50ea63a7c",
   "metadata": {
    "collapsed": false
   },
   "source": [
    "## readline函数和readlines函数\n",
    "\n",
    "f.readline() 会从文件中读取单独的一行。换行符为 '\\n'。f.readline() 如果返回一个空字符串, 说明已经已经读取到最后一行。\n",
    "\n",
    "f.readlines() 将返回该文件中包含的所有行。\n",
    "如果设置可选参数 sizehint, 则读取指定长度的字节, 并且将这些字节按行分割。"
   ]
  },
  {
   "cell_type": "code",
   "execution_count": null,
   "id": "fa7c43fd10e6744b",
   "metadata": {
    "ExecuteTime": {
     "end_time": "2023-09-15T10:33:27.695473700Z",
     "start_time": "2023-09-15T10:33:25.846845Z"
    },
    "collapsed": false
   },
   "outputs": [
    {
     "name": "stdout",
     "output_type": "stream",
     "text": [
      "<class 'str'>\n",
      "['希望大家也能喜欢！\\n']\n"
     ]
    }
   ],
   "source": [
    "# 打开一个文件\n",
    "f = open(\"./data/foo.txt\", \"r\")\n",
    "\n",
    "string = f.readline()\n",
    "print(str)\n",
    "\n",
    "string = f.readlines()\n",
    "print(string)\n",
    "\n",
    "# 关闭打开的文件\n",
    "f.close()"
   ]
  },
  {
   "cell_type": "markdown",
   "id": "4155edac5f168582",
   "metadata": {
    "collapsed": false
   },
   "source": [
    "## 通过迭代的方式读取文件\n",
    "\n",
    "这个方法很简单, 但是并没有提供一个很好的控制。 因为两者的处理机制不同, 最好不要混用。"
   ]
  },
  {
   "cell_type": "code",
   "execution_count": null,
   "id": "6b9280ad26243ee6",
   "metadata": {
    "ExecuteTime": {
     "end_time": "2023-09-15T10:33:27.703453100Z",
     "start_time": "2023-09-15T10:33:25.865793900Z"
    },
    "collapsed": false
   },
   "outputs": [
    {
     "name": "stdout",
     "output_type": "stream",
     "text": [
      "Python是一门好语言，我正在学习！\n",
      "希望大家也能喜欢！\n"
     ]
    }
   ],
   "source": [
    "# 打开一个文件\n",
    "f = open(\"./data/foo.txt\", \"r\")\n",
    "\n",
    "for line in f:\n",
    "    print(line, end='')\n",
    "\n",
    "# 关闭打开的文件\n",
    "f.close()"
   ]
  },
  {
   "cell_type": "markdown",
   "id": "47b27ad8cea03022",
   "metadata": {
    "collapsed": false
   },
   "source": [
    "# write函数\n",
    "\n",
    "f.write(string) 将 string 写入到文件中, 然后返回写入的字符数。\n",
    "\n",
    "如果要写入一些不是字符串的东西, 那么将需要先进行转换"
   ]
  },
  {
   "cell_type": "code",
   "execution_count": null,
   "id": "3a3e3220e8a54bbf",
   "metadata": {
    "ExecuteTime": {
     "end_time": "2023-09-15T10:33:27.717469Z",
     "start_time": "2023-09-15T10:33:25.880753700Z"
    },
    "collapsed": false
   },
   "outputs": [
    {
     "name": "stdout",
     "output_type": "stream",
     "text": [
      "29\n",
      "('www.runoob.com', 14)\n",
      "('www.runoob.com', 14)\n"
     ]
    }
   ],
   "source": [
    "# 打开一个文件\n",
    "f = open(\"./data/foo.txt\", \"w\")\n",
    "\n",
    "num = f.write( \"Python 是一个非常好的语言。\\n是的，的确非常好!!\\n\" )\n",
    "print(num)\n",
    "\n",
    "tup = ('www.runoob.com', 14)\n",
    "# s = ''.join([str(i) for i in value])\n",
    "print(tup)\n",
    "s = str(tup)\n",
    "print(s)\n",
    "f.write(s)\n",
    "\n",
    "# 关闭打开的文件\n",
    "f.close()"
   ]
  },
  {
   "cell_type": "markdown",
   "id": "6f2f08263c862afc",
   "metadata": {
    "collapsed": false
   },
   "source": [
    "## 操作文件\n",
    "\n",
    "### f.tell()\n",
    "f.tell() 返回文件对象当前所处的位置, 它是从文件开头开始算起的字节数。\n",
    "\n",
    "### f.seek()\n",
    "如果要改变文件指针当前的位置, 可以使用 f.seek(offset, from_what) 函数。\n",
    "\n",
    "from_what 的值, 如果是 0 表示开头, 如果是 1 表示当前位置, 2 表示文件的结尾，例如：\n",
    "\n",
    "- seek(x,0) ： 从起始位置即文件首行首字符开始移动 x 个字符\n",
    "- seek(x,1) ： 表示从当前位置往后移动x个字符\n",
    "- seek(-x,2)：表示从文件的结尾往前移动x个字符\n",
    "\n",
    "from_what 值为默认为0，即文件开头。下面给出一个完整的例子："
   ]
  },
  {
   "cell_type": "code",
   "execution_count": null,
   "id": "b9edef1da30e3b62",
   "metadata": {
    "ExecuteTime": {
     "end_time": "2023-09-15T10:33:27.724396600Z",
     "start_time": "2023-09-15T10:33:25.895713400Z"
    },
    "collapsed": false
   },
   "outputs": [
    {
     "name": "stdout",
     "output_type": "stream",
     "text": [
      "16\n",
      "5\n",
      "b'5'\n",
      "68\n",
      "b'1'\n"
     ]
    }
   ],
   "source": [
    "f = open('./data/foo.txt', 'rb+')\n",
    "\n",
    "a = f.write(b'0123456789abcdef')\n",
    "print(a)\n",
    "\n",
    "a = f.seek(5)\n",
    "print(a)\n",
    "\n",
    "a = f.read(1)\n",
    "print(a)\n",
    "\n",
    "a = f.seek(-3, 2)\n",
    "print(a)\n",
    "\n",
    "a = f.read(1)\n",
    "print(a)"
   ]
  },
  {
   "cell_type": "markdown",
   "id": "e640e680ea4692f",
   "metadata": {
    "collapsed": false
   },
   "source": [
    "### f.close()\n",
    "\n",
    "在文本文件中 (那些打开文件的模式下没有 b 的), 只会相对于文件起始位置进行定位。\n",
    "\n",
    "当你处理完一个文件后, 调用 f.close() 来关闭文件并释放系统的资源，如果尝试再调用该文件，则会抛出异常。\n",
    "\n",
    "当处理一个文件对象时, 使用 with 关键字是非常好的方式。在结束后, 它会帮你正确的关闭文件。 而且写起来也比 try - finally 语句块要简短:"
   ]
  },
  {
   "cell_type": "code",
   "execution_count": null,
   "id": "534d08f01b2f2aed",
   "metadata": {
    "ExecuteTime": {
     "end_time": "2023-09-15T10:33:27.787807600Z",
     "start_time": "2023-09-15T10:33:25.916659Z"
    },
    "collapsed": false
   },
   "outputs": [
    {
     "ename": "UnicodeDecodeError",
     "evalue": "'gbk' codec can't decode byte 0xa3 in position 26: illegal multibyte sequence",
     "output_type": "error",
     "traceback": [
      "\u001b[1;31m---------------------------------------------------------------------------\u001b[0m",
      "\u001b[1;31mUnicodeDecodeError\u001b[0m                        Traceback (most recent call last)",
      "Cell \u001b[1;32mIn[57], line 2\u001b[0m\n\u001b[0;32m      1\u001b[0m \u001b[38;5;28;01mwith\u001b[39;00m \u001b[38;5;28mopen\u001b[39m(\u001b[38;5;124m'\u001b[39m\u001b[38;5;124m./data/foo.txt\u001b[39m\u001b[38;5;124m'\u001b[39m, \u001b[38;5;124m'\u001b[39m\u001b[38;5;124mr\u001b[39m\u001b[38;5;124m'\u001b[39m) \u001b[38;5;28;01mas\u001b[39;00m f:\n\u001b[1;32m----> 2\u001b[0m     read_data \u001b[38;5;241m=\u001b[39m \u001b[43mf\u001b[49m\u001b[38;5;241;43m.\u001b[39;49m\u001b[43mread\u001b[49m\u001b[43m(\u001b[49m\u001b[43m)\u001b[49m\n\u001b[0;32m      3\u001b[0m f\u001b[38;5;241m.\u001b[39mclosed\n",
      "\u001b[1;31mUnicodeDecodeError\u001b[0m: 'gbk' codec can't decode byte 0xa3 in position 26: illegal multibyte sequence"
     ]
    }
   ],
   "source": [
    "with open('./data/foo.txt', 'r') as f:\n",
    "    read_data = f.read()\n",
    "f.closed"
   ]
  },
  {
   "cell_type": "markdown",
   "id": "111b87def9c326e5",
   "metadata": {
    "collapsed": false
   },
   "source": [
    "### 其他\n",
    "\n",
    "文件对象还有其他方法, 如 isatty() 和 trucate(), 但这些通常比较少用。"
   ]
  },
  {
   "cell_type": "markdown",
   "id": "e16b3423c37b7396",
   "metadata": {
    "collapsed": false
   },
   "source": [
    "# pickle 模块\n",
    "\n",
    "python的pickle模块实现了基本的数据序列和反序列化。\n",
    "\n",
    "通过pickle模块的序列化操作我们能够将程序中运行的对象信息保存到文件中去，永久存储。\n",
    "\n",
    "通过pickle模块的反序列化操作，我们能够从文件中创建上一次程序保存的对象。\n",
    "\n",
    "基本接口：\n",
    "\n",
    "```text\n",
    "pickle.dump(obj, file, [,protocol])\n",
    "```\n",
    "\n",
    "有了 pickle 这个对象, 就能对 file 以读取的形式打开:\n",
    "\n",
    "```python\n",
    "x = pickle.load(file)\n",
    "```\n",
    "\n",
    "注解：从 file 中读取一个字符串，并将它重构为原来的python对象。\n",
    "file: 类文件对象，有read()和readline()接口。"
   ]
  },
  {
   "cell_type": "code",
   "execution_count": null,
   "id": "8f09221cba86aed2",
   "metadata": {
    "ExecuteTime": {
     "start_time": "2023-09-15T10:33:26.338531900Z"
    },
    "collapsed": false
   },
   "outputs": [],
   "source": [
    "# 保存数据\n",
    "import pickle\n",
    "\n",
    "data1 = {\n",
    "    'a': [1, 2.0, 3, 4 + 5j, 6],\n",
    "    'b': ('string', u'Unicode string'),\n",
    "    'c': None\n",
    "}\n",
    "\n",
    "selfref_list = [1, 2, 3]\n",
    "selfref_list.append(selfref_list)\n",
    "print(selfref_list)\n",
    "\n",
    "output = open('./data/data.pkl', 'wb')\n",
    "\n",
    "# Pickle dictionary using protocol 0.\n",
    "pickle.dump(data1, output)\n",
    "\n",
    "# Pickle the list using the highest protocol available.\n",
    "pickle.dump(selfref_list, output, -1)\n",
    "\n",
    "output.close()"
   ]
  },
  {
   "cell_type": "code",
   "execution_count": null,
   "id": "fd13f683fcbe2d4b",
   "metadata": {
    "ExecuteTime": {
     "start_time": "2023-09-15T10:33:26.343518600Z"
    },
    "collapsed": false
   },
   "outputs": [],
   "source": [
    "# 读取数据\n",
    "import pprint, pickle\n",
    "\n",
    "#使用pickle模块从文件中重构python对象\n",
    "pkl_file = open('./data/data.pkl', 'rb')\n",
    "\n",
    "data1 = pickle.load(pkl_file)\n",
    "pprint.pprint(data1)\n",
    "\n",
    "data2 = pickle.load(pkl_file)\n",
    "pprint.pprint(data2)\n",
    "\n",
    "pkl_file.close()"
   ]
  },
  {
   "cell_type": "markdown",
   "id": "150f225b7ec693cf",
   "metadata": {
    "collapsed": false
   },
   "source": [
    "# 异常处理\n",
    "\n",
    "## try...except...else子句:\n",
    "\n",
    "使用 else 子句比把所有的语句都放在 try 子句里面要好，这样可以避免一些意想不到，而 except 又无法捕获的异常。\n",
    "异常处理并不仅仅处理那些直接发生在 try 子句中的异常，而且还能处理子句中调用的函数（甚至间接调用的函数）里抛出的异常。\n",
    "\n",
    "```text\n",
    "try:\n",
    "    执行代码\n",
    "except:\n",
    "    发生异常时执行的代码\n",
    "else:\n",
    "    没有异常时执行的代码\n",
    "```\n",
    "\n",
    "## try...finally子句：\n",
    "\n",
    "try-finally 语句无论是否发生异常都将执行最后的代码。\n",
    "\n",
    "```text\n",
    "try:\n",
    "    执行代码\n",
    "except:\n",
    "    发生异常时执行的代码\n",
    "else:\n",
    "    没有异常时执行的代码\n",
    "finally:\n",
    "    无论是否有异常都会执行的代码\n",
    "```\n",
    "\n",
    "## 抛出异常\n",
    "\n",
    "Python 使用 raise 语句抛出一个指定的异常。\n",
    "\n",
    "raise语法格式如下：\n",
    "\n",
    "```text\n",
    "raise [Exception [, args [, traceback]]]\n",
    "```\n",
    "\n",
    "raise 唯一的一个参数指定了要被抛出的异常。它必须是一个异常的实例或者是异常的类（也就是 Exception 的子类）。\n",
    "\n",
    "如果你只想知道这是否抛出了一个异常，并不想去处理它，那么一个简单的 raise 语句就可以再次把它抛出。\n",
    "\n",
    "## 用户自定义异常\n",
    "\n",
    "你可以通过创建一个新的异常类来拥有自己的异常。异常类继承自 Exception 类，可以直接继承，或者间接继承，例如: "
   ]
  },
  {
   "cell_type": "code",
   "execution_count": null,
   "id": "4222e154a20007c1",
   "metadata": {
    "ExecuteTime": {
     "start_time": "2023-09-15T10:33:26.348506300Z"
    },
    "collapsed": false
   },
   "outputs": [],
   "source": [
    "class MyError(Exception):\n",
    "    def __init__(self, value):\n",
    "        self.value = value\n",
    "    def __str__(self):\n",
    "        return repr(self.value)\n",
    "\n",
    "try:\n",
    "    raise MyError(2*2)\n",
    "except MyError as e:\n",
    "    print('My exception occurred, value:', e.value)"
   ]
  },
  {
   "cell_type": "markdown",
   "id": "aaeffe873e150847",
   "metadata": {
    "collapsed": false
   },
   "source": [
    "当创建一个模块有可能抛出多种不同的异常时，一种通常的做法是:\n",
    "    为这个包建立一个基础异常类，然后基于这个基础类为不同的错误情况创建不同的子类。\n",
    "\n",
    "大多数的异常的名字都以\"Error\"结尾，就跟标准的异常命名一样:"
   ]
  },
  {
   "cell_type": "code",
   "execution_count": null,
   "id": "295ef16d92130926",
   "metadata": {
    "ExecuteTime": {
     "start_time": "2023-09-15T10:33:26.353491600Z"
    },
    "collapsed": false
   },
   "outputs": [],
   "source": [
    "class Error(Exception):\n",
    "    \"\"\"Base class for exceptions in this module.\"\"\"\n",
    "    pass\n",
    "\n",
    "class InputError(Error):\n",
    "    \"\"\"Exception raised for errors in the input.\n",
    "\n",
    "    Attributes:\n",
    "        expression -- input expression in which the error occurred\n",
    "        message -- explanation of the error\n",
    "    \"\"\"\n",
    "    def __init__(self, expression, message):\n",
    "        self.expression = expression\n",
    "        self.message = message\n",
    "\n",
    "class TransitionError(Error):\n",
    "    \"\"\"Raised when an operation attempts a state transition that's not\n",
    "    allowed.\n",
    "\n",
    "    Attributes:\n",
    "        previous -- state at beginning of transition\n",
    "        next -- attempted new state\n",
    "        message -- explanation of why the specific transition is not allowed\n",
    "    \"\"\"\n",
    "    def __init__(self, previous, next, message):\n",
    "        self.previous = previous\n",
    "        self.next = next\n",
    "        self.message = message"
   ]
  },
  {
   "cell_type": "markdown",
   "id": "925519cb31db60b",
   "metadata": {
    "collapsed": false
   },
   "source": [
    "## 定义清理行为\n",
    "\n",
    "如果一个异常在 try 子句里（或者在 except 和 else 子句里）被抛出，而又没有任何的 except 把它截住，那么这个异常会在 finally 子句执行后被抛出。"
   ]
  },
  {
   "cell_type": "code",
   "execution_count": null,
   "id": "b114c37154f3da4b",
   "metadata": {
    "ExecuteTime": {
     "start_time": "2023-09-15T10:33:26.357483100Z"
    },
    "collapsed": false
   },
   "outputs": [],
   "source": [
    "def divide(x, y):\n",
    "    try:\n",
    "        result = x / y\n",
    "    except ZeroDivisionError:\n",
    "        print(\"division by zero!\")\n",
    "    else:\n",
    "        print(\"result is\", result)\n",
    "    finally:\n",
    "        print(\"executing finally clause\")\n",
    "\n",
    "divide(2, 1)\n",
    "divide(2, 0)\n",
    "divide('2', '1')"
   ]
  },
  {
   "cell_type": "markdown",
   "id": "cd3ef371e9fe2d62",
   "metadata": {
    "collapsed": false
   },
   "source": [
    "\n",
    "## 预定义的清理行为\n",
    "\n",
    "一些对象定义了标准的清理行为，无论系统是否成功的使用了它，一旦不需要它了，那么这个标准的清理行为就会执行。\n",
    "\n",
    "比如：\n",
    "    关键词 with 语句就可以保证诸如文件之类的对象在使用完之后一定会正确的执行他的清理方法"
   ]
  },
  {
   "cell_type": "markdown",
   "id": "50f8a6d91932cd02",
   "metadata": {
    "collapsed": false
   },
   "source": [
    "# assert 断言\n",
    "\n",
    "Python assert（断言）用于判断一个表达式，在表达式条件为 false 的时候触发异常。\n",
    "\n",
    "断言可以在条件不满足程序运行的情况下直接返回错误，而不必等待程序运行后出现崩溃的情况，例如我们的代码只能在 Linux 系统下运行，可以先判断当前系统是否符合条件。\n",
    "\n",
    "语法格式如下：\n",
    "\n",
    "```text\n",
    "assert expression\n",
    "```\n",
    "\n",
    "等价于：\n",
    "\n",
    "```text\n",
    "if not expression:\n",
    "    raise AssertionError\n",
    "```\n",
    "\n",
    "assert 后面也可以紧跟参数:\n",
    "\n",
    "```text\n",
    "assert expression [, arguments]\n",
    "```\n",
    "\n",
    "等价于：\n",
    "\n",
    "```text\n",
    "if not expression:\n",
    "    raise AssertionError(arguments)\n",
    "```"
   ]
  },
  {
   "cell_type": "code",
   "execution_count": null,
   "id": "5e254c63f6a2ef2e",
   "metadata": {
    "ExecuteTime": {
     "start_time": "2023-09-15T10:33:26.360473Z"
    },
    "collapsed": false
   },
   "outputs": [],
   "source": [
    "assert True"
   ]
  },
  {
   "cell_type": "code",
   "execution_count": null,
   "id": "1c112c85ce432725",
   "metadata": {
    "ExecuteTime": {
     "start_time": "2023-09-15T10:33:26.363464700Z"
    },
    "collapsed": false
   },
   "outputs": [],
   "source": [
    "assert False"
   ]
  },
  {
   "cell_type": "code",
   "execution_count": null,
   "id": "9d7046b9b71b0c65",
   "metadata": {
    "ExecuteTime": {
     "start_time": "2023-09-15T10:33:26.366136900Z"
    },
    "collapsed": false
   },
   "outputs": [],
   "source": [
    "assert ('linux' in sys.platform), \"该代码只能在 Linux 下执行\""
   ]
  },
  {
   "cell_type": "markdown",
   "id": "ce15874ff8257682",
   "metadata": {
    "collapsed": false
   },
   "source": [
    "# Python中的面向对象\n",
    "\n",
    "## Python 子类继承父类构造函数说明\n",
    "\n",
    "子类不重写__init__()方法，实例化子类后，会自动调用父类的__init__()的方法。\n",
    "\n",
    "子类重写__init__()方法，实例化子类后，将不会自动调用父类的__init__()的方法。\n",
    "\n",
    "子类重写__init__()方法又需要调用父类的方法：使用super关键词：\n",
    "\n",
    "```text\n",
    "super(子类，self).__init__(参数1，参数2，....)\n",
    "```\n",
    "\n",
    "## 类属性和方法\n",
    "\n",
    "### 类的私有属性\n",
    "\n",
    "__private_attrs：两个下划线开头，声明该属性为私有，不能在类的外部被使用或直接访问。在类内部的方法中使用时 self.__private_attrs。\n",
    "\n",
    "### 类的方法\n",
    "\n",
    "在类的内部，使用 def 关键字来定义一个方法，与一般函数定义不同，类方法必须包含参数 self，且为第一个参数，self 代表的是类的实例。\n",
    "\n",
    "self 的名字并不是规定死的，也可以使用 this，但是最好还是按照约定使用 self。\n",
    "\n",
    "### 类的私有方法\n",
    "\n",
    "__private_method：两个下划线开头，声明该方法为私有方法，只能在类的内部调用 ，不能在类的外部调用。self.__private_methods。\n",
    "\n",
    "### 类的专有方法\n",
    "\n",
    "- \\_\\_init__ : 构造函数，在生成对象时调用\n",
    "- \\_\\_del__ : 析构函数，释放对象时使用\n",
    "- \\_\\_repr__ : 打印，转换\n",
    "- \\_\\_setitem__ : 按照索引赋值\n",
    "- \\_\\_getitem__: 按照索引获取值\n",
    "- \\_\\_len__: 获得长度\n",
    "- \\_\\_cmp__: 比较运算\n",
    "- \\_\\_call__: 函数调用\n",
    "- \\_\\_add__: 加运算\n",
    "- \\_\\_sub__: 减运算\n",
    "- \\_\\_mul__: 乘运算\n",
    "- \\_\\_truediv__: 除运算\n",
    "- \\_\\_mod__: 求余运算\n",
    "- \\_\\_pow__: 乘方\n",
    "\n",
    "### 运算符重载\n",
    "\n",
    "Python同样支持运算符重载，我们可以对类的专有方法进行重载。\n",
    "\n",
    "即，在类中实现\\_\\_add__等方法，例如："
   ]
  },
  {
   "cell_type": "code",
   "execution_count": null,
   "id": "6fd7a0d8bf0890e7",
   "metadata": {
    "ExecuteTime": {
     "start_time": "2023-09-15T10:33:26.367134200Z"
    },
    "collapsed": false
   },
   "outputs": [],
   "source": [
    "class Vector:\n",
    "    def __init__(self, a, b):\n",
    "        self.a = a\n",
    "        self.b = b\n",
    "\n",
    "    def __str__(self):\n",
    "        return 'Vector (%d, %d)' % (self.a, self.b)\n",
    "\n",
    "    def __add__(self,other):\n",
    "        return Vector(self.a + other.a, self.b + other.b)\n",
    "\n",
    "v1 = Vector(2,10)\n",
    "v2 = Vector(5,-2)\n",
    "print (v1 + v2)"
   ]
  },
  {
   "cell_type": "markdown",
   "id": "a5c389a766063f96",
   "metadata": {
    "collapsed": false
   },
   "source": [
    "# 命名空间/作用域\n",
    "\n",
    "## global 和 nonlocal关键字\n",
    "\n",
    "当内部作用域想修改外部作用域的变量时，就要用到 global 和 nonlocal 关键字了。"
   ]
  },
  {
   "cell_type": "code",
   "execution_count": null,
   "id": "fb4bed43f34b05cc",
   "metadata": {
    "ExecuteTime": {
     "start_time": "2023-09-15T10:33:26.369128800Z"
    },
    "collapsed": false
   },
   "outputs": [],
   "source": [
    "num = 1\n",
    "def fun1():\n",
    "    global num  # 需要使用 global 关键字声明\n",
    "    print(num)\n",
    "    num = 123\n",
    "    print(num)\n",
    "fun1()\n",
    "print(num)"
   ]
  },
  {
   "cell_type": "markdown",
   "id": "4f65849dc7cc5348",
   "metadata": {
    "collapsed": false
   },
   "source": [
    "如果要修改嵌套作用域（enclosing 作用域，外层非全局作用域）中的变量则需要 nonlocal 关键字了，如下实例："
   ]
  },
  {
   "cell_type": "code",
   "execution_count": null,
   "id": "ea2d8fac0f2a6fe",
   "metadata": {
    "ExecuteTime": {
     "start_time": "2023-09-15T10:33:26.372121700Z"
    },
    "collapsed": false
   },
   "outputs": [],
   "source": [
    "def outer():\n",
    "    num = 10\n",
    "    def inner():\n",
    "        nonlocal num   # nonlocal关键字声明\n",
    "        num = 100\n",
    "        print(num)\n",
    "    inner()\n",
    "    print(num)\n",
    "outer()"
   ]
  },
  {
   "cell_type": "markdown",
   "id": "af5cff218888a61b",
   "metadata": {
    "collapsed": false
   },
   "source": [
    "# Python3 标准库概览\n",
    "\n",
    "Python 标准库非常庞大，所提供的组件涉及范围十分广泛，使用标准库我们可以让您轻松地完成各种任务。\n",
    "\n",
    "以下是一些 Python3 标准库中的模块：\n",
    "\n",
    "- os 模块：os 模块提供了许多与操作系统交互的函数，例如创建、移动和删除文件和目录，以及访问环境变量等。\n",
    "- sys 模块：sys 模块提供了与 Python 解释器和系统相关的功能，例如解释器的版本和路径，以及与 stdin、stdout 和 stderr 相关的信息。\n",
    "- time 模块：time 模块提供了处理时间的函数，例如获取当前时间、格式化日期和时间、计时等。\n",
    "- datetime 模块：datetime 模块提供了更高级的日期和时间处理函数，例如处理时区、计算时间差、计算日期差等。\n",
    "- random 模块：random 模块提供了生成随机数的函数，例如生成随机整数、浮点数、序列等。\n",
    "- math 模块：math 模块提供了数学函数，例如三角函数、对数函数、指数函数、常数等。\n",
    "- re 模块：re 模块提供了正则表达式处理函数，可以用于文本搜索、替换、分割等。\n",
    "- json 模块：json 模块提供了 JSON 编码和解码函数，可以将 Python 对象转换为 JSON 格式，并从 JSON 格式中解析出 Python 对象。\n",
    "- urllib 模块：urllib 模块提供了访问网页和处理 URL 的功能，包括下载文件、发送 POST 请求、处理 cookies 等。\n",
    "\n",
    "## 操作系统接口——os\n",
    "\n",
    "在使用 os 这样的大型模块时内置的 dir() 和 help() 函数非常有用：\n",
    "\n",
    "```python\n",
    "import os\n",
    "\n",
    "dir(os)\n",
    "\n",
    "help(os)\n",
    "```\n",
    "\n",
    "建议使用 \"import os\" 风格而非 \"from os import *\"。这样可以保证随操作系统不同而有所变化的 os.open() 不会覆盖内置函数 open()。\n",
    "\n",
    "```python\n",
    "import os\n",
    "os.getcwd()      # 返回当前的工作目录\n",
    "# 'C:\\\\Python34'\n",
    "\n",
    "os.chdir('/server/accesslogs')   # 修改当前的工作目录\n",
    "os.system('mkdir today')   # 执行系统命令 mkdir \n",
    "# 0\n",
    "```\n",
    "\n",
    "## 文件处理包——shutil\n",
    "\n",
    "针对日常的文件和目录管理任务，:mod:shutil 模块提供了一个易于使用的高级接口:\n",
    "\n",
    "```python\n",
    "import shutil\n",
    "shutil.copyfile('data.db', 'archive.db')\n",
    "shutil.move('/build/executables', 'installdir')\n",
    "```\n",
    "\n",
    "## 文件通配符——glob\n",
    "\n",
    "glob模块提供了一个函数用于从目录通配符搜索中生成文件列表:\n",
    "\n",
    "```python\n",
    "import glob\n",
    "glob.glob('*.py')\n",
    "# ['primes.py', 'random.py', 'quote.py']\n",
    "```\n",
    "\n",
    "### 命令行参数——sys\n",
    "\n",
    "获得命令行参数：\n",
    "    通用工具脚本经常调用命令行参数。这些命令行参数以链表形式存储于 sys 模块的 argv 变量。例如在命令行中执行 \"python demo.py one two three\" 后可以得到以下输出结果:\n",
    "```python\n",
    "import sys\n",
    "print(sys.argv)\n",
    "# ['demo.py', 'one', 'two', 'three']\n",
    "```\n",
    "\n",
    "错误输出重定向和程序终止:\n",
    "    sys 还有 stdin，stdout 和 stderr 属性，即使在 stdout 被重定向时，后者也可以用于显示警告和错误信息。\n",
    "\n",
    "```python\n",
    "sys.stderr.write('Warning, log file not found starting a new one\\n')\n",
    "# Warning, log file not found starting a new one\n",
    "```\n",
    "\n",
    "大多脚本的定向终止都使用 \"sys.exit()\"。\n",
    "\n",
    "### 字符串正则匹配\n",
    "\n",
    "re模块为高级字符串处理提供了正则表达式工具。对于复杂的匹配和处理，正则表达式提供了简洁、优化的解决方案:\n",
    "\n",
    "```python\n",
    "import re\n",
    "re.findall(r'\\bf[a-z]*', 'which foot or hand fell fastest')\n",
    "# ['foot', 'fell', 'fastest']\n",
    "\n",
    "re.sub(r'(\\b[a-z]+) \\1', r'\\1', 'cat in the the hat')\n",
    "# 'cat in the hat'\n",
    "```\n",
    "\n",
    "如果只需要简单的功能，应该首先考虑字符串方法，因为它们非常简单，易于阅读和调试:\n",
    "\n",
    "```python\n",
    "'tea for too'.replace('too', 'two')\n",
    "# 'tea for two'\n",
    "```\n",
    "\n",
    "### 数学——math\n",
    "\n",
    "math模块为浮点运算提供了对底层C函数库的访问:\n",
    "\n",
    "```python\n",
    "import math\n",
    "math.cos(math.pi / 4)\n",
    "# 0.70710678118654757\n",
    "math.log(1024, 2)\n",
    "# 10.0\n",
    "```\n",
    "\n",
    "### 随机数——random\n",
    "\n",
    "random提供了生成随机数的工具。\n",
    "\n",
    "```python\n",
    "import random\n",
    "random.choice(['apple', 'pear', 'banana'])\n",
    "# 'apple'\n",
    "random.sample(range(100), 10)   # sampling without replacement\n",
    "# [30, 83, 16, 4, 8, 81, 41, 50, 18, 33]\n",
    "random.random()    # random float\n",
    "# 0.17970987693706186\n",
    "random.randrange(6)    # random integer chosen from range(6)\n",
    "# 4\n",
    "```\n",
    "\n",
    "### 访问互联网——urllib, smtplib\n",
    "\n",
    "有几个模块用于访问互联网以及处理网络通信协议。其中最简单的两个是用于处理从 urls 接收的数据的 urllib.request 以及用于发送电子邮件的 smtplib:\n",
    "\n",
    "```python\n",
    "from urllib.request import urlopen\n",
    "for line in urlopen('http://tycho.usno.navy.mil/cgi-bin/timer.pl'):\n",
    "    line = line.decode('utf-8')  # Decoding the binary data to text.\n",
    "    if 'EST' in line or 'EDT' in line:  # look for Eastern Time\n",
    "        print(line)\n",
    "\n",
    "# <BR>Nov. 25, 09:43:32 PM EST\n",
    "```\n",
    "\n",
    "注意：以下例子需要本地有一个在运行的邮件服务器。\n",
    "```python\n",
    "import smtplib\n",
    "server = smtplib.SMTP('localhost')\n",
    "server.sendmail('soothsayer@example.org', 'jcaesar@example.org',\n",
    "\"\"\"To: jcaesar@example.org\n",
    "From: soothsayer@example.org\n",
    "\n",
    "Beware the Ides of March.\n",
    "\"\"\")\n",
    "server.quit()\n",
    "```\n",
    "\n",
    "### 日期和时间\n",
    "\n",
    "datetime 模块为日期和时间处理同时提供了简单和复杂的方法。\n",
    "\n",
    "支持日期和时间算法的同时，实现的重点放在更有效的处理和格式化输出。\n",
    "\n",
    "```python\n",
    "import datetime\n",
    "\n",
    "#获取当前日期和时间\n",
    "current_datetime = datetime.datetime.now()\n",
    "print(current_datetime)\n",
    "\n",
    "# 获取当前日期\n",
    "current_date = datetime.date.today()\n",
    "print(current_date)\n",
    "\n",
    "# 格式化日期\n",
    "formatted_datetime = current_datetime.strftime(\"%Y-%m-%d %H:%M:%S\")\n",
    "print(formatted_datetime) \n",
    "# 输出：2023-07-17 15:30:45\n",
    "```\n",
    "\n",
    "输出结果为：\n",
    "\n",
    "```text\n",
    "2023-07-17 18:37:56.036914\n",
    "2023-07-17\n",
    "2023-07-17 18:37:56\n",
    "```\n",
    "\n",
    "该模块还支持时区处理:\n",
    "\n",
    "```python\n",
    "# 导入了 datetime 模块中的 date 类\n",
    "from datetime import date\n",
    "now = date.today()    # 当前日期\n",
    "now\n",
    "# datetime.date(2023, 7, 17)\n",
    "\n",
    "now.strftime(\"%m-%d-%y. %d %b %Y is a %A on the %d day of %B.\")\n",
    "# '07-17-23. 17 Jul 2023 is a Monday on the 17 day of July.'\n",
    "\n",
    "# 创建了一个表示生日的日期对象\n",
    "birthday = date(1964, 7, 31)\n",
    "age = now - birthday   # 计算两个日期之间的时间差\n",
    "age.days             # 变量age的days属性，表示时间差的天数\n",
    "# 21535\n",
    "```\n",
    "\n",
    "### 数据压缩——zlib, gzip, bz2, zipfile, tarfile。\n",
    "\n",
    "以下模块直接支持通用的数据打包和压缩格式：zlib，gzip，bz2，zipfile，以及 tarfile。\n",
    "\n",
    "```python\n",
    "import zlib\n",
    "s = b'witch which has which witches wrist watch'\n",
    "len(s)\n",
    "# 41\n",
    "\n",
    "t = zlib.compress(s)\n",
    "len(t)\n",
    "# 37\n",
    "\n",
    "zlib.decompress(t)\n",
    "# b'witch which has which witches wrist watch'\n",
    "\n",
    "zlib.crc32(s)\n",
    "# 226805979\n",
    "```\n",
    "\n",
    "### 性能度量——timeit,pstats\n",
    "\n",
    "有些用户对了解解决同一问题的不同方法之间的性能差异很感兴趣。Python 提供了一个度量工具，为这些问题提供了直接答案。\n",
    "\n",
    "例如，使用元组封装和拆封来交换元素看起来要比使用传统的方法要诱人的多,timeit 证明了现代的方法更快一些。\n",
    "\n",
    "```python\n",
    "from timeit import Timer\n",
    "Timer('t=a; a=b; b=t', 'a=1; b=2').timeit()\n",
    "# 0.57535828626024577\n",
    "\n",
    "Timer('a,b = b,a', 'a=1; b=2').timeit()\n",
    "# 0.54962537085770791\n",
    "```\n",
    "\n",
    "相对于 timeit 的细粒度，profile 和 pstats 模块提供了针对更大代码块的时间度量工具。\n",
    "\n",
    "### 测试模块——doctest, unittest\n",
    "\n",
    "开发高质量软件的方法之一是为每一个函数开发测试代码，并且在开发过程中经常进行测试\n",
    "\n",
    "doctest模块提供了一个工具，扫描模块并根据程序中内嵌的文档字符串执行测试。\n",
    "\n",
    "测试构造如同简单的将它的输出结果剪切并粘贴到文档字符串中。\n",
    "\n",
    "通过用户提供的例子，它强化了文档，允许 doctest 模块确认代码的结果是否与文档一致:\n",
    "\n",
    "```python\n",
    "def average(values):\n",
    "    \"\"\"Computes the arithmetic mean of a list of numbers.\n",
    "\n",
    "    >>> print(average([20, 30, 70]))\n",
    "    40.0\n",
    "    \"\"\"\n",
    "    return sum(values) / len(values)\n",
    "\n",
    "import doctest\n",
    "doctest.testmod()   # 自动验证嵌入测试\n",
    "```\n",
    "\n",
    "unittest模块不像 doctest模块那么容易使用，不过它可以在一个独立的文件里提供一个更全面的测试集:\n",
    "\n",
    "```python\n",
    "import unittest\n",
    "\n",
    "class TestStatisticalFunctions(unittest.TestCase):\n",
    "\n",
    "    def test_average(self):\n",
    "        self.assertEqual(average([20, 30, 70]), 40.0)\n",
    "        self.assertEqual(round(average([1, 5, 7]), 1), 4.3)\n",
    "        self.assertRaises(ZeroDivisionError, average, [])\n",
    "        self.assertRaises(TypeError, average, 20, 30, 70)\n",
    "\n",
    "unittest.main() # Calling from the command line invokes all tests\n",
    "```\n",
    "\n",
    "以上我们看到的只是 Python3 标准库中的一部分模块，还有很多其他模块可以在官方文档中查看完整的标准库文档：\n",
    "    https://docs.python.org/zh-cn/3/library/index.html"
   ]
  }
 ],
 "metadata": {
  "kernelspec": {
   "display_name": "Python 3 (ipykernel)",
   "language": "python",
   "name": "python3"
  },
  "language_info": {
   "codemirror_mode": {
    "name": "ipython",
    "version": 3
   },
   "file_extension": ".py",
   "mimetype": "text/x-python",
   "name": "python",
   "nbconvert_exporter": "python",
   "pygments_lexer": "ipython3",
   "version": "3.7.5"
  }
 },
 "nbformat": 4,
 "nbformat_minor": 5
}
