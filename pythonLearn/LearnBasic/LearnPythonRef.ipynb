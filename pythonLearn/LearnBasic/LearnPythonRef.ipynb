{
 "cells": [
  {
   "cell_type": "code",
   "execution_count": 4,
   "id": "070c9b9e",
   "metadata": {},
   "outputs": [
    {
     "name": "stdout",
     "output_type": "stream",
     "text": [
      "2171393572256 Node: [key=1, value=1, \n",
      "\tprev=None, \n",
      "\tnext=None]\n",
      "2171393570144 Node: [key=2, value=2, \n",
      "\tprev=None, \n",
      "\tnext=None]\n",
      "in function:  2171393572256\n",
      "2171393572256 Node: [key=3, value=3, \n",
      "\tprev=None, \n",
      "\tnext=None]\n",
      "2171393570144 Node: [key=2, value=2, \n",
      "\tprev=None, \n",
      "\tnext=None]\n"
     ]
    }
   ],
   "source": [
    "class Node:\n",
    "    def __init__(self, key, value):\n",
    "        self.key = key\n",
    "        self.value = value\n",
    "        self.next = None\n",
    "        self.prev = None\n",
    "\n",
    "    def __repr__(self):\n",
    "        return str(self)\n",
    "    \n",
    "    def __str__(self):\n",
    "        return f\"Node: [key={self.key}, value={self.value}, \\n\\tprev={self.prev}, \\n\\tnext={self.next}]\"\n",
    "\n",
    "n1 = Node(1, 1)\n",
    "n2 = Node(2, 2)\n",
    "\n",
    "print(id(n1), n1)\n",
    "print(id(n2), n2)\n",
    "\n",
    "def set_node(node, key, value=None):\n",
    "    print(\"in function: \", id(node))\n",
    "    node.key = key\n",
    "    if value is not None:\n",
    "        node.value = value\n",
    "        \n",
    "set_node(n1, 3, 3)\n",
    "\n",
    "print(id(n1), n1)\n",
    "print(id(n2), n2)"
   ]
  },
  {
   "cell_type": "code",
   "execution_count": null,
   "id": "ff60e8c6",
   "metadata": {},
   "outputs": [],
   "source": []
  }
 ],
 "metadata": {
  "kernelspec": {
   "display_name": ".venv",
   "language": "python",
   "name": "python3"
  },
  "language_info": {
   "codemirror_mode": {
    "name": "ipython",
    "version": 3
   },
   "file_extension": ".py",
   "mimetype": "text/x-python",
   "name": "python",
   "nbconvert_exporter": "python",
   "pygments_lexer": "ipython3",
   "version": "3.12.9"
  }
 },
 "nbformat": 4,
 "nbformat_minor": 5
}
