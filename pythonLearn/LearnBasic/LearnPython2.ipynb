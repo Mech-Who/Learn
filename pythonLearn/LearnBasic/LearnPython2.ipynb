{
 "cells": [
  {
   "cell_type": "code",
   "execution_count": 2,
   "metadata": {},
   "outputs": [],
   "source": [
    "def hello(name, greeting):\n",
    "    print(f'{name}, {greeting}!')"
   ]
  },
  {
   "cell_type": "code",
   "execution_count": 7,
   "metadata": {},
   "outputs": [
    {
     "name": "stdout",
     "output_type": "stream",
     "text": [
      "name greeting\n",
      "Mary, Hello!\n"
     ]
    }
   ],
   "source": [
    "params = {\n",
    "    'name': 'Mary',\n",
    "    'greeting': 'Hello'\n",
    "}\n",
    "print(*params)\n",
    "hello(**params)"
   ]
  },
  {
   "cell_type": "code",
   "execution_count": 9,
   "metadata": {},
   "outputs": [
    {
     "name": "stdout",
     "output_type": "stream",
     "text": [
      "(1, 2, 3)\n",
      "{'name': 'mike', 'age': 2, 'birthday': '2001-08-20'}\n"
     ]
    }
   ],
   "source": [
    "def greet(*params, **kwargs):\n",
    "    print(params)\n",
    "    print(kwargs)\n",
    "\n",
    "greet(1, 2, 3, name='mike', age=2, birthday='2001-08-20')"
   ]
  },
  {
   "cell_type": "code",
   "execution_count": 11,
   "metadata": {},
   "outputs": [
    {
     "name": "stdout",
     "output_type": "stream",
     "text": [
      "{'__name__': '__main__', '__doc__': 'Automatically created module for IPython interactive environment', '__package__': None, '__loader__': None, '__spec__': None, '__builtin__': <module 'builtins' (built-in)>, '__builtins__': <module 'builtins' (built-in)>, '_ih': ['', \"params = {\\n    'name': 'Mary',\\n    'greeting': 'Hello'\\n}\", \"def hello(name, greeting):\\n    print(f'{name}, {greeting}!')\", \"params = {\\n    'name': 'Mary',\\n    'greeting': 'Hello'\\n}\", \"params = {\\n    'name': 'Mary',\\n    'greeting': 'Hello'\\n}\\nhello(*params)\", \"params = {\\n    'name': 'Mary',\\n    'greeting': 'Hello'\\n}\\nhello(**params)\", \"params = {\\n    'name': 'Mary',\\n    'greeting': 'Hello'\\n}\\nprint(*params)\\nprint(**params)\\nhello(**params)\", \"params = {\\n    'name': 'Mary',\\n    'greeting': 'Hello'\\n}\\nprint(*params)\\nhello(**params)\", \"def greet(*params, **kwargs):\\n    print(kwargs)\\n\\ngreet(1, 2, 3, name='mike', age=2, birthday='2001-08-20')\", \"def greet(*params, **kwargs):\\n    print(params)\\n    print(kwargs)\\n\\ngreet(1, 2, 3, name='mike', age=2, birthday='2001-08-20')\", 'global_scope = vars()\\nprint(global_scope)', \"x=1\\n\\nglobal_scope = vars()\\nprint(global_scope)\\n\\nglobal_scope['x']\"], '_oh': {}, '_dh': ['/data2/hushuhan/code/jupyter'], 'In': ['', \"params = {\\n    'name': 'Mary',\\n    'greeting': 'Hello'\\n}\", \"def hello(name, greeting):\\n    print(f'{name}, {greeting}!')\", \"params = {\\n    'name': 'Mary',\\n    'greeting': 'Hello'\\n}\", \"params = {\\n    'name': 'Mary',\\n    'greeting': 'Hello'\\n}\\nhello(*params)\", \"params = {\\n    'name': 'Mary',\\n    'greeting': 'Hello'\\n}\\nhello(**params)\", \"params = {\\n    'name': 'Mary',\\n    'greeting': 'Hello'\\n}\\nprint(*params)\\nprint(**params)\\nhello(**params)\", \"params = {\\n    'name': 'Mary',\\n    'greeting': 'Hello'\\n}\\nprint(*params)\\nhello(**params)\", \"def greet(*params, **kwargs):\\n    print(kwargs)\\n\\ngreet(1, 2, 3, name='mike', age=2, birthday='2001-08-20')\", \"def greet(*params, **kwargs):\\n    print(params)\\n    print(kwargs)\\n\\ngreet(1, 2, 3, name='mike', age=2, birthday='2001-08-20')\", 'global_scope = vars()\\nprint(global_scope)', \"x=1\\n\\nglobal_scope = vars()\\nprint(global_scope)\\n\\nglobal_scope['x']\"], 'Out': {}, 'get_ipython': <bound method InteractiveShell.get_ipython of <ipykernel.zmqshell.ZMQInteractiveShell object at 0x7fe7b8d50350>>, 'exit': <IPython.core.autocall.ZMQExitAutocall object at 0x7fe7bad7d4d0>, 'quit': <IPython.core.autocall.ZMQExitAutocall object at 0x7fe7bad7d4d0>, '_': '', '__': '', '___': '', '__vsc_ipynb_file__': '/data2/hushuhan/code/jupyter/TestCode.ipynb', '_i': 'global_scope = vars()\\nprint(global_scope)', '_ii': \"def greet(*params, **kwargs):\\n    print(params)\\n    print(kwargs)\\n\\ngreet(1, 2, 3, name='mike', age=2, birthday='2001-08-20')\", '_iii': \"def greet(*params, **kwargs):\\n    print(kwargs)\\n\\ngreet(1, 2, 3, name='mike', age=2, birthday='2001-08-20')\", '_i1': \"params = {\\n    'name': 'Mary',\\n    'greeting': 'Hello'\\n}\", 'params': {'name': 'Mary', 'greeting': 'Hello'}, '_i2': \"def hello(name, greeting):\\n    print(f'{name}, {greeting}!')\", 'hello': <function hello at 0x7fe7b8528b00>, '_i3': \"params = {\\n    'name': 'Mary',\\n    'greeting': 'Hello'\\n}\", '_i4': \"params = {\\n    'name': 'Mary',\\n    'greeting': 'Hello'\\n}\\nhello(*params)\", '_i5': \"params = {\\n    'name': 'Mary',\\n    'greeting': 'Hello'\\n}\\nhello(**params)\", '_i6': \"params = {\\n    'name': 'Mary',\\n    'greeting': 'Hello'\\n}\\nprint(*params)\\nprint(**params)\\nhello(**params)\", '_i7': \"params = {\\n    'name': 'Mary',\\n    'greeting': 'Hello'\\n}\\nprint(*params)\\nhello(**params)\", '_i8': \"def greet(*params, **kwargs):\\n    print(kwargs)\\n\\ngreet(1, 2, 3, name='mike', age=2, birthday='2001-08-20')\", 'greet': <function greet at 0x7fe797faf320>, '_i9': \"def greet(*params, **kwargs):\\n    print(params)\\n    print(kwargs)\\n\\ngreet(1, 2, 3, name='mike', age=2, birthday='2001-08-20')\", '_i10': 'global_scope = vars()\\nprint(global_scope)', 'global_scope': {...}, '_i11': \"x=1\\n\\nglobal_scope = vars()\\nprint(global_scope)\\n\\nglobal_scope['x']\", 'x': 1}\n"
     ]
    },
    {
     "data": {
      "text/plain": [
       "1"
      ]
     },
     "execution_count": 11,
     "metadata": {},
     "output_type": "execute_result"
    }
   ],
   "source": [
    "x=1\n",
    "\n",
    "global_scope = vars()\n",
    "print(global_scope)\n",
    "\n",
    "global_scope['x']"
   ]
  },
  {
   "cell_type": "code",
   "execution_count": 15,
   "metadata": {},
   "outputs": [
    {
     "name": "stdout",
     "output_type": "stream",
     "text": [
      "local variable: {'a': 'apple', 'b': 'ball'}\n",
      "global variable: {'name': 'Mary', 'greeting': 'Hello'}\n",
      "x: 1\n"
     ]
    }
   ],
   "source": [
    "def accessGlobal(params):\n",
    "    print(f'local variable: {params}')\n",
    "    print(f\"global variable: {globals()['params']}\")\n",
    "\n",
    "accessGlobal({'a': 'apple', 'b': 'ball'})\n",
    "\n",
    "def getGlobalX():\n",
    "    global x\n",
    "    print(f'x: {x}')\n",
    "\n",
    "getGlobalX()"
   ]
  },
  {
   "cell_type": "code",
   "execution_count": 21,
   "metadata": {},
   "outputs": [
    {
     "name": "stdout",
     "output_type": "stream",
     "text": [
      "middle x: 10\n",
      "middle x: 10\n",
      "outer x: 1\n",
      "inner x: 100\n",
      "8\n",
      "inner x: 100\n",
      "12\n"
     ]
    }
   ],
   "source": [
    "x = 1\n",
    "def multiplier(factor): \n",
    "    \"\"\"\n",
    "        在这里，一个函数位于另一个函数中，且外面的函数返回里面的函数。也就是返回一个函数，\n",
    "    而不是调用它。重要的是，返回的函数能够访问其定义所在的作用域。换而言之，\n",
    "    它携带着自己所在的环境（和相关的局部变量）！\n",
    "        每当外部函数被调用时,都将重新定义内部的函数,而变量factor的值也可能不同。\n",
    "    由于Python的嵌套作用域,可在内部函数中访问这个来自外部局部作用域(multiplier)的变量\n",
    "        像multiplyByFactor这样存储其所在作用域的函数称为闭包。\n",
    "        通常，不能给外部作用域内的变量赋值,但如果一定要这样做,可使用关键字nonlocal。\n",
    "    这个关键字的用法与global很像,让你能够给外部作用域(非全局作用域)内的变量赋值。\n",
    "        nonlocal关键字定义的变量,不能提升到全局作用域,否则报错：\n",
    "    SyntaxError: no binding for nonlocal 'x' found\n",
    "    \"\"\"\n",
    "    x = 10\n",
    "    print(f'middle x: {x}')\n",
    "    def multiplyByFactor(number):\n",
    "        nonlocal x\n",
    "        x = 100\n",
    "        print(f'inner x: {x}')\n",
    "        return number * factor \n",
    "    return multiplyByFactor\n",
    "\n",
    "doubler = multiplier(2)\n",
    "tripler = multiplier(3)\n",
    "\n",
    "\n",
    "print(f'outer x: {x}')\n",
    "print(doubler(4))\n",
    "print(tripler(4))"
   ]
  },
  {
   "cell_type": "code",
   "execution_count": 1,
   "metadata": {},
   "outputs": [
    {
     "name": "stdout",
     "output_type": "stream",
     "text": [
      "I have a self!\n",
      "I don't ...\n",
      "I don't ...\n",
      "I have a self!\n"
     ]
    }
   ],
   "source": [
    "class CloseObject:\n",
    "    def introduce(self):\n",
    "        print(\"I have a self!\")\n",
    "\n",
    "def introduce():\n",
    "    print(\"I don't ...\")\n",
    "\n",
    "a = CloseObject()\n",
    "a.introduce()\n",
    "introduce()\n",
    "x = a.introduce\n",
    "a.introduce = introduce\n",
    "a.introduce()\n",
    "x()"
   ]
  },
  {
   "cell_type": "code",
   "execution_count": 5,
   "metadata": {},
   "outputs": [
    {
     "name": "stdout",
     "output_type": "stream",
     "text": [
      "1\n",
      "2\n"
     ]
    }
   ],
   "source": [
    "class MemberCounter:\n",
    "    members = 0\n",
    "    def __init__(self):\n",
    "        MemberCounter.members += 1\n",
    "    def printMember():\n",
    "        print(MemberCounter.members)\n",
    "\n",
    "a = MemberCounter()\n",
    "print(MemberCounter.members)\n",
    "b = MemberCounter()\n",
    "print(MemberCounter.members)"
   ]
  },
  {
   "cell_type": "code",
   "execution_count": 7,
   "metadata": {},
   "outputs": [
    {
     "data": {
      "text/plain": [
       "(True, True)"
      ]
     },
     "execution_count": 7,
     "metadata": {},
     "output_type": "execute_result"
    }
   ],
   "source": [
    "hasattr(a, 'printMember'), callable(getattr(a, 'printMember'))"
   ]
  },
  {
   "cell_type": "code",
   "execution_count": 8,
   "metadata": {},
   "outputs": [
    {
     "name": "stdout",
     "output_type": "stream",
     "text": [
      "Mike\n"
     ]
    }
   ],
   "source": [
    "setattr(a, 'name', 'Mike')\n",
    "print(a.name)"
   ]
  },
  {
   "cell_type": "code",
   "execution_count": 9,
   "metadata": {},
   "outputs": [
    {
     "data": {
      "text/plain": [
       "['ArgInfo',\n",
       " 'ArgSpec',\n",
       " 'Arguments',\n",
       " 'Attribute',\n",
       " 'BlockFinder',\n",
       " 'BoundArguments',\n",
       " 'CORO_CLOSED',\n",
       " 'CORO_CREATED',\n",
       " 'CORO_RUNNING',\n",
       " 'CORO_SUSPENDED',\n",
       " 'CO_ASYNC_GENERATOR',\n",
       " 'CO_COROUTINE',\n",
       " 'CO_GENERATOR',\n",
       " 'CO_ITERABLE_COROUTINE',\n",
       " 'CO_NESTED',\n",
       " 'CO_NEWLOCALS',\n",
       " 'CO_NOFREE',\n",
       " 'CO_OPTIMIZED',\n",
       " 'CO_VARARGS',\n",
       " 'CO_VARKEYWORDS',\n",
       " 'ClosureVars',\n",
       " 'EndOfBlock',\n",
       " 'FrameInfo',\n",
       " 'FullArgSpec',\n",
       " 'GEN_CLOSED',\n",
       " 'GEN_CREATED',\n",
       " 'GEN_RUNNING',\n",
       " 'GEN_SUSPENDED',\n",
       " 'OrderedDict',\n",
       " 'Parameter',\n",
       " 'Signature',\n",
       " 'TPFLAGS_IS_ABSTRACT',\n",
       " 'Traceback',\n",
       " '_ClassMethodWrapper',\n",
       " '_KEYWORD_ONLY',\n",
       " '_MethodWrapper',\n",
       " '_NonUserDefinedCallables',\n",
       " '_PARAM_NAME_MAPPING',\n",
       " '_POSITIONAL_ONLY',\n",
       " '_POSITIONAL_OR_KEYWORD',\n",
       " '_ParameterKind',\n",
       " '_VAR_KEYWORD',\n",
       " '_VAR_POSITIONAL',\n",
       " '_WrapperDescriptor',\n",
       " '__author__',\n",
       " '__builtins__',\n",
       " '__cached__',\n",
       " '__doc__',\n",
       " '__file__',\n",
       " '__loader__',\n",
       " '__name__',\n",
       " '__package__',\n",
       " '__spec__',\n",
       " '_check_class',\n",
       " '_check_instance',\n",
       " '_empty',\n",
       " '_filesbymodname',\n",
       " '_findclass',\n",
       " '_finddoc',\n",
       " '_get_paramkind_descr',\n",
       " '_getfullargs',\n",
       " '_is_type',\n",
       " '_main',\n",
       " '_missing_arguments',\n",
       " '_sentinel',\n",
       " '_shadowed_dict',\n",
       " '_signature_bound_method',\n",
       " '_signature_from_builtin',\n",
       " '_signature_from_callable',\n",
       " '_signature_from_function',\n",
       " '_signature_fromstr',\n",
       " '_signature_get_bound_param',\n",
       " '_signature_get_partial',\n",
       " '_signature_get_user_defined_method',\n",
       " '_signature_is_builtin',\n",
       " '_signature_is_functionlike',\n",
       " '_signature_strip_non_python_syntax',\n",
       " '_static_getmro',\n",
       " '_too_many',\n",
       " '_void',\n",
       " 'abc',\n",
       " 'attrgetter',\n",
       " 'builtins',\n",
       " 'classify_class_attrs',\n",
       " 'cleandoc',\n",
       " 'collections',\n",
       " 'currentframe',\n",
       " 'dis',\n",
       " 'enum',\n",
       " 'findsource',\n",
       " 'formatannotation',\n",
       " 'formatannotationrelativeto',\n",
       " 'formatargspec',\n",
       " 'formatargvalues',\n",
       " 'functools',\n",
       " 'getabsfile',\n",
       " 'getargs',\n",
       " 'getargspec',\n",
       " 'getargvalues',\n",
       " 'getattr_static',\n",
       " 'getblock',\n",
       " 'getcallargs',\n",
       " 'getclasstree',\n",
       " 'getclosurevars',\n",
       " 'getcomments',\n",
       " 'getcoroutinelocals',\n",
       " 'getcoroutinestate',\n",
       " 'getdoc',\n",
       " 'getfile',\n",
       " 'getframeinfo',\n",
       " 'getfullargspec',\n",
       " 'getgeneratorlocals',\n",
       " 'getgeneratorstate',\n",
       " 'getinnerframes',\n",
       " 'getlineno',\n",
       " 'getmembers',\n",
       " 'getmodule',\n",
       " 'getmodulename',\n",
       " 'getmro',\n",
       " 'getouterframes',\n",
       " 'getsource',\n",
       " 'getsourcefile',\n",
       " 'getsourcelines',\n",
       " 'importlib',\n",
       " 'indentsize',\n",
       " 'isabstract',\n",
       " 'isasyncgen',\n",
       " 'isasyncgenfunction',\n",
       " 'isawaitable',\n",
       " 'isbuiltin',\n",
       " 'isclass',\n",
       " 'iscode',\n",
       " 'iscoroutine',\n",
       " 'iscoroutinefunction',\n",
       " 'isdatadescriptor',\n",
       " 'isframe',\n",
       " 'isfunction',\n",
       " 'isgenerator',\n",
       " 'isgeneratorfunction',\n",
       " 'isgetsetdescriptor',\n",
       " 'ismemberdescriptor',\n",
       " 'ismethod',\n",
       " 'ismethoddescriptor',\n",
       " 'ismodule',\n",
       " 'isroutine',\n",
       " 'istraceback',\n",
       " 'itertools',\n",
       " 'k',\n",
       " 'linecache',\n",
       " 'mod_dict',\n",
       " 'modulesbyfile',\n",
       " 'namedtuple',\n",
       " 'os',\n",
       " 're',\n",
       " 'signature',\n",
       " 'stack',\n",
       " 'sys',\n",
       " 'token',\n",
       " 'tokenize',\n",
       " 'trace',\n",
       " 'types',\n",
       " 'unwrap',\n",
       " 'v',\n",
       " 'walktree',\n",
       " 'warnings']"
      ]
     },
     "execution_count": 9,
     "metadata": {},
     "output_type": "execute_result"
    }
   ],
   "source": [
    "import inspect\n",
    "dir(inspect)"
   ]
  },
  {
   "cell_type": "code",
   "execution_count": 10,
   "metadata": {},
   "outputs": [
    {
     "data": {
      "text/plain": [
       "{'name': 'Mike'}"
      ]
     },
     "execution_count": 10,
     "metadata": {},
     "output_type": "execute_result"
    }
   ],
   "source": [
    "a.__dict__"
   ]
  },
  {
   "cell_type": "code",
   "execution_count": 18,
   "metadata": {},
   "outputs": [
    {
     "data": {
      "text/plain": [
       "(__main__.MemberCounter,\n",
       " <function MemberCounter.__dir__()>,\n",
       " '__main__',\n",
       " <function MemberCounter.__subclasshook__>)"
      ]
     },
     "execution_count": 18,
     "metadata": {},
     "output_type": "execute_result"
    }
   ],
   "source": [
    "a.__class__, a.__dir__, a.__module__, a.__subclasshook__"
   ]
  },
  {
   "cell_type": "code",
   "execution_count": 13,
   "metadata": {},
   "outputs": [
    {
     "data": {
      "text/plain": [
       "(object,)"
      ]
     },
     "execution_count": 13,
     "metadata": {},
     "output_type": "execute_result"
    }
   ],
   "source": [
    "MemberCounter.__bases__"
   ]
  },
  {
   "cell_type": "code",
   "execution_count": 20,
   "metadata": {},
   "outputs": [
    {
     "name": "stdout",
     "output_type": "stream",
     "text": [
      "Hi!\n"
     ]
    }
   ],
   "source": [
    "# 标准库（如模块collections.abc）提供了多个很有用的抽象类，有关模块abc的详细信息，请参阅标准库参考手册\n",
    "from abc import ABC, abstractmethod\n",
    "\n",
    "class Talker(ABC):\n",
    "    @abstractmethod\n",
    "    def talk(self):\n",
    "        pass\n",
    "\n",
    "class Knigget(Talker):\n",
    "    def talk(self):\n",
    "        print(\"Hi!\")\n",
    "\n",
    "a = Knigget()\n",
    "a.talk()"
   ]
  },
  {
   "cell_type": "code",
   "execution_count": 21,
   "metadata": {},
   "outputs": [
    {
     "data": {
      "text/plain": [
       "(True, False)"
      ]
     },
     "execution_count": 21,
     "metadata": {},
     "output_type": "execute_result"
    }
   ],
   "source": [
    "class Herring:\n",
    "    def talk(self):\n",
    "        print(\"Blub.\")\n",
    "\n",
    "h = Herring()\n",
    "isinstance(a, Talker), isinstance(h, Talker)"
   ]
  },
  {
   "cell_type": "code",
   "execution_count": 22,
   "metadata": {},
   "outputs": [
    {
     "data": {
      "text/plain": [
       "(True, True)"
      ]
     },
     "execution_count": 22,
     "metadata": {},
     "output_type": "execute_result"
    }
   ],
   "source": [
    "# 当Herring是其他模块中的类时，你又想让他可以被识别为Talker的子类，就可以进行注册\n",
    "# 将Herring类注册为Talker的子类\n",
    "Talker.register(Herring)\n",
    "isinstance(h, Talker), issubclass(Herring, Talker)"
   ]
  },
  {
   "cell_type": "code",
   "execution_count": 23,
   "metadata": {},
   "outputs": [
    {
     "data": {
      "text/plain": [
       "(True, True)"
      ]
     },
     "execution_count": 23,
     "metadata": {},
     "output_type": "execute_result"
    }
   ],
   "source": [
    "# 注意，这种方式注册的类，将不会受到abstractmethod检验的保护\n",
    "class Clam:\n",
    "    pass\n",
    "\n",
    "Talker.register(Clam)\n",
    "c = Clam()\n",
    "issubclass(Clam, Talker), isinstance(c, Talker)"
   ]
  },
  {
   "cell_type": "code",
   "execution_count": 24,
   "metadata": {},
   "outputs": [
    {
     "ename": "AttributeError",
     "evalue": "'Clam' object has no attribute 'talk'",
     "output_type": "error",
     "traceback": [
      "\u001b[0;31m---------------------------------------------------------------------------\u001b[0m",
      "\u001b[0;31mAttributeError\u001b[0m                            Traceback (most recent call last)",
      "\u001b[0;32m/tmp/ipykernel_8965/1849105856.py\u001b[0m in \u001b[0;36m<module>\u001b[0;34m\u001b[0m\n\u001b[0;32m----> 1\u001b[0;31m \u001b[0mc\u001b[0m\u001b[0;34m.\u001b[0m\u001b[0mtalk\u001b[0m\u001b[0;34m(\u001b[0m\u001b[0;34m)\u001b[0m\u001b[0;34m\u001b[0m\u001b[0;34m\u001b[0m\u001b[0m\n\u001b[0m",
      "\u001b[0;31mAttributeError\u001b[0m: 'Clam' object has no attribute 'talk'"
     ]
    }
   ],
   "source": [
    "c.talk()"
   ]
  },
  {
   "cell_type": "code",
   "execution_count": 25,
   "metadata": {},
   "outputs": [],
   "source": [
    "# 自定义异常类\n",
    "class SomeCustomException(Exception):\n",
    "    pass"
   ]
  },
  {
   "cell_type": "code",
   "execution_count": 28,
   "metadata": {},
   "outputs": [
    {
     "ename": "ValueError",
     "evalue": "",
     "output_type": "error",
     "traceback": [
      "\u001b[0;31m---------------------------------------------------------------------------\u001b[0m",
      "\u001b[0;31mKeyError\u001b[0m                                  Traceback (most recent call last)",
      "\u001b[0;31mKeyError\u001b[0m: ",
      "\nThe above exception was the direct cause of the following exception:\n",
      "\u001b[0;31mValueError\u001b[0m                                Traceback (most recent call last)",
      "\u001b[0;32m/tmp/ipykernel_8965/86153137.py\u001b[0m in \u001b[0;36m<module>\u001b[0;34m\u001b[0m\n\u001b[1;32m      2\u001b[0m     \u001b[0;36m1\u001b[0m\u001b[0;34m/\u001b[0m\u001b[0;36m0\u001b[0m\u001b[0;34m\u001b[0m\u001b[0;34m\u001b[0m\u001b[0m\n\u001b[1;32m      3\u001b[0m \u001b[0;32mexcept\u001b[0m \u001b[0mZeroDivisionError\u001b[0m\u001b[0;34m:\u001b[0m\u001b[0;34m\u001b[0m\u001b[0;34m\u001b[0m\u001b[0m\n\u001b[0;32m----> 4\u001b[0;31m     \u001b[0;32mraise\u001b[0m \u001b[0mValueError\u001b[0m \u001b[0;32mfrom\u001b[0m \u001b[0mKeyError\u001b[0m\u001b[0;34m\u001b[0m\u001b[0;34m\u001b[0m\u001b[0m\n\u001b[0m",
      "\u001b[0;31mValueError\u001b[0m: "
     ]
    }
   ],
   "source": [
    "try:\n",
    "    1/0\n",
    "except ZeroDivisionError:\n",
    "    raise ValueError from KeyError"
   ]
  },
  {
   "cell_type": "code",
   "execution_count": 29,
   "metadata": {},
   "outputs": [
    {
     "ename": "ValueError",
     "evalue": "",
     "output_type": "error",
     "traceback": [
      "\u001b[0;31m---------------------------------------------------------------------------\u001b[0m",
      "\u001b[0;31mValueError\u001b[0m                                Traceback (most recent call last)",
      "\u001b[0;32m/tmp/ipykernel_8965/705670516.py\u001b[0m in \u001b[0;36m<module>\u001b[0;34m\u001b[0m\n\u001b[1;32m      2\u001b[0m     \u001b[0;36m1\u001b[0m\u001b[0;34m/\u001b[0m\u001b[0;36m0\u001b[0m\u001b[0;34m\u001b[0m\u001b[0;34m\u001b[0m\u001b[0m\n\u001b[1;32m      3\u001b[0m \u001b[0;32mexcept\u001b[0m \u001b[0mZeroDivisionError\u001b[0m\u001b[0;34m:\u001b[0m\u001b[0;34m\u001b[0m\u001b[0;34m\u001b[0m\u001b[0m\n\u001b[0;32m----> 4\u001b[0;31m     \u001b[0;32mraise\u001b[0m \u001b[0mValueError\u001b[0m \u001b[0;32mfrom\u001b[0m \u001b[0;32mNone\u001b[0m\u001b[0;34m\u001b[0m\u001b[0;34m\u001b[0m\u001b[0m\n\u001b[0m",
      "\u001b[0;31mValueError\u001b[0m: "
     ]
    }
   ],
   "source": [
    "try:\n",
    "    1/0\n",
    "except ZeroDivisionError:\n",
    "    raise ValueError from None"
   ]
  },
  {
   "cell_type": "code",
   "execution_count": 2,
   "metadata": {},
   "outputs": [
    {
     "name": "stdout",
     "output_type": "stream",
     "text": [
      "That wasn't a number, was it?\n"
     ]
    }
   ],
   "source": [
    "# 多except语句单独捕获多个异常\n",
    "try:\n",
    "    x = 1\n",
    "    y = 'a'\n",
    "    print(x / y)\n",
    "except ZeroDivisionError:\n",
    "    print(\"The second number can't be zero!\")\n",
    "except TypeError:\n",
    "    print(\"That wasn't a number, was it?\")\n"
   ]
  },
  {
   "cell_type": "code",
   "execution_count": 3,
   "metadata": {},
   "outputs": [
    {
     "name": "stdout",
     "output_type": "stream",
     "text": [
      "Your numbers were bogus ...\n"
     ]
    }
   ],
   "source": [
    "# 单except语句同时捕获多个异常\n",
    "try:\n",
    "    x = 1\n",
    "    y = 'a'\n",
    "    print(x / y)\n",
    "except (ZeroDivisionError, TypeError, NameError):\n",
    "    print(\"Your numbers were bogus ...\")"
   ]
  },
  {
   "cell_type": "code",
   "execution_count": 4,
   "metadata": {},
   "outputs": [
    {
     "name": "stdout",
     "output_type": "stream",
     "text": [
      "unsupported operand type(s) for /: 'int' and 'str'\n"
     ]
    }
   ],
   "source": [
    "# 获得异常对象\n",
    "try:\n",
    "    x = 1\n",
    "    y = 'a'\n",
    "    print(x / y)\n",
    "except (ZeroDivisionError, TypeError, NameError) as e:\n",
    "    print(e)"
   ]
  },
  {
   "cell_type": "code",
   "execution_count": 7,
   "metadata": {},
   "outputs": [
    {
     "name": "stdout",
     "output_type": "stream",
     "text": [
      "Something wrong happend\n"
     ]
    }
   ],
   "source": [
    "# 捕获所有异常\n",
    "try:\n",
    "    x = 1\n",
    "    y = 'a'\n",
    "    print(x / y)\n",
    "except:\n",
    "    print(\"Something wrong happend\")"
   ]
  },
  {
   "cell_type": "code",
   "execution_count": 8,
   "metadata": {},
   "outputs": [
    {
     "name": "stdout",
     "output_type": "stream",
     "text": [
      "Something wrong happend\n"
     ]
    }
   ],
   "source": [
    "# 捕获异常最好的选择\n",
    "try:\n",
    "    x = 1\n",
    "    y = 'a'\n",
    "    print(x / y)\n",
    "except Exception as e:\n",
    "    print(\"Something wrong happend\")"
   ]
  },
  {
   "cell_type": "code",
   "execution_count": 9,
   "metadata": {},
   "outputs": [
    {
     "name": "stdout",
     "output_type": "stream",
     "text": [
      "0.5\n",
      "Everything are ok.\n",
      "Let's get out!\n"
     ]
    }
   ],
   "source": [
    "# 关键是在很多情况下，相比于使用if/else，使用\n",
    "# try/except语句更自然，也更符合Python的风格。\n",
    "# 因此你应养成尽可能使用try/except语句的习惯①\n",
    "try:\n",
    "    x = 1\n",
    "    y = 2\n",
    "    print(x / y)\n",
    "except Exception as e:\n",
    "    print(\"Something wrong happend\")\n",
    "else:\n",
    "    print(\"Everything are ok.\")\n",
    "finally:\n",
    "    print(\"Let's get out!\")"
   ]
  },
  {
   "cell_type": "code",
   "execution_count": 10,
   "metadata": {},
   "outputs": [
    {
     "name": "stderr",
     "output_type": "stream",
     "text": [
      "/data2/hushuhan/tools/anaconda3/envs/d2l/lib/python3.7/site-packages/ipykernel_launcher.py:4: UserWarning: I've got a bad feeling about this.\n",
      "  after removing the cwd from sys.path.\n"
     ]
    }
   ],
   "source": [
    "# 如果你只想发出警告，指出情况偏离了正轨，可使用模块warnings中的函数warn\n",
    "from warnings import warn\n",
    "\n",
    "warn(\"I've got a bad feeling about this.\")"
   ]
  },
  {
   "cell_type": "code",
   "execution_count": 11,
   "metadata": {},
   "outputs": [],
   "source": [
    "from warnings import filterwarnings\n",
    "\n",
    "filterwarnings(\"ignore\")\n",
    "warn(\"Anyone out there?\")"
   ]
  },
  {
   "cell_type": "code",
   "execution_count": 13,
   "metadata": {},
   "outputs": [
    {
     "ename": "DeprecationWarning",
     "evalue": "This function is really old...",
     "output_type": "error",
     "traceback": [
      "\u001b[0;31m---------------------------------------------------------------------------\u001b[0m",
      "\u001b[0;31mDeprecationWarning\u001b[0m                        Traceback (most recent call last)",
      "\u001b[0;32m/tmp/ipykernel_9923/3149199314.py\u001b[0m in \u001b[0;36m<module>\u001b[0;34m\u001b[0m\n\u001b[1;32m      1\u001b[0m \u001b[0;31m# 将警告转换为错误\u001b[0m\u001b[0;34m\u001b[0m\u001b[0;34m\u001b[0m\u001b[0;34m\u001b[0m\u001b[0m\n\u001b[1;32m      2\u001b[0m \u001b[0mfilterwarnings\u001b[0m\u001b[0;34m(\u001b[0m\u001b[0;34m\"error\"\u001b[0m\u001b[0;34m)\u001b[0m\u001b[0;34m\u001b[0m\u001b[0;34m\u001b[0m\u001b[0m\n\u001b[0;32m----> 3\u001b[0;31m \u001b[0mwarn\u001b[0m\u001b[0;34m(\u001b[0m\u001b[0;34m\"This function is really old...\"\u001b[0m\u001b[0;34m,\u001b[0m \u001b[0mDeprecationWarning\u001b[0m\u001b[0;34m)\u001b[0m\u001b[0;34m\u001b[0m\u001b[0;34m\u001b[0m\u001b[0m\n\u001b[0m",
      "\u001b[0;31mDeprecationWarning\u001b[0m: This function is really old..."
     ]
    }
   ],
   "source": [
    "# 将警告转换为错误\n",
    "filterwarnings(\"error\")\n",
    "warn(\"This function is really old...\", DeprecationWarning)"
   ]
  },
  {
   "cell_type": "code",
   "execution_count": 1,
   "metadata": {},
   "outputs": [],
   "source": [
    "def check_index(key): \n",
    " \"\"\" \n",
    " 指定的键是否是可接受的索引？\n",
    " 键必须是非负整数，才是可接受的。如果不是整数，\n",
    " 将引发TypeError异常；如果是负数，将引发Index \n",
    " Error异常（因为这个序列的长度是无穷的）\n",
    " \"\"\" \n",
    " if not isinstance(key, int): \n",
    "     raise TypeError \n",
    " if key < 0: \n",
    "     raise IndexError \n",
    "\n",
    "class ArithmeticSequence:\n",
    "    def __init__(self, start=0, step=1):\n",
    "        \"\"\" \n",
    "        初始化这个算术序列\n",
    "        start -序列中的第一个值\n",
    "        step -两个相邻值的差\n",
    "        changed -一个字典，包含用户修改后的值\n",
    "        \"\"\" \n",
    "        self.start = start # 存储起始值\n",
    "        self.step = step # 存储步长值\n",
    "        self.changed = {} # 没有任何元素被修改\n",
    "\n",
    "    def __getitem__(self, key): \n",
    "        \"\"\" \n",
    "        从算术序列中获取一个元素\n",
    "        \"\"\" \n",
    "        check_index(key) \n",
    "        try: \n",
    "            return self.changed[key] # 修改过？\n",
    "        except KeyError: # 如果没有修改过，\n",
    "            return self.start + key * self.step # 就计算元素的值\n",
    "    \n",
    "    def __setitem__(self, key, value): \n",
    "        \"\"\" \n",
    "        修改算术序列中的元素\n",
    "        \"\"\" \n",
    "        check_index(key) \n",
    "        self.changed[key] = value # 存储修改后的值\n"
   ]
  },
  {
   "cell_type": "code",
   "execution_count": 2,
   "metadata": {},
   "outputs": [
    {
     "data": {
      "text/plain": [
       "9"
      ]
     },
     "execution_count": 2,
     "metadata": {},
     "output_type": "execute_result"
    }
   ],
   "source": [
    "s = ArithmeticSequence(1, 2)\n",
    "s[4]"
   ]
  },
  {
   "cell_type": "code",
   "execution_count": 4,
   "metadata": {},
   "outputs": [
    {
     "name": "stdout",
     "output_type": "stream",
     "text": [
      "(10, 5)\n"
     ]
    },
    {
     "data": {
      "text/plain": [
       "150"
      ]
     },
     "execution_count": 4,
     "metadata": {},
     "output_type": "execute_result"
    }
   ],
   "source": [
    "class Rectangle: \n",
    "    def __init__ (self): \n",
    "        self.width = 0 \n",
    "        self.height = 0 \n",
    "    def set_size(self, size): \n",
    "        self.width, self.height = size \n",
    "    def get_size(self): \n",
    "        return self.width, self.height \n",
    "    size = property(get_size, set_size)\n",
    "\n",
    "r = Rectangle()\n",
    "r.width = 10\n",
    "r.height = 5\n",
    "print(r.size)\n",
    "r.size = 150, 100\n",
    "r.width"
   ]
  },
  {
   "cell_type": "code",
   "execution_count": 3,
   "metadata": {},
   "outputs": [],
   "source": [
    "def conflict(state, nextX):\n",
    "\tnextY = len(state)\n",
    "\tfor i in range(nextY):\n",
    "\t\tif abs(state[i] - nextX) in (0, nextY - i):\n",
    "\t\t\treturn True\n",
    "\treturn False\n",
    "\n",
    "def queens(num=8, state=()):\n",
    "\tfor pos in range(num):\n",
    "\t\tif not conflict(state, pos):\n",
    "\t\t\tif len(state) == num - 1:\n",
    "\t\t\t\tyield (pos, )\n",
    "\t\t\telse:\n",
    "\t\t\t\tfor result in queens(num, state + (pos,)):\n",
    "\t\t\t\t\tyield (pos,) + result\n"
   ]
  },
  {
   "cell_type": "code",
   "execution_count": 4,
   "metadata": {},
   "outputs": [
    {
     "data": {
      "text/plain": [
       "([], [(1, 3, 0, 2), (2, 0, 3, 1)])"
      ]
     },
     "execution_count": 4,
     "metadata": {},
     "output_type": "execute_result"
    }
   ],
   "source": [
    "list(queens(3)), list(queens(4))"
   ]
  },
  {
   "cell_type": "code",
   "execution_count": 6,
   "metadata": {},
   "outputs": [
    {
     "name": "stdout",
     "output_type": "stream",
     "text": [
      "(0, 4, 7, 5, 2, 6, 1, 3)\n",
      "(0, 5, 7, 2, 6, 3, 1, 4)\n",
      "(0, 6, 3, 5, 7, 1, 4, 2)\n",
      "(0, 6, 4, 7, 1, 3, 5, 2)\n",
      "(1, 3, 5, 7, 2, 0, 6, 4)\n",
      "(1, 4, 6, 0, 2, 7, 5, 3)\n",
      "(1, 4, 6, 3, 0, 7, 5, 2)\n",
      "(1, 5, 0, 6, 3, 7, 2, 4)\n",
      "(1, 5, 7, 2, 0, 3, 6, 4)\n",
      "(1, 6, 2, 5, 7, 4, 0, 3)\n",
      "(1, 6, 4, 7, 0, 3, 5, 2)\n",
      "(1, 7, 5, 0, 2, 4, 6, 3)\n",
      "(2, 0, 6, 4, 7, 1, 3, 5)\n",
      "(2, 4, 1, 7, 0, 6, 3, 5)\n",
      "(2, 4, 1, 7, 5, 3, 6, 0)\n",
      "(2, 4, 6, 0, 3, 1, 7, 5)\n",
      "(2, 4, 7, 3, 0, 6, 1, 5)\n",
      "(2, 5, 1, 4, 7, 0, 6, 3)\n",
      "(2, 5, 1, 6, 0, 3, 7, 4)\n",
      "(2, 5, 1, 6, 4, 0, 7, 3)\n",
      "(2, 5, 3, 0, 7, 4, 6, 1)\n",
      "(2, 5, 3, 1, 7, 4, 6, 0)\n",
      "(2, 5, 7, 0, 3, 6, 4, 1)\n",
      "(2, 5, 7, 0, 4, 6, 1, 3)\n",
      "(2, 5, 7, 1, 3, 0, 6, 4)\n",
      "(2, 6, 1, 7, 4, 0, 3, 5)\n",
      "(2, 6, 1, 7, 5, 3, 0, 4)\n",
      "(2, 7, 3, 6, 0, 5, 1, 4)\n",
      "(3, 0, 4, 7, 1, 6, 2, 5)\n",
      "(3, 0, 4, 7, 5, 2, 6, 1)\n",
      "(3, 1, 4, 7, 5, 0, 2, 6)\n",
      "(3, 1, 6, 2, 5, 7, 0, 4)\n",
      "(3, 1, 6, 2, 5, 7, 4, 0)\n",
      "(3, 1, 6, 4, 0, 7, 5, 2)\n",
      "(3, 1, 7, 4, 6, 0, 2, 5)\n",
      "(3, 1, 7, 5, 0, 2, 4, 6)\n",
      "(3, 5, 0, 4, 1, 7, 2, 6)\n",
      "(3, 5, 7, 1, 6, 0, 2, 4)\n",
      "(3, 5, 7, 2, 0, 6, 4, 1)\n",
      "(3, 6, 0, 7, 4, 1, 5, 2)\n",
      "(3, 6, 2, 7, 1, 4, 0, 5)\n",
      "(3, 6, 4, 1, 5, 0, 2, 7)\n",
      "(3, 6, 4, 2, 0, 5, 7, 1)\n",
      "(3, 7, 0, 2, 5, 1, 6, 4)\n",
      "(3, 7, 0, 4, 6, 1, 5, 2)\n",
      "(3, 7, 4, 2, 0, 6, 1, 5)\n",
      "(4, 0, 3, 5, 7, 1, 6, 2)\n",
      "(4, 0, 7, 3, 1, 6, 2, 5)\n",
      "(4, 0, 7, 5, 2, 6, 1, 3)\n",
      "(4, 1, 3, 5, 7, 2, 0, 6)\n",
      "(4, 1, 3, 6, 2, 7, 5, 0)\n",
      "(4, 1, 5, 0, 6, 3, 7, 2)\n",
      "(4, 1, 7, 0, 3, 6, 2, 5)\n",
      "(4, 2, 0, 5, 7, 1, 3, 6)\n",
      "(4, 2, 0, 6, 1, 7, 5, 3)\n",
      "(4, 2, 7, 3, 6, 0, 5, 1)\n",
      "(4, 6, 0, 2, 7, 5, 3, 1)\n",
      "(4, 6, 0, 3, 1, 7, 5, 2)\n",
      "(4, 6, 1, 3, 7, 0, 2, 5)\n",
      "(4, 6, 1, 5, 2, 0, 3, 7)\n",
      "(4, 6, 1, 5, 2, 0, 7, 3)\n",
      "(4, 6, 3, 0, 2, 7, 5, 1)\n",
      "(4, 7, 3, 0, 2, 5, 1, 6)\n",
      "(4, 7, 3, 0, 6, 1, 5, 2)\n",
      "(5, 0, 4, 1, 7, 2, 6, 3)\n",
      "(5, 1, 6, 0, 2, 4, 7, 3)\n",
      "(5, 1, 6, 0, 3, 7, 4, 2)\n",
      "(5, 2, 0, 6, 4, 7, 1, 3)\n",
      "(5, 2, 0, 7, 3, 1, 6, 4)\n",
      "(5, 2, 0, 7, 4, 1, 3, 6)\n",
      "(5, 2, 4, 6, 0, 3, 1, 7)\n",
      "(5, 2, 4, 7, 0, 3, 1, 6)\n",
      "(5, 2, 6, 1, 3, 7, 0, 4)\n",
      "(5, 2, 6, 1, 7, 4, 0, 3)\n",
      "(5, 2, 6, 3, 0, 7, 1, 4)\n",
      "(5, 3, 0, 4, 7, 1, 6, 2)\n",
      "(5, 3, 1, 7, 4, 6, 0, 2)\n",
      "(5, 3, 6, 0, 2, 4, 1, 7)\n",
      "(5, 3, 6, 0, 7, 1, 4, 2)\n",
      "(5, 7, 1, 3, 0, 6, 4, 2)\n",
      "(6, 0, 2, 7, 5, 3, 1, 4)\n",
      "(6, 1, 3, 0, 7, 4, 2, 5)\n",
      "(6, 1, 5, 2, 0, 3, 7, 4)\n",
      "(6, 2, 0, 5, 7, 4, 1, 3)\n",
      "(6, 2, 7, 1, 4, 0, 5, 3)\n",
      "(6, 3, 1, 4, 7, 0, 2, 5)\n",
      "(6, 3, 1, 7, 5, 0, 2, 4)\n",
      "(6, 4, 2, 0, 5, 7, 1, 3)\n",
      "(7, 1, 3, 0, 6, 4, 2, 5)\n",
      "(7, 1, 4, 2, 0, 6, 3, 5)\n",
      "(7, 2, 0, 5, 1, 4, 6, 3)\n",
      "(7, 3, 0, 2, 5, 1, 6, 4)\n"
     ]
    }
   ],
   "source": [
    "for solution in queens(8):\n",
    "    print(solution)"
   ]
  },
  {
   "cell_type": "code",
   "execution_count": 7,
   "metadata": {},
   "outputs": [
    {
     "data": {
      "text/plain": [
       "92"
      ]
     },
     "execution_count": 7,
     "metadata": {},
     "output_type": "execute_result"
    }
   ],
   "source": [
    "len(list(queens(8)))"
   ]
  },
  {
   "cell_type": "code",
   "execution_count": 8,
   "metadata": {},
   "outputs": [
    {
     "name": "stdout",
     "output_type": "stream",
     "text": [
      ". . X . . . . . \n",
      ". . . . . X . . \n",
      ". X . . . . . . \n",
      ". . . . . . X . \n",
      ". . . . X . . . \n",
      "X . . . . . . . \n",
      ". . . . . . . X \n",
      ". . . X . . . . \n"
     ]
    }
   ],
   "source": [
    "def prettyprint(solution):\n",
    "    def line(pos, length=len(solution)):\n",
    "        return '. ' * (pos) + 'X ' + '. ' * (length - pos - 1)\n",
    "    for pos in solution:\n",
    "        print(line(pos))\n",
    "\n",
    "import random\n",
    "prettyprint(random.choice(list(queens(8))))"
   ]
  },
  {
   "cell_type": "code",
   "execution_count": 10,
   "metadata": {},
   "outputs": [
    {
     "data": {
      "text/plain": [
       "('linux',\n",
       " {'sys': <module 'sys' (built-in)>,\n",
       "  'builtins': <module 'builtins' (built-in)>,\n",
       "  '_frozen_importlib': <module 'importlib._bootstrap' (frozen)>,\n",
       "  '_imp': <module '_imp' (built-in)>,\n",
       "  '_thread': <module '_thread' (built-in)>,\n",
       "  '_warnings': <module '_warnings' (built-in)>,\n",
       "  '_weakref': <module '_weakref' (built-in)>,\n",
       "  'zipimport': <module 'zipimport' (built-in)>,\n",
       "  '_frozen_importlib_external': <module 'importlib._bootstrap_external' (frozen)>,\n",
       "  '_io': <module 'io' (built-in)>,\n",
       "  'marshal': <module 'marshal' (built-in)>,\n",
       "  'posix': <module 'posix' (built-in)>,\n",
       "  'encodings': <module 'encodings' from '/data2/hushuhan/tools/anaconda3/envs/d2l/lib/python3.7/encodings/__init__.py'>,\n",
       "  'codecs': <module 'codecs' from '/data2/hushuhan/tools/anaconda3/envs/d2l/lib/python3.7/codecs.py'>,\n",
       "  '_codecs': <module '_codecs' (built-in)>,\n",
       "  'encodings.aliases': <module 'encodings.aliases' from '/data2/hushuhan/tools/anaconda3/envs/d2l/lib/python3.7/encodings/aliases.py'>,\n",
       "  'encodings.utf_8': <module 'encodings.utf_8' from '/data2/hushuhan/tools/anaconda3/envs/d2l/lib/python3.7/encodings/utf_8.py'>,\n",
       "  '_signal': <module '_signal' (built-in)>,\n",
       "  '__main__': <module '__main__'>,\n",
       "  'encodings.latin_1': <module 'encodings.latin_1' from '/data2/hushuhan/tools/anaconda3/envs/d2l/lib/python3.7/encodings/latin_1.py'>,\n",
       "  'io': <module 'io' from '/data2/hushuhan/tools/anaconda3/envs/d2l/lib/python3.7/io.py'>,\n",
       "  'abc': <module 'abc' from '/data2/hushuhan/tools/anaconda3/envs/d2l/lib/python3.7/abc.py'>,\n",
       "  '_abc': <module '_abc' (built-in)>,\n",
       "  'site': <module 'site' from '/data2/hushuhan/tools/anaconda3/envs/d2l/lib/python3.7/site.py'>,\n",
       "  'os': <module 'os' from '/data2/hushuhan/tools/anaconda3/envs/d2l/lib/python3.7/os.py'>,\n",
       "  'stat': <module 'stat' from '/data2/hushuhan/tools/anaconda3/envs/d2l/lib/python3.7/stat.py'>,\n",
       "  '_stat': <module '_stat' (built-in)>,\n",
       "  'posixpath': <module 'posixpath' from '/data2/hushuhan/tools/anaconda3/envs/d2l/lib/python3.7/posixpath.py'>,\n",
       "  'genericpath': <module 'genericpath' from '/data2/hushuhan/tools/anaconda3/envs/d2l/lib/python3.7/genericpath.py'>,\n",
       "  'os.path': <module 'posixpath' from '/data2/hushuhan/tools/anaconda3/envs/d2l/lib/python3.7/posixpath.py'>,\n",
       "  '_collections_abc': <module '_collections_abc' from '/data2/hushuhan/tools/anaconda3/envs/d2l/lib/python3.7/_collections_abc.py'>,\n",
       "  '_sitebuiltins': <module '_sitebuiltins' from '/data2/hushuhan/tools/anaconda3/envs/d2l/lib/python3.7/_sitebuiltins.py'>,\n",
       "  '_bootlocale': <module '_bootlocale' from '/data2/hushuhan/tools/anaconda3/envs/d2l/lib/python3.7/_bootlocale.py'>,\n",
       "  '_locale': <module '_locale' (built-in)>,\n",
       "  '_distutils_hack': <module '_distutils_hack' from '/data2/hushuhan/tools/anaconda3/envs/d2l/lib/python3.7/site-packages/_distutils_hack/__init__.py'>,\n",
       "  'types': <module 'types' from '/data2/hushuhan/tools/anaconda3/envs/d2l/lib/python3.7/types.py'>,\n",
       "  'importlib': <module 'importlib' from '/data2/hushuhan/tools/anaconda3/envs/d2l/lib/python3.7/importlib/__init__.py'>,\n",
       "  'importlib._bootstrap': <module 'importlib._bootstrap' (frozen)>,\n",
       "  'importlib._bootstrap_external': <module 'importlib._bootstrap_external' (frozen)>,\n",
       "  'warnings': <module 'warnings' from '/data2/hushuhan/tools/anaconda3/envs/d2l/lib/python3.7/warnings.py'>,\n",
       "  'importlib.util': <module 'importlib.util' from '/data2/hushuhan/tools/anaconda3/envs/d2l/lib/python3.7/importlib/util.py'>,\n",
       "  'importlib.abc': <module 'importlib.abc' from '/data2/hushuhan/tools/anaconda3/envs/d2l/lib/python3.7/importlib/abc.py'>,\n",
       "  'importlib.machinery': <module 'importlib.machinery' from '/data2/hushuhan/tools/anaconda3/envs/d2l/lib/python3.7/importlib/machinery.py'>,\n",
       "  'contextlib': <module 'contextlib' from '/data2/hushuhan/tools/anaconda3/envs/d2l/lib/python3.7/contextlib.py'>,\n",
       "  'collections': <module 'collections' from '/data2/hushuhan/tools/anaconda3/envs/d2l/lib/python3.7/collections/__init__.py'>,\n",
       "  'operator': <module 'operator' from '/data2/hushuhan/tools/anaconda3/envs/d2l/lib/python3.7/operator.py'>,\n",
       "  '_operator': <module '_operator' (built-in)>,\n",
       "  'keyword': <module 'keyword' from '/data2/hushuhan/tools/anaconda3/envs/d2l/lib/python3.7/keyword.py'>,\n",
       "  'heapq': <module 'heapq' from '/data2/hushuhan/tools/anaconda3/envs/d2l/lib/python3.7/heapq.py'>,\n",
       "  '_heapq': <module '_heapq' from '/data2/hushuhan/tools/anaconda3/envs/d2l/lib/python3.7/lib-dynload/_heapq.cpython-37m-x86_64-linux-gnu.so'>,\n",
       "  'itertools': <module 'itertools' (built-in)>,\n",
       "  'reprlib': <module 'reprlib' from '/data2/hushuhan/tools/anaconda3/envs/d2l/lib/python3.7/reprlib.py'>,\n",
       "  '_collections': <module '_collections' (built-in)>,\n",
       "  'functools': <module 'functools' from '/data2/hushuhan/tools/anaconda3/envs/d2l/lib/python3.7/functools.py'>,\n",
       "  '_functools': <module '_functools' (built-in)>,\n",
       "  'mpl_toolkits': <module 'mpl_toolkits' (namespace)>,\n",
       "  'runpy': <module 'runpy' from '/data2/hushuhan/tools/anaconda3/envs/d2l/lib/python3.7/runpy.py'>,\n",
       "  'pkgutil': <module 'pkgutil' from '/data2/hushuhan/tools/anaconda3/envs/d2l/lib/python3.7/pkgutil.py'>,\n",
       "  'weakref': <module 'weakref' from '/data2/hushuhan/tools/anaconda3/envs/d2l/lib/python3.7/weakref.py'>,\n",
       "  '_weakrefset': <module '_weakrefset' from '/data2/hushuhan/tools/anaconda3/envs/d2l/lib/python3.7/_weakrefset.py'>,\n",
       "  'ipykernel': <module 'ipykernel' from '/data2/hushuhan/tools/anaconda3/envs/d2l/lib/python3.7/site-packages/ipykernel/__init__.py'>,\n",
       "  'ipykernel._version': <module 'ipykernel._version' from '/data2/hushuhan/tools/anaconda3/envs/d2l/lib/python3.7/site-packages/ipykernel/_version.py'>,\n",
       "  're': <module 're' from '/data2/hushuhan/tools/anaconda3/envs/d2l/lib/python3.7/re.py'>,\n",
       "  'enum': <module 'enum' from '/data2/hushuhan/tools/anaconda3/envs/d2l/lib/python3.7/enum.py'>,\n",
       "  'sre_compile': <module 'sre_compile' from '/data2/hushuhan/tools/anaconda3/envs/d2l/lib/python3.7/sre_compile.py'>,\n",
       "  '_sre': <module '_sre' (built-in)>,\n",
       "  'sre_parse': <module 'sre_parse' from '/data2/hushuhan/tools/anaconda3/envs/d2l/lib/python3.7/sre_parse.py'>,\n",
       "  'sre_constants': <module 'sre_constants' from '/data2/hushuhan/tools/anaconda3/envs/d2l/lib/python3.7/sre_constants.py'>,\n",
       "  'copyreg': <module 'copyreg' from '/data2/hushuhan/tools/anaconda3/envs/d2l/lib/python3.7/copyreg.py'>,\n",
       "  'typing': <module 'typing' from '/data2/hushuhan/tools/anaconda3/envs/d2l/lib/python3.7/typing.py'>,\n",
       "  'collections.abc': <module 'collections.abc' from '/data2/hushuhan/tools/anaconda3/envs/d2l/lib/python3.7/collections/abc.py'>,\n",
       "  'typing.io': typing.io,\n",
       "  'typing.re': typing.re,\n",
       "  'ipykernel.connect': <module 'ipykernel.connect' from '/data2/hushuhan/tools/anaconda3/envs/d2l/lib/python3.7/site-packages/ipykernel/connect.py'>,\n",
       "  'json': <module 'json' from '/data2/hushuhan/tools/anaconda3/envs/d2l/lib/python3.7/json/__init__.py'>,\n",
       "  'json.decoder': <module 'json.decoder' from '/data2/hushuhan/tools/anaconda3/envs/d2l/lib/python3.7/json/decoder.py'>,\n",
       "  'json.scanner': <module 'json.scanner' from '/data2/hushuhan/tools/anaconda3/envs/d2l/lib/python3.7/json/scanner.py'>,\n",
       "  '_json': <module '_json' from '/data2/hushuhan/tools/anaconda3/envs/d2l/lib/python3.7/lib-dynload/_json.cpython-37m-x86_64-linux-gnu.so'>,\n",
       "  'json.encoder': <module 'json.encoder' from '/data2/hushuhan/tools/anaconda3/envs/d2l/lib/python3.7/json/encoder.py'>,\n",
       "  'subprocess': <module 'subprocess' from '/data2/hushuhan/tools/anaconda3/envs/d2l/lib/python3.7/subprocess.py'>,\n",
       "  'time': <module 'time' (built-in)>,\n",
       "  'signal': <module 'signal' from '/data2/hushuhan/tools/anaconda3/envs/d2l/lib/python3.7/signal.py'>,\n",
       "  'errno': <module 'errno' (built-in)>,\n",
       "  '_posixsubprocess': <module '_posixsubprocess' from '/data2/hushuhan/tools/anaconda3/envs/d2l/lib/python3.7/lib-dynload/_posixsubprocess.cpython-37m-x86_64-linux-gnu.so'>,\n",
       "  'select': <module 'select' from '/data2/hushuhan/tools/anaconda3/envs/d2l/lib/python3.7/lib-dynload/select.cpython-37m-x86_64-linux-gnu.so'>,\n",
       "  'selectors': <module 'selectors' from '/data2/hushuhan/tools/anaconda3/envs/d2l/lib/python3.7/selectors.py'>,\n",
       "  'math': <module 'math' from '/data2/hushuhan/tools/anaconda3/envs/d2l/lib/python3.7/lib-dynload/math.cpython-37m-x86_64-linux-gnu.so'>,\n",
       "  'threading': <module 'threading' from '/data2/hushuhan/tools/anaconda3/envs/d2l/lib/python3.7/threading.py'>,\n",
       "  'traceback': <module 'traceback' from '/data2/hushuhan/tools/anaconda3/envs/d2l/lib/python3.7/traceback.py'>,\n",
       "  'linecache': <module 'linecache' from '/data2/hushuhan/tools/anaconda3/envs/d2l/lib/python3.7/linecache.py'>,\n",
       "  'tokenize': <module 'tokenize' from '/data2/hushuhan/tools/anaconda3/envs/d2l/lib/python3.7/tokenize.py'>,\n",
       "  'token': <module 'token' from '/data2/hushuhan/tools/anaconda3/envs/d2l/lib/python3.7/token.py'>,\n",
       "  'jupyter_client': <module 'jupyter_client' from '/data2/hushuhan/tools/anaconda3/envs/d2l/lib/python3.7/site-packages/jupyter_client/__init__.py'>,\n",
       "  'jupyter_client._version': <module 'jupyter_client._version' from '/data2/hushuhan/tools/anaconda3/envs/d2l/lib/python3.7/site-packages/jupyter_client/_version.py'>,\n",
       "  'jupyter_client.asynchronous': <module 'jupyter_client.asynchronous' from '/data2/hushuhan/tools/anaconda3/envs/d2l/lib/python3.7/site-packages/jupyter_client/asynchronous/__init__.py'>,\n",
       "  'jupyter_client.asynchronous.client': <module 'jupyter_client.asynchronous.client' from '/data2/hushuhan/tools/anaconda3/envs/d2l/lib/python3.7/site-packages/jupyter_client/asynchronous/client.py'>,\n",
       "  'traitlets': <module 'traitlets' from '/data2/hushuhan/tools/anaconda3/envs/d2l/lib/python3.7/site-packages/traitlets/__init__.py'>,\n",
       "  'traitlets.traitlets': <module 'traitlets.traitlets' from '/data2/hushuhan/tools/anaconda3/envs/d2l/lib/python3.7/site-packages/traitlets/traitlets.py'>,\n",
       "  'inspect': <module 'inspect' from '/data2/hushuhan/tools/anaconda3/envs/d2l/lib/python3.7/inspect.py'>,\n",
       "  'dis': <module 'dis' from '/data2/hushuhan/tools/anaconda3/envs/d2l/lib/python3.7/dis.py'>,\n",
       "  'opcode': <module 'opcode' from '/data2/hushuhan/tools/anaconda3/envs/d2l/lib/python3.7/opcode.py'>,\n",
       "  '_opcode': <module '_opcode' from '/data2/hushuhan/tools/anaconda3/envs/d2l/lib/python3.7/lib-dynload/_opcode.cpython-37m-x86_64-linux-gnu.so'>,\n",
       "  'ast': <module 'ast' from '/data2/hushuhan/tools/anaconda3/envs/d2l/lib/python3.7/ast.py'>,\n",
       "  '_ast': <module '_ast' (built-in)>,\n",
       "  'traitlets.utils': <module 'traitlets.utils' from '/data2/hushuhan/tools/anaconda3/envs/d2l/lib/python3.7/site-packages/traitlets/utils/__init__.py'>,\n",
       "  'pathlib': <module 'pathlib' from '/data2/hushuhan/tools/anaconda3/envs/d2l/lib/python3.7/pathlib.py'>,\n",
       "  'fnmatch': <module 'fnmatch' from '/data2/hushuhan/tools/anaconda3/envs/d2l/lib/python3.7/fnmatch.py'>,\n",
       "  'ntpath': <module 'ntpath' from '/data2/hushuhan/tools/anaconda3/envs/d2l/lib/python3.7/ntpath.py'>,\n",
       "  'urllib': <module 'urllib' from '/data2/hushuhan/tools/anaconda3/envs/d2l/lib/python3.7/urllib/__init__.py'>,\n",
       "  'urllib.parse': <module 'urllib.parse' from '/data2/hushuhan/tools/anaconda3/envs/d2l/lib/python3.7/urllib/parse.py'>,\n",
       "  'traitlets.utils.bunch': <module 'traitlets.utils.bunch' from '/data2/hushuhan/tools/anaconda3/envs/d2l/lib/python3.7/site-packages/traitlets/utils/bunch.py'>,\n",
       "  'traitlets.utils.descriptions': <module 'traitlets.utils.descriptions' from '/data2/hushuhan/tools/anaconda3/envs/d2l/lib/python3.7/site-packages/traitlets/utils/descriptions.py'>,\n",
       "  'traitlets.utils.getargspec': <module 'traitlets.utils.getargspec' from '/data2/hushuhan/tools/anaconda3/envs/d2l/lib/python3.7/site-packages/traitlets/utils/getargspec.py'>,\n",
       "  'traitlets.utils.importstring': <module 'traitlets.utils.importstring' from '/data2/hushuhan/tools/anaconda3/envs/d2l/lib/python3.7/site-packages/traitlets/utils/importstring.py'>,\n",
       "  'traitlets.utils.sentinel': <module 'traitlets.utils.sentinel' from '/data2/hushuhan/tools/anaconda3/envs/d2l/lib/python3.7/site-packages/traitlets/utils/sentinel.py'>,\n",
       "  'traitlets._version': <module 'traitlets._version' from '/data2/hushuhan/tools/anaconda3/envs/d2l/lib/python3.7/site-packages/traitlets/_version.py'>,\n",
       "  'traitlets.utils.decorators': <module 'traitlets.utils.decorators' from '/data2/hushuhan/tools/anaconda3/envs/d2l/lib/python3.7/site-packages/traitlets/utils/decorators.py'>,\n",
       "  'copy': <module 'copy' from '/data2/hushuhan/tools/anaconda3/envs/d2l/lib/python3.7/copy.py'>,\n",
       "  'jupyter_client.channels': <module 'jupyter_client.channels' from '/data2/hushuhan/tools/anaconda3/envs/d2l/lib/python3.7/site-packages/jupyter_client/channels.py'>,\n",
       "  'asyncio': <module 'asyncio' from '/data2/hushuhan/tools/anaconda3/envs/d2l/lib/python3.7/asyncio/__init__.py'>,\n",
       "  'asyncio.base_events': <module 'asyncio.base_events' from '/data2/hushuhan/tools/anaconda3/envs/d2l/lib/python3.7/asyncio/base_events.py'>,\n",
       "  'concurrent': <module 'concurrent' from '/data2/hushuhan/tools/anaconda3/envs/d2l/lib/python3.7/concurrent/__init__.py'>,\n",
       "  'concurrent.futures': <module 'concurrent.futures' from '/data2/hushuhan/tools/anaconda3/envs/d2l/lib/python3.7/concurrent/futures/__init__.py'>,\n",
       "  'concurrent.futures._base': <module 'concurrent.futures._base' from '/data2/hushuhan/tools/anaconda3/envs/d2l/lib/python3.7/concurrent/futures/_base.py'>,\n",
       "  'logging': <module 'logging' from '/data2/hushuhan/tools/anaconda3/envs/d2l/lib/python3.7/logging/__init__.py'>,\n",
       "  'string': <module 'string' from '/data2/hushuhan/tools/anaconda3/envs/d2l/lib/python3.7/string.py'>,\n",
       "  '_string': <module '_string' (built-in)>,\n",
       "  'atexit': <module 'atexit' (built-in)>,\n",
       "  'socket': <module 'socket' from '/data2/hushuhan/tools/anaconda3/envs/d2l/lib/python3.7/socket.py'>,\n",
       "  '_socket': <module '_socket' from '/data2/hushuhan/tools/anaconda3/envs/d2l/lib/python3.7/lib-dynload/_socket.cpython-37m-x86_64-linux-gnu.so'>,\n",
       "  'ssl': <module 'ssl' from '/data2/hushuhan/tools/anaconda3/envs/d2l/lib/python3.7/ssl.py'>,\n",
       "  '_ssl': <module '_ssl' from '/data2/hushuhan/tools/anaconda3/envs/d2l/lib/python3.7/lib-dynload/_ssl.cpython-37m-x86_64-linux-gnu.so'>,\n",
       "  'base64': <module 'base64' from '/data2/hushuhan/tools/anaconda3/envs/d2l/lib/python3.7/base64.py'>,\n",
       "  'struct': <module 'struct' from '/data2/hushuhan/tools/anaconda3/envs/d2l/lib/python3.7/struct.py'>,\n",
       "  '_struct': <module '_struct' from '/data2/hushuhan/tools/anaconda3/envs/d2l/lib/python3.7/lib-dynload/_struct.cpython-37m-x86_64-linux-gnu.so'>,\n",
       "  'binascii': <module 'binascii' from '/data2/hushuhan/tools/anaconda3/envs/d2l/lib/python3.7/lib-dynload/binascii.cpython-37m-x86_64-linux-gnu.so'>,\n",
       "  'asyncio.constants': <module 'asyncio.constants' from '/data2/hushuhan/tools/anaconda3/envs/d2l/lib/python3.7/asyncio/constants.py'>,\n",
       "  'asyncio.coroutines': <module 'asyncio.coroutines' from '/data2/hushuhan/tools/anaconda3/envs/d2l/lib/python3.7/asyncio/coroutines.py'>,\n",
       "  'asyncio.base_futures': <module 'asyncio.base_futures' from '/data2/hushuhan/tools/anaconda3/envs/d2l/lib/python3.7/asyncio/base_futures.py'>,\n",
       "  'asyncio.format_helpers': <module 'asyncio.format_helpers' from '/data2/hushuhan/tools/anaconda3/envs/d2l/lib/python3.7/asyncio/format_helpers.py'>,\n",
       "  'asyncio.log': <module 'asyncio.log' from '/data2/hushuhan/tools/anaconda3/envs/d2l/lib/python3.7/asyncio/log.py'>,\n",
       "  'asyncio.events': <module 'asyncio.events' from '/data2/hushuhan/tools/anaconda3/envs/d2l/lib/python3.7/asyncio/events.py'>,\n",
       "  'contextvars': <module 'contextvars' from '/data2/hushuhan/tools/anaconda3/envs/d2l/lib/python3.7/contextvars.py'>,\n",
       "  '_contextvars': <module '_contextvars' from '/data2/hushuhan/tools/anaconda3/envs/d2l/lib/python3.7/lib-dynload/_contextvars.cpython-37m-x86_64-linux-gnu.so'>,\n",
       "  'asyncio.base_tasks': <module 'asyncio.base_tasks' from '/data2/hushuhan/tools/anaconda3/envs/d2l/lib/python3.7/asyncio/base_tasks.py'>,\n",
       "  '_asyncio': <module '_asyncio' from '/data2/hushuhan/tools/anaconda3/envs/d2l/lib/python3.7/lib-dynload/_asyncio.cpython-37m-x86_64-linux-gnu.so'>,\n",
       "  'asyncio.futures': <module 'asyncio.futures' from '/data2/hushuhan/tools/anaconda3/envs/d2l/lib/python3.7/asyncio/futures.py'>,\n",
       "  'asyncio.protocols': <module 'asyncio.protocols' from '/data2/hushuhan/tools/anaconda3/envs/d2l/lib/python3.7/asyncio/protocols.py'>,\n",
       "  'asyncio.sslproto': <module 'asyncio.sslproto' from '/data2/hushuhan/tools/anaconda3/envs/d2l/lib/python3.7/asyncio/sslproto.py'>,\n",
       "  'asyncio.transports': <module 'asyncio.transports' from '/data2/hushuhan/tools/anaconda3/envs/d2l/lib/python3.7/asyncio/transports.py'>,\n",
       "  'asyncio.tasks': <module 'asyncio.tasks' from '/data2/hushuhan/tools/anaconda3/envs/d2l/lib/python3.7/asyncio/tasks.py'>,\n",
       "  'asyncio.locks': <module 'asyncio.locks' from '/data2/hushuhan/tools/anaconda3/envs/d2l/lib/python3.7/asyncio/locks.py'>,\n",
       "  'asyncio.runners': <module 'asyncio.runners' from '/data2/hushuhan/tools/anaconda3/envs/d2l/lib/python3.7/asyncio/runners.py'>,\n",
       "  'asyncio.queues': <module 'asyncio.queues' from '/data2/hushuhan/tools/anaconda3/envs/d2l/lib/python3.7/asyncio/queues.py'>,\n",
       "  'asyncio.streams': <module 'asyncio.streams' from '/data2/hushuhan/tools/anaconda3/envs/d2l/lib/python3.7/asyncio/streams.py'>,\n",
       "  'asyncio.subprocess': <module 'asyncio.subprocess' from '/data2/hushuhan/tools/anaconda3/envs/d2l/lib/python3.7/asyncio/subprocess.py'>,\n",
       "  'asyncio.unix_events': <module 'asyncio.unix_events' from '/data2/hushuhan/tools/anaconda3/envs/d2l/lib/python3.7/asyncio/unix_events.py'>,\n",
       "  'asyncio.base_subprocess': <module 'asyncio.base_subprocess' from '/data2/hushuhan/tools/anaconda3/envs/d2l/lib/python3.7/asyncio/base_subprocess.py'>,\n",
       "  'asyncio.selector_events': <module 'asyncio.selector_events' from '/data2/hushuhan/tools/anaconda3/envs/d2l/lib/python3.7/asyncio/selector_events.py'>,\n",
       "  'queue': <module 'queue' from '/data2/hushuhan/tools/anaconda3/envs/d2l/lib/python3.7/queue.py'>,\n",
       "  '_queue': <module '_queue' from '/data2/hushuhan/tools/anaconda3/envs/d2l/lib/python3.7/lib-dynload/_queue.cpython-37m-x86_64-linux-gnu.so'>,\n",
       "  'zmq': <module 'zmq' from '/data2/hushuhan/tools/anaconda3/envs/d2l/lib/python3.7/site-packages/zmq/__init__.py'>,\n",
       "  'platform': <module 'platform' from '/data2/hushuhan/tools/anaconda3/envs/d2l/lib/python3.7/platform.py'>,\n",
       "  'ctypes': <module 'ctypes' from '/data2/hushuhan/tools/anaconda3/envs/d2l/lib/python3.7/ctypes/__init__.py'>,\n",
       "  '_ctypes': <module '_ctypes' from '/data2/hushuhan/tools/anaconda3/envs/d2l/lib/python3.7/lib-dynload/_ctypes.cpython-37m-x86_64-linux-gnu.so'>,\n",
       "  'ctypes._endian': <module 'ctypes._endian' from '/data2/hushuhan/tools/anaconda3/envs/d2l/lib/python3.7/ctypes/_endian.py'>,\n",
       "  'zmq.backend': <module 'zmq.backend' from '/data2/hushuhan/tools/anaconda3/envs/d2l/lib/python3.7/site-packages/zmq/backend/__init__.py'>,\n",
       "  'zmq.backend.select': <module 'zmq.backend.select' from '/data2/hushuhan/tools/anaconda3/envs/d2l/lib/python3.7/site-packages/zmq/backend/select.py'>,\n",
       "  'zmq.backend.cython': <module 'zmq.backend.cython' from '/data2/hushuhan/tools/anaconda3/envs/d2l/lib/python3.7/site-packages/zmq/backend/cython/__init__.py'>,\n",
       "  'zmq.backend.cython._device': <module 'zmq.backend.cython._device' from '/data2/hushuhan/tools/anaconda3/envs/d2l/lib/python3.7/site-packages/zmq/backend/cython/_device.cpython-37m-x86_64-linux-gnu.so'>,\n",
       "  '_cython_0_29_32': <module '_cython_0_29_32'>,\n",
       "  'cython_runtime': <module 'cython_runtime'>,\n",
       "  'zmq.backend.cython.context': <module 'zmq.backend.cython.context' from '/data2/hushuhan/tools/anaconda3/envs/d2l/lib/python3.7/site-packages/zmq/backend/cython/context.cpython-37m-x86_64-linux-gnu.so'>,\n",
       "  'zmq.error': <module 'zmq.error' from '/data2/hushuhan/tools/anaconda3/envs/d2l/lib/python3.7/site-packages/zmq/error.py'>,\n",
       "  'zmq.backend.cython.socket': <module 'zmq.backend.cython.socket' from '/data2/hushuhan/tools/anaconda3/envs/d2l/lib/python3.7/site-packages/zmq/backend/cython/socket.cpython-37m-x86_64-linux-gnu.so'>,\n",
       "  'zmq.backend.cython.message': <module 'zmq.backend.cython.message' from '/data2/hushuhan/tools/anaconda3/envs/d2l/lib/python3.7/site-packages/zmq/backend/cython/message.cpython-37m-x86_64-linux-gnu.so'>,\n",
       "  'random': <module 'random' from '/data2/hushuhan/tools/anaconda3/envs/d2l/lib/python3.7/random.py'>,\n",
       "  'hashlib': <module 'hashlib' from '/data2/hushuhan/tools/anaconda3/envs/d2l/lib/python3.7/hashlib.py'>,\n",
       "  '_hashlib': <module '_hashlib' from '/data2/hushuhan/tools/anaconda3/envs/d2l/lib/python3.7/lib-dynload/_hashlib.cpython-37m-x86_64-linux-gnu.so'>,\n",
       "  '_blake2': <module '_blake2' from '/data2/hushuhan/tools/anaconda3/envs/d2l/lib/python3.7/lib-dynload/_blake2.cpython-37m-x86_64-linux-gnu.so'>,\n",
       "  '_sha3': <module '_sha3' from '/data2/hushuhan/tools/anaconda3/envs/d2l/lib/python3.7/lib-dynload/_sha3.cpython-37m-x86_64-linux-gnu.so'>,\n",
       "  'bisect': <module 'bisect' from '/data2/hushuhan/tools/anaconda3/envs/d2l/lib/python3.7/bisect.py'>,\n",
       "  '_bisect': <module '_bisect' from '/data2/hushuhan/tools/anaconda3/envs/d2l/lib/python3.7/lib-dynload/_bisect.cpython-37m-x86_64-linux-gnu.so'>,\n",
       "  '_random': <module '_random' from '/data2/hushuhan/tools/anaconda3/envs/d2l/lib/python3.7/lib-dynload/_random.cpython-37m-x86_64-linux-gnu.so'>,\n",
       "  'pickle': <module 'pickle' from '/data2/hushuhan/tools/anaconda3/envs/d2l/lib/python3.7/pickle.py'>,\n",
       "  '_compat_pickle': <module '_compat_pickle' from '/data2/hushuhan/tools/anaconda3/envs/d2l/lib/python3.7/_compat_pickle.py'>,\n",
       "  '_pickle': <module '_pickle' from '/data2/hushuhan/tools/anaconda3/envs/d2l/lib/python3.7/lib-dynload/_pickle.cpython-37m-x86_64-linux-gnu.so'>,\n",
       "  'zmq.constants': <module 'zmq.constants' from '/data2/hushuhan/tools/anaconda3/envs/d2l/lib/python3.7/site-packages/zmq/constants.py'>,\n",
       "  'zmq.backend.cython._poll': <module 'zmq.backend.cython._poll' from '/data2/hushuhan/tools/anaconda3/envs/d2l/lib/python3.7/site-packages/zmq/backend/cython/_poll.cpython-37m-x86_64-linux-gnu.so'>,\n",
       "  'zmq.backend.cython._proxy_steerable': <module 'zmq.backend.cython._proxy_steerable' from '/data2/hushuhan/tools/anaconda3/envs/d2l/lib/python3.7/site-packages/zmq/backend/cython/_proxy_steerable.cpython-37m-x86_64-linux-gnu.so'>,\n",
       "  'zmq.backend.cython._version': <module 'zmq.backend.cython._version' from '/data2/hushuhan/tools/anaconda3/envs/d2l/lib/python3.7/site-packages/zmq/backend/cython/_version.cpython-37m-x86_64-linux-gnu.so'>,\n",
       "  'zmq.backend.cython.error': <module 'zmq.backend.cython.error' from '/data2/hushuhan/tools/anaconda3/envs/d2l/lib/python3.7/site-packages/zmq/backend/cython/error.cpython-37m-x86_64-linux-gnu.so'>,\n",
       "  'zmq.backend.cython.utils': <module 'zmq.backend.cython.utils' from '/data2/hushuhan/tools/anaconda3/envs/d2l/lib/python3.7/site-packages/zmq/backend/cython/utils.cpython-37m-x86_64-linux-gnu.so'>,\n",
       "  'zmq.sugar': <module 'zmq.sugar' from '/data2/hushuhan/tools/anaconda3/envs/d2l/lib/python3.7/site-packages/zmq/sugar/__init__.py'>,\n",
       "  'zmq.sugar.context': <module 'zmq.sugar.context' from '/data2/hushuhan/tools/anaconda3/envs/d2l/lib/python3.7/site-packages/zmq/sugar/context.py'>,\n",
       "  'zmq.sugar.attrsettr': <module 'zmq.sugar.attrsettr' from '/data2/hushuhan/tools/anaconda3/envs/d2l/lib/python3.7/site-packages/zmq/sugar/attrsettr.py'>,\n",
       "  'zmq.sugar.socket': <module 'zmq.sugar.socket' from '/data2/hushuhan/tools/anaconda3/envs/d2l/lib/python3.7/site-packages/zmq/sugar/socket.py'>,\n",
       "  'zmq._typing': <module 'zmq._typing' from '/data2/hushuhan/tools/anaconda3/envs/d2l/lib/python3.7/site-packages/zmq/_typing.py'>,\n",
       "  'typing_extensions': <module 'typing_extensions' from '/data2/hushuhan/tools/anaconda3/envs/d2l/lib/python3.7/site-packages/typing_extensions.py'>,\n",
       "  'zmq.utils': <module 'zmq.utils' from '/data2/hushuhan/tools/anaconda3/envs/d2l/lib/python3.7/site-packages/zmq/utils/__init__.py'>,\n",
       "  'zmq.utils.jsonapi': <module 'zmq.utils.jsonapi' from '/data2/hushuhan/tools/anaconda3/envs/d2l/lib/python3.7/site-packages/zmq/utils/jsonapi.py'>,\n",
       "  'zmq.sugar.poll': <module 'zmq.sugar.poll' from '/data2/hushuhan/tools/anaconda3/envs/d2l/lib/python3.7/site-packages/zmq/sugar/poll.py'>,\n",
       "  'zmq.sugar.frame': <module 'zmq.sugar.frame' from '/data2/hushuhan/tools/anaconda3/envs/d2l/lib/python3.7/site-packages/zmq/sugar/frame.py'>,\n",
       "  'zmq.sugar.tracker': <module 'zmq.sugar.tracker' from '/data2/hushuhan/tools/anaconda3/envs/d2l/lib/python3.7/site-packages/zmq/sugar/tracker.py'>,\n",
       "  'zmq.sugar.version': <module 'zmq.sugar.version' from '/data2/hushuhan/tools/anaconda3/envs/d2l/lib/python3.7/site-packages/zmq/sugar/version.py'>,\n",
       "  'zmq.sugar.stopwatch': <module 'zmq.sugar.stopwatch' from '/data2/hushuhan/tools/anaconda3/envs/d2l/lib/python3.7/site-packages/zmq/sugar/stopwatch.py'>,\n",
       "  'zmq.asyncio': <module 'zmq.asyncio' from '/data2/hushuhan/tools/anaconda3/envs/d2l/lib/python3.7/site-packages/zmq/asyncio.py'>,\n",
       "  'zmq._future': <module 'zmq._future' from '/data2/hushuhan/tools/anaconda3/envs/d2l/lib/python3.7/site-packages/zmq/_future.py'>,\n",
       "  'jupyter_client.channelsabc': <module 'jupyter_client.channelsabc' from '/data2/hushuhan/tools/anaconda3/envs/d2l/lib/python3.7/site-packages/jupyter_client/channelsabc.py'>,\n",
       "  'jupyter_client.session': <module 'jupyter_client.session' from '/data2/hushuhan/tools/anaconda3/envs/d2l/lib/python3.7/site-packages/jupyter_client/session.py'>,\n",
       "  'hmac': <module 'hmac' from '/data2/hushuhan/tools/anaconda3/envs/d2l/lib/python3.7/hmac.py'>,\n",
       "  'pprint': <module 'pprint' from '/data2/hushuhan/tools/anaconda3/envs/d2l/lib/python3.7/pprint.py'>,\n",
       "  'datetime': <module 'datetime' from '/data2/hushuhan/tools/anaconda3/envs/d2l/lib/python3.7/datetime.py'>,\n",
       "  '_datetime': <module '_datetime' from '/data2/hushuhan/tools/anaconda3/envs/d2l/lib/python3.7/lib-dynload/_datetime.cpython-37m-x86_64-linux-gnu.so'>,\n",
       "  'tornado': <module 'tornado' from '/data2/hushuhan/tools/anaconda3/envs/d2l/lib/python3.7/site-packages/tornado/__init__.py'>,\n",
       "  'tornado.ioloop': <module 'tornado.ioloop' from '/data2/hushuhan/tools/anaconda3/envs/d2l/lib/python3.7/site-packages/tornado/ioloop.py'>,\n",
       "  'numbers': <module 'numbers' from '/data2/hushuhan/tools/anaconda3/envs/d2l/lib/python3.7/numbers.py'>,\n",
       "  'tornado.concurrent': <module 'tornado.concurrent' from '/data2/hushuhan/tools/anaconda3/envs/d2l/lib/python3.7/site-packages/tornado/concurrent.py'>,\n",
       "  'tornado.log': <module 'tornado.log' from '/data2/hushuhan/tools/anaconda3/envs/d2l/lib/python3.7/site-packages/tornado/log.py'>,\n",
       "  'logging.handlers': <module 'logging.handlers' from '/data2/hushuhan/tools/anaconda3/envs/d2l/lib/python3.7/logging/handlers.py'>,\n",
       "  'tornado.escape': <module 'tornado.escape' from '/data2/hushuhan/tools/anaconda3/envs/d2l/lib/python3.7/site-packages/tornado/escape.py'>,\n",
       "  'html': <module 'html' from '/data2/hushuhan/tools/anaconda3/envs/d2l/lib/python3.7/html/__init__.py'>,\n",
       "  'html.entities': <module 'html.entities' from '/data2/hushuhan/tools/anaconda3/envs/d2l/lib/python3.7/html/entities.py'>,\n",
       "  'tornado.util': <module 'tornado.util' from '/data2/hushuhan/tools/anaconda3/envs/d2l/lib/python3.7/site-packages/tornado/util.py'>,\n",
       "  'array': <module 'array' from '/data2/hushuhan/tools/anaconda3/envs/d2l/lib/python3.7/lib-dynload/array.cpython-37m-x86_64-linux-gnu.so'>,\n",
       "  'zlib': <module 'zlib' from '/data2/hushuhan/tools/anaconda3/envs/d2l/lib/python3.7/lib-dynload/zlib.cpython-37m-x86_64-linux-gnu.so'>,\n",
       "  'tornado.speedups': <module 'tornado.speedups' from '/data2/hushuhan/tools/anaconda3/envs/d2l/lib/python3.7/site-packages/tornado/speedups.abi3.so'>,\n",
       "  'curses': <module 'curses' from '/data2/hushuhan/tools/anaconda3/envs/d2l/lib/python3.7/curses/__init__.py'>,\n",
       "  '_curses': <module '_curses' from '/data2/hushuhan/tools/anaconda3/envs/d2l/lib/python3.7/lib-dynload/_curses.cpython-37m-x86_64-linux-gnu.so'>,\n",
       "  'traitlets.config': <module 'traitlets.config' from '/data2/hushuhan/tools/anaconda3/envs/d2l/lib/python3.7/site-packages/traitlets/config/__init__.py'>,\n",
       "  'traitlets.config.application': <module 'traitlets.config.application' from '/data2/hushuhan/tools/anaconda3/envs/d2l/lib/python3.7/site-packages/traitlets/config/application.py'>,\n",
       "  'logging.config': <module 'logging.config' from '/data2/hushuhan/tools/anaconda3/envs/d2l/lib/python3.7/logging/config.py'>,\n",
       "  'socketserver': <module 'socketserver' from '/data2/hushuhan/tools/anaconda3/envs/d2l/lib/python3.7/socketserver.py'>,\n",
       "  'textwrap': <module 'textwrap' from '/data2/hushuhan/tools/anaconda3/envs/d2l/lib/python3.7/textwrap.py'>,\n",
       "  'traitlets.config.configurable': <module 'traitlets.config.configurable' from '/data2/hushuhan/tools/anaconda3/envs/d2l/lib/python3.7/site-packages/traitlets/config/configurable.py'>,\n",
       "  'traitlets.utils.text': <module 'traitlets.utils.text' from '/data2/hushuhan/tools/anaconda3/envs/d2l/lib/python3.7/site-packages/traitlets/utils/text.py'>,\n",
       "  'traitlets.config.loader': <module 'traitlets.config.loader' from '/data2/hushuhan/tools/anaconda3/envs/d2l/lib/python3.7/site-packages/traitlets/config/loader.py'>,\n",
       "  'argparse': <module 'argparse' from '/data2/hushuhan/tools/anaconda3/envs/d2l/lib/python3.7/argparse.py'>,\n",
       "  'gettext': <module 'gettext' from '/data2/hushuhan/tools/anaconda3/envs/d2l/lib/python3.7/gettext.py'>,\n",
       "  'locale': <module 'locale' from '/data2/hushuhan/tools/anaconda3/envs/d2l/lib/python3.7/locale.py'>,\n",
       "  'traitlets.utils.nested_update': <module 'traitlets.utils.nested_update' from '/data2/hushuhan/tools/anaconda3/envs/d2l/lib/python3.7/site-packages/traitlets/utils/nested_update.py'>,\n",
       "  'traitlets.log': <module 'traitlets.log' from '/data2/hushuhan/tools/anaconda3/envs/d2l/lib/python3.7/site-packages/traitlets/log.py'>,\n",
       "  'zmq.eventloop': <module 'zmq.eventloop' from '/data2/hushuhan/tools/anaconda3/envs/d2l/lib/python3.7/site-packages/zmq/eventloop/__init__.py'>,\n",
       "  'zmq.eventloop.ioloop': <module 'zmq.eventloop.ioloop' from '/data2/hushuhan/tools/anaconda3/envs/d2l/lib/python3.7/site-packages/zmq/eventloop/ioloop.py'>,\n",
       "  'tornado.platform': <module 'tornado.platform' from '/data2/hushuhan/tools/anaconda3/envs/d2l/lib/python3.7/site-packages/tornado/platform/__init__.py'>,\n",
       "  'tornado.platform.asyncio': <module 'tornado.platform.asyncio' from '/data2/hushuhan/tools/anaconda3/envs/d2l/lib/python3.7/site-packages/tornado/platform/asyncio.py'>,\n",
       "  'tornado.gen': <module 'tornado.gen' from '/data2/hushuhan/tools/anaconda3/envs/d2l/lib/python3.7/site-packages/tornado/gen.py'>,\n",
       "  'zmq.eventloop.zmqstream': <module 'zmq.eventloop.zmqstream' from '/data2/hushuhan/tools/anaconda3/envs/d2l/lib/python3.7/site-packages/zmq/eventloop/zmqstream.py'>,\n",
       "  'jupyter_client.adapter': <module 'jupyter_client.adapter' from '/data2/hushuhan/tools/anaconda3/envs/d2l/lib/python3.7/site-packages/jupyter_client/adapter.py'>,\n",
       "  'jupyter_client.jsonutil': <module 'jupyter_client.jsonutil' from '/data2/hushuhan/tools/anaconda3/envs/d2l/lib/python3.7/site-packages/jupyter_client/jsonutil.py'>,\n",
       "  'dateutil': <module 'dateutil' from '/data2/hushuhan/tools/anaconda3/envs/d2l/lib/python3.7/site-packages/dateutil/__init__.py'>,\n",
       "  'dateutil._version': <module 'dateutil._version' from '/data2/hushuhan/tools/anaconda3/envs/d2l/lib/python3.7/site-packages/dateutil/_version.py'>,\n",
       "  'dateutil.parser': <module 'dateutil.parser' from '/data2/hushuhan/tools/anaconda3/envs/d2l/lib/python3.7/site-packages/dateutil/parser/__init__.py'>,\n",
       "  'dateutil.parser._parser': <module 'dateutil.parser._parser' from '/data2/hushuhan/tools/anaconda3/envs/d2l/lib/python3.7/site-packages/dateutil/parser/_parser.py'>,\n",
       "  '__future__': <module '__future__' from '/data2/hushuhan/tools/anaconda3/envs/d2l/lib/python3.7/__future__.py'>,\n",
       "  'calendar': <module 'calendar' from '/data2/hushuhan/tools/anaconda3/envs/d2l/lib/python3.7/calendar.py'>,\n",
       "  'six': <module 'six' from '/data2/hushuhan/tools/anaconda3/envs/d2l/lib/python3.7/site-packages/six.py'>,\n",
       "  'decimal': <module 'decimal' from '/data2/hushuhan/tools/anaconda3/envs/d2l/lib/python3.7/decimal.py'>,\n",
       "  '_decimal': <module '_decimal' from '/data2/hushuhan/tools/anaconda3/envs/d2l/lib/python3.7/lib-dynload/_decimal.cpython-37m-x86_64-linux-gnu.so'>,\n",
       "  'dateutil.relativedelta': <module 'dateutil.relativedelta' from '/data2/hushuhan/tools/anaconda3/envs/d2l/lib/python3.7/site-packages/dateutil/relativedelta.py'>,\n",
       "  'dateutil._common': <module 'dateutil._common' from '/data2/hushuhan/tools/anaconda3/envs/d2l/lib/python3.7/site-packages/dateutil/_common.py'>,\n",
       "  'dateutil.tz': <module 'dateutil.tz' from '/data2/hushuhan/tools/anaconda3/envs/d2l/lib/python3.7/site-packages/dateutil/tz/__init__.py'>,\n",
       "  'dateutil.tz.tz': <module 'dateutil.tz.tz' from '/data2/hushuhan/tools/anaconda3/envs/d2l/lib/python3.7/site-packages/dateutil/tz/tz.py'>,\n",
       "  'six.moves': <module 'six.moves' (<six._SixMetaPathImporter object at 0x7f1b04a7b190>)>,\n",
       "  'dateutil.tz._common': <module 'dateutil.tz._common' from '/data2/hushuhan/tools/anaconda3/envs/d2l/lib/python3.7/site-packages/dateutil/tz/_common.py'>,\n",
       "  'dateutil.tz._factories': <module 'dateutil.tz._factories' from '/data2/hushuhan/tools/anaconda3/envs/d2l/lib/python3.7/site-packages/dateutil/tz/_factories.py'>,\n",
       "  'dateutil.parser.isoparser': <module 'dateutil.parser.isoparser' from '/data2/hushuhan/tools/anaconda3/envs/d2l/lib/python3.7/site-packages/dateutil/parser/isoparser.py'>,\n",
       "  '_strptime': <module '_strptime' from '/data2/hushuhan/tools/anaconda3/envs/d2l/lib/python3.7/_strptime.py'>,\n",
       "  'jupyter_client.client': <module 'jupyter_client.client' from '/data2/hushuhan/tools/anaconda3/envs/d2l/lib/python3.7/site-packages/jupyter_client/client.py'>,\n",
       "  'getpass': <module 'getpass' from '/data2/hushuhan/tools/anaconda3/envs/d2l/lib/python3.7/getpass.py'>,\n",
       "  'termios': <module 'termios' from '/data2/hushuhan/tools/anaconda3/envs/d2l/lib/python3.7/lib-dynload/termios.cpython-37m-x86_64-linux-gnu.so'>,\n",
       "  'jupyter_client.clientabc': <module 'jupyter_client.clientabc' from '/data2/hushuhan/tools/anaconda3/envs/d2l/lib/python3.7/site-packages/jupyter_client/clientabc.py'>,\n",
       "  'jupyter_client.connect': <module 'jupyter_client.connect' from '/data2/hushuhan/tools/anaconda3/envs/d2l/lib/python3.7/site-packages/jupyter_client/connect.py'>,\n",
       "  'glob': <module 'glob' from '/data2/hushuhan/tools/anaconda3/envs/d2l/lib/python3.7/glob.py'>,\n",
       "  'tempfile': <module 'tempfile' from '/data2/hushuhan/tools/anaconda3/envs/d2l/lib/python3.7/tempfile.py'>,\n",
       "  'shutil': <module 'shutil' from '/data2/hushuhan/tools/anaconda3/envs/d2l/lib/python3.7/shutil.py'>,\n",
       "  'bz2': <module 'bz2' from '/data2/hushuhan/tools/anaconda3/envs/d2l/lib/python3.7/bz2.py'>,\n",
       "  '_compression': <module '_compression' from '/data2/hushuhan/tools/anaconda3/envs/d2l/lib/python3.7/_compression.py'>,\n",
       "  '_bz2': <module '_bz2' from '/data2/hushuhan/tools/anaconda3/envs/d2l/lib/python3.7/lib-dynload/_bz2.cpython-37m-x86_64-linux-gnu.so'>,\n",
       "  'lzma': <module 'lzma' from '/data2/hushuhan/tools/anaconda3/envs/d2l/lib/python3.7/lzma.py'>,\n",
       "  '_lzma': <module '_lzma' from '/data2/hushuhan/tools/anaconda3/envs/d2l/lib/python3.7/lib-dynload/_lzma.cpython-37m-x86_64-linux-gnu.so'>,\n",
       "  'pwd': <module 'pwd' (built-in)>,\n",
       "  'grp': <module 'grp' from '/data2/hushuhan/tools/anaconda3/envs/d2l/lib/python3.7/lib-dynload/grp.cpython-37m-x86_64-linux-gnu.so'>,\n",
       "  'jupyter_core': <module 'jupyter_core' from '/data2/hushuhan/tools/anaconda3/envs/d2l/lib/python3.7/site-packages/jupyter_core/__init__.py'>,\n",
       "  'jupyter_core.version': <module 'jupyter_core.version' from '/data2/hushuhan/tools/anaconda3/envs/d2l/lib/python3.7/site-packages/jupyter_core/version.py'>,\n",
       "  'jupyter_core.paths': <module 'jupyter_core.paths' from '/data2/hushuhan/tools/anaconda3/envs/d2l/lib/python3.7/site-packages/jupyter_core/paths.py'>,\n",
       "  'jupyter_client.localinterfaces': <module 'jupyter_client.localinterfaces' from '/data2/hushuhan/tools/anaconda3/envs/d2l/lib/python3.7/site-packages/jupyter_client/localinterfaces.py'>,\n",
       "  'jupyter_client.utils': <module 'jupyter_client.utils' from '/data2/hushuhan/tools/anaconda3/envs/d2l/lib/python3.7/site-packages/jupyter_client/utils.py'>,\n",
       "  'jupyter_client.blocking': <module 'jupyter_client.blocking' from '/data2/hushuhan/tools/anaconda3/envs/d2l/lib/python3.7/site-packages/jupyter_client/blocking/__init__.py'>,\n",
       "  'jupyter_client.blocking.client': <module 'jupyter_client.blocking.client' from '/data2/hushuhan/tools/anaconda3/envs/d2l/lib/python3.7/site-packages/jupyter_client/blocking/client.py'>,\n",
       "  'jupyter_client.launcher': <module 'jupyter_client.launcher' from '/data2/hushuhan/tools/anaconda3/envs/d2l/lib/python3.7/site-packages/jupyter_client/launcher.py'>,\n",
       "  'jupyter_client.manager': <module 'jupyter_client.manager' from '/data2/hushuhan/tools/anaconda3/envs/d2l/lib/python3.7/site-packages/jupyter_client/manager.py'>,\n",
       "  'uuid': <module 'uuid' from '/data2/hushuhan/tools/anaconda3/envs/d2l/lib/python3.7/uuid.py'>,\n",
       "  'jupyter_client.managerabc': <module 'jupyter_client.managerabc' from '/data2/hushuhan/tools/anaconda3/envs/d2l/lib/python3.7/site-packages/jupyter_client/managerabc.py'>,\n",
       "  'jupyter_client.provisioning': <module 'jupyter_client.provisioning' from '/data2/hushuhan/tools/anaconda3/envs/d2l/lib/python3.7/site-packages/jupyter_client/provisioning/__init__.py'>,\n",
       "  'jupyter_client.provisioning.factory': <module 'jupyter_client.provisioning.factory' from '/data2/hushuhan/tools/anaconda3/envs/d2l/lib/python3.7/site-packages/jupyter_client/provisioning/factory.py'>,\n",
       "  'entrypoints': <module 'entrypoints' from '/data2/hushuhan/tools/anaconda3/envs/d2l/lib/python3.7/site-packages/entrypoints.py'>,\n",
       "  'zipfile': <module 'zipfile' from '/data2/hushuhan/tools/anaconda3/envs/d2l/lib/python3.7/zipfile.py'>,\n",
       "  'configparser': <module 'configparser' from '/data2/hushuhan/tools/anaconda3/envs/d2l/lib/python3.7/configparser.py'>,\n",
       "  'jupyter_client.provisioning.provisioner_base': <module 'jupyter_client.provisioning.provisioner_base' from '/data2/hushuhan/tools/anaconda3/envs/d2l/lib/python3.7/site-packages/jupyter_client/provisioning/provisioner_base.py'>,\n",
       "  'jupyter_client.provisioning.local_provisioner': <module 'jupyter_client.provisioning.local_provisioner' from '/data2/hushuhan/tools/anaconda3/envs/d2l/lib/python3.7/site-packages/jupyter_client/provisioning/local_provisioner.py'>,\n",
       "  'jupyter_client.kernelspec': <module 'jupyter_client.kernelspec' from '/data2/hushuhan/tools/anaconda3/envs/d2l/lib/python3.7/site-packages/jupyter_client/kernelspec.py'>,\n",
       "  'jupyter_client.multikernelmanager': <module 'jupyter_client.multikernelmanager' from '/data2/hushuhan/tools/anaconda3/envs/d2l/lib/python3.7/site-packages/jupyter_client/multikernelmanager.py'>,\n",
       "  'ipykernel.kernelapp': <module 'ipykernel.kernelapp' from '/data2/hushuhan/tools/anaconda3/envs/d2l/lib/python3.7/site-packages/ipykernel/kernelapp.py'>,\n",
       "  'IPython': <module 'IPython' from '/data2/hushuhan/tools/anaconda3/envs/d2l/lib/python3.7/site-packages/IPython/__init__.py'>,\n",
       "  'IPython.core': <module 'IPython.core' from '/data2/hushuhan/tools/anaconda3/envs/d2l/lib/python3.7/site-packages/IPython/core/__init__.py'>,\n",
       "  'IPython.core.getipython': <module 'IPython.core.getipython' from '/data2/hushuhan/tools/anaconda3/envs/d2l/lib/python3.7/site-packages/IPython/core/getipython.py'>,\n",
       "  'IPython.core.release': <module 'IPython.core.release' from '/data2/hushuhan/tools/anaconda3/envs/d2l/lib/python3.7/site-packages/IPython/core/release.py'>,\n",
       "  'IPython.core.application': <module 'IPython.core.application' from '/data2/hushuhan/tools/anaconda3/envs/d2l/lib/python3.7/site-packages/IPython/core/application.py'>,\n",
       "  'IPython.core.crashhandler': <module 'IPython.core.crashhandler' from '/data2/hushuhan/tools/anaconda3/envs/d2l/lib/python3.7/site-packages/IPython/core/crashhandler.py'>,\n",
       "  'IPython.core.ultratb': <module 'IPython.core.ultratb' from '/data2/hushuhan/tools/anaconda3/envs/d2l/lib/python3.7/site-packages/IPython/core/ultratb.py'>,\n",
       "  'pydoc': <module 'pydoc' from '/data2/hushuhan/tools/anaconda3/envs/d2l/lib/python3.7/pydoc.py'>,\n",
       "  'IPython.core.debugger': <module 'IPython.core.debugger' from '/data2/hushuhan/tools/anaconda3/envs/d2l/lib/python3.7/site-packages/IPython/core/debugger.py'>,\n",
       "  'bdb': <module 'bdb' from '/data2/hushuhan/tools/anaconda3/envs/d2l/lib/python3.7/bdb.py'>,\n",
       "  'IPython.utils': <module 'IPython.utils' from '/data2/hushuhan/tools/anaconda3/envs/d2l/lib/python3.7/site-packages/IPython/utils/__init__.py'>,\n",
       "  'IPython.utils.PyColorize': <module 'IPython.utils.PyColorize' from '/data2/hushuhan/tools/anaconda3/envs/d2l/lib/python3.7/site-packages/IPython/utils/PyColorize.py'>,\n",
       "  'IPython.utils.coloransi': <module 'IPython.utils.coloransi' from '/data2/hushuhan/tools/anaconda3/envs/d2l/lib/python3.7/site-packages/IPython/utils/coloransi.py'>,\n",
       "  'IPython.utils.ipstruct': <module 'IPython.utils.ipstruct' from '/data2/hushuhan/tools/anaconda3/envs/d2l/lib/python3.7/site-packages/IPython/utils/ipstruct.py'>,\n",
       "  'IPython.utils.colorable': <module 'IPython.utils.colorable' from '/data2/hushuhan/tools/anaconda3/envs/d2l/lib/python3.7/site-packages/IPython/utils/colorable.py'>,\n",
       "  'pygments': <module 'pygments' from '/data2/hushuhan/tools/anaconda3/envs/d2l/lib/python3.7/site-packages/pygments/__init__.py'>,\n",
       "  'IPython.utils.py3compat': <module 'IPython.utils.py3compat' from '/data2/hushuhan/tools/anaconda3/envs/d2l/lib/python3.7/site-packages/IPython/utils/py3compat.py'>,\n",
       "  'IPython.utils.encoding': <module 'IPython.utils.encoding' from '/data2/hushuhan/tools/anaconda3/envs/d2l/lib/python3.7/site-packages/IPython/utils/encoding.py'>,\n",
       "  'IPython.core.excolors': <module 'IPython.core.excolors' from '/data2/hushuhan/tools/anaconda3/envs/d2l/lib/python3.7/site-packages/IPython/core/excolors.py'>,\n",
       "  'IPython.testing': <module 'IPython.testing' from '/data2/hushuhan/tools/anaconda3/envs/d2l/lib/python3.7/site-packages/IPython/testing/__init__.py'>,\n",
       "  'IPython.testing.skipdoctest': <module 'IPython.testing.skipdoctest' from '/data2/hushuhan/tools/anaconda3/envs/d2l/lib/python3.7/site-packages/IPython/testing/skipdoctest.py'>,\n",
       "  'pdb': <module 'pdb' from '/data2/hushuhan/tools/anaconda3/envs/d2l/lib/python3.7/pdb.py'>,\n",
       "  'cmd': <module 'cmd' from '/data2/hushuhan/tools/anaconda3/envs/d2l/lib/python3.7/cmd.py'>,\n",
       "  'code': <module 'code' from '/data2/hushuhan/tools/anaconda3/envs/d2l/lib/python3.7/code.py'>,\n",
       "  'codeop': <module 'codeop' from '/data2/hushuhan/tools/anaconda3/envs/d2l/lib/python3.7/codeop.py'>,\n",
       "  'IPython.core.display_trap': <module 'IPython.core.display_trap' from '/data2/hushuhan/tools/anaconda3/envs/d2l/lib/python3.7/site-packages/IPython/core/display_trap.py'>,\n",
       "  'IPython.utils.path': <module 'IPython.utils.path' from '/data2/hushuhan/tools/anaconda3/envs/d2l/lib/python3.7/site-packages/IPython/utils/path.py'>,\n",
       "  'IPython.utils.process': <module 'IPython.utils.process' from '/data2/hushuhan/tools/anaconda3/envs/d2l/lib/python3.7/site-packages/IPython/utils/process.py'>,\n",
       "  'IPython.utils._process_posix': <module 'IPython.utils._process_posix' from '/data2/hushuhan/tools/anaconda3/envs/d2l/lib/python3.7/site-packages/IPython/utils/_process_posix.py'>,\n",
       "  'pexpect': <module 'pexpect' from '/data2/hushuhan/tools/anaconda3/envs/d2l/lib/python3.7/site-packages/pexpect/__init__.py'>,\n",
       "  'pexpect.exceptions': <module 'pexpect.exceptions' from '/data2/hushuhan/tools/anaconda3/envs/d2l/lib/python3.7/site-packages/pexpect/exceptions.py'>,\n",
       "  'pexpect.utils': <module 'pexpect.utils' from '/data2/hushuhan/tools/anaconda3/envs/d2l/lib/python3.7/site-packages/pexpect/utils.py'>,\n",
       "  'pexpect.expect': <module 'pexpect.expect' from '/data2/hushuhan/tools/anaconda3/envs/d2l/lib/python3.7/site-packages/pexpect/expect.py'>,\n",
       "  'pexpect.pty_spawn': <module 'pexpect.pty_spawn' from '/data2/hushuhan/tools/anaconda3/envs/d2l/lib/python3.7/site-packages/pexpect/pty_spawn.py'>,\n",
       "  'pty': <module 'pty' from '/data2/hushuhan/tools/anaconda3/envs/d2l/lib/python3.7/pty.py'>,\n",
       "  'tty': <module 'tty' from '/data2/hushuhan/tools/anaconda3/envs/d2l/lib/python3.7/tty.py'>,\n",
       "  'ptyprocess': <module 'ptyprocess' from '/data2/hushuhan/tools/anaconda3/envs/d2l/lib/python3.7/site-packages/ptyprocess/__init__.py'>,\n",
       "  'ptyprocess.ptyprocess': <module 'ptyprocess.ptyprocess' from '/data2/hushuhan/tools/anaconda3/envs/d2l/lib/python3.7/site-packages/ptyprocess/ptyprocess.py'>,\n",
       "  'fcntl': <module 'fcntl' from '/data2/hushuhan/tools/anaconda3/envs/d2l/lib/python3.7/lib-dynload/fcntl.cpython-37m-x86_64-linux-gnu.so'>,\n",
       "  'resource': <module 'resource' from '/data2/hushuhan/tools/anaconda3/envs/d2l/lib/python3.7/lib-dynload/resource.cpython-37m-x86_64-linux-gnu.so'>,\n",
       "  'ptyprocess.util': <module 'ptyprocess.util' from '/data2/hushuhan/tools/anaconda3/envs/d2l/lib/python3.7/site-packages/ptyprocess/util.py'>,\n",
       "  'pexpect.spawnbase': <module 'pexpect.spawnbase' from '/data2/hushuhan/tools/anaconda3/envs/d2l/lib/python3.7/site-packages/pexpect/spawnbase.py'>,\n",
       "  'pexpect.run': <module 'pexpect.run' from '/data2/hushuhan/tools/anaconda3/envs/d2l/lib/python3.7/site-packages/pexpect/run.py'>,\n",
       "  'IPython.utils._process_common': <module 'IPython.utils._process_common' from '/data2/hushuhan/tools/anaconda3/envs/d2l/lib/python3.7/site-packages/IPython/utils/_process_common.py'>,\n",
       "  'shlex': <module 'shlex' from '/data2/hushuhan/tools/anaconda3/envs/d2l/lib/python3.7/shlex.py'>,\n",
       "  'IPython.utils.decorators': <module 'IPython.utils.decorators' from '/data2/hushuhan/tools/anaconda3/envs/d2l/lib/python3.7/site-packages/IPython/utils/decorators.py'>,\n",
       "  'IPython.utils.data': <module 'IPython.utils.data' from '/data2/hushuhan/tools/anaconda3/envs/d2l/lib/python3.7/site-packages/IPython/utils/data.py'>,\n",
       "  'IPython.utils.terminal': <module 'IPython.utils.terminal' from '/data2/hushuhan/tools/anaconda3/envs/d2l/lib/python3.7/site-packages/IPython/utils/terminal.py'>,\n",
       "  'IPython.utils.sysinfo': <module 'IPython.utils.sysinfo' from '/data2/hushuhan/tools/anaconda3/envs/d2l/lib/python3.7/site-packages/IPython/utils/sysinfo.py'>,\n",
       "  'IPython.utils._sysinfo': <module 'IPython.utils._sysinfo' from '/data2/hushuhan/tools/anaconda3/envs/d2l/lib/python3.7/site-packages/IPython/utils/_sysinfo.py'>,\n",
       "  'IPython.core.profiledir': <module 'IPython.core.profiledir' from '/data2/hushuhan/tools/anaconda3/envs/d2l/lib/python3.7/site-packages/IPython/core/profiledir.py'>,\n",
       "  'IPython.paths': <module 'IPython.paths' from '/data2/hushuhan/tools/anaconda3/envs/d2l/lib/python3.7/site-packages/IPython/paths.py'>,\n",
       "  'IPython.utils.importstring': <module 'IPython.utils.importstring' from '/data2/hushuhan/tools/anaconda3/envs/d2l/lib/python3.7/site-packages/IPython/utils/importstring.py'>,\n",
       "  'IPython.terminal': <module 'IPython.terminal' from '/data2/hushuhan/tools/anaconda3/envs/d2l/lib/python3.7/site-packages/IPython/terminal/__init__.py'>,\n",
       "  'IPython.terminal.embed': <module 'IPython.terminal.embed' from '/data2/hushuhan/tools/anaconda3/envs/d2l/lib/python3.7/site-packages/IPython/terminal/embed.py'>,\n",
       "  'IPython.core.compilerop': <module 'IPython.core.compilerop' from '/data2/hushuhan/tools/anaconda3/envs/d2l/lib/python3.7/site-packages/IPython/core/compilerop.py'>,\n",
       "  'IPython.core.magic_arguments': <module 'IPython.core.magic_arguments' from '/data2/hushuhan/tools/anaconda3/envs/d2l/lib/python3.7/site-packages/IPython/core/magic_arguments.py'>,\n",
       "  'IPython.core.error': <module 'IPython.core.error' from '/data2/hushuhan/tools/anaconda3/envs/d2l/lib/python3.7/site-packages/IPython/core/error.py'>,\n",
       "  'IPython.utils.text': <module 'IPython.utils.text' from '/data2/hushuhan/tools/anaconda3/envs/d2l/lib/python3.7/site-packages/IPython/utils/text.py'>,\n",
       "  'IPython.core.magic': <module 'IPython.core.magic' from '/data2/hushuhan/tools/anaconda3/envs/d2l/lib/python3.7/site-packages/IPython/core/magic.py'>,\n",
       "  'getopt': <module 'getopt' from '/data2/hushuhan/tools/anaconda3/envs/d2l/lib/python3.7/getopt.py'>,\n",
       "  'IPython.core.oinspect': <module 'IPython.core.oinspect' from '/data2/hushuhan/tools/anaconda3/envs/d2l/lib/python3.7/site-packages/IPython/core/oinspect.py'>,\n",
       "  'IPython.core.page': <module 'IPython.core.page' from '/data2/hushuhan/tools/anaconda3/envs/d2l/lib/python3.7/site-packages/IPython/core/page.py'>,\n",
       "  'IPython.core.display': <module 'IPython.core.display' from '/data2/hushuhan/tools/anaconda3/envs/d2l/lib/python3.7/site-packages/IPython/core/display.py'>,\n",
       "  'mimetypes': <module 'mimetypes' from '/data2/hushuhan/tools/anaconda3/envs/d2l/lib/python3.7/mimetypes.py'>,\n",
       "  'IPython.lib': <module 'IPython.lib' from '/data2/hushuhan/tools/anaconda3/envs/d2l/lib/python3.7/site-packages/IPython/lib/__init__.py'>,\n",
       "  'IPython.lib.security': <module 'IPython.lib.security' from '/data2/hushuhan/tools/anaconda3/envs/d2l/lib/python3.7/site-packages/IPython/lib/security.py'>,\n",
       "  'IPython.lib.pretty': <module 'IPython.lib.pretty' from '/data2/hushuhan/tools/anaconda3/envs/d2l/lib/python3.7/site-packages/IPython/lib/pretty.py'>,\n",
       "  'IPython.utils.openpy': <module 'IPython.utils.openpy' from '/data2/hushuhan/tools/anaconda3/envs/d2l/lib/python3.7/site-packages/IPython/utils/openpy.py'>,\n",
       "  'IPython.utils.dir2': <module 'IPython.utils.dir2' from '/data2/hushuhan/tools/anaconda3/envs/d2l/lib/python3.7/site-packages/IPython/utils/dir2.py'>,\n",
       "  'IPython.utils.wildcard': <module 'IPython.utils.wildcard' from '/data2/hushuhan/tools/anaconda3/envs/d2l/lib/python3.7/site-packages/IPython/utils/wildcard.py'>,\n",
       "  'pygments.lexers': <module 'pygments.lexers' from '/data2/hushuhan/tools/anaconda3/envs/d2l/lib/python3.7/site-packages/pygments/lexers/__init__.py'>,\n",
       "  'pygments.lexers._mapping': <module 'pygments.lexers._mapping' from '/data2/hushuhan/tools/anaconda3/envs/d2l/lib/python3.7/site-packages/pygments/lexers/_mapping.py'>,\n",
       "  'pygments.modeline': <module 'pygments.modeline' from '/data2/hushuhan/tools/anaconda3/envs/d2l/lib/python3.7/site-packages/pygments/modeline.py'>,\n",
       "  'pygments.plugin': <module 'pygments.plugin' from '/data2/hushuhan/tools/anaconda3/envs/d2l/lib/python3.7/site-packages/pygments/plugin.py'>,\n",
       "  'pygments.util': <module 'pygments.util' from '/data2/hushuhan/tools/anaconda3/envs/d2l/lib/python3.7/site-packages/pygments/util.py'>,\n",
       "  'pygments.lexers.python': <module 'pygments.lexers.python' from '/data2/hushuhan/tools/anaconda3/envs/d2l/lib/python3.7/site-packages/pygments/lexers/python.py'>,\n",
       "  'pygments.lexer': <module 'pygments.lexer' from '/data2/hushuhan/tools/anaconda3/envs/d2l/lib/python3.7/site-packages/pygments/lexer.py'>,\n",
       "  'pygments.filter': <module 'pygments.filter' from '/data2/hushuhan/tools/anaconda3/envs/d2l/lib/python3.7/site-packages/pygments/filter.py'>,\n",
       "  'pygments.filters': <module 'pygments.filters' from '/data2/hushuhan/tools/anaconda3/envs/d2l/lib/python3.7/site-packages/pygments/filters/__init__.py'>,\n",
       "  'pygments.token': <module 'pygments.token' from '/data2/hushuhan/tools/anaconda3/envs/d2l/lib/python3.7/site-packages/pygments/token.py'>,\n",
       "  'pygments.regexopt': <module 'pygments.regexopt' from '/data2/hushuhan/tools/anaconda3/envs/d2l/lib/python3.7/site-packages/pygments/regexopt.py'>,\n",
       "  'pygments.unistring': <module 'pygments.unistring' from '/data2/hushuhan/tools/anaconda3/envs/d2l/lib/python3.7/site-packages/pygments/unistring.py'>,\n",
       "  'pygments.formatters': <module 'pygments.formatters' from '/data2/hushuhan/tools/anaconda3/envs/d2l/lib/python3.7/site-packages/pygments/formatters/__init__.py'>,\n",
       "  'pygments.formatters._mapping': <module 'pygments.formatters._mapping' from '/data2/hushuhan/tools/anaconda3/envs/d2l/lib/python3.7/site-packages/pygments/formatters/_mapping.py'>,\n",
       "  'pygments.formatters.html': <module 'pygments.formatters.html' from '/data2/hushuhan/tools/anaconda3/envs/d2l/lib/python3.7/site-packages/pygments/formatters/html.py'>,\n",
       "  'pygments.formatter': <module 'pygments.formatter' from '/data2/hushuhan/tools/anaconda3/envs/d2l/lib/python3.7/site-packages/pygments/formatter.py'>,\n",
       "  'pygments.styles': <module 'pygments.styles' from '/data2/hushuhan/tools/anaconda3/envs/d2l/lib/python3.7/site-packages/pygments/styles/__init__.py'>,\n",
       "  'IPython.core.inputtransformer2': <module 'IPython.core.inputtransformer2' from '/data2/hushuhan/tools/anaconda3/envs/d2l/lib/python3.7/site-packages/IPython/core/inputtransformer2.py'>,\n",
       "  'decorator': <module 'decorator' from '/data2/hushuhan/tools/anaconda3/envs/d2l/lib/python3.7/site-packages/decorator.py'>,\n",
       "  'IPython.core.interactiveshell': <module 'IPython.core.interactiveshell' from '/data2/hushuhan/tools/anaconda3/envs/d2l/lib/python3.7/site-packages/IPython/core/interactiveshell.py'>,\n",
       "  'pickleshare': <module 'pickleshare' from '/data2/hushuhan/tools/anaconda3/envs/d2l/lib/python3.7/site-packages/pickleshare.py'>,\n",
       "  'IPython.core.prefilter': <module 'IPython.core.prefilter' from '/data2/hushuhan/tools/anaconda3/envs/d2l/lib/python3.7/site-packages/IPython/core/prefilter.py'>,\n",
       "  'IPython.core.autocall': <module 'IPython.core.autocall' from '/data2/hushuhan/tools/anaconda3/envs/d2l/lib/python3.7/site-packages/IPython/core/autocall.py'>,\n",
       "  'IPython.core.macro': <module 'IPython.core.macro' from '/data2/hushuhan/tools/anaconda3/envs/d2l/lib/python3.7/site-packages/IPython/core/macro.py'>,\n",
       "  'IPython.core.splitinput': <module 'IPython.core.splitinput' from '/data2/hushuhan/tools/anaconda3/envs/d2l/lib/python3.7/site-packages/IPython/core/splitinput.py'>,\n",
       "  'IPython.core.alias': <module 'IPython.core.alias' from '/data2/hushuhan/tools/anaconda3/envs/d2l/lib/python3.7/site-packages/IPython/core/alias.py'>,\n",
       "  'IPython.core.builtin_trap': <module 'IPython.core.builtin_trap' from '/data2/hushuhan/tools/anaconda3/envs/d2l/lib/python3.7/site-packages/IPython/core/builtin_trap.py'>,\n",
       "  'IPython.core.events': <module 'IPython.core.events' from '/data2/hushuhan/tools/anaconda3/envs/d2l/lib/python3.7/site-packages/IPython/core/events.py'>,\n",
       "  'backcall': <module 'backcall' from '/data2/hushuhan/tools/anaconda3/envs/d2l/lib/python3.7/site-packages/backcall/__init__.py'>,\n",
       "  'backcall.backcall': <module 'backcall.backcall' from '/data2/hushuhan/tools/anaconda3/envs/d2l/lib/python3.7/site-packages/backcall/backcall.py'>,\n",
       "  'IPython.core.displayhook': <module 'IPython.core.displayhook' from '/data2/hushuhan/tools/anaconda3/envs/d2l/lib/python3.7/site-packages/IPython/core/displayhook.py'>,\n",
       "  'IPython.core.displaypub': <module 'IPython.core.displaypub' from '/data2/hushuhan/tools/anaconda3/envs/d2l/lib/python3.7/site-packages/IPython/core/displaypub.py'>,\n",
       "  'IPython.core.extensions': <module 'IPython.core.extensions' from '/data2/hushuhan/tools/anaconda3/envs/d2l/lib/python3.7/site-packages/IPython/core/extensions.py'>,\n",
       "  'IPython.core.formatters': <module 'IPython.core.formatters' from '/data2/hushuhan/tools/anaconda3/envs/d2l/lib/python3.7/site-packages/IPython/core/formatters.py'>,\n",
       "  'IPython.utils.sentinel': <module 'IPython.utils.sentinel' from '/data2/hushuhan/tools/anaconda3/envs/d2l/lib/python3.7/site-packages/IPython/utils/sentinel.py'>,\n",
       "  'IPython.core.history': <module 'IPython.core.history' from '/data2/hushuhan/tools/anaconda3/envs/d2l/lib/python3.7/site-packages/IPython/core/history.py'>,\n",
       "  'sqlite3': <module 'sqlite3' from '/data2/hushuhan/tools/anaconda3/envs/d2l/lib/python3.7/sqlite3/__init__.py'>,\n",
       "  'sqlite3.dbapi2': <module 'sqlite3.dbapi2' from '/data2/hushuhan/tools/anaconda3/envs/d2l/lib/python3.7/sqlite3/dbapi2.py'>,\n",
       "  '_sqlite3': <module '_sqlite3' from '/data2/hushuhan/tools/anaconda3/envs/d2l/lib/python3.7/lib-dynload/_sqlite3.cpython-37m-x86_64-linux-gnu.so'>,\n",
       "  'IPython.core.logger': <module 'IPython.core.logger' from '/data2/hushuhan/tools/anaconda3/envs/d2l/lib/python3.7/site-packages/IPython/core/logger.py'>,\n",
       "  'IPython.core.payload': <module 'IPython.core.payload' from '/data2/hushuhan/tools/anaconda3/envs/d2l/lib/python3.7/site-packages/IPython/core/payload.py'>,\n",
       "  'IPython.core.usage': <module 'IPython.core.usage' from '/data2/hushuhan/tools/anaconda3/envs/d2l/lib/python3.7/site-packages/IPython/core/usage.py'>,\n",
       "  'IPython.display': <module 'IPython.display' from '/data2/hushuhan/tools/anaconda3/envs/d2l/lib/python3.7/site-packages/IPython/display.py'>,\n",
       "  'IPython.lib.display': <module 'IPython.lib.display' from '/data2/hushuhan/tools/anaconda3/envs/d2l/lib/python3.7/site-packages/IPython/lib/display.py'>,\n",
       "  'IPython.utils.io': <module 'IPython.utils.io' from '/data2/hushuhan/tools/anaconda3/envs/d2l/lib/python3.7/site-packages/IPython/utils/io.py'>,\n",
       "  'IPython.utils.capture': <module 'IPython.utils.capture' from '/data2/hushuhan/tools/anaconda3/envs/d2l/lib/python3.7/site-packages/IPython/utils/capture.py'>,\n",
       "  'IPython.utils.strdispatch': <module 'IPython.utils.strdispatch' from '/data2/hushuhan/tools/anaconda3/envs/d2l/lib/python3.7/site-packages/IPython/utils/strdispatch.py'>,\n",
       "  'IPython.core.hooks': <module 'IPython.core.hooks' from '/data2/hushuhan/tools/anaconda3/envs/d2l/lib/python3.7/site-packages/IPython/core/hooks.py'>,\n",
       "  'IPython.utils.syspathcontext': <module 'IPython.utils.syspathcontext' from '/data2/hushuhan/tools/anaconda3/envs/d2l/lib/python3.7/site-packages/IPython/utils/syspathcontext.py'>,\n",
       "  'IPython.utils.tempdir': <module 'IPython.utils.tempdir' from '/data2/hushuhan/tools/anaconda3/envs/d2l/lib/python3.7/site-packages/IPython/utils/tempdir.py'>,\n",
       "  'IPython.utils.contexts': <module 'IPython.utils.contexts' from '/data2/hushuhan/tools/anaconda3/envs/d2l/lib/python3.7/site-packages/IPython/utils/contexts.py'>,\n",
       "  'IPython.core.async_helpers': <module 'IPython.core.async_helpers' from '/data2/hushuhan/tools/anaconda3/envs/d2l/lib/python3.7/site-packages/IPython/core/async_helpers.py'>,\n",
       "  'IPython.terminal.interactiveshell': <module 'IPython.terminal.interactiveshell' from '/data2/hushuhan/tools/anaconda3/envs/d2l/lib/python3.7/site-packages/IPython/terminal/interactiveshell.py'>,\n",
       "  'prompt_toolkit': <module 'prompt_toolkit' from '/data2/hushuhan/tools/anaconda3/envs/d2l/lib/python3.7/site-packages/prompt_toolkit/__init__.py'>,\n",
       "  'prompt_toolkit.application': <module 'prompt_toolkit.application' from '/data2/hushuhan/tools/anaconda3/envs/d2l/lib/python3.7/site-packages/prompt_toolkit/application/__init__.py'>,\n",
       "  'prompt_toolkit.application.application': <module 'prompt_toolkit.application.application' from '/data2/hushuhan/tools/anaconda3/envs/d2l/lib/python3.7/site-packages/prompt_toolkit/application/application.py'>,\n",
       "  'prompt_toolkit.buffer': <module 'prompt_toolkit.buffer' from '/data2/hushuhan/tools/anaconda3/envs/d2l/lib/python3.7/site-packages/prompt_toolkit/buffer.py'>,\n",
       "  'prompt_toolkit.application.current': <module 'prompt_toolkit.application.current' from '/data2/hushuhan/tools/anaconda3/envs/d2l/lib/python3.7/site-packages/prompt_toolkit/application/current.py'>,\n",
       "  'prompt_toolkit.application.run_in_terminal': <module 'prompt_toolkit.application.run_in_terminal' from '/data2/hushuhan/tools/anaconda3/envs/d2l/lib/python3.7/site-packages/prompt_toolkit/application/run_in_terminal.py'>,\n",
       "  'prompt_toolkit.eventloop': <module 'prompt_toolkit.eventloop' from '/data2/hushuhan/tools/anaconda3/envs/d2l/lib/python3.7/site-packages/prompt_toolkit/eventloop/__init__.py'>,\n",
       "  'prompt_toolkit.eventloop.async_generator': <module 'prompt_toolkit.eventloop.async_generator' from '/data2/hushuhan/tools/anaconda3/envs/d2l/lib/python3.7/site-packages/prompt_toolkit/eventloop/async_generator.py'>,\n",
       "  'prompt_toolkit.eventloop.utils': <module 'prompt_toolkit.eventloop.utils' from '/data2/hushuhan/tools/anaconda3/envs/d2l/lib/python3.7/site-packages/prompt_toolkit/eventloop/utils.py'>,\n",
       "  'prompt_toolkit.eventloop.inputhook': <module 'prompt_toolkit.eventloop.inputhook' from '/data2/hushuhan/tools/anaconda3/envs/d2l/lib/python3.7/site-packages/prompt_toolkit/eventloop/inputhook.py'>,\n",
       "  'prompt_toolkit.auto_suggest': <module 'prompt_toolkit.auto_suggest' from '/data2/hushuhan/tools/anaconda3/envs/d2l/lib/python3.7/site-packages/prompt_toolkit/auto_suggest.py'>,\n",
       "  'prompt_toolkit.document': <module 'prompt_toolkit.document' from '/data2/hushuhan/tools/anaconda3/envs/d2l/lib/python3.7/site-packages/prompt_toolkit/document.py'>,\n",
       "  'prompt_toolkit.clipboard': <module 'prompt_toolkit.clipboard' from '/data2/hushuhan/tools/anaconda3/envs/d2l/lib/python3.7/site-packages/prompt_toolkit/clipboard/__init__.py'>,\n",
       "  'prompt_toolkit.clipboard.base': <module 'prompt_toolkit.clipboard.base' from '/data2/hushuhan/tools/anaconda3/envs/d2l/lib/python3.7/site-packages/prompt_toolkit/clipboard/base.py'>,\n",
       "  'prompt_toolkit.selection': <module 'prompt_toolkit.selection' from '/data2/hushuhan/tools/anaconda3/envs/d2l/lib/python3.7/site-packages/prompt_toolkit/selection.py'>,\n",
       "  'prompt_toolkit.clipboard.in_memory': <module 'prompt_toolkit.clipboard.in_memory' from '/data2/hushuhan/tools/anaconda3/envs/d2l/lib/python3.7/site-packages/prompt_toolkit/clipboard/in_memory.py'>,\n",
       "  'prompt_toolkit.filters': <module 'prompt_toolkit.filters' from '/data2/hushuhan/tools/anaconda3/envs/d2l/lib/python3.7/site-packages/prompt_toolkit/filters/__init__.py'>,\n",
       "  'prompt_toolkit.filters.app': <module 'prompt_toolkit.filters.app' from '/data2/hushuhan/tools/anaconda3/envs/d2l/lib/python3.7/site-packages/prompt_toolkit/filters/app.py'>,\n",
       "  'prompt_toolkit.cache': <module 'prompt_toolkit.cache' from '/data2/hushuhan/tools/anaconda3/envs/d2l/lib/python3.7/site-packages/prompt_toolkit/cache.py'>,\n",
       "  'prompt_toolkit.enums': <module 'prompt_toolkit.enums' from '/data2/hushuhan/tools/anaconda3/envs/d2l/lib/python3.7/site-packages/prompt_toolkit/enums.py'>,\n",
       "  'prompt_toolkit.filters.base': <module 'prompt_toolkit.filters.base' from '/data2/hushuhan/tools/anaconda3/envs/d2l/lib/python3.7/site-packages/prompt_toolkit/filters/base.py'>,\n",
       "  'prompt_toolkit.filters.cli': <module 'prompt_toolkit.filters.cli' from '/data2/hushuhan/tools/anaconda3/envs/d2l/lib/python3.7/site-packages/prompt_toolkit/filters/cli.py'>,\n",
       "  'prompt_toolkit.filters.utils': <module 'prompt_toolkit.filters.utils' from '/data2/hushuhan/tools/anaconda3/envs/d2l/lib/python3.7/site-packages/prompt_toolkit/filters/utils.py'>,\n",
       "  'prompt_toolkit.completion': <module 'prompt_toolkit.completion' from '/data2/hushuhan/tools/anaconda3/envs/d2l/lib/python3.7/site-packages/prompt_toolkit/completion/__init__.py'>,\n",
       "  'prompt_toolkit.completion.base': <module 'prompt_toolkit.completion.base' from '/data2/hushuhan/tools/anaconda3/envs/d2l/lib/python3.7/site-packages/prompt_toolkit/completion/base.py'>,\n",
       "  'prompt_toolkit.formatted_text': <module 'prompt_toolkit.formatted_text' from '/data2/hushuhan/tools/anaconda3/envs/d2l/lib/python3.7/site-packages/prompt_toolkit/formatted_text/__init__.py'>,\n",
       "  'prompt_toolkit.formatted_text.ansi': <module 'prompt_toolkit.formatted_text.ansi' from '/data2/hushuhan/tools/anaconda3/envs/d2l/lib/python3.7/site-packages/prompt_toolkit/formatted_text/ansi.py'>,\n",
       "  'prompt_toolkit.output': <module 'prompt_toolkit.output' from '/data2/hushuhan/tools/anaconda3/envs/d2l/lib/python3.7/site-packages/prompt_toolkit/output/__init__.py'>,\n",
       "  'prompt_toolkit.output.base': <module 'prompt_toolkit.output.base' from '/data2/hushuhan/tools/anaconda3/envs/d2l/lib/python3.7/site-packages/prompt_toolkit/output/base.py'>,\n",
       "  'prompt_toolkit.cursor_shapes': <module 'prompt_toolkit.cursor_shapes' from '/data2/hushuhan/tools/anaconda3/envs/d2l/lib/python3.7/site-packages/prompt_toolkit/cursor_shapes.py'>,\n",
       "  'prompt_toolkit.key_binding': <module 'prompt_toolkit.key_binding' from '/data2/hushuhan/tools/anaconda3/envs/d2l/lib/python3.7/site-packages/prompt_toolkit/key_binding/__init__.py'>,\n",
       "  'prompt_toolkit.key_binding.key_bindings': <module 'prompt_toolkit.key_binding.key_bindings' from '/data2/hushuhan/tools/anaconda3/envs/d2l/lib/python3.7/site-packages/prompt_toolkit/key_binding/key_bindings.py'>,\n",
       "  'prompt_toolkit.keys': <module 'prompt_toolkit.keys' from '/data2/hushuhan/tools/anaconda3/envs/d2l/lib/python3.7/site-packages/prompt_toolkit/keys.py'>,\n",
       "  'prompt_toolkit.key_binding.key_processor': <module 'prompt_toolkit.key_binding.key_processor' from '/data2/hushuhan/tools/anaconda3/envs/d2l/lib/python3.7/site-packages/prompt_toolkit/key_binding/key_processor.py'>,\n",
       "  'prompt_toolkit.utils': <module 'prompt_toolkit.utils' from '/data2/hushuhan/tools/anaconda3/envs/d2l/lib/python3.7/site-packages/prompt_toolkit/utils.py'>,\n",
       "  'wcwidth': <module 'wcwidth' from '/data2/hushuhan/tools/anaconda3/envs/d2l/lib/python3.7/site-packages/wcwidth/__init__.py'>,\n",
       "  'wcwidth.wcwidth': <module 'wcwidth.wcwidth' from '/data2/hushuhan/tools/anaconda3/envs/d2l/lib/python3.7/site-packages/wcwidth/wcwidth.py'>,\n",
       "  'wcwidth.table_wide': <module 'wcwidth.table_wide' from '/data2/hushuhan/tools/anaconda3/envs/d2l/lib/python3.7/site-packages/wcwidth/table_wide.py'>,\n",
       "  'wcwidth.table_zero': <module 'wcwidth.table_zero' from '/data2/hushuhan/tools/anaconda3/envs/d2l/lib/python3.7/site-packages/wcwidth/table_zero.py'>,\n",
       "  'wcwidth.unicode_versions': <module 'wcwidth.unicode_versions' from '/data2/hushuhan/tools/anaconda3/envs/d2l/lib/python3.7/site-packages/wcwidth/unicode_versions.py'>,\n",
       "  'prompt_toolkit.key_binding.vi_state': <module 'prompt_toolkit.key_binding.vi_state' from '/data2/hushuhan/tools/anaconda3/envs/d2l/lib/python3.7/site-packages/prompt_toolkit/key_binding/vi_state.py'>,\n",
       "  'prompt_toolkit.data_structures': <module 'prompt_toolkit.data_structures' from '/data2/hushuhan/tools/anaconda3/envs/d2l/lib/python3.7/site-packages/prompt_toolkit/data_structures.py'>,\n",
       "  'prompt_toolkit.styles': <module 'prompt_toolkit.styles' from '/data2/hushuhan/tools/anaconda3/envs/d2l/lib/python3.7/site-packages/prompt_toolkit/styles/__init__.py'>,\n",
       "  'prompt_toolkit.styles.base': <module 'prompt_toolkit.styles.base' from '/data2/hushuhan/tools/anaconda3/envs/d2l/lib/python3.7/site-packages/prompt_toolkit/styles/base.py'>,\n",
       "  'prompt_toolkit.styles.defaults': <module 'prompt_toolkit.styles.defaults' from '/data2/hushuhan/tools/anaconda3/envs/d2l/lib/python3.7/site-packages/prompt_toolkit/styles/defaults.py'>,\n",
       "  'prompt_toolkit.styles.named_colors': <module 'prompt_toolkit.styles.named_colors' from '/data2/hushuhan/tools/anaconda3/envs/d2l/lib/python3.7/site-packages/prompt_toolkit/styles/named_colors.py'>,\n",
       "  'prompt_toolkit.styles.style': <module 'prompt_toolkit.styles.style' from '/data2/hushuhan/tools/anaconda3/envs/d2l/lib/python3.7/site-packages/prompt_toolkit/styles/style.py'>,\n",
       "  'prompt_toolkit.styles.pygments': <module 'prompt_toolkit.styles.pygments' from '/data2/hushuhan/tools/anaconda3/envs/d2l/lib/python3.7/site-packages/prompt_toolkit/styles/pygments.py'>,\n",
       "  'prompt_toolkit.styles.style_transformation': <module 'prompt_toolkit.styles.style_transformation' from '/data2/hushuhan/tools/anaconda3/envs/d2l/lib/python3.7/site-packages/prompt_toolkit/styles/style_transformation.py'>,\n",
       "  'colorsys': <module 'colorsys' from '/data2/hushuhan/tools/anaconda3/envs/d2l/lib/python3.7/colorsys.py'>,\n",
       "  'prompt_toolkit.output.color_depth': <module 'prompt_toolkit.output.color_depth' from '/data2/hushuhan/tools/anaconda3/envs/d2l/lib/python3.7/site-packages/prompt_toolkit/output/color_depth.py'>,\n",
       "  'prompt_toolkit.output.defaults': <module 'prompt_toolkit.output.defaults' from '/data2/hushuhan/tools/anaconda3/envs/d2l/lib/python3.7/site-packages/prompt_toolkit/output/defaults.py'>,\n",
       "  'prompt_toolkit.output.plain_text': <module 'prompt_toolkit.output.plain_text' from '/data2/hushuhan/tools/anaconda3/envs/d2l/lib/python3.7/site-packages/prompt_toolkit/output/plain_text.py'>,\n",
       "  'prompt_toolkit.output.flush_stdout': <module 'prompt_toolkit.output.flush_stdout' from '/data2/hushuhan/tools/anaconda3/envs/d2l/lib/python3.7/site-packages/prompt_toolkit/output/flush_stdout.py'>,\n",
       "  'prompt_toolkit.output.vt100': <module 'prompt_toolkit.output.vt100' from '/data2/hushuhan/tools/anaconda3/envs/d2l/lib/python3.7/site-packages/prompt_toolkit/output/vt100.py'>,\n",
       "  'prompt_toolkit.formatted_text.base': <module 'prompt_toolkit.formatted_text.base' from '/data2/hushuhan/tools/anaconda3/envs/d2l/lib/python3.7/site-packages/prompt_toolkit/formatted_text/base.py'>,\n",
       "  'prompt_toolkit.mouse_events': <module 'prompt_toolkit.mouse_events' from '/data2/hushuhan/tools/anaconda3/envs/d2l/lib/python3.7/site-packages/prompt_toolkit/mouse_events.py'>,\n",
       "  'prompt_toolkit.formatted_text.html': <module 'prompt_toolkit.formatted_text.html' from '/data2/hushuhan/tools/anaconda3/envs/d2l/lib/python3.7/site-packages/prompt_toolkit/formatted_text/html.py'>,\n",
       "  'xml': <module 'xml' from '/data2/hushuhan/tools/anaconda3/envs/d2l/lib/python3.7/xml/__init__.py'>,\n",
       "  'xml.dom': <module 'xml.dom' from '/data2/hushuhan/tools/anaconda3/envs/d2l/lib/python3.7/xml/dom/__init__.py'>,\n",
       "  'xml.dom.domreg': <module 'xml.dom.domreg' from '/data2/hushuhan/tools/anaconda3/envs/d2l/lib/python3.7/xml/dom/domreg.py'>,\n",
       "  'xml.dom.minidom': <module 'xml.dom.minidom' from '/data2/hushuhan/tools/anaconda3/envs/d2l/lib/python3.7/xml/dom/minidom.py'>,\n",
       "  'xml.dom.minicompat': <module 'xml.dom.minicompat' from '/data2/hushuhan/tools/anaconda3/envs/d2l/lib/python3.7/xml/dom/minicompat.py'>,\n",
       "  'xml.dom.xmlbuilder': <module 'xml.dom.xmlbuilder' from '/data2/hushuhan/tools/anaconda3/envs/d2l/lib/python3.7/xml/dom/xmlbuilder.py'>,\n",
       "  'xml.dom.NodeFilter': <module 'xml.dom.NodeFilter' from '/data2/hushuhan/tools/anaconda3/envs/d2l/lib/python3.7/xml/dom/NodeFilter.py'>,\n",
       "  'prompt_toolkit.formatted_text.pygments': <module 'prompt_toolkit.formatted_text.pygments' from '/data2/hushuhan/tools/anaconda3/envs/d2l/lib/python3.7/site-packages/prompt_toolkit/formatted_text/pygments.py'>,\n",
       "  'prompt_toolkit.formatted_text.utils': <module 'prompt_toolkit.formatted_text.utils' from '/data2/hushuhan/tools/anaconda3/envs/d2l/lib/python3.7/site-packages/prompt_toolkit/formatted_text/utils.py'>,\n",
       "  'prompt_toolkit.completion.deduplicate': <module 'prompt_toolkit.completion.deduplicate' from '/data2/hushuhan/tools/anaconda3/envs/d2l/lib/python3.7/site-packages/prompt_toolkit/completion/deduplicate.py'>,\n",
       "  'prompt_toolkit.completion.filesystem': <module 'prompt_toolkit.completion.filesystem' from '/data2/hushuhan/tools/anaconda3/envs/d2l/lib/python3.7/site-packages/prompt_toolkit/completion/filesystem.py'>,\n",
       "  'prompt_toolkit.completion.fuzzy_completer': <module 'prompt_toolkit.completion.fuzzy_completer' from '/data2/hushuhan/tools/anaconda3/envs/d2l/lib/python3.7/site-packages/prompt_toolkit/completion/fuzzy_completer.py'>,\n",
       "  'prompt_toolkit.completion.word_completer': <module 'prompt_toolkit.completion.word_completer' from '/data2/hushuhan/tools/anaconda3/envs/d2l/lib/python3.7/site-packages/prompt_toolkit/completion/word_completer.py'>,\n",
       "  'prompt_toolkit.completion.nested': <module 'prompt_toolkit.completion.nested' from '/data2/hushuhan/tools/anaconda3/envs/d2l/lib/python3.7/site-packages/prompt_toolkit/completion/nested.py'>,\n",
       "  'prompt_toolkit.history': <module 'prompt_toolkit.history' from '/data2/hushuhan/tools/anaconda3/envs/d2l/lib/python3.7/site-packages/prompt_toolkit/history.py'>,\n",
       "  'prompt_toolkit.search': <module 'prompt_toolkit.search' from '/data2/hushuhan/tools/anaconda3/envs/d2l/lib/python3.7/site-packages/prompt_toolkit/search.py'>,\n",
       "  'prompt_toolkit.validation': <module 'prompt_toolkit.validation' from '/data2/hushuhan/tools/anaconda3/envs/d2l/lib/python3.7/site-packages/prompt_toolkit/validation.py'>,\n",
       "  'prompt_toolkit.input': <module 'prompt_toolkit.input' from '/data2/hushuhan/tools/anaconda3/envs/d2l/lib/python3.7/site-packages/prompt_toolkit/input/__init__.py'>,\n",
       "  'prompt_toolkit.input.base': <module 'prompt_toolkit.input.base' from '/data2/hushuhan/tools/anaconda3/envs/d2l/lib/python3.7/site-packages/prompt_toolkit/input/base.py'>,\n",
       "  'prompt_toolkit.input.defaults': <module 'prompt_toolkit.input.defaults' from '/data2/hushuhan/tools/anaconda3/envs/d2l/lib/python3.7/site-packages/prompt_toolkit/input/defaults.py'>,\n",
       "  'prompt_toolkit.input.typeahead': <module 'prompt_toolkit.input.typeahead' from '/data2/hushuhan/tools/anaconda3/envs/d2l/lib/python3.7/site-packages/prompt_toolkit/input/typeahead.py'>,\n",
       "  'prompt_toolkit.key_binding.bindings': <module 'prompt_toolkit.key_binding.bindings' from '/data2/hushuhan/tools/anaconda3/envs/d2l/lib/python3.7/site-packages/prompt_toolkit/key_binding/bindings/__init__.py'>,\n",
       "  'prompt_toolkit.key_binding.bindings.page_navigation': <module 'prompt_toolkit.key_binding.bindings.page_navigation' from '/data2/hushuhan/tools/anaconda3/envs/d2l/lib/python3.7/site-packages/prompt_toolkit/key_binding/bindings/page_navigation.py'>,\n",
       "  'prompt_toolkit.key_binding.bindings.scroll': <module 'prompt_toolkit.key_binding.bindings.scroll' from '/data2/hushuhan/tools/anaconda3/envs/d2l/lib/python3.7/site-packages/prompt_toolkit/key_binding/bindings/scroll.py'>,\n",
       "  'prompt_toolkit.key_binding.defaults': <module 'prompt_toolkit.key_binding.defaults' from '/data2/hushuhan/tools/anaconda3/envs/d2l/lib/python3.7/site-packages/prompt_toolkit/key_binding/defaults.py'>,\n",
       "  'prompt_toolkit.key_binding.bindings.basic': <module 'prompt_toolkit.key_binding.bindings.basic' from '/data2/hushuhan/tools/anaconda3/envs/d2l/lib/python3.7/site-packages/prompt_toolkit/key_binding/bindings/basic.py'>,\n",
       "  'prompt_toolkit.key_binding.bindings.named_commands': <module 'prompt_toolkit.key_binding.bindings.named_commands' from '/data2/hushuhan/tools/anaconda3/envs/d2l/lib/python3.7/site-packages/prompt_toolkit/key_binding/bindings/named_commands.py'>,\n",
       "  'prompt_toolkit.layout': <module 'prompt_toolkit.layout' from '/data2/hushuhan/tools/anaconda3/envs/d2l/lib/python3.7/site-packages/prompt_toolkit/layout/__init__.py'>,\n",
       "  'prompt_toolkit.layout.containers': <module 'prompt_toolkit.layout.containers' from '/data2/hushuhan/tools/anaconda3/envs/d2l/lib/python3.7/site-packages/prompt_toolkit/layout/containers.py'>,\n",
       "  'prompt_toolkit.layout.controls': <module 'prompt_toolkit.layout.controls' from '/data2/hushuhan/tools/anaconda3/envs/d2l/lib/python3.7/site-packages/prompt_toolkit/layout/controls.py'>,\n",
       "  'prompt_toolkit.lexers': <module 'prompt_toolkit.lexers' from '/data2/hushuhan/tools/anaconda3/envs/d2l/lib/python3.7/site-packages/prompt_toolkit/lexers/__init__.py'>,\n",
       "  'prompt_toolkit.lexers.base': <module 'prompt_toolkit.lexers.base' from '/data2/hushuhan/tools/anaconda3/envs/d2l/lib/python3.7/site-packages/prompt_toolkit/lexers/base.py'>,\n",
       "  'prompt_toolkit.lexers.pygments': <module 'prompt_toolkit.lexers.pygments' from '/data2/hushuhan/tools/anaconda3/envs/d2l/lib/python3.7/site-packages/prompt_toolkit/lexers/pygments.py'>,\n",
       "  'prompt_toolkit.layout.processors': <module 'prompt_toolkit.layout.processors' from '/data2/hushuhan/tools/anaconda3/envs/d2l/lib/python3.7/site-packages/prompt_toolkit/layout/processors.py'>,\n",
       "  'prompt_toolkit.layout.utils': <module 'prompt_toolkit.layout.utils' from '/data2/hushuhan/tools/anaconda3/envs/d2l/lib/python3.7/site-packages/prompt_toolkit/layout/utils.py'>,\n",
       "  'prompt_toolkit.layout.dimension': <module 'prompt_toolkit.layout.dimension' from '/data2/hushuhan/tools/anaconda3/envs/d2l/lib/python3.7/site-packages/prompt_toolkit/layout/dimension.py'>,\n",
       "  'prompt_toolkit.layout.margins': <module 'prompt_toolkit.layout.margins' from '/data2/hushuhan/tools/anaconda3/envs/d2l/lib/python3.7/site-packages/prompt_toolkit/layout/margins.py'>,\n",
       "  'prompt_toolkit.layout.mouse_handlers': <module 'prompt_toolkit.layout.mouse_handlers' from '/data2/hushuhan/tools/anaconda3/envs/d2l/lib/python3.7/site-packages/prompt_toolkit/layout/mouse_handlers.py'>,\n",
       "  'prompt_toolkit.layout.screen': <module 'prompt_toolkit.layout.screen' from '/data2/hushuhan/tools/anaconda3/envs/d2l/lib/python3.7/site-packages/prompt_toolkit/layout/screen.py'>,\n",
       "  'prompt_toolkit.layout.layout': <module 'prompt_toolkit.layout.layout' from '/data2/hushuhan/tools/anaconda3/envs/d2l/lib/python3.7/site-packages/prompt_toolkit/layout/layout.py'>,\n",
       "  'prompt_toolkit.layout.menus': <module 'prompt_toolkit.layout.menus' from '/data2/hushuhan/tools/anaconda3/envs/d2l/lib/python3.7/site-packages/prompt_toolkit/layout/menus.py'>,\n",
       "  'prompt_toolkit.layout.scrollable_pane': <module 'prompt_toolkit.layout.scrollable_pane' from '/data2/hushuhan/tools/anaconda3/envs/d2l/lib/python3.7/site-packages/prompt_toolkit/layout/scrollable_pane.py'>,\n",
       "  'prompt_toolkit.key_binding.bindings.completion': <module 'prompt_toolkit.key_binding.bindings.completion' from '/data2/hushuhan/tools/anaconda3/envs/d2l/lib/python3.7/site-packages/prompt_toolkit/key_binding/bindings/completion.py'>,\n",
       "  'prompt_toolkit.key_binding.bindings.cpr': <module 'prompt_toolkit.key_binding.bindings.cpr' from '/data2/hushuhan/tools/anaconda3/envs/d2l/lib/python3.7/site-packages/prompt_toolkit/key_binding/bindings/cpr.py'>,\n",
       "  'prompt_toolkit.key_binding.bindings.emacs': <module 'prompt_toolkit.key_binding.bindings.emacs' from '/data2/hushuhan/tools/anaconda3/envs/d2l/lib/python3.7/site-packages/prompt_toolkit/key_binding/bindings/emacs.py'>,\n",
       "  'prompt_toolkit.key_binding.bindings.mouse': <module 'prompt_toolkit.key_binding.bindings.mouse' from '/data2/hushuhan/tools/anaconda3/envs/d2l/lib/python3.7/site-packages/prompt_toolkit/key_binding/bindings/mouse.py'>,\n",
       "  'prompt_toolkit.key_binding.bindings.vi': <module 'prompt_toolkit.key_binding.bindings.vi' from '/data2/hushuhan/tools/anaconda3/envs/d2l/lib/python3.7/site-packages/prompt_toolkit/key_binding/bindings/vi.py'>,\n",
       "  'prompt_toolkit.input.vt100_parser': <module 'prompt_toolkit.input.vt100_parser' from '/data2/hushuhan/tools/anaconda3/envs/d2l/lib/python3.7/site-packages/prompt_toolkit/input/vt100_parser.py'>,\n",
       "  'prompt_toolkit.input.ansi_escape_sequences': <module 'prompt_toolkit.input.ansi_escape_sequences' from '/data2/hushuhan/tools/anaconda3/envs/d2l/lib/python3.7/site-packages/prompt_toolkit/input/ansi_escape_sequences.py'>,\n",
       "  'prompt_toolkit.key_binding.digraphs': <module 'prompt_toolkit.key_binding.digraphs' from '/data2/hushuhan/tools/anaconda3/envs/d2l/lib/python3.7/site-packages/prompt_toolkit/key_binding/digraphs.py'>,\n",
       "  'prompt_toolkit.key_binding.emacs_state': <module 'prompt_toolkit.key_binding.emacs_state' from '/data2/hushuhan/tools/anaconda3/envs/d2l/lib/python3.7/site-packages/prompt_toolkit/key_binding/emacs_state.py'>,\n",
       "  'prompt_toolkit.layout.dummy': <module 'prompt_toolkit.layout.dummy' from '/data2/hushuhan/tools/anaconda3/envs/d2l/lib/python3.7/site-packages/prompt_toolkit/layout/dummy.py'>,\n",
       "  'prompt_toolkit.renderer': <module 'prompt_toolkit.renderer' from '/data2/hushuhan/tools/anaconda3/envs/d2l/lib/python3.7/site-packages/prompt_toolkit/renderer.py'>,\n",
       "  'prompt_toolkit.application.dummy': <module 'prompt_toolkit.application.dummy' from '/data2/hushuhan/tools/anaconda3/envs/d2l/lib/python3.7/site-packages/prompt_toolkit/application/dummy.py'>,\n",
       "  'prompt_toolkit.shortcuts': <module 'prompt_toolkit.shortcuts' from '/data2/hushuhan/tools/anaconda3/envs/d2l/lib/python3.7/site-packages/prompt_toolkit/shortcuts/__init__.py'>,\n",
       "  'prompt_toolkit.shortcuts.dialogs': <module 'prompt_toolkit.shortcuts.dialogs' from '/data2/hushuhan/tools/anaconda3/envs/d2l/lib/python3.7/site-packages/prompt_toolkit/shortcuts/dialogs.py'>,\n",
       "  'prompt_toolkit.key_binding.bindings.focus': <module 'prompt_toolkit.key_binding.bindings.focus' from '/data2/hushuhan/tools/anaconda3/envs/d2l/lib/python3.7/site-packages/prompt_toolkit/key_binding/bindings/focus.py'>,\n",
       "  'prompt_toolkit.widgets': <module 'prompt_toolkit.widgets' from '/data2/hushuhan/tools/anaconda3/envs/d2l/lib/python3.7/site-packages/prompt_toolkit/widgets/__init__.py'>,\n",
       "  'prompt_toolkit.widgets.base': <module 'prompt_toolkit.widgets.base' from '/data2/hushuhan/tools/anaconda3/envs/d2l/lib/python3.7/site-packages/prompt_toolkit/widgets/base.py'>,\n",
       "  'prompt_toolkit.widgets.toolbars': <module 'prompt_toolkit.widgets.toolbars' from '/data2/hushuhan/tools/anaconda3/envs/d2l/lib/python3.7/site-packages/prompt_toolkit/widgets/toolbars.py'>,\n",
       "  'prompt_toolkit.widgets.dialogs': <module 'prompt_toolkit.widgets.dialogs' from '/data2/hushuhan/tools/anaconda3/envs/d2l/lib/python3.7/site-packages/prompt_toolkit/widgets/dialogs.py'>,\n",
       "  'prompt_toolkit.widgets.menus': <module 'prompt_toolkit.widgets.menus' from '/data2/hushuhan/tools/anaconda3/envs/d2l/lib/python3.7/site-packages/prompt_toolkit/widgets/menus.py'>,\n",
       "  'prompt_toolkit.shortcuts.progress_bar': <module 'prompt_toolkit.shortcuts.progress_bar' from '/data2/hushuhan/tools/anaconda3/envs/d2l/lib/python3.7/site-packages/prompt_toolkit/shortcuts/progress_bar/__init__.py'>,\n",
       "  'prompt_toolkit.shortcuts.progress_bar.base': <module 'prompt_toolkit.shortcuts.progress_bar.base' from '/data2/hushuhan/tools/anaconda3/envs/d2l/lib/python3.7/site-packages/prompt_toolkit/shortcuts/progress_bar/base.py'>,\n",
       "  'prompt_toolkit.shortcuts.progress_bar.formatters': <module 'prompt_toolkit.shortcuts.progress_bar.formatters' from '/data2/hushuhan/tools/anaconda3/envs/d2l/lib/python3.7/site-packages/prompt_toolkit/shortcuts/progress_bar/formatters.py'>,\n",
       "  'prompt_toolkit.shortcuts.prompt': <module 'prompt_toolkit.shortcuts.prompt' from '/data2/hushuhan/tools/anaconda3/envs/d2l/lib/python3.7/site-packages/prompt_toolkit/shortcuts/prompt.py'>,\n",
       "  'prompt_toolkit.key_binding.bindings.auto_suggest': <module 'prompt_toolkit.key_binding.bindings.auto_suggest' from '/data2/hushuhan/tools/anaconda3/envs/d2l/lib/python3.7/site-packages/prompt_toolkit/key_binding/bindings/auto_suggest.py'>,\n",
       "  'prompt_toolkit.key_binding.bindings.open_in_editor': <module 'prompt_toolkit.key_binding.bindings.open_in_editor' from '/data2/hushuhan/tools/anaconda3/envs/d2l/lib/python3.7/site-packages/prompt_toolkit/key_binding/bindings/open_in_editor.py'>,\n",
       "  'prompt_toolkit.shortcuts.utils': <module 'prompt_toolkit.shortcuts.utils' from '/data2/hushuhan/tools/anaconda3/envs/d2l/lib/python3.7/site-packages/prompt_toolkit/shortcuts/utils.py'>,\n",
       "  'prompt_toolkit.patch_stdout': <module 'prompt_toolkit.patch_stdout' from '/data2/hushuhan/tools/anaconda3/envs/d2l/lib/python3.7/site-packages/prompt_toolkit/patch_stdout.py'>,\n",
       "  'pygments.style': <module 'pygments.style' from '/data2/hushuhan/tools/anaconda3/envs/d2l/lib/python3.7/site-packages/pygments/style.py'>,\n",
       "  'IPython.terminal.debugger': <module 'IPython.terminal.debugger' from '/data2/hushuhan/tools/anaconda3/envs/d2l/lib/python3.7/site-packages/IPython/terminal/debugger.py'>,\n",
       "  'IPython.core.completer': <module 'IPython.core.completer' from '/data2/hushuhan/tools/anaconda3/envs/d2l/lib/python3.7/site-packages/IPython/core/completer.py'>,\n",
       "  'unicodedata': <module 'unicodedata' from '/data2/hushuhan/tools/anaconda3/envs/d2l/lib/python3.7/lib-dynload/unicodedata.cpython-37m-x86_64-linux-gnu.so'>,\n",
       "  'IPython.core.latex_symbols': <module 'IPython.core.latex_symbols' from '/data2/hushuhan/tools/anaconda3/envs/d2l/lib/python3.7/site-packages/IPython/core/latex_symbols.py'>,\n",
       "  'IPython.utils.generics': <module 'IPython.utils.generics' from '/data2/hushuhan/tools/anaconda3/envs/d2l/lib/python3.7/site-packages/IPython/utils/generics.py'>,\n",
       "  'jedi': <module 'jedi' from '/data2/hushuhan/tools/anaconda3/envs/d2l/lib/python3.7/site-packages/jedi/__init__.py'>,\n",
       "  'jedi.api': <module 'jedi.api' from '/data2/hushuhan/tools/anaconda3/envs/d2l/lib/python3.7/site-packages/jedi/api/__init__.py'>,\n",
       "  'parso': <module 'parso' from '/data2/hushuhan/tools/anaconda3/envs/d2l/lib/python3.7/site-packages/parso/__init__.py'>,\n",
       "  'parso.parser': <module 'parso.parser' from '/data2/hushuhan/tools/anaconda3/envs/d2l/lib/python3.7/site-packages/parso/parser.py'>,\n",
       "  'parso.tree': <module 'parso.tree' from '/data2/hushuhan/tools/anaconda3/envs/d2l/lib/python3.7/site-packages/parso/tree.py'>,\n",
       "  'parso.utils': <module 'parso.utils' from '/data2/hushuhan/tools/anaconda3/envs/d2l/lib/python3.7/site-packages/parso/utils.py'>,\n",
       "  'parso.pgen2': <module 'parso.pgen2' from '/data2/hushuhan/tools/anaconda3/envs/d2l/lib/python3.7/site-packages/parso/pgen2/__init__.py'>,\n",
       "  'parso.pgen2.generator': <module 'parso.pgen2.generator' from '/data2/hushuhan/tools/anaconda3/envs/d2l/lib/python3.7/site-packages/parso/pgen2/generator.py'>,\n",
       "  'parso.pgen2.grammar_parser': <module 'parso.pgen2.grammar_parser' from '/data2/hushuhan/tools/anaconda3/envs/d2l/lib/python3.7/site-packages/parso/pgen2/grammar_parser.py'>,\n",
       "  'parso.python': <module 'parso.python' from '/data2/hushuhan/tools/anaconda3/envs/d2l/lib/python3.7/site-packages/parso/python/__init__.py'>,\n",
       "  'parso.python.tokenize': <module 'parso.python.tokenize' from '/data2/hushuhan/tools/anaconda3/envs/d2l/lib/python3.7/site-packages/parso/python/tokenize.py'>,\n",
       "  'parso.python.token': <module 'parso.python.token' from '/data2/hushuhan/tools/anaconda3/envs/d2l/lib/python3.7/site-packages/parso/python/token.py'>,\n",
       "  'parso.grammar': <module 'parso.grammar' from '/data2/hushuhan/tools/anaconda3/envs/d2l/lib/python3.7/site-packages/parso/grammar.py'>,\n",
       "  'parso._compatibility': <module 'parso._compatibility' from '/data2/hushuhan/tools/anaconda3/envs/d2l/lib/python3.7/site-packages/parso/_compatibility.py'>,\n",
       "  'parso.python.diff': <module 'parso.python.diff' from '/data2/hushuhan/tools/anaconda3/envs/d2l/lib/python3.7/site-packages/parso/python/diff.py'>,\n",
       "  'difflib': <module 'difflib' from '/data2/hushuhan/tools/anaconda3/envs/d2l/lib/python3.7/difflib.py'>,\n",
       "  'parso.python.parser': <module 'parso.python.parser' from '/data2/hushuhan/tools/anaconda3/envs/d2l/lib/python3.7/site-packages/parso/python/parser.py'>,\n",
       "  'parso.python.tree': <module 'parso.python.tree' from '/data2/hushuhan/tools/anaconda3/envs/d2l/lib/python3.7/site-packages/parso/python/tree.py'>,\n",
       "  'parso.python.prefix': <module 'parso.python.prefix' from '/data2/hushuhan/tools/anaconda3/envs/d2l/lib/python3.7/site-packages/parso/python/prefix.py'>,\n",
       "  'parso.cache': <module 'parso.cache' from '/data2/hushuhan/tools/anaconda3/envs/d2l/lib/python3.7/site-packages/parso/cache.py'>,\n",
       "  'gc': <module 'gc' (built-in)>,\n",
       "  'parso.python.errors': <module 'parso.python.errors' from '/data2/hushuhan/tools/anaconda3/envs/d2l/lib/python3.7/site-packages/parso/python/errors.py'>,\n",
       "  'parso.normalizer': <module 'parso.normalizer' from '/data2/hushuhan/tools/anaconda3/envs/d2l/lib/python3.7/site-packages/parso/normalizer.py'>,\n",
       "  'parso.python.pep8': <module 'parso.python.pep8' from '/data2/hushuhan/tools/anaconda3/envs/d2l/lib/python3.7/site-packages/parso/python/pep8.py'>,\n",
       "  'parso.file_io': <module 'parso.file_io' from '/data2/hushuhan/tools/anaconda3/envs/d2l/lib/python3.7/site-packages/parso/file_io.py'>,\n",
       "  'jedi.parser_utils': <module 'jedi.parser_utils' from '/data2/hushuhan/tools/anaconda3/envs/d2l/lib/python3.7/site-packages/jedi/parser_utils.py'>,\n",
       "  'jedi.debug': <module 'jedi.debug' from '/data2/hushuhan/tools/anaconda3/envs/d2l/lib/python3.7/site-packages/jedi/debug.py'>,\n",
       "  'jedi.settings': <module 'jedi.settings' from '/data2/hushuhan/tools/anaconda3/envs/d2l/lib/python3.7/site-packages/jedi/settings.py'>,\n",
       "  'jedi.cache': <module 'jedi.cache' from '/data2/hushuhan/tools/anaconda3/envs/d2l/lib/python3.7/site-packages/jedi/cache.py'>,\n",
       "  'jedi.file_io': <module 'jedi.file_io' from '/data2/hushuhan/tools/anaconda3/envs/d2l/lib/python3.7/site-packages/jedi/file_io.py'>,\n",
       "  'jedi.api.classes': <module 'jedi.api.classes' from '/data2/hushuhan/tools/anaconda3/envs/d2l/lib/python3.7/site-packages/jedi/api/classes.py'>,\n",
       "  'jedi.inference': <module 'jedi.inference' from '/data2/hushuhan/tools/anaconda3/envs/d2l/lib/python3.7/site-packages/jedi/inference/__init__.py'>,\n",
       "  'jedi.inference.imports': <module 'jedi.inference.imports' from '/data2/hushuhan/tools/anaconda3/envs/d2l/lib/python3.7/site-packages/jedi/inference/imports.py'>,\n",
       "  'jedi.inference.sys_path': <module 'jedi.inference.sys_path' from '/data2/hushuhan/tools/anaconda3/envs/d2l/lib/python3.7/site-packages/jedi/inference/sys_path.py'>,\n",
       "  'jedi.inference.cache': <module 'jedi.inference.cache' from '/data2/hushuhan/tools/anaconda3/envs/d2l/lib/python3.7/site-packages/jedi/inference/cache.py'>,\n",
       "  'jedi.inference.base_value': <module 'jedi.inference.base_value' from '/data2/hushuhan/tools/anaconda3/envs/d2l/lib/python3.7/site-packages/jedi/inference/base_value.py'>,\n",
       "  'jedi.inference.helpers': <module 'jedi.inference.helpers' from '/data2/hushuhan/tools/anaconda3/envs/d2l/lib/python3.7/site-packages/jedi/inference/helpers.py'>,\n",
       "  'jedi.inference.utils': <module 'jedi.inference.utils' from '/data2/hushuhan/tools/anaconda3/envs/d2l/lib/python3.7/site-packages/jedi/inference/utils.py'>,\n",
       "  'jedi.inference.compiled': <module 'jedi.inference.compiled' from '/data2/hushuhan/tools/anaconda3/envs/d2l/lib/python3.7/site-packages/jedi/inference/compiled/__init__.py'>,\n",
       "  'jedi.inference.compiled.value': <module 'jedi.inference.compiled.value' from '/data2/hushuhan/tools/anaconda3/envs/d2l/lib/python3.7/site-packages/jedi/inference/compiled/value.py'>,\n",
       "  'jedi.inference.filters': <module 'jedi.inference.filters' from '/data2/hushuhan/tools/anaconda3/envs/d2l/lib/python3.7/site-packages/jedi/inference/filters.py'>,\n",
       "  'jedi.inference.flow_analysis': <module 'jedi.inference.flow_analysis' from '/data2/hushuhan/tools/anaconda3/envs/d2l/lib/python3.7/site-packages/jedi/inference/flow_analysis.py'>,\n",
       "  'jedi.inference.recursion': <module 'jedi.inference.recursion' from '/data2/hushuhan/tools/anaconda3/envs/d2l/lib/python3.7/site-packages/jedi/inference/recursion.py'>,\n",
       "  'jedi.inference.names': <module 'jedi.inference.names' from '/data2/hushuhan/tools/anaconda3/envs/d2l/lib/python3.7/site-packages/jedi/inference/names.py'>,\n",
       "  'jedi.inference.docstrings': <module 'jedi.inference.docstrings' from '/data2/hushuhan/tools/anaconda3/envs/d2l/lib/python3.7/site-packages/jedi/inference/docstrings.py'>,\n",
       "  'jedi.inference.lazy_value': <module 'jedi.inference.lazy_value' from '/data2/hushuhan/tools/anaconda3/envs/d2l/lib/python3.7/site-packages/jedi/inference/lazy_value.py'>,\n",
       "  'jedi.common': <module 'jedi.common' from '/data2/hushuhan/tools/anaconda3/envs/d2l/lib/python3.7/site-packages/jedi/common.py'>,\n",
       "  'jedi.plugins': <module 'jedi.plugins' from '/data2/hushuhan/tools/anaconda3/envs/d2l/lib/python3.7/site-packages/jedi/plugins/__init__.py'>,\n",
       "  'jedi.inference.compiled.access': <module 'jedi.inference.compiled.access' from '/data2/hushuhan/tools/anaconda3/envs/d2l/lib/python3.7/site-packages/jedi/inference/compiled/access.py'>,\n",
       "  'jedi.inference.compiled.getattr_static': <module 'jedi.inference.compiled.getattr_static' from '/data2/hushuhan/tools/anaconda3/envs/d2l/lib/python3.7/site-packages/jedi/inference/compiled/getattr_static.py'>,\n",
       "  'jedi.inference.signature': <module 'jedi.inference.signature' from '/data2/hushuhan/tools/anaconda3/envs/d2l/lib/python3.7/site-packages/jedi/inference/signature.py'>,\n",
       "  'jedi.inference.context': <module 'jedi.inference.context' from '/data2/hushuhan/tools/anaconda3/envs/d2l/lib/python3.7/site-packages/jedi/inference/context.py'>,\n",
       "  'jedi.inference.analysis': <module 'jedi.inference.analysis' from '/data2/hushuhan/tools/anaconda3/envs/d2l/lib/python3.7/site-packages/jedi/inference/analysis.py'>,\n",
       "  'jedi.inference.gradual': <module 'jedi.inference.gradual' from '/data2/hushuhan/tools/anaconda3/envs/d2l/lib/python3.7/site-packages/jedi/inference/gradual/__init__.py'>,\n",
       "  'jedi.inference.gradual.typeshed': <module 'jedi.inference.gradual.typeshed' from '/data2/hushuhan/tools/anaconda3/envs/d2l/lib/python3.7/site-packages/jedi/inference/gradual/typeshed.py'>,\n",
       "  'jedi.inference.gradual.stub_value': <module 'jedi.inference.gradual.stub_value' from '/data2/hushuhan/tools/anaconda3/envs/d2l/lib/python3.7/site-packages/jedi/inference/gradual/stub_value.py'>,\n",
       "  'jedi.inference.value': <module 'jedi.inference.value' from '/data2/hushuhan/tools/anaconda3/envs/d2l/lib/python3.7/site-packages/jedi/inference/value/__init__.py'>,\n",
       "  'jedi.inference.value.module': <module 'jedi.inference.value.module' from '/data2/hushuhan/tools/anaconda3/envs/d2l/lib/python3.7/site-packages/jedi/inference/value/module.py'>,\n",
       "  'jedi.inference.value.klass': <module 'jedi.inference.value.klass' from '/data2/hushuhan/tools/anaconda3/envs/d2l/lib/python3.7/site-packages/jedi/inference/value/klass.py'>,\n",
       "  'jedi.inference.arguments': <module 'jedi.inference.arguments' from '/data2/hushuhan/tools/anaconda3/envs/d2l/lib/python3.7/site-packages/jedi/inference/arguments.py'>,\n",
       "  'jedi.inference.value.iterable': <module 'jedi.inference.value.iterable' from '/data2/hushuhan/tools/anaconda3/envs/d2l/lib/python3.7/site-packages/jedi/inference/value/iterable.py'>,\n",
       "  'jedi.inference.value.dynamic_arrays': <module 'jedi.inference.value.dynamic_arrays' from '/data2/hushuhan/tools/anaconda3/envs/d2l/lib/python3.7/site-packages/jedi/inference/value/dynamic_arrays.py'>,\n",
       "  'jedi.inference.value.function': <module 'jedi.inference.value.function' from '/data2/hushuhan/tools/anaconda3/envs/d2l/lib/python3.7/site-packages/jedi/inference/value/function.py'>,\n",
       "  'jedi.inference.parser_cache': <module 'jedi.inference.parser_cache' from '/data2/hushuhan/tools/anaconda3/envs/d2l/lib/python3.7/site-packages/jedi/inference/parser_cache.py'>,\n",
       "  'jedi.inference.gradual.generics': <module 'jedi.inference.gradual.generics' from '/data2/hushuhan/tools/anaconda3/envs/d2l/lib/python3.7/site-packages/jedi/inference/gradual/generics.py'>,\n",
       "  'jedi.inference.value.instance': <module 'jedi.inference.value.instance' from '/data2/hushuhan/tools/anaconda3/envs/d2l/lib/python3.7/site-packages/jedi/inference/value/instance.py'>,\n",
       "  'jedi.inference.gradual.typing': <module 'jedi.inference.gradual.typing' from '/data2/hushuhan/tools/anaconda3/envs/d2l/lib/python3.7/site-packages/jedi/inference/gradual/typing.py'>,\n",
       "  'jedi.inference.gradual.base': <module 'jedi.inference.gradual.base' from '/data2/hushuhan/tools/anaconda3/envs/d2l/lib/python3.7/site-packages/jedi/inference/gradual/base.py'>,\n",
       "  'jedi.inference.gradual.type_var': <module 'jedi.inference.gradual.type_var' from '/data2/hushuhan/tools/anaconda3/envs/d2l/lib/python3.7/site-packages/jedi/inference/gradual/type_var.py'>,\n",
       "  'jedi.inference.compiled.subprocess': <module 'jedi.inference.compiled.subprocess' from '/data2/hushuhan/tools/anaconda3/envs/d2l/lib/python3.7/site-packages/jedi/inference/compiled/subprocess/__init__.py'>,\n",
       "  'jedi._compatibility': <module 'jedi._compatibility' from '/data2/hushuhan/tools/anaconda3/envs/d2l/lib/python3.7/site-packages/jedi/_compatibility.py'>,\n",
       "  'jedi.inference.compiled.subprocess.functions': <module 'jedi.inference.compiled.subprocess.functions' from '/data2/hushuhan/tools/anaconda3/envs/d2l/lib/python3.7/site-packages/jedi/inference/compiled/subprocess/functions.py'>,\n",
       "  'jedi.api.exceptions': <module 'jedi.api.exceptions' from '/data2/hushuhan/tools/anaconda3/envs/d2l/lib/python3.7/site-packages/jedi/api/exceptions.py'>,\n",
       "  'jedi.inference.syntax_tree': <module 'jedi.inference.syntax_tree' from '/data2/hushuhan/tools/anaconda3/envs/d2l/lib/python3.7/site-packages/jedi/inference/syntax_tree.py'>,\n",
       "  'jedi.inference.gradual.annotation': <module 'jedi.inference.gradual.annotation' from '/data2/hushuhan/tools/anaconda3/envs/d2l/lib/python3.7/site-packages/jedi/inference/gradual/annotation.py'>,\n",
       "  'jedi.inference.param': <module 'jedi.inference.param' from '/data2/hushuhan/tools/anaconda3/envs/d2l/lib/python3.7/site-packages/jedi/inference/param.py'>,\n",
       "  'jedi.inference.value.decorator': <module 'jedi.inference.value.decorator' from '/data2/hushuhan/tools/anaconda3/envs/d2l/lib/python3.7/site-packages/jedi/inference/value/decorator.py'>,\n",
       "  'jedi.inference.compiled.mixed': <module 'jedi.inference.compiled.mixed' from '/data2/hushuhan/tools/anaconda3/envs/d2l/lib/python3.7/site-packages/jedi/inference/compiled/mixed.py'>,\n",
       "  'jedi.inference.gradual.conversion': <module 'jedi.inference.gradual.conversion' from '/data2/hushuhan/tools/anaconda3/envs/d2l/lib/python3.7/site-packages/jedi/inference/gradual/conversion.py'>,\n",
       "  'jedi.api.keywords': <module 'jedi.api.keywords' from '/data2/hushuhan/tools/anaconda3/envs/d2l/lib/python3.7/site-packages/jedi/api/keywords.py'>,\n",
       "  'pydoc_data': <module 'pydoc_data' from '/data2/hushuhan/tools/anaconda3/envs/d2l/lib/python3.7/pydoc_data/__init__.py'>,\n",
       "  'pydoc_data.topics': <module 'pydoc_data.topics' from '/data2/hushuhan/tools/anaconda3/envs/d2l/lib/python3.7/pydoc_data/topics.py'>,\n",
       "  'jedi.api.completion_cache': <module 'jedi.api.completion_cache' from '/data2/hushuhan/tools/anaconda3/envs/d2l/lib/python3.7/site-packages/jedi/api/completion_cache.py'>,\n",
       "  'jedi.api.helpers': <module 'jedi.api.helpers' from '/data2/hushuhan/tools/anaconda3/envs/d2l/lib/python3.7/site-packages/jedi/api/helpers.py'>,\n",
       "  'jedi.api.interpreter': <module 'jedi.api.interpreter' from '/data2/hushuhan/tools/anaconda3/envs/d2l/lib/python3.7/site-packages/jedi/api/interpreter.py'>,\n",
       "  'jedi.api.completion': <module 'jedi.api.completion' from '/data2/hushuhan/tools/anaconda3/envs/d2l/lib/python3.7/site-packages/jedi/api/completion.py'>,\n",
       "  'jedi.api.strings': <module 'jedi.api.strings' from '/data2/hushuhan/tools/anaconda3/envs/d2l/lib/python3.7/site-packages/jedi/api/strings.py'>,\n",
       "  'jedi.api.file_name': <module 'jedi.api.file_name' from '/data2/hushuhan/tools/anaconda3/envs/d2l/lib/python3.7/site-packages/jedi/api/file_name.py'>,\n",
       "  'jedi.inference.docstring_utils': <module 'jedi.inference.docstring_utils' from '/data2/hushuhan/tools/anaconda3/envs/d2l/lib/python3.7/site-packages/jedi/inference/docstring_utils.py'>,\n",
       "  'jedi.api.environment': <module 'jedi.api.environment' from '/data2/hushuhan/tools/anaconda3/envs/d2l/lib/python3.7/site-packages/jedi/api/environment.py'>,\n",
       "  'filecmp': <module 'filecmp' from '/data2/hushuhan/tools/anaconda3/envs/d2l/lib/python3.7/filecmp.py'>,\n",
       "  'jedi.api.project': <module 'jedi.api.project' from '/data2/hushuhan/tools/anaconda3/envs/d2l/lib/python3.7/site-packages/jedi/api/project.py'>,\n",
       "  'jedi.inference.references': <module 'jedi.inference.references' from '/data2/hushuhan/tools/anaconda3/envs/d2l/lib/python3.7/site-packages/jedi/inference/references.py'>,\n",
       "  'jedi.api.errors': <module 'jedi.api.errors' from '/data2/hushuhan/tools/anaconda3/envs/d2l/lib/python3.7/site-packages/jedi/api/errors.py'>,\n",
       "  'jedi.api.refactoring': <module 'jedi.api.refactoring' from '/data2/hushuhan/tools/anaconda3/envs/d2l/lib/python3.7/site-packages/jedi/api/refactoring/__init__.py'>,\n",
       "  'jedi.inference.value.namespace': <module 'jedi.inference.value.namespace' from '/data2/hushuhan/tools/anaconda3/envs/d2l/lib/python3.7/site-packages/jedi/inference/value/namespace.py'>,\n",
       "  'jedi.api.refactoring.extract': <module 'jedi.api.refactoring.extract' from '/data2/hushuhan/tools/anaconda3/envs/d2l/lib/python3.7/site-packages/jedi/api/refactoring/extract.py'>,\n",
       "  'jedi.inference.gradual.utils': <module 'jedi.inference.gradual.utils' from '/data2/hushuhan/tools/anaconda3/envs/d2l/lib/python3.7/site-packages/jedi/inference/gradual/utils.py'>,\n",
       "  'jedi.plugins.registry': <module 'jedi.plugins.registry' from '/data2/hushuhan/tools/anaconda3/envs/d2l/lib/python3.7/site-packages/jedi/plugins/registry.py'>,\n",
       "  'jedi.plugins.stdlib': <module 'jedi.plugins.stdlib' from '/data2/hushuhan/tools/anaconda3/envs/d2l/lib/python3.7/site-packages/jedi/plugins/stdlib.py'>,\n",
       "  'jedi.plugins.flask': <module 'jedi.plugins.flask' from '/data2/hushuhan/tools/anaconda3/envs/d2l/lib/python3.7/site-packages/jedi/plugins/flask.py'>,\n",
       "  'jedi.plugins.pytest': <module 'jedi.plugins.pytest' from '/data2/hushuhan/tools/anaconda3/envs/d2l/lib/python3.7/site-packages/jedi/plugins/pytest.py'>,\n",
       "  'jedi.plugins.django': <module 'jedi.plugins.django' from '/data2/hushuhan/tools/anaconda3/envs/d2l/lib/python3.7/site-packages/jedi/plugins/django.py'>,\n",
       "  'IPython.terminal.ptutils': <module 'IPython.terminal.ptutils' from '/data2/hushuhan/tools/anaconda3/envs/d2l/lib/python3.7/site-packages/IPython/terminal/ptutils.py'>,\n",
       "  'IPython.terminal.shortcuts': <module 'IPython.terminal.shortcuts' from '/data2/hushuhan/tools/anaconda3/envs/d2l/lib/python3.7/site-packages/IPython/terminal/shortcuts.py'>,\n",
       "  'concurrent.futures.thread': <module 'concurrent.futures.thread' from '/data2/hushuhan/tools/anaconda3/envs/d2l/lib/python3.7/concurrent/futures/thread.py'>,\n",
       "  'IPython.terminal.magics': <module 'IPython.terminal.magics' from '/data2/hushuhan/tools/anaconda3/envs/d2l/lib/python3.7/site-packages/IPython/terminal/magics.py'>,\n",
       "  'IPython.lib.clipboard': <module 'IPython.lib.clipboard' from '/data2/hushuhan/tools/anaconda3/envs/d2l/lib/python3.7/site-packages/IPython/lib/clipboard.py'>,\n",
       "  'IPython.terminal.pt_inputhooks': <module 'IPython.terminal.pt_inputhooks' from '/data2/hushuhan/tools/anaconda3/envs/d2l/lib/python3.7/site-packages/IPython/terminal/pt_inputhooks/__init__.py'>,\n",
       "  'IPython.terminal.prompts': <module 'IPython.terminal.prompts' from '/data2/hushuhan/tools/anaconda3/envs/d2l/lib/python3.7/site-packages/IPython/terminal/prompts.py'>,\n",
       "  'IPython.terminal.ipapp': <module 'IPython.terminal.ipapp' from '/data2/hushuhan/tools/anaconda3/envs/d2l/lib/python3.7/site-packages/IPython/terminal/ipapp.py'>,\n",
       "  'IPython.core.magics': <module 'IPython.core.magics' from '/data2/hushuhan/tools/anaconda3/envs/d2l/lib/python3.7/site-packages/IPython/core/magics/__init__.py'>,\n",
       "  'IPython.core.magics.auto': <module 'IPython.core.magics.auto' from '/data2/hushuhan/tools/anaconda3/envs/d2l/lib/python3.7/site-packages/IPython/core/magics/auto.py'>,\n",
       "  'IPython.core.magics.basic': <module 'IPython.core.magics.basic' from '/data2/hushuhan/tools/anaconda3/envs/d2l/lib/python3.7/site-packages/IPython/core/magics/basic.py'>,\n",
       "  'IPython.core.magics.code': <module 'IPython.core.magics.code' from '/data2/hushuhan/tools/anaconda3/envs/d2l/lib/python3.7/site-packages/IPython/core/magics/code.py'>,\n",
       "  'urllib.request': <module 'urllib.request' from '/data2/hushuhan/tools/anaconda3/envs/d2l/lib/python3.7/urllib/request.py'>,\n",
       "  'email': <module 'email' from '/data2/hushuhan/tools/anaconda3/envs/d2l/lib/python3.7/email/__init__.py'>,\n",
       "  'http': <module 'http' from '/data2/hushuhan/tools/anaconda3/envs/d2l/lib/python3.7/http/__init__.py'>,\n",
       "  'http.client': <module 'http.client' from '/data2/hushuhan/tools/anaconda3/envs/d2l/lib/python3.7/http/client.py'>,\n",
       "  'email.parser': <module 'email.parser' from '/data2/hushuhan/tools/anaconda3/envs/d2l/lib/python3.7/email/parser.py'>,\n",
       "  'email.feedparser': <module 'email.feedparser' from '/data2/hushuhan/tools/anaconda3/envs/d2l/lib/python3.7/email/feedparser.py'>,\n",
       "  'email.errors': <module 'email.errors' from '/data2/hushuhan/tools/anaconda3/envs/d2l/lib/python3.7/email/errors.py'>,\n",
       "  'email._policybase': <module 'email._policybase' from '/data2/hushuhan/tools/anaconda3/envs/d2l/lib/python3.7/email/_policybase.py'>,\n",
       "  'email.header': <module 'email.header' from '/data2/hushuhan/tools/anaconda3/envs/d2l/lib/python3.7/email/header.py'>,\n",
       "  'email.quoprimime': <module 'email.quoprimime' from '/data2/hushuhan/tools/anaconda3/envs/d2l/lib/python3.7/email/quoprimime.py'>,\n",
       "  'email.base64mime': <module 'email.base64mime' from '/data2/hushuhan/tools/anaconda3/envs/d2l/lib/python3.7/email/base64mime.py'>,\n",
       "  'email.charset': <module 'email.charset' from '/data2/hushuhan/tools/anaconda3/envs/d2l/lib/python3.7/email/charset.py'>,\n",
       "  'email.encoders': <module 'email.encoders' from '/data2/hushuhan/tools/anaconda3/envs/d2l/lib/python3.7/email/encoders.py'>,\n",
       "  'quopri': <module 'quopri' from '/data2/hushuhan/tools/anaconda3/envs/d2l/lib/python3.7/quopri.py'>,\n",
       "  'email.utils': <module 'email.utils' from '/data2/hushuhan/tools/anaconda3/envs/d2l/lib/python3.7/email/utils.py'>,\n",
       "  'email._parseaddr': <module 'email._parseaddr' from '/data2/hushuhan/tools/anaconda3/envs/d2l/lib/python3.7/email/_parseaddr.py'>,\n",
       "  'email.message': <module 'email.message' from '/data2/hushuhan/tools/anaconda3/envs/d2l/lib/python3.7/email/message.py'>,\n",
       "  'uu': <module 'uu' from '/data2/hushuhan/tools/anaconda3/envs/d2l/lib/python3.7/uu.py'>,\n",
       "  'email._encoded_words': <module 'email._encoded_words' from '/data2/hushuhan/tools/anaconda3/envs/d2l/lib/python3.7/email/_encoded_words.py'>,\n",
       "  'email.iterators': <module 'email.iterators' from '/data2/hushuhan/tools/anaconda3/envs/d2l/lib/python3.7/email/iterators.py'>,\n",
       "  'urllib.error': <module 'urllib.error' from '/data2/hushuhan/tools/anaconda3/envs/d2l/lib/python3.7/urllib/error.py'>,\n",
       "  'urllib.response': <module 'urllib.response' from '/data2/hushuhan/tools/anaconda3/envs/d2l/lib/python3.7/urllib/response.py'>,\n",
       "  'IPython.core.magics.config': <module 'IPython.core.magics.config' from '/data2/hushuhan/tools/anaconda3/envs/d2l/lib/python3.7/site-packages/IPython/core/magics/config.py'>,\n",
       "  'IPython.core.magics.display': <module 'IPython.core.magics.display' from '/data2/hushuhan/tools/anaconda3/envs/d2l/lib/python3.7/site-packages/IPython/core/magics/display.py'>,\n",
       "  'IPython.core.magics.execution': <module 'IPython.core.magics.execution' from '/data2/hushuhan/tools/anaconda3/envs/d2l/lib/python3.7/site-packages/IPython/core/magics/execution.py'>,\n",
       "  'timeit': <module 'timeit' from '/data2/hushuhan/tools/anaconda3/envs/d2l/lib/python3.7/timeit.py'>,\n",
       "  'cProfile': <module 'cProfile' from '/data2/hushuhan/tools/anaconda3/envs/d2l/lib/python3.7/cProfile.py'>,\n",
       "  '_lsprof': <module '_lsprof' from '/data2/hushuhan/tools/anaconda3/envs/d2l/lib/python3.7/lib-dynload/_lsprof.cpython-37m-x86_64-linux-gnu.so'>,\n",
       "  'profile': <module 'profile' from '/data2/hushuhan/tools/anaconda3/envs/d2l/lib/python3.7/profile.py'>,\n",
       "  'pstats': <module 'pstats' from '/data2/hushuhan/tools/anaconda3/envs/d2l/lib/python3.7/pstats.py'>,\n",
       "  'IPython.utils.module_paths': <module 'IPython.utils.module_paths' from '/data2/hushuhan/tools/anaconda3/envs/d2l/lib/python3.7/site-packages/IPython/utils/module_paths.py'>,\n",
       "  'IPython.utils.timing': <module 'IPython.utils.timing' from '/data2/hushuhan/tools/anaconda3/envs/d2l/lib/python3.7/site-packages/IPython/utils/timing.py'>,\n",
       "  'IPython.core.magics.extension': <module 'IPython.core.magics.extension' from '/data2/hushuhan/tools/anaconda3/envs/d2l/lib/python3.7/site-packages/IPython/core/magics/extension.py'>,\n",
       "  'IPython.core.magics.history': <module 'IPython.core.magics.history' from '/data2/hushuhan/tools/anaconda3/envs/d2l/lib/python3.7/site-packages/IPython/core/magics/history.py'>,\n",
       "  'IPython.core.magics.logging': <module 'IPython.core.magics.logging' from '/data2/hushuhan/tools/anaconda3/envs/d2l/lib/python3.7/site-packages/IPython/core/magics/logging.py'>,\n",
       "  'IPython.core.magics.namespace': <module 'IPython.core.magics.namespace' from '/data2/hushuhan/tools/anaconda3/envs/d2l/lib/python3.7/site-packages/IPython/core/magics/namespace.py'>,\n",
       "  'IPython.core.magics.osm': <module 'IPython.core.magics.osm' from '/data2/hushuhan/tools/anaconda3/envs/d2l/lib/python3.7/site-packages/IPython/core/magics/osm.py'>,\n",
       "  'IPython.core.magics.packaging': <module 'IPython.core.magics.packaging' from '/data2/hushuhan/tools/anaconda3/envs/d2l/lib/python3.7/site-packages/IPython/core/magics/packaging.py'>,\n",
       "  'IPython.core.magics.pylab': <module 'IPython.core.magics.pylab' from '/data2/hushuhan/tools/anaconda3/envs/d2l/lib/python3.7/site-packages/IPython/core/magics/pylab.py'>,\n",
       "  'IPython.core.pylabtools': <module 'IPython.core.pylabtools' from '/data2/hushuhan/tools/anaconda3/envs/d2l/lib/python3.7/site-packages/IPython/core/pylabtools.py'>,\n",
       "  'IPython.core.magics.script': <module 'IPython.core.magics.script' from '/data2/hushuhan/tools/anaconda3/envs/d2l/lib/python3.7/site-packages/IPython/core/magics/script.py'>,\n",
       "  'IPython.lib.backgroundjobs': <module 'IPython.lib.backgroundjobs' from '/data2/hushuhan/tools/anaconda3/envs/d2l/lib/python3.7/site-packages/IPython/lib/backgroundjobs.py'>,\n",
       "  'IPython.core.shellapp': <module 'IPython.core.shellapp' from '/data2/hushuhan/tools/anaconda3/envs/d2l/lib/python3.7/site-packages/IPython/core/shellapp.py'>,\n",
       "  'IPython.extensions': <module 'IPython.extensions' from '/data2/hushuhan/tools/anaconda3/envs/d2l/lib/python3.7/site-packages/IPython/extensions/__init__.py'>,\n",
       "  'IPython.extensions.storemagic': <module 'IPython.extensions.storemagic' from '/data2/hushuhan/tools/anaconda3/envs/d2l/lib/python3.7/site-packages/IPython/extensions/storemagic.py'>,\n",
       "  'IPython.utils.frame': <module 'IPython.utils.frame' from '/data2/hushuhan/tools/anaconda3/envs/d2l/lib/python3.7/site-packages/IPython/utils/frame.py'>,\n",
       "  'ipykernel.control': <module 'ipykernel.control' from '/data2/hushuhan/tools/anaconda3/envs/d2l/lib/python3.7/site-packages/ipykernel/control.py'>,\n",
       "  'ipykernel.heartbeat': <module 'ipykernel.heartbeat' from '/data2/hushuhan/tools/anaconda3/envs/d2l/lib/python3.7/site-packages/ipykernel/heartbeat.py'>,\n",
       "  'ipykernel.iostream': <module 'ipykernel.iostream' from '/data2/hushuhan/tools/anaconda3/envs/d2l/lib/python3.7/site-packages/ipykernel/iostream.py'>,\n",
       "  'ipykernel.ipkernel': <module 'ipykernel.ipkernel' from '/data2/hushuhan/tools/anaconda3/envs/d2l/lib/python3.7/site-packages/ipykernel/ipkernel.py'>,\n",
       "  'IPython.utils.tokenutil': <module 'IPython.utils.tokenutil' from '/data2/hushuhan/tools/anaconda3/envs/d2l/lib/python3.7/site-packages/IPython/utils/tokenutil.py'>,\n",
       "  'ipykernel.comm': <module 'ipykernel.comm' from '/data2/hushuhan/tools/anaconda3/envs/d2l/lib/python3.7/site-packages/ipykernel/comm/__init__.py'>,\n",
       "  'ipykernel.comm.comm': <module 'ipykernel.comm.comm' from '/data2/hushuhan/tools/anaconda3/envs/d2l/lib/python3.7/site-packages/ipykernel/comm/comm.py'>,\n",
       "  'ipykernel.jsonutil': <module 'ipykernel.jsonutil' from '/data2/hushuhan/tools/anaconda3/envs/d2l/lib/python3.7/site-packages/ipykernel/jsonutil.py'>,\n",
       "  'ipykernel.kernelbase': <module 'ipykernel.kernelbase' from '/data2/hushuhan/tools/anaconda3/envs/d2l/lib/python3.7/site-packages/ipykernel/kernelbase.py'>,\n",
       "  'psutil': <module 'psutil' from '/data2/hushuhan/tools/anaconda3/envs/d2l/lib/python3.7/site-packages/psutil/__init__.py'>,\n",
       "  'psutil._common': <module 'psutil._common' from '/data2/hushuhan/tools/anaconda3/envs/d2l/lib/python3.7/site-packages/psutil/_common.py'>,\n",
       "  'psutil._compat': <module 'psutil._compat' from '/data2/hushuhan/tools/anaconda3/envs/d2l/lib/python3.7/site-packages/psutil/_compat.py'>,\n",
       "  'psutil._pslinux': <module 'psutil._pslinux' from '/data2/hushuhan/tools/anaconda3/envs/d2l/lib/python3.7/site-packages/psutil/_pslinux.py'>,\n",
       "  'psutil._psposix': <module 'psutil._psposix' from '/data2/hushuhan/tools/anaconda3/envs/d2l/lib/python3.7/site-packages/psutil/_psposix.py'>,\n",
       "  'psutil._psutil_linux': <module 'psutil._psutil_linux' from '/data2/hushuhan/tools/anaconda3/envs/d2l/lib/python3.7/site-packages/psutil/_psutil_linux.abi3.so'>,\n",
       "  'psutil._psutil_posix': <module 'psutil._psutil_posix' from '/data2/hushuhan/tools/anaconda3/envs/d2l/lib/python3.7/site-packages/psutil/_psutil_posix.abi3.so'>,\n",
       "  'tornado.queues': <module 'tornado.queues' from '/data2/hushuhan/tools/anaconda3/envs/d2l/lib/python3.7/site-packages/tornado/queues.py'>,\n",
       "  'tornado.locks': <module 'tornado.locks' from '/data2/hushuhan/tools/anaconda3/envs/d2l/lib/python3.7/site-packages/tornado/locks.py'>,\n",
       "  'ipykernel.comm.manager': <module 'ipykernel.comm.manager' from '/data2/hushuhan/tools/anaconda3/envs/d2l/lib/python3.7/site-packages/ipykernel/comm/manager.py'>,\n",
       "  'ipykernel.compiler': <module 'ipykernel.compiler' from '/data2/hushuhan/tools/anaconda3/envs/d2l/lib/python3.7/site-packages/ipykernel/compiler.py'>,\n",
       "  'ipykernel.debugger': <module 'ipykernel.debugger' from '/data2/hushuhan/tools/anaconda3/envs/d2l/lib/python3.7/site-packages/ipykernel/debugger.py'>,\n",
       "  'debugpy': <module 'debugpy' from '/data2/hushuhan/tools/anaconda3/envs/d2l/lib/python3.7/site-packages/debugpy/__init__.py'>,\n",
       "  'debugpy.public_api': <module 'debugpy.public_api' from '/data2/hushuhan/tools/anaconda3/envs/d2l/lib/python3.7/site-packages/debugpy/public_api.py'>,\n",
       "  'debugpy._version': <module 'debugpy._version' from '/data2/hushuhan/tools/anaconda3/envs/d2l/lib/python3.7/site-packages/debugpy/_version.py'>,\n",
       "  'debugpy.server': <module 'debugpy.server' from '/data2/hushuhan/tools/anaconda3/envs/d2l/lib/python3.7/site-packages/debugpy/server/__init__.py'>,\n",
       "  'debugpy._vendored': <module 'debugpy._vendored' from '/data2/hushuhan/tools/anaconda3/envs/d2l/lib/python3.7/site-packages/debugpy/_vendored/__init__.py'>,\n",
       "  'debugpy._vendored._util': <module 'debugpy._vendored._util' from '/data2/hushuhan/tools/anaconda3/envs/d2l/lib/python3.7/site-packages/debugpy/_vendored/_util.py'>,\n",
       "  'debugpy._vendored.force_pydevd': <module 'debugpy._vendored.force_pydevd' from '/data2/hushuhan/tools/anaconda3/envs/d2l/lib/python3.7/site-packages/debugpy/_vendored/force_pydevd.py'>,\n",
       "  '_pydevd_bundle': <module '_pydevd_bundle' from '/data2/hushuhan/tools/anaconda3/envs/d2l/lib/python3.7/site-packages/debugpy/_vendored/pydevd/_pydevd_bundle/__init__.py'>,\n",
       "  '_pydevd_bundle.pydevd_constants': <module '_pydevd_bundle.pydevd_constants' from '/data2/hushuhan/tools/anaconda3/envs/d2l/lib/python3.7/site-packages/debugpy/_vendored/pydevd/_pydevd_bundle/pydevd_constants.py'>,\n",
       "  'encodings.ascii': <module 'encodings.ascii' from '/data2/hushuhan/tools/anaconda3/envs/d2l/lib/python3.7/encodings/ascii.py'>,\n",
       "  'encodings.idna': <module 'encodings.idna' from '/data2/hushuhan/tools/anaconda3/envs/d2l/lib/python3.7/encodings/idna.py'>,\n",
       "  'stringprep': <module 'stringprep' from '/data2/hushuhan/tools/anaconda3/envs/d2l/lib/python3.7/stringprep.py'>,\n",
       "  '_pydevd_bundle.pydevd_vm_type': <module '_pydevd_bundle.pydevd_vm_type' from '/data2/hushuhan/tools/anaconda3/envs/d2l/lib/python3.7/site-packages/debugpy/_vendored/pydevd/_pydevd_bundle/pydevd_vm_type.py'>,\n",
       "  '_pydev_bundle': <module '_pydev_bundle' from '/data2/hushuhan/tools/anaconda3/envs/d2l/lib/python3.7/site-packages/debugpy/_vendored/pydevd/_pydev_bundle/__init__.py'>,\n",
       "  '_pydev_bundle._pydev_saved_modules': <module '_pydev_bundle._pydev_saved_modules' from '/data2/hushuhan/tools/anaconda3/envs/d2l/lib/python3.7/site-packages/debugpy/_vendored/pydevd/_pydev_bundle/_pydev_saved_modules.py'>,\n",
       "  'xmlrpc': <module 'xmlrpc' from '/data2/hushuhan/tools/anaconda3/envs/d2l/lib/python3.7/xmlrpc/__init__.py'>,\n",
       "  'xmlrpc.client': <module 'xmlrpc.client' from '/data2/hushuhan/tools/anaconda3/envs/d2l/lib/python3.7/xmlrpc/client.py'>,\n",
       "  'xml.parsers': <module 'xml.parsers' from '/data2/hushuhan/tools/anaconda3/envs/d2l/lib/python3.7/xml/parsers/__init__.py'>,\n",
       "  'xml.parsers.expat': <module 'xml.parsers.expat' from '/data2/hushuhan/tools/anaconda3/envs/d2l/lib/python3.7/xml/parsers/expat.py'>,\n",
       "  'pyexpat.errors': <module 'pyexpat.errors'>,\n",
       "  'pyexpat.model': <module 'pyexpat.model'>,\n",
       "  'pyexpat': <module 'pyexpat' from '/data2/hushuhan/tools/anaconda3/envs/d2l/lib/python3.7/lib-dynload/pyexpat.cpython-37m-x86_64-linux-gnu.so'>,\n",
       "  'xml.parsers.expat.model': <module 'pyexpat.model'>,\n",
       "  'xml.parsers.expat.errors': <module 'pyexpat.errors'>,\n",
       "  'gzip': <module 'gzip' from '/data2/hushuhan/tools/anaconda3/envs/d2l/lib/python3.7/gzip.py'>,\n",
       "  'xmlrpc.server': <module 'xmlrpc.server' from '/data2/hushuhan/tools/anaconda3/envs/d2l/lib/python3.7/xmlrpc/server.py'>,\n",
       "  'http.server': <module 'http.server' from '/data2/hushuhan/tools/anaconda3/envs/d2l/lib/python3.7/http/server.py'>,\n",
       "  '_pydev_runfiles': <module '_pydev_runfiles' from '/data2/hushuhan/tools/anaconda3/envs/d2l/lib/python3.7/site-packages/debugpy/_vendored/pydevd/_pydev_runfiles/__init__.py'>,\n",
       "  '_pydevd_frame_eval': <module '_pydevd_frame_eval' from '/data2/hushuhan/tools/anaconda3/envs/d2l/lib/python3.7/site-packages/debugpy/_vendored/pydevd/_pydevd_frame_eval/__init__.py'>,\n",
       "  'pydev_ipython': <module 'pydev_ipython' from '/data2/hushuhan/tools/anaconda3/envs/d2l/lib/python3.7/site-packages/debugpy/_vendored/pydevd/pydev_ipython/__init__.py'>,\n",
       "  'pydevd_plugins': <module 'pydevd_plugins' (namespace)>,\n",
       "  'pydevd': <module 'pydevd' from '/data2/hushuhan/tools/anaconda3/envs/d2l/lib/python3.7/site-packages/debugpy/_vendored/pydevd/pydevd.py'>,\n",
       "  'pydevd_file_utils': <module 'pydevd_file_utils' from '/data2/hushuhan/tools/anaconda3/envs/d2l/lib/python3.7/site-packages/debugpy/_vendored/pydevd/pydevd_file_utils.py'>,\n",
       "  '_pydev_bundle.pydev_log': <module '_pydev_bundle.pydev_log' from '/data2/hushuhan/tools/anaconda3/envs/d2l/lib/python3.7/site-packages/debugpy/_vendored/pydevd/_pydev_bundle/pydev_log.py'>,\n",
       "  '_pydev_bundle._pydev_filesystem_encoding': <module '_pydev_bundle._pydev_filesystem_encoding' from '/data2/hushuhan/tools/anaconda3/envs/d2l/lib/python3.7/site-packages/debugpy/_vendored/pydevd/_pydev_bundle/_pydev_filesystem_encoding.py'>,\n",
       "  '_pydevd_bundle.pydevd_comm_constants': <module '_pydevd_bundle.pydevd_comm_constants' from '/data2/hushuhan/tools/anaconda3/envs/d2l/lib/python3.7/site-packages/debugpy/_vendored/pydevd/_pydevd_bundle/pydevd_comm_constants.py'>,\n",
       "  'sysconfig': <module 'sysconfig' from '/data2/hushuhan/tools/anaconda3/envs/d2l/lib/python3.7/sysconfig.py'>,\n",
       "  '_sysconfigdata_m_linux_x86_64-linux-gnu': <module '_sysconfigdata_m_linux_x86_64-linux-gnu' from '/data2/hushuhan/tools/anaconda3/envs/d2l/lib/python3.7/_sysconfigdata_m_linux_x86_64-linux-gnu.py'>,\n",
       "  '_pydev_bundle.pydev_imports': <module '_pydev_bundle.pydev_imports' from '/data2/hushuhan/tools/anaconda3/envs/d2l/lib/python3.7/site-packages/debugpy/_vendored/pydevd/_pydev_bundle/pydev_imports.py'>,\n",
       "  '_pydev_bundle._pydev_execfile': <module '_pydev_bundle._pydev_execfile' from '/data2/hushuhan/tools/anaconda3/envs/d2l/lib/python3.7/site-packages/debugpy/_vendored/pydevd/_pydev_bundle/_pydev_execfile.py'>,\n",
       "  '_pydevd_bundle.pydevd_exec2': <module '_pydevd_bundle.pydevd_exec2' from '/data2/hushuhan/tools/anaconda3/envs/d2l/lib/python3.7/site-packages/debugpy/_vendored/pydevd/_pydevd_bundle/pydevd_exec2.py'>,\n",
       "  '_pydev_bundle.pydev_is_thread_alive': <module '_pydev_bundle.pydev_is_thread_alive' from '/data2/hushuhan/tools/anaconda3/envs/d2l/lib/python3.7/site-packages/debugpy/_vendored/pydevd/_pydev_bundle/pydev_is_thread_alive.py'>,\n",
       "  '_pydev_bundle.pydev_override': <module '_pydev_bundle.pydev_override' from '/data2/hushuhan/tools/anaconda3/envs/d2l/lib/python3.7/site-packages/debugpy/_vendored/pydevd/_pydev_bundle/pydev_override.py'>,\n",
       "  '_pydevd_bundle.pydevd_extension_utils': <module '_pydevd_bundle.pydevd_extension_utils' from '/data2/hushuhan/tools/anaconda3/envs/d2l/lib/python3.7/site-packages/debugpy/_vendored/pydevd/_pydevd_bundle/pydevd_extension_utils.py'>,\n",
       "  'pydevd_plugins.extensions': <module 'pydevd_plugins.extensions' (namespace)>,\n",
       "  '_pydevd_bundle.pydevd_frame_utils': <module '_pydevd_bundle.pydevd_frame_utils' from '/data2/hushuhan/tools/anaconda3/envs/d2l/lib/python3.7/site-packages/debugpy/_vendored/pydevd/_pydevd_bundle/pydevd_frame_utils.py'>,\n",
       "  '_pydevd_bundle.pydevd_filtering': <module '_pydevd_bundle.pydevd_filtering' from '/data2/hushuhan/tools/anaconda3/envs/d2l/lib/python3.7/site-packages/debugpy/_vendored/pydevd/_pydevd_bundle/pydevd_filtering.py'>,\n",
       "  '_pydevd_bundle.pydevd_io': <module '_pydevd_bundle.pydevd_io' from '/data2/hushuhan/tools/anaconda3/envs/d2l/lib/python3.7/site-packages/debugpy/_vendored/pydevd/_pydevd_bundle/pydevd_io.py'>,\n",
       "  '_pydevd_bundle.pydevd_defaults': <module '_pydevd_bundle.pydevd_defaults' from '/data2/hushuhan/tools/anaconda3/envs/d2l/lib/python3.7/site-packages/debugpy/_vendored/pydevd/_pydevd_bundle/pydevd_defaults.py'>,\n",
       "  '_pydevd_bundle.pydevd_utils': <module '_pydevd_bundle.pydevd_utils' from '/data2/hushuhan/tools/anaconda3/envs/d2l/lib/python3.7/site-packages/debugpy/_vendored/pydevd/_pydevd_bundle/pydevd_utils.py'>,\n",
       "  '_pydevd_bundle.pydevd_runpy': <module '_pydevd_bundle.pydevd_runpy' from '/data2/hushuhan/tools/anaconda3/envs/d2l/lib/python3.7/site-packages/debugpy/_vendored/pydevd/_pydevd_bundle/pydevd_runpy.py'>,\n",
       "  '_pydev_bundle.pydev_console_utils': <module '_pydev_bundle.pydev_console_utils' from '/data2/hushuhan/tools/anaconda3/envs/d2l/lib/python3.7/site-packages/debugpy/_vendored/pydevd/_pydev_bundle/pydev_console_utils.py'>,\n",
       "  '_pydev_bundle._pydev_calltip_util': <module '_pydev_bundle._pydev_calltip_util' from '/data2/hushuhan/tools/anaconda3/envs/d2l/lib/python3.7/site-packages/debugpy/_vendored/pydevd/_pydev_bundle/_pydev_calltip_util.py'>,\n",
       "  '_pydev_bundle._pydev_imports_tipper': <module '_pydev_bundle._pydev_imports_tipper' from '/data2/hushuhan/tools/anaconda3/envs/d2l/lib/python3.7/site-packages/debugpy/_vendored/pydevd/_pydev_bundle/_pydev_imports_tipper.py'>,\n",
       "  '_pydev_bundle._pydev_tipper_common': <module '_pydev_bundle._pydev_tipper_common' from '/data2/hushuhan/tools/anaconda3/envs/d2l/lib/python3.7/site-packages/debugpy/_vendored/pydevd/_pydev_bundle/_pydev_tipper_common.py'>,\n",
       "  '_pydevd_bundle.pydevd_vars': <module '_pydevd_bundle.pydevd_vars' from '/data2/hushuhan/tools/anaconda3/envs/d2l/lib/python3.7/site-packages/debugpy/_vendored/pydevd/_pydevd_bundle/pydevd_vars.py'>,\n",
       "  '_pydevd_bundle.pydevd_xml': <module '_pydevd_bundle.pydevd_xml' from '/data2/hushuhan/tools/anaconda3/envs/d2l/lib/python3.7/site-packages/debugpy/_vendored/pydevd/_pydevd_bundle/pydevd_xml.py'>,\n",
       "  '_pydevd_bundle.pydevd_resolver': <module '_pydevd_bundle.pydevd_resolver' from '/data2/hushuhan/tools/anaconda3/envs/d2l/lib/python3.7/site-packages/debugpy/_vendored/pydevd/_pydevd_bundle/pydevd_resolver.py'>,\n",
       "  '_pydevd_bundle.pydevd_safe_repr': <module '_pydevd_bundle.pydevd_safe_repr' from '/data2/hushuhan/tools/anaconda3/envs/d2l/lib/python3.7/site-packages/debugpy/_vendored/pydevd/_pydevd_bundle/pydevd_safe_repr.py'>,\n",
       "  '_pydevd_bundle.pydevd_extension_api': <module '_pydevd_bundle.pydevd_extension_api' from '/data2/hushuhan/tools/anaconda3/envs/d2l/lib/python3.7/site-packages/debugpy/_vendored/pydevd/_pydevd_bundle/pydevd_extension_api.py'>,\n",
       "  '_pydevd_bundle.pydevd_thread_lifecycle': <module '_pydevd_bundle.pydevd_thread_lifecycle' from '/data2/hushuhan/tools/anaconda3/envs/d2l/lib/python3.7/site-packages/debugpy/_vendored/pydevd/_pydevd_bundle/pydevd_thread_lifecycle.py'>,\n",
       "  '_pydevd_bundle.pydevd_additional_thread_info': <module '_pydevd_bundle.pydevd_additional_thread_info' from '/data2/hushuhan/tools/anaconda3/envs/d2l/lib/python3.7/site-packages/debugpy/_vendored/pydevd/_pydevd_bundle/pydevd_additional_thread_info.py'>,\n",
       "  '_pydevd_bundle.pydevd_cython_wrapper': <module '_pydevd_bundle.pydevd_cython_wrapper' from '/data2/hushuhan/tools/anaconda3/envs/d2l/lib/python3.7/site-packages/debugpy/_vendored/pydevd/_pydevd_bundle/pydevd_cython_wrapper.py'>,\n",
       "  '_pydevd_bundle.pydevd_cython': <module '_pydevd_bundle.pydevd_cython' from '/data2/hushuhan/tools/anaconda3/envs/d2l/lib/python3.7/site-packages/debugpy/_vendored/pydevd/_pydevd_bundle/pydevd_cython.cpython-37m-x86_64-linux-gnu.so'>,\n",
       "  '_pydevd_bundle.pydevd_dont_trace': <module '_pydevd_bundle.pydevd_dont_trace' from '/data2/hushuhan/tools/anaconda3/envs/d2l/lib/python3.7/site-packages/debugpy/_vendored/pydevd/_pydevd_bundle/pydevd_dont_trace.py'>,\n",
       "  '_pydevd_bundle.pydevd_bytecode_utils': <module '_pydevd_bundle.pydevd_bytecode_utils' from '/data2/hushuhan/tools/anaconda3/envs/d2l/lib/python3.7/site-packages/debugpy/_vendored/pydevd/_pydevd_bundle/pydevd_bytecode_utils.py'>,\n",
       "  '_pydevd_frame_eval.vendored': <module '_pydevd_frame_eval.vendored' from '/data2/hushuhan/tools/anaconda3/envs/d2l/lib/python3.7/site-packages/debugpy/_vendored/pydevd/_pydevd_frame_eval/vendored/__init__.py'>,\n",
       "  '_pydevd_frame_eval.vendored.bytecode': <module '_pydevd_frame_eval.vendored.bytecode' from '/data2/hushuhan/tools/anaconda3/envs/d2l/lib/python3.7/site-packages/debugpy/_vendored/pydevd/_pydevd_frame_eval/vendored/bytecode/__init__.py'>,\n",
       "  '_pydevd_frame_eval.vendored.bytecode.flags': <module '_pydevd_frame_eval.vendored.bytecode.flags' from '/data2/hushuhan/tools/anaconda3/envs/d2l/lib/python3.7/site-packages/debugpy/_vendored/pydevd/_pydevd_frame_eval/vendored/bytecode/flags.py'>,\n",
       "  '_pydevd_frame_eval.vendored.bytecode.instr': <module '_pydevd_frame_eval.vendored.bytecode.instr' from '/data2/hushuhan/tools/anaconda3/envs/d2l/lib/python3.7/site-packages/debugpy/_vendored/pydevd/_pydevd_frame_eval/vendored/bytecode/instr.py'>,\n",
       "  '_pydevd_frame_eval.vendored.bytecode.bytecode': <module '_pydevd_frame_eval.vendored.bytecode.bytecode' from '/data2/hushuhan/tools/anaconda3/envs/d2l/lib/python3.7/site-packages/debugpy/_vendored/pydevd/_pydevd_frame_eval/vendored/bytecode/bytecode.py'>,\n",
       "  '_pydevd_frame_eval.vendored.bytecode.concrete': <module '_pydevd_frame_eval.vendored.bytecode.concrete' from '/data2/hushuhan/tools/anaconda3/envs/d2l/lib/python3.7/site-packages/debugpy/_vendored/pydevd/_pydevd_frame_eval/vendored/bytecode/concrete.py'>,\n",
       "  '_pydevd_frame_eval.vendored.bytecode.cfg': <module '_pydevd_frame_eval.vendored.bytecode.cfg' from '/data2/hushuhan/tools/anaconda3/envs/d2l/lib/python3.7/site-packages/debugpy/_vendored/pydevd/_pydevd_frame_eval/vendored/bytecode/cfg.py'>,\n",
       "  '_pydevd_bundle.pydevd_save_locals': <module '_pydevd_bundle.pydevd_save_locals' from '/data2/hushuhan/tools/anaconda3/envs/d2l/lib/python3.7/site-packages/debugpy/_vendored/pydevd/_pydevd_bundle/pydevd_save_locals.py'>,\n",
       "  '_pydevd_bundle.pydevd_timeout': <module '_pydevd_bundle.pydevd_timeout' from '/data2/hushuhan/tools/anaconda3/envs/d2l/lib/python3.7/site-packages/debugpy/_vendored/pydevd/_pydevd_bundle/pydevd_timeout.py'>,\n",
       "  '_pydevd_bundle.pydevd_daemon_thread': <module '_pydevd_bundle.pydevd_daemon_thread' from '/data2/hushuhan/tools/anaconda3/envs/d2l/lib/python3.7/site-packages/debugpy/_vendored/pydevd/_pydevd_bundle/pydevd_daemon_thread.py'>,\n",
       "  'pydevd_tracing': <module 'pydevd_tracing' from '/data2/hushuhan/tools/anaconda3/envs/d2l/lib/python3.7/site-packages/debugpy/_vendored/pydevd/pydevd_tracing.py'>,\n",
       "  '_pydev_bundle.pydev_monkey': <module '_pydev_bundle.pydev_monkey' from '/data2/hushuhan/tools/anaconda3/envs/d2l/lib/python3.7/site-packages/debugpy/_vendored/pydevd/_pydev_bundle/pydev_monkey.py'>,\n",
       "  '_pydevd_bundle.pydevd_collect_bytecode_info': <module '_pydevd_bundle.pydevd_collect_bytecode_info' from '/data2/hushuhan/tools/anaconda3/envs/d2l/lib/python3.7/site-packages/debugpy/_vendored/pydevd/_pydevd_bundle/pydevd_collect_bytecode_info.py'>,\n",
       "  '_pydevd_bundle.pydevd_breakpoints': <module '_pydevd_bundle.pydevd_breakpoints' from '/data2/hushuhan/tools/anaconda3/envs/d2l/lib/python3.7/site-packages/debugpy/_vendored/pydevd/_pydevd_bundle/pydevd_breakpoints.py'>,\n",
       "  '_pydevd_bundle.pydevd_import_class': <module '_pydevd_bundle.pydevd_import_class' from '/data2/hushuhan/tools/anaconda3/envs/d2l/lib/python3.7/site-packages/debugpy/_vendored/pydevd/_pydevd_bundle/pydevd_import_class.py'>,\n",
       "  '_pydevd_bundle.pydevd_custom_frames': <module '_pydevd_bundle.pydevd_custom_frames' from '/data2/hushuhan/tools/anaconda3/envs/d2l/lib/python3.7/site-packages/debugpy/_vendored/pydevd/_pydevd_bundle/pydevd_custom_frames.py'>,\n",
       "  '_pydevd_bundle.pydevd_dont_trace_files': <module '_pydevd_bundle.pydevd_dont_trace_files' from '/data2/hushuhan/tools/anaconda3/envs/d2l/lib/python3.7/site-packages/debugpy/_vendored/pydevd/_pydevd_bundle/pydevd_dont_trace_files.py'>,\n",
       "  '_pydevd_bundle.pydevd_net_command_factory_xml': <module '_pydevd_bundle.pydevd_net_command_factory_xml' from '/data2/hushuhan/tools/anaconda3/envs/d2l/lib/python3.7/site-packages/debugpy/_vendored/pydevd/_pydevd_bundle/pydevd_net_command_factory_xml.py'>,\n",
       "  '_pydevd_bundle.pydevd_net_command': <module '_pydevd_bundle.pydevd_net_command' from '/data2/hushuhan/tools/anaconda3/envs/d2l/lib/python3.7/site-packages/debugpy/_vendored/pydevd/_pydevd_bundle/pydevd_net_command.py'>,\n",
       "  '_pydev_bundle._pydev_completer': <module '_pydev_bundle._pydev_completer' from '/data2/hushuhan/tools/anaconda3/envs/d2l/lib/python3.7/site-packages/debugpy/_vendored/pydevd/_pydev_bundle/_pydev_completer.py'>,\n",
       "  'pydevconsole': <module 'pydevconsole' from '/data2/hushuhan/tools/anaconda3/envs/d2l/lib/python3.7/site-packages/debugpy/_vendored/pydevd/pydevconsole.py'>,\n",
       "  '_pydevd_bundle.pydevconsole_code': <module '_pydevd_bundle.pydevconsole_code' from '/data2/hushuhan/tools/anaconda3/envs/d2l/lib/python3.7/site-packages/debugpy/_vendored/pydevd/_pydevd_bundle/pydevconsole_code.py'>,\n",
       "  '_pydev_bundle.pydev_umd': <module '_pydev_bundle.pydev_umd' from '/data2/hushuhan/tools/anaconda3/envs/d2l/lib/python3.7/site-packages/debugpy/_vendored/pydevd/_pydev_bundle/pydev_umd.py'>,\n",
       "  '_pydevd_bundle.pydevd_trace_dispatch': <module '_pydevd_bundle.pydevd_trace_dispatch' from '/data2/hushuhan/tools/anaconda3/envs/d2l/lib/python3.7/site-packages/debugpy/_vendored/pydevd/_pydevd_bundle/pydevd_trace_dispatch.py'>,\n",
       "  '_pydevd_bundle.pydevd_additional_thread_info_regular': <module '_pydevd_bundle.pydevd_additional_thread_info_regular' from '/data2/hushuhan/tools/anaconda3/envs/d2l/lib/python3.7/site-packages/debugpy/_vendored/pydevd/_pydevd_bundle/pydevd_additional_thread_info_regular.py'>,\n",
       "  '_pydevd_bundle.pydevd_frame': <module '_pydevd_bundle.pydevd_frame' from '/data2/hushuhan/tools/anaconda3/envs/d2l/lib/python3.7/site-packages/debugpy/_vendored/pydevd/_pydevd_bundle/pydevd_frame.py'>,\n",
       "  '_pydevd_frame_eval.pydevd_frame_eval_main': <module '_pydevd_frame_eval.pydevd_frame_eval_main' from '/data2/hushuhan/tools/anaconda3/envs/d2l/lib/python3.7/site-packages/debugpy/_vendored/pydevd/_pydevd_frame_eval/pydevd_frame_eval_main.py'>,\n",
       "  '_pydevd_bundle.pydevd_source_mapping': <module '_pydevd_bundle.pydevd_source_mapping' from '/data2/hushuhan/tools/anaconda3/envs/d2l/lib/python3.7/site-packages/debugpy/_vendored/pydevd/_pydevd_bundle/pydevd_source_mapping.py'>,\n",
       "  '_pydevd_bundle.pydevd_concurrency_analyser': <module '_pydevd_bundle.pydevd_concurrency_analyser' from '/data2/hushuhan/tools/anaconda3/envs/d2l/lib/python3.7/site-packages/debugpy/_vendored/pydevd/_pydevd_bundle/pydevd_concurrency_analyser/__init__.py'>,\n",
       "  '_pydevd_bundle.pydevd_concurrency_analyser.pydevd_concurrency_logger': <module '_pydevd_bundle.pydevd_concurrency_analyser.pydevd_concurrency_logger' from '/data2/hushuhan/tools/anaconda3/envs/d2l/lib/python3.7/site-packages/debugpy/_vendored/pydevd/_pydevd_bundle/pydevd_concurrency_analyser/pydevd_concurrency_logger.py'>,\n",
       "  '_pydevd_bundle.pydevd_concurrency_analyser.pydevd_thread_wrappers': <module '_pydevd_bundle.pydevd_concurrency_analyser.pydevd_thread_wrappers' from '/data2/hushuhan/tools/anaconda3/envs/d2l/lib/python3.7/site-packages/debugpy/_vendored/pydevd/_pydevd_bundle/pydevd_concurrency_analyser/pydevd_thread_wrappers.py'>,\n",
       "  '_pydevd_bundle.pydevd_comm': <module '_pydevd_bundle.pydevd_comm' from '/data2/hushuhan/tools/anaconda3/envs/d2l/lib/python3.7/site-packages/debugpy/_vendored/pydevd/_pydevd_bundle/pydevd_comm.py'>,\n",
       "  '_pydevd_bundle._debug_adapter': <module '_pydevd_bundle._debug_adapter' from '/data2/hushuhan/tools/anaconda3/envs/d2l/lib/python3.7/site-packages/debugpy/_vendored/pydevd/_pydevd_bundle/_debug_adapter/__init__.py'>,\n",
       "  '_pydevd_bundle._debug_adapter.pydevd_schema': <module '_pydevd_bundle._debug_adapter.pydevd_schema' from '/data2/hushuhan/tools/anaconda3/envs/d2l/lib/python3.7/site-packages/debugpy/_vendored/pydevd/_pydevd_bundle/_debug_adapter/pydevd_schema.py'>,\n",
       "  '_pydevd_bundle._debug_adapter.pydevd_base_schema': <module '_pydevd_bundle._debug_adapter.pydevd_base_schema' from '/data2/hushuhan/tools/anaconda3/envs/d2l/lib/python3.7/site-packages/debugpy/_vendored/pydevd/_pydevd_bundle/_debug_adapter/pydevd_base_schema.py'>,\n",
       "  '_pydevd_bundle._debug_adapter.pydevd_schema_log': <module '_pydevd_bundle._debug_adapter.pydevd_schema_log' from '/data2/hushuhan/tools/anaconda3/envs/d2l/lib/python3.7/site-packages/debugpy/_vendored/pydevd/_pydevd_bundle/_debug_adapter/pydevd_schema_log.py'>,\n",
       "  '_pydevd_bundle.pydevd_reload': <module '_pydevd_bundle.pydevd_reload' from '/data2/hushuhan/tools/anaconda3/envs/d2l/lib/python3.7/site-packages/debugpy/_vendored/pydevd/_pydevd_bundle/pydevd_reload.py'>,\n",
       "  '_pydev_bundle.fsnotify': <module '_pydev_bundle.fsnotify' from '/data2/hushuhan/tools/anaconda3/envs/d2l/lib/python3.7/site-packages/debugpy/_vendored/pydevd/_pydev_bundle/fsnotify/__init__.py'>,\n",
       "  '_pydevd_bundle.pydevd_console': <module '_pydevd_bundle.pydevd_console' from '/data2/hushuhan/tools/anaconda3/envs/d2l/lib/python3.7/site-packages/debugpy/_vendored/pydevd/_pydevd_bundle/pydevd_console.py'>,\n",
       "  '_pydevd_bundle.pydevd_process_net_command_json': <module '_pydevd_bundle.pydevd_process_net_command_json' from '/data2/hushuhan/tools/anaconda3/envs/d2l/lib/python3.7/site-packages/debugpy/_vendored/pydevd/_pydevd_bundle/pydevd_process_net_command_json.py'>,\n",
       "  '_pydevd_bundle.pydevd_api': <module '_pydevd_bundle.pydevd_api' from '/data2/hushuhan/tools/anaconda3/envs/d2l/lib/python3.7/site-packages/debugpy/_vendored/pydevd/_pydevd_bundle/pydevd_api.py'>,\n",
       "  '_pydevd_bundle.pydevd_net_command_factory_json': <module '_pydevd_bundle.pydevd_net_command_factory_json' from '/data2/hushuhan/tools/anaconda3/envs/d2l/lib/python3.7/site-packages/debugpy/_vendored/pydevd/_pydevd_bundle/pydevd_net_command_factory_json.py'>,\n",
       "  '_pydevd_bundle.pydevd_json_debug_options': <module '_pydevd_bundle.pydevd_json_debug_options' from '/data2/hushuhan/tools/anaconda3/envs/d2l/lib/python3.7/site-packages/debugpy/_vendored/pydevd/_pydevd_bundle/pydevd_json_debug_options.py'>,\n",
       "  '_pydevd_bundle.pydevd_process_net_command': <module '_pydevd_bundle.pydevd_process_net_command' from '/data2/hushuhan/tools/anaconda3/envs/d2l/lib/python3.7/site-packages/debugpy/_vendored/pydevd/_pydevd_bundle/pydevd_process_net_command.py'>,\n",
       "  '_pydevd_bundle.pydevd_traceproperty': <module '_pydevd_bundle.pydevd_traceproperty' from '/data2/hushuhan/tools/anaconda3/envs/d2l/lib/python3.7/site-packages/debugpy/_vendored/pydevd/_pydevd_bundle/pydevd_traceproperty.py'>,\n",
       "  '_pydevd_bundle.pydevd_suspended_frames': <module '_pydevd_bundle.pydevd_suspended_frames' from '/data2/hushuhan/tools/anaconda3/envs/d2l/lib/python3.7/site-packages/debugpy/_vendored/pydevd/_pydevd_bundle/pydevd_suspended_frames.py'>,\n",
       "  '_pydevd_bundle.pydevd_plugin_utils': <module '_pydevd_bundle.pydevd_plugin_utils' from '/data2/hushuhan/tools/anaconda3/envs/d2l/lib/python3.7/site-packages/debugpy/_vendored/pydevd/_pydevd_bundle/pydevd_plugin_utils.py'>,\n",
       "  '_pydevd_bundle.pydevd_trace_api': <module '_pydevd_bundle.pydevd_trace_api' from '/data2/hushuhan/tools/anaconda3/envs/d2l/lib/python3.7/site-packages/debugpy/_vendored/pydevd/_pydevd_bundle/pydevd_trace_api.py'>,\n",
       "  'pydevd_plugins.django_debug': <module 'pydevd_plugins.django_debug' from '/data2/hushuhan/tools/anaconda3/envs/d2l/lib/python3.7/site-packages/debugpy/_vendored/pydevd/pydevd_plugins/django_debug.py'>,\n",
       "  'pydevd_plugins.pydevd_line_validation': <module 'pydevd_plugins.pydevd_line_validation' from '/data2/hushuhan/tools/anaconda3/envs/d2l/lib/python3.7/site-packages/debugpy/_vendored/pydevd/pydevd_plugins/pydevd_line_validation.py'>,\n",
       "  'pydevd_plugins.jinja2_debug': <module 'pydevd_plugins.jinja2_debug' from '/data2/hushuhan/tools/anaconda3/envs/d2l/lib/python3.7/site-packages/debugpy/_vendored/pydevd/pydevd_plugins/jinja2_debug.py'>,\n",
       "  'debugpy.server.api': <module 'debugpy.server.api' from '/data2/hushuhan/tools/anaconda3/envs/d2l/lib/python3.7/site-packages/debugpy/server/api.py'>,\n",
       "  'debugpy.adapter': <module 'debugpy.adapter' from '/data2/hushuhan/tools/anaconda3/envs/d2l/lib/python3.7/site-packages/debugpy/adapter/__init__.py'>,\n",
       "  'debugpy.common': <module 'debugpy.common' from '/data2/hushuhan/tools/anaconda3/envs/d2l/lib/python3.7/site-packages/debugpy/common/__init__.py'>,\n",
       "  'debugpy.common.json': <module 'debugpy.common.json' from '/data2/hushuhan/tools/anaconda3/envs/d2l/lib/python3.7/site-packages/debugpy/common/json.py'>,\n",
       "  'debugpy.common.log': <module 'debugpy.common.log' from '/data2/hushuhan/tools/anaconda3/envs/d2l/lib/python3.7/site-packages/debugpy/common/log.py'>,\n",
       "  'debugpy.common.timestamp': <module 'debugpy.common.timestamp' from '/data2/hushuhan/tools/anaconda3/envs/d2l/lib/python3.7/site-packages/debugpy/common/timestamp.py'>,\n",
       "  'debugpy.common.util': <module 'debugpy.common.util' from '/data2/hushuhan/tools/anaconda3/envs/d2l/lib/python3.7/site-packages/debugpy/common/util.py'>,\n",
       "  'debugpy.common.sockets': <module 'debugpy.common.sockets' from '/data2/hushuhan/tools/anaconda3/envs/d2l/lib/python3.7/site-packages/debugpy/common/sockets.py'>,\n",
       "  'ipykernel.eventloops': <module 'ipykernel.eventloops' from '/data2/hushuhan/tools/anaconda3/envs/d2l/lib/python3.7/site-packages/ipykernel/eventloops.py'>,\n",
       "  'packaging': <module 'packaging' from '/data2/hushuhan/tools/anaconda3/envs/d2l/lib/python3.7/site-packages/packaging/__init__.py'>,\n",
       "  'packaging.version': <module 'packaging.version' from '/data2/hushuhan/tools/anaconda3/envs/d2l/lib/python3.7/site-packages/packaging/version.py'>,\n",
       "  'packaging._structures': <module 'packaging._structures' from '/data2/hushuhan/tools/anaconda3/envs/d2l/lib/python3.7/site-packages/packaging/_structures.py'>,\n",
       "  'ipykernel.zmqshell': <module 'ipykernel.zmqshell' from '/data2/hushuhan/tools/anaconda3/envs/d2l/lib/python3.7/site-packages/ipykernel/zmqshell.py'>,\n",
       "  'IPython.core.payloadpage': <module 'IPython.core.payloadpage' from '/data2/hushuhan/tools/anaconda3/envs/d2l/lib/python3.7/site-packages/IPython/core/payloadpage.py'>,\n",
       "  'ipykernel.displayhook': <module 'ipykernel.displayhook' from '/data2/hushuhan/tools/anaconda3/envs/d2l/lib/python3.7/site-packages/ipykernel/displayhook.py'>,\n",
       "  'ipykernel.parentpoller': <module 'ipykernel.parentpoller' from '/data2/hushuhan/tools/anaconda3/envs/d2l/lib/python3.7/site-packages/ipykernel/parentpoller.py'>,\n",
       "  'faulthandler': <module 'faulthandler' (built-in)>,\n",
       "  'IPython.core.completerlib': <module 'IPython.core.completerlib' from '/data2/hushuhan/tools/anaconda3/envs/d2l/lib/python3.7/site-packages/IPython/core/completerlib.py'>,\n",
       "  'storemagic': <module 'storemagic' from '/data2/hushuhan/tools/anaconda3/envs/d2l/lib/python3.7/site-packages/IPython/extensions/storemagic.py'>,\n",
       "  'ipywidgets': <module 'ipywidgets' from '/data2/hushuhan/tools/anaconda3/envs/d2l/lib/python3.7/site-packages/ipywidgets/__init__.py'>,\n",
       "  'ipywidgets._version': <module 'ipywidgets._version' from '/data2/hushuhan/tools/anaconda3/envs/d2l/lib/python3.7/site-packages/ipywidgets/_version.py'>,\n",
       "  'ipywidgets.widgets': <module 'ipywidgets.widgets' from '/data2/hushuhan/tools/anaconda3/envs/d2l/lib/python3.7/site-packages/ipywidgets/widgets/__init__.py'>,\n",
       "  'ipywidgets.widgets.widget': <module 'ipywidgets.widgets.widget' from '/data2/hushuhan/tools/anaconda3/envs/d2l/lib/python3.7/site-packages/ipywidgets/widgets/widget.py'>,\n",
       "  'ipywidgets.comm': <module 'ipywidgets.comm' from '/data2/hushuhan/tools/anaconda3/envs/d2l/lib/python3.7/site-packages/ipywidgets/comm.py'>,\n",
       "  'comm': <module 'comm' from '/data2/hushuhan/tools/anaconda3/envs/d2l/lib/python3.7/site-packages/comm/__init__.py'>,\n",
       "  'comm.base_comm': <module 'comm.base_comm' from '/data2/hushuhan/tools/anaconda3/envs/d2l/lib/python3.7/site-packages/comm/base_comm.py'>,\n",
       "  'ipywidgets.widgets.utils': <module 'ipywidgets.widgets.utils' from '/data2/hushuhan/tools/anaconda3/envs/d2l/lib/python3.7/site-packages/ipywidgets/widgets/utils.py'>,\n",
       "  'ipywidgets.widgets.domwidget': <module 'ipywidgets.widgets.domwidget' from '/data2/hushuhan/tools/anaconda3/envs/d2l/lib/python3.7/site-packages/ipywidgets/widgets/domwidget.py'>,\n",
       "  'ipywidgets.widgets.trait_types': <module 'ipywidgets.widgets.trait_types' from '/data2/hushuhan/tools/anaconda3/envs/d2l/lib/python3.7/site-packages/ipywidgets/widgets/trait_types.py'>,\n",
       "  'ipywidgets.widgets.widget_layout': <module 'ipywidgets.widgets.widget_layout' from '/data2/hushuhan/tools/anaconda3/envs/d2l/lib/python3.7/site-packages/ipywidgets/widgets/widget_layout.py'>,\n",
       "  'ipywidgets.widgets.widget_style': <module 'ipywidgets.widgets.widget_style' from '/data2/hushuhan/tools/anaconda3/envs/d2l/lib/python3.7/site-packages/ipywidgets/widgets/widget_style.py'>,\n",
       "  'ipywidgets.widgets.valuewidget': <module 'ipywidgets.widgets.valuewidget' from '/data2/hushuhan/tools/anaconda3/envs/d2l/lib/python3.7/site-packages/ipywidgets/widgets/valuewidget.py'>,\n",
       "  'ipywidgets.widgets.widget_core': <module 'ipywidgets.widgets.widget_core' from '/data2/hushuhan/tools/anaconda3/envs/d2l/lib/python3.7/site-packages/ipywidgets/widgets/widget_core.py'>,\n",
       "  'ipywidgets.widgets.widget_bool': <module 'ipywidgets.widgets.widget_bool' from '/data2/hushuhan/tools/anaconda3/envs/d2l/lib/python3.7/site-packages/ipywidgets/widgets/widget_bool.py'>,\n",
       "  'ipywidgets.widgets.widget_description': <module 'ipywidgets.widgets.widget_description' from '/data2/hushuhan/tools/anaconda3/envs/d2l/lib/python3.7/site-packages/ipywidgets/widgets/widget_description.py'>,\n",
       "  'ipywidgets.widgets.widget_button': <module 'ipywidgets.widgets.widget_button' from '/data2/hushuhan/tools/anaconda3/envs/d2l/lib/python3.7/site-packages/ipywidgets/widgets/widget_button.py'>,\n",
       "  'ipywidgets.widgets.widget_box': <module 'ipywidgets.widgets.widget_box' from '/data2/hushuhan/tools/anaconda3/envs/d2l/lib/python3.7/site-packages/ipywidgets/widgets/widget_box.py'>,\n",
       "  'ipywidgets.widgets.docutils': <module 'ipywidgets.widgets.docutils' from '/data2/hushuhan/tools/anaconda3/envs/d2l/lib/python3.7/site-packages/ipywidgets/widgets/docutils.py'>,\n",
       "  'ipywidgets.widgets.widget_float': <module 'ipywidgets.widgets.widget_float' from '/data2/hushuhan/tools/anaconda3/envs/d2l/lib/python3.7/site-packages/ipywidgets/widgets/widget_float.py'>,\n",
       "  'ipywidgets.widgets.widget_int': <module 'ipywidgets.widgets.widget_int' from '/data2/hushuhan/tools/anaconda3/envs/d2l/lib/python3.7/site-packages/ipywidgets/widgets/widget_int.py'>,\n",
       "  'ipywidgets.widgets.widget_color': <module 'ipywidgets.widgets.widget_color' from '/data2/hushuhan/tools/anaconda3/envs/d2l/lib/python3.7/site-packages/ipywidgets/widgets/widget_color.py'>,\n",
       "  'ipywidgets.widgets.widget_date': <module 'ipywidgets.widgets.widget_date' from '/data2/hushuhan/tools/anaconda3/envs/d2l/lib/python3.7/site-packages/ipywidgets/widgets/widget_date.py'>,\n",
       "  'ipywidgets.widgets.widget_datetime': <module 'ipywidgets.widgets.widget_datetime' from '/data2/hushuhan/tools/anaconda3/envs/d2l/lib/python3.7/site-packages/ipywidgets/widgets/widget_datetime.py'>,\n",
       "  'ipywidgets.widgets.widget_time': <module 'ipywidgets.widgets.widget_time' from '/data2/hushuhan/tools/anaconda3/envs/d2l/lib/python3.7/site-packages/ipywidgets/widgets/widget_time.py'>,\n",
       "  'ipywidgets.widgets.widget_output': <module 'ipywidgets.widgets.widget_output' from '/data2/hushuhan/tools/anaconda3/envs/d2l/lib/python3.7/site-packages/ipywidgets/widgets/widget_output.py'>,\n",
       "  'ipywidgets.widgets.widget_selection': <module 'ipywidgets.widgets.widget_selection' from '/data2/hushuhan/tools/anaconda3/envs/d2l/lib/python3.7/site-packages/ipywidgets/widgets/widget_selection.py'>,\n",
       "  'ipywidgets.widgets.widget_selectioncontainer': <module 'ipywidgets.widgets.widget_selectioncontainer' from '/data2/hushuhan/tools/anaconda3/envs/d2l/lib/python3.7/site-packages/ipywidgets/widgets/widget_selectioncontainer.py'>,\n",
       "  'ipywidgets.widgets.widget_string': <module 'ipywidgets.widgets.widget_string' from '/data2/hushuhan/tools/anaconda3/envs/d2l/lib/python3.7/site-packages/ipywidgets/widgets/widget_string.py'>,\n",
       "  'ipywidgets.widgets.widget_controller': <module 'ipywidgets.widgets.widget_controller' from '/data2/hushuhan/tools/anaconda3/envs/d2l/lib/python3.7/site-packages/ipywidgets/widgets/widget_controller.py'>,\n",
       "  'ipywidgets.widgets.interaction': <module 'ipywidgets.widgets.interaction' from '/data2/hushuhan/tools/anaconda3/envs/d2l/lib/python3.7/site-packages/ipywidgets/widgets/interaction.py'>,\n",
       "  'ipywidgets.widgets.widget_link': <module 'ipywidgets.widgets.widget_link' from '/data2/hushuhan/tools/anaconda3/envs/d2l/lib/python3.7/site-packages/ipywidgets/widgets/widget_link.py'>,\n",
       "  'ipywidgets.widgets.widget_media': <module 'ipywidgets.widgets.widget_media' from '/data2/hushuhan/tools/anaconda3/envs/d2l/lib/python3.7/site-packages/ipywidgets/widgets/widget_media.py'>,\n",
       "  'ipywidgets.widgets.widget_tagsinput': <module 'ipywidgets.widgets.widget_tagsinput' from '/data2/hushuhan/tools/anaconda3/envs/d2l/lib/python3.7/site-packages/ipywidgets/widgets/widget_tagsinput.py'>,\n",
       "  'ipywidgets.widgets.widget_templates': <module 'ipywidgets.widgets.widget_templates' from '/data2/hushuhan/tools/anaconda3/envs/d2l/lib/python3.7/site-packages/ipywidgets/widgets/widget_templates.py'>,\n",
       "  'ipywidgets.widgets.widget_upload': <module 'ipywidgets.widgets.widget_upload' from '/data2/hushuhan/tools/anaconda3/envs/d2l/lib/python3.7/site-packages/ipywidgets/widgets/widget_upload.py'>})"
      ]
     },
     "execution_count": 10,
     "metadata": {},
     "output_type": "execute_result"
    }
   ],
   "source": [
    "import sys\n",
    "\n",
    "sys.platform, sys.modules"
   ]
  },
  {
   "cell_type": "code",
   "execution_count": 11,
   "metadata": {},
   "outputs": [
    {
     "name": "stdout",
     "output_type": "stream",
     "text": [
      "hello!\n"
     ]
    },
    {
     "data": {
      "text/plain": [
       "0"
      ]
     },
     "execution_count": 11,
     "metadata": {},
     "output_type": "execute_result"
    }
   ],
   "source": [
    "import os\n",
    "\n",
    "os.system(\"echo hello!\")"
   ]
  },
  {
   "cell_type": "code",
   "execution_count": 12,
   "metadata": {},
   "outputs": [
    {
     "data": {
      "text/plain": [
       "environ{'MAIL': '/var/mail/hsh',\n",
       "        'SSH_CLIENT': '172.31.70.16 6013 22',\n",
       "        'USER': 'hsh',\n",
       "        'SHLVL': '5',\n",
       "        'HOME': '/home/hsh',\n",
       "        'LOGNAME': 'hsh',\n",
       "        '_': '/data2/hushuhan/tools/anaconda3/envs/d2l/bin/python',\n",
       "        'XDG_SESSION_ID': '35405',\n",
       "        'PATH': '/data2/hushuhan/tools/anaconda3/envs/d2l/bin:/data2/hushuhan/.vscode-server/bin/f1b07bd25dfad64b0167beb15359ae573aecd2cc/bin/remote-cli:/data2/hushuhan/tools/anaconda3/envs/d2l/bin:/data2/hushuhan/tools/anaconda3/condabin:/usr/local/cuda-10.1/bin:/usr/local/sbin:/usr/local/bin:/usr/sbin:/usr/bin:/sbin:/bin:/usr/games:/usr/local/games:/snap/bin:/usr/local/MATLAB/R2017b/bin',\n",
       "        'VSCODE_AGENT_FOLDER': '/data2/hushuhan/.vscode-server',\n",
       "        'XDG_RUNTIME_DIR': '/run/user/1005',\n",
       "        'LANG': 'en_US.UTF-8',\n",
       "        'SHELL': '/bin/bash',\n",
       "        'PWD': '/home/hsh',\n",
       "        'SSH_CONNECTION': '172.31.70.16 6013 172.31.224.86 22',\n",
       "        'VSCODE_HANDLES_SIGPIPE': 'true',\n",
       "        'CONDA_SHLVL': '2',\n",
       "        'CONDA_PROMPT_MODIFIER': '(d2l) ',\n",
       "        'LS_COLORS': '',\n",
       "        'LD_LIBRARY_PATH': '/usr/local/cuda-10.1/lib64:',\n",
       "        'CONDA_EXE': '/data2/hushuhan/tools/anaconda3/bin/conda',\n",
       "        '_CE_CONDA': '',\n",
       "        'QT_QPA_PLATFORMTHEME': 'appmenu-qt5',\n",
       "        'CONDA_PREFIX': '/data2/hushuhan/tools/anaconda3/envs/d2l',\n",
       "        'PS1': '(base) ${debian_chroot:+($debian_chroot)}\\\\u@\\\\h:\\\\w\\\\$ \\\\[\\\\e]1337;CurrentDir=$(pwd)\\\\a\\\\]',\n",
       "        '_CE_M': '',\n",
       "        'CONDA_PYTHON_EXE': '/data2/hushuhan/tools/anaconda3/bin/python',\n",
       "        'CONDA_DEFAULT_ENV': 'd2l',\n",
       "        'LESSOPEN': '| /usr/bin/lesspipe %s',\n",
       "        'LESSCLOSE': '/usr/bin/lesspipe %s %s',\n",
       "        'VSCODE_AMD_ENTRYPOINT': 'vs/workbench/api/node/extensionHostProcess',\n",
       "        'VSCODE_HANDLES_UNCAUGHT_ERRORS': 'true',\n",
       "        'VSCODE_NLS_CONFIG': '{\"locale\":\"zh-cn\",\"osLocale\":\"zh-cn\",\"availableLanguages\":{\"*\":\"zh-cn\"},\"_languagePackId\":\"61bf19065f3e2d2923c646dfd3ddbe58.zh-cn\",\"_translationsConfigFile\":\"/data2/hushuhan/.vscode-server/data/clp/61bf19065f3e2d2923c646dfd3ddbe58.zh-cn/tcf.json\",\"_cacheRoot\":\"/data2/hushuhan/.vscode-server/data/clp/61bf19065f3e2d2923c646dfd3ddbe58.zh-cn\",\"_resolvedLanguagePackCoreLocation\":\"/data2/hushuhan/.vscode-server/data/clp/61bf19065f3e2d2923c646dfd3ddbe58.zh-cn/f1b07bd25dfad64b0167beb15359ae573aecd2cc\",\"_corruptedFile\":\"/data2/hushuhan/.vscode-server/data/clp/61bf19065f3e2d2923c646dfd3ddbe58.zh-cn/corrupted.info\",\"_languagePackSupport\":true}',\n",
       "        'BROWSER': '/data2/hushuhan/.vscode-server/bin/f1b07bd25dfad64b0167beb15359ae573aecd2cc/bin/helpers/browser.sh',\n",
       "        'VSCODE_CWD': '/home/hsh',\n",
       "        'ELECTRON_RUN_AS_NODE': '1',\n",
       "        'VSCODE_IPC_HOOK_CLI': '/run/user/1005/vscode-ipc-8ea9e53e-7e77-400c-87ee-6a24038a0456.sock',\n",
       "        'VSCODE_L10N_BUNDLE_LOCATION': 'vscode-local:/c%3A/Users/HP/.vscode/extensions/ms-ceintl.vscode-language-pack-zh-hans-1.83.2023101109/translations/extensions/vscode.json-language-features.i18n.json',\n",
       "        'APPLICATION_INSIGHTS_NO_DIAGNOSTIC_CHANNEL': '1',\n",
       "        'PYTHONUNBUFFERED': '1',\n",
       "        'PYTHONIOENCODING': 'utf-8',\n",
       "        'CONDA_PREFIX_1': '/data2/hushuhan/tools/anaconda3',\n",
       "        'CONDA_ROOT': '/data2/hushuhan/tools/anaconda3',\n",
       "        'PYDEVD_IPYTHON_COMPATIBLE_DEBUGGING': '1',\n",
       "        'PYDEVD_USE_FRAME_EVAL': 'NO',\n",
       "        'TERM': 'xterm-color',\n",
       "        'CLICOLOR': '1',\n",
       "        'PAGER': 'cat',\n",
       "        'GIT_PAGER': 'cat',\n",
       "        'MPLBACKEND': 'module://matplotlib_inline.backend_inline'}"
      ]
     },
     "execution_count": 12,
     "metadata": {},
     "output_type": "execute_result"
    }
   ],
   "source": [
    "os.environ"
   ]
  },
  {
   "cell_type": "code",
   "execution_count": 16,
   "metadata": {},
   "outputs": [
    {
     "data": {
      "text/plain": [
       "('/', ':', '\\n', b'\\x04\\x89\\xb7E\\x03')"
      ]
     },
     "execution_count": 16,
     "metadata": {},
     "output_type": "execute_result"
    }
   ],
   "source": [
    "# windows 独有的 os.startfile，专门用来打开一个文件\n",
    "os.sep, os.pathsep, os.linesep, os.urandom(5)"
   ]
  },
  {
   "cell_type": "code",
   "execution_count": 19,
   "metadata": {},
   "outputs": [
    {
     "data": {
      "text/plain": [
       "True"
      ]
     },
     "execution_count": 19,
     "metadata": {},
     "output_type": "execute_result"
    }
   ],
   "source": [
    "# 专门用来打开浏览器的模块\n",
    "import webbrowser\n",
    "webbrowser.open(\"http://www.python.org\")"
   ]
  },
  {
   "cell_type": "code",
   "execution_count": 27,
   "metadata": {},
   "outputs": [
    {
     "data": {
      "text/plain": [
       "{0, 1, 2, 3, 4, 5, 6, 7, 8, 9}"
      ]
     },
     "execution_count": 27,
     "metadata": {},
     "output_type": "execute_result"
    }
   ],
   "source": [
    "set(range(10))\n"
   ]
  },
  {
   "cell_type": "code",
   "execution_count": 28,
   "metadata": {},
   "outputs": [
    {
     "data": {
      "text/plain": [
       "dict"
      ]
     },
     "execution_count": 28,
     "metadata": {},
     "output_type": "execute_result"
    }
   ],
   "source": [
    "type({})"
   ]
  },
  {
   "cell_type": "code",
   "execution_count": 30,
   "metadata": {},
   "outputs": [
    {
     "data": {
      "text/plain": [
       "({1, 2, 3, 4}, set)"
      ]
     },
     "execution_count": 30,
     "metadata": {},
     "output_type": "execute_result"
    }
   ],
   "source": [
    "a = {1, 2, 3, 4}\n",
    "a, type(a)"
   ]
  },
  {
   "cell_type": "code",
   "execution_count": 31,
   "metadata": {},
   "outputs": [
    {
     "data": {
      "text/plain": [
       "({1, 2, 3, 4}, {1, 2, 3, 4})"
      ]
     },
     "execution_count": 31,
     "metadata": {},
     "output_type": "execute_result"
    }
   ],
   "source": [
    "a = {1, 2, 3}\n",
    "b = {2, 3, 4}\n",
    "a.union(b), a | b"
   ]
  },
  {
   "cell_type": "code",
   "execution_count": 32,
   "metadata": {},
   "outputs": [
    {
     "data": {
      "text/plain": [
       "(True, False, {2, 3}, {2, 3})"
      ]
     },
     "execution_count": 32,
     "metadata": {},
     "output_type": "execute_result"
    }
   ],
   "source": [
    "c = a & b\n",
    "c.issubset(a), c >= a, a.intersection(b), a & b"
   ]
  },
  {
   "cell_type": "code",
   "execution_count": 33,
   "metadata": {},
   "outputs": [
    {
     "data": {
      "text/plain": [
       "({1}, {1}, {1, 4}, {1, 4}, {1, 2, 3})"
      ]
     },
     "execution_count": 33,
     "metadata": {},
     "output_type": "execute_result"
    }
   ],
   "source": [
    "a.difference(b), a - b, a.symmetric_difference(b), a ^ b"
   ]
  },
  {
   "cell_type": "code",
   "execution_count": 35,
   "metadata": {},
   "outputs": [
    {
     "data": {
      "text/plain": [
       "({1, 2, 3}, False)"
      ]
     },
     "execution_count": 35,
     "metadata": {},
     "output_type": "execute_result"
    }
   ],
   "source": [
    "a.copy(), a.copy() is a"
   ]
  },
  {
   "cell_type": "code",
   "execution_count": 41,
   "metadata": {},
   "outputs": [
    {
     "ename": "TypeError",
     "evalue": "unhashable type: 'set'",
     "output_type": "error",
     "traceback": [
      "\u001b[0;31m---------------------------------------------------------------------------\u001b[0m",
      "\u001b[0;31mTypeError\u001b[0m                                 Traceback (most recent call last)",
      "\u001b[0;32m/tmp/ipykernel_8611/223441946.py\u001b[0m in \u001b[0;36m<module>\u001b[0;34m\u001b[0m\n\u001b[1;32m      1\u001b[0m \u001b[0ma\u001b[0m \u001b[0;34m=\u001b[0m \u001b[0mset\u001b[0m\u001b[0;34m(\u001b[0m\u001b[0;34m{\u001b[0m\u001b[0;36m2\u001b[0m\u001b[0;34m,\u001b[0m \u001b[0;36m3\u001b[0m\u001b[0;34m}\u001b[0m\u001b[0;34m)\u001b[0m\u001b[0;34m\u001b[0m\u001b[0;34m\u001b[0m\u001b[0m\n\u001b[1;32m      2\u001b[0m \u001b[0mb\u001b[0m \u001b[0;34m=\u001b[0m \u001b[0mset\u001b[0m\u001b[0;34m(\u001b[0m\u001b[0;34m{\u001b[0m\u001b[0;36m1\u001b[0m\u001b[0;34m,\u001b[0m \u001b[0;36m2\u001b[0m\u001b[0;34m}\u001b[0m\u001b[0;34m)\u001b[0m\u001b[0;34m\u001b[0m\u001b[0;34m\u001b[0m\u001b[0m\n\u001b[0;32m----> 3\u001b[0;31m \u001b[0ma\u001b[0m\u001b[0;34m.\u001b[0m\u001b[0madd\u001b[0m\u001b[0;34m(\u001b[0m\u001b[0mb\u001b[0m\u001b[0;34m)\u001b[0m\u001b[0;34m\u001b[0m\u001b[0;34m\u001b[0m\u001b[0m\n\u001b[0m",
      "\u001b[0;31mTypeError\u001b[0m: unhashable type: 'set'"
     ]
    }
   ],
   "source": [
    "a = set({2, 3})\n",
    "b = set({1, 2})\n",
    "a.add(b)"
   ]
  },
  {
   "cell_type": "code",
   "execution_count": 42,
   "metadata": {},
   "outputs": [
    {
     "data": {
      "text/plain": [
       "(None, {2, 3, frozenset({1, 2})})"
      ]
     },
     "execution_count": 42,
     "metadata": {},
     "output_type": "execute_result"
    }
   ],
   "source": [
    "a.add(frozenset(b)), a"
   ]
  },
  {
   "cell_type": "code",
   "execution_count": 43,
   "metadata": {},
   "outputs": [
    {
     "data": {
      "text/plain": [
       "[0, 1, 3, 2, 6, 8, 9, 5, 4, 7]"
      ]
     },
     "execution_count": 43,
     "metadata": {},
     "output_type": "execute_result"
    }
   ],
   "source": [
    "from heapq import *\n",
    "from random import shuffle\n",
    "\n",
    "data = list(range(10))\n",
    "shuffle(data)\n",
    "heap = []\n",
    "for n in data:\n",
    "    heappush(heap, n)\n",
    "\n",
    "heap"
   ]
  },
  {
   "cell_type": "code",
   "execution_count": 44,
   "metadata": {},
   "outputs": [
    {
     "data": {
      "text/plain": [
       "[0, 0.5, 3, 2, 1, 8, 9, 5, 4, 7, 6]"
      ]
     },
     "execution_count": 44,
     "metadata": {},
     "output_type": "execute_result"
    }
   ],
   "source": [
    "\"\"\"\n",
    "元素的排列顺序并不像看起来那么随意。它们虽然不是严格排序的，但必须保证一点：位置\n",
    "i处的元素总是大于位置i // 2处的元素（反过来说就是小于位置2 * i和2 * i + 1处的元素）。\n",
    "这是底层堆算法的基础，称为堆特征（heap property）\n",
    "\"\"\"\n",
    "heappush(heap, 0.5)\n",
    "heap"
   ]
  },
  {
   "cell_type": "code",
   "execution_count": 45,
   "metadata": {},
   "outputs": [
    {
     "data": {
      "text/plain": [
       "(0, 0.5, 1)"
      ]
     },
     "execution_count": 45,
     "metadata": {},
     "output_type": "execute_result"
    }
   ],
   "source": [
    "heappop(heap), heappop(heap), heappop(heap)"
   ]
  },
  {
   "cell_type": "code",
   "execution_count": 46,
   "metadata": {},
   "outputs": [
    {
     "data": {
      "text/plain": [
       "[2, 4, 3, 5, 6, 8, 9, 7]"
      ]
     },
     "execution_count": 46,
     "metadata": {},
     "output_type": "execute_result"
    }
   ],
   "source": [
    "heap"
   ]
  },
  {
   "cell_type": "code",
   "execution_count": 47,
   "metadata": {},
   "outputs": [
    {
     "data": {
      "text/plain": [
       "[0, 1, 5, 3, 2, 7, 9, 8, 4, 6]"
      ]
     },
     "execution_count": 47,
     "metadata": {},
     "output_type": "execute_result"
    }
   ],
   "source": [
    "\"\"\"\n",
    "函数heapify通过执行尽可能少的移位操作将列表变成合法的堆（即具备堆特征）。如果你的\n",
    "堆并不是使用heappush创建的，应在使用heappush和heappop之前使用这个函数\n",
    "\"\"\"\n",
    "heap = [5, 8, 0, 3, 6, 7, 9, 1, 4, 2]\n",
    "heapify(heap)   # 相当于将列表初始化为一个堆\n",
    "heap"
   ]
  },
  {
   "cell_type": "code",
   "execution_count": 51,
   "metadata": {},
   "outputs": [
    {
     "data": {
      "text/plain": [
       "2"
      ]
     },
     "execution_count": 51,
     "metadata": {},
     "output_type": "execute_result"
    }
   ],
   "source": [
    "heapreplace(heap, 0.5)"
   ]
  },
  {
   "cell_type": "code",
   "execution_count": 52,
   "metadata": {},
   "outputs": [
    {
     "data": {
      "text/plain": [
       "[0.5, 3, 5, 4, 6, 7, 9, 8, 10, 10]"
      ]
     },
     "execution_count": 52,
     "metadata": {},
     "output_type": "execute_result"
    }
   ],
   "source": [
    "heap"
   ]
  },
  {
   "cell_type": "code",
   "execution_count": 53,
   "metadata": {},
   "outputs": [
    {
     "data": {
      "text/plain": [
       "0.5"
      ]
     },
     "execution_count": 53,
     "metadata": {},
     "output_type": "execute_result"
    }
   ],
   "source": [
    "heapreplace(heap, 10)"
   ]
  },
  {
   "cell_type": "code",
   "execution_count": 54,
   "metadata": {},
   "outputs": [
    {
     "data": {
      "text/plain": [
       "[3, 4, 5, 8, 6, 7, 9, 10, 10, 10]"
      ]
     },
     "execution_count": 54,
     "metadata": {},
     "output_type": "execute_result"
    }
   ],
   "source": [
    "heap"
   ]
  },
  {
   "cell_type": "code",
   "execution_count": 55,
   "metadata": {},
   "outputs": [
    {
     "data": {
      "text/plain": [
       "([10, 10, 10, 9], [3, 4, 5, 6])"
      ]
     },
     "execution_count": 55,
     "metadata": {},
     "output_type": "execute_result"
    }
   ],
   "source": [
    "\"\"\"\n",
    "至此，模块heapq中还有两个函数没有介绍：nlargest(n, iter)和nsmallest(n, iter)，:分\n",
    "别用于找出可迭代对象iter中最大和最小的n个元素。这种任务也可通过先排序（如使用函数\n",
    "sorted）再切片来完成，但堆算法的速度更快，使用的内存更少（而且使用起来也更容易）。\n",
    "\"\"\"\n",
    "nlargest(4, heap), nsmallest(4, heap)"
   ]
  },
  {
   "cell_type": "code",
   "execution_count": 56,
   "metadata": {},
   "outputs": [
    {
     "data": {
      "text/plain": [
       "deque([6, 0, 1, 2, 3, 4, 5])"
      ]
     },
     "execution_count": 56,
     "metadata": {},
     "output_type": "execute_result"
    }
   ],
   "source": [
    "from collections import deque\n",
    "\n",
    "q = deque(range(5))\n",
    "q.append(5)\n",
    "q.appendleft(6)\n",
    "q"
   ]
  },
  {
   "cell_type": "code",
   "execution_count": 57,
   "metadata": {},
   "outputs": [
    {
     "data": {
      "text/plain": [
       "5"
      ]
     },
     "execution_count": 57,
     "metadata": {},
     "output_type": "execute_result"
    }
   ],
   "source": [
    "q.pop()"
   ]
  },
  {
   "cell_type": "code",
   "execution_count": 58,
   "metadata": {},
   "outputs": [
    {
     "data": {
      "text/plain": [
       "6"
      ]
     },
     "execution_count": 58,
     "metadata": {},
     "output_type": "execute_result"
    }
   ],
   "source": [
    "q.popleft()"
   ]
  },
  {
   "cell_type": "code",
   "execution_count": 69,
   "metadata": {},
   "outputs": [
    {
     "data": {
      "text/plain": [
       "deque([2, 3, 4, 0, 1])"
      ]
     },
     "execution_count": 69,
     "metadata": {},
     "output_type": "execute_result"
    }
   ],
   "source": [
    "q.rotate(3)\n",
    "q"
   ]
  },
  {
   "cell_type": "code",
   "execution_count": 70,
   "metadata": {},
   "outputs": [
    {
     "data": {
      "text/plain": [
       "deque([3, 4, 0, 1, 2])"
      ]
     },
     "execution_count": 70,
     "metadata": {},
     "output_type": "execute_result"
    }
   ],
   "source": [
    "q.rotate(-1)\n",
    "q"
   ]
  },
  {
   "cell_type": "code",
   "execution_count": 74,
   "metadata": {},
   "outputs": [
    {
     "data": {
      "text/plain": [
       "deque([3, 4, 0, 1, 2, 9, 10, 11])"
      ]
     },
     "execution_count": 74,
     "metadata": {},
     "output_type": "execute_result"
    }
   ],
   "source": [
    "q.extend([9, 10, 11])\n",
    "q"
   ]
  },
  {
   "cell_type": "code",
   "execution_count": 75,
   "metadata": {},
   "outputs": [
    {
     "data": {
      "text/plain": [
       "deque([14, 13, 12, 3, 4, 0, 1, 2, 9, 10, 11])"
      ]
     },
     "execution_count": 75,
     "metadata": {},
     "output_type": "execute_result"
    }
   ],
   "source": [
    "q.extendleft([12, 13, 14])\n",
    "q"
   ]
  },
  {
   "cell_type": "code",
   "execution_count": 76,
   "metadata": {},
   "outputs": [
    {
     "data": {
      "text/plain": [
       "'Wed Oct 18 22:17:25 2023'"
      ]
     },
     "execution_count": 76,
     "metadata": {},
     "output_type": "execute_result"
    }
   ],
   "source": [
    "import time\n",
    "time.asctime()"
   ]
  },
  {
   "cell_type": "code",
   "execution_count": 77,
   "metadata": {},
   "outputs": [
    {
     "data": {
      "text/plain": [
       "time.struct_time(tm_year=2023, tm_mon=10, tm_mday=18, tm_hour=22, tm_min=17, tm_sec=37, tm_wday=2, tm_yday=291, tm_isdst=0)"
      ]
     },
     "execution_count": 77,
     "metadata": {},
     "output_type": "execute_result"
    }
   ],
   "source": [
    "time.localtime()"
   ]
  },
  {
   "cell_type": "code",
   "execution_count": 87,
   "metadata": {},
   "outputs": [
    {
     "name": "stdout",
     "output_type": "stream",
     "text": [
      "Help on built-in function strptime in module time:\n",
      "\n",
      "strptime(...)\n",
      "    strptime(string, format) -> struct_time\n",
      "    \n",
      "    Parse a string to a time tuple according to a format specification.\n",
      "    See the library reference manual for formatting codes (same as\n",
      "    strftime()).\n",
      "    \n",
      "    Commonly used format codes:\n",
      "    \n",
      "    %Y  Year with century as a decimal number.\n",
      "    %m  Month as a decimal number [01,12].\n",
      "    %d  Day of the month as a decimal number [01,31].\n",
      "    %H  Hour (24-hour clock) as a decimal number [00,23].\n",
      "    %M  Minute as a decimal number [00,59].\n",
      "    %S  Second as a decimal number [00,61].\n",
      "    %z  Time zone offset from UTC.\n",
      "    %a  Locale's abbreviated weekday name.\n",
      "    %A  Locale's full weekday name.\n",
      "    %b  Locale's abbreviated month name.\n",
      "    %B  Locale's full month name.\n",
      "    %c  Locale's appropriate date and time representation.\n",
      "    %I  Hour (12-hour clock) as a decimal number [01,12].\n",
      "    %p  Locale's equivalent of either AM or PM.\n",
      "    \n",
      "    Other codes may be available on your platform.  See documentation for\n",
      "    the C library strftime function.\n",
      "\n"
     ]
    },
    {
     "data": {
      "text/plain": [
       "(None,\n",
       " time.struct_time(tm_year=2023, tm_mon=10, tm_mday=18, tm_hour=22, tm_min=21, tm_sec=41, tm_wday=2, tm_yday=291, tm_isdst=-1))"
      ]
     },
     "execution_count": 87,
     "metadata": {},
     "output_type": "execute_result"
    }
   ],
   "source": [
    "# 将字符串转换为时间元组\n",
    "help(time.strptime), time.strptime(time.asctime())"
   ]
  },
  {
   "cell_type": "code",
   "execution_count": 88,
   "metadata": {},
   "outputs": [
    {
     "data": {
      "text/plain": [
       "1697638949.0"
      ]
     },
     "execution_count": 88,
     "metadata": {},
     "output_type": "execute_result"
    }
   ],
   "source": [
    "time.mktime(time.localtime())"
   ]
  },
  {
   "cell_type": "code",
   "execution_count": 89,
   "metadata": {},
   "outputs": [
    {
     "data": {
      "text/plain": [
       "1697638956.9144053"
      ]
     },
     "execution_count": 89,
     "metadata": {},
     "output_type": "execute_result"
    }
   ],
   "source": [
    "time.time()"
   ]
  },
  {
   "cell_type": "code",
   "execution_count": 92,
   "metadata": {},
   "outputs": [
    {
     "name": "stdout",
     "output_type": "stream",
     "text": [
      "Help on built-in module time:\n",
      "\n",
      "NAME\n",
      "    time - This module provides various functions to manipulate time values.\n",
      "\n",
      "DESCRIPTION\n",
      "    There are two standard representations of time.  One is the number\n",
      "    of seconds since the Epoch, in UTC (a.k.a. GMT).  It may be an integer\n",
      "    or a floating point number (to represent fractions of seconds).\n",
      "    The Epoch is system-defined; on Unix, it is generally January 1st, 1970.\n",
      "    The actual value can be retrieved by calling gmtime(0).\n",
      "    \n",
      "    The other representation is a tuple of 9 integers giving local time.\n",
      "    The tuple items are:\n",
      "      year (including century, e.g. 1998)\n",
      "      month (1-12)\n",
      "      day (1-31)\n",
      "      hours (0-23)\n",
      "      minutes (0-59)\n",
      "      seconds (0-59)\n",
      "      weekday (0-6, Monday is 0)\n",
      "      Julian day (day in the year, 1-366)\n",
      "      DST (Daylight Savings Time) flag (-1, 0 or 1)\n",
      "    If the DST flag is 0, the time is given in the regular time zone;\n",
      "    if it is 1, the time is given in the DST time zone;\n",
      "    if it is -1, mktime() should guess based on the date and time.\n",
      "\n",
      "CLASSES\n",
      "    builtins.tuple(builtins.object)\n",
      "        struct_time\n",
      "    \n",
      "    class struct_time(builtins.tuple)\n",
      "     |  struct_time(iterable=(), /)\n",
      "     |  \n",
      "     |  The time value as returned by gmtime(), localtime(), and strptime(), and\n",
      "     |  accepted by asctime(), mktime() and strftime().  May be considered as a\n",
      "     |  sequence of 9 integers.\n",
      "     |  \n",
      "     |  Note that several fields' values are not the same as those defined by\n",
      "     |  the C language standard for struct tm.  For example, the value of the\n",
      "     |  field tm_year is the actual year, not year - 1900.  See individual\n",
      "     |  fields' descriptions for details.\n",
      "     |  \n",
      "     |  Method resolution order:\n",
      "     |      struct_time\n",
      "     |      builtins.tuple\n",
      "     |      builtins.object\n",
      "     |  \n",
      "     |  Methods defined here:\n",
      "     |  \n",
      "     |  __reduce__(...)\n",
      "     |      Helper for pickle.\n",
      "     |  \n",
      "     |  __repr__(self, /)\n",
      "     |      Return repr(self).\n",
      "     |  \n",
      "     |  ----------------------------------------------------------------------\n",
      "     |  Static methods defined here:\n",
      "     |  \n",
      "     |  __new__(*args, **kwargs) from builtins.type\n",
      "     |      Create and return a new object.  See help(type) for accurate signature.\n",
      "     |  \n",
      "     |  ----------------------------------------------------------------------\n",
      "     |  Data descriptors defined here:\n",
      "     |  \n",
      "     |  tm_gmtoff\n",
      "     |      offset from UTC in seconds\n",
      "     |  \n",
      "     |  tm_hour\n",
      "     |      hours, range [0, 23]\n",
      "     |  \n",
      "     |  tm_isdst\n",
      "     |      1 if summer time is in effect, 0 if not, and -1 if unknown\n",
      "     |  \n",
      "     |  tm_mday\n",
      "     |      day of month, range [1, 31]\n",
      "     |  \n",
      "     |  tm_min\n",
      "     |      minutes, range [0, 59]\n",
      "     |  \n",
      "     |  tm_mon\n",
      "     |      month of year, range [1, 12]\n",
      "     |  \n",
      "     |  tm_sec\n",
      "     |      seconds, range [0, 61])\n",
      "     |  \n",
      "     |  tm_wday\n",
      "     |      day of week, range [0, 6], Monday is 0\n",
      "     |  \n",
      "     |  tm_yday\n",
      "     |      day of year, range [1, 366]\n",
      "     |  \n",
      "     |  tm_year\n",
      "     |      year, for example, 1993\n",
      "     |  \n",
      "     |  tm_zone\n",
      "     |      abbreviation of timezone name\n",
      "     |  \n",
      "     |  ----------------------------------------------------------------------\n",
      "     |  Data and other attributes defined here:\n",
      "     |  \n",
      "     |  n_fields = 11\n",
      "     |  \n",
      "     |  n_sequence_fields = 9\n",
      "     |  \n",
      "     |  n_unnamed_fields = 0\n",
      "     |  \n",
      "     |  ----------------------------------------------------------------------\n",
      "     |  Methods inherited from builtins.tuple:\n",
      "     |  \n",
      "     |  __add__(self, value, /)\n",
      "     |      Return self+value.\n",
      "     |  \n",
      "     |  __contains__(self, key, /)\n",
      "     |      Return key in self.\n",
      "     |  \n",
      "     |  __eq__(self, value, /)\n",
      "     |      Return self==value.\n",
      "     |  \n",
      "     |  __ge__(self, value, /)\n",
      "     |      Return self>=value.\n",
      "     |  \n",
      "     |  __getattribute__(self, name, /)\n",
      "     |      Return getattr(self, name).\n",
      "     |  \n",
      "     |  __getitem__(self, key, /)\n",
      "     |      Return self[key].\n",
      "     |  \n",
      "     |  __getnewargs__(self, /)\n",
      "     |  \n",
      "     |  __gt__(self, value, /)\n",
      "     |      Return self>value.\n",
      "     |  \n",
      "     |  __hash__(self, /)\n",
      "     |      Return hash(self).\n",
      "     |  \n",
      "     |  __iter__(self, /)\n",
      "     |      Implement iter(self).\n",
      "     |  \n",
      "     |  __le__(self, value, /)\n",
      "     |      Return self<=value.\n",
      "     |  \n",
      "     |  __len__(self, /)\n",
      "     |      Return len(self).\n",
      "     |  \n",
      "     |  __lt__(self, value, /)\n",
      "     |      Return self<value.\n",
      "     |  \n",
      "     |  __mul__(self, value, /)\n",
      "     |      Return self*value.\n",
      "     |  \n",
      "     |  __ne__(self, value, /)\n",
      "     |      Return self!=value.\n",
      "     |  \n",
      "     |  __rmul__(self, value, /)\n",
      "     |      Return value*self.\n",
      "     |  \n",
      "     |  count(self, value, /)\n",
      "     |      Return number of occurrences of value.\n",
      "     |  \n",
      "     |  index(self, value, start=0, stop=9223372036854775807, /)\n",
      "     |      Return first index of value.\n",
      "     |      \n",
      "     |      Raises ValueError if the value is not present.\n",
      "\n",
      "FUNCTIONS\n",
      "    asctime(...)\n",
      "        asctime([tuple]) -> string\n",
      "        \n",
      "        Convert a time tuple to a string, e.g. 'Sat Jun 06 16:26:11 1998'.\n",
      "        When the time tuple is not present, current time as returned by localtime()\n",
      "        is used.\n",
      "    \n",
      "    clock(...)\n",
      "        clock() -> floating point number\n",
      "        \n",
      "        Return the CPU time or real time since the start of the process or since\n",
      "        the first call to clock().  This has as much precision as the system\n",
      "        records.\n",
      "    \n",
      "    clock_getres(...)\n",
      "        clock_getres(clk_id) -> floating point number\n",
      "        \n",
      "        Return the resolution (precision) of the specified clock clk_id.\n",
      "    \n",
      "    clock_gettime(...)\n",
      "        clock_gettime(clk_id) -> float\n",
      "        \n",
      "        Return the time of the specified clock clk_id.\n",
      "    \n",
      "    clock_gettime_ns(...)\n",
      "        clock_gettime_ns(clk_id) -> int\n",
      "        \n",
      "        Return the time of the specified clock clk_id as nanoseconds.\n",
      "    \n",
      "    clock_settime(...)\n",
      "        clock_settime(clk_id, time)\n",
      "        \n",
      "        Set the time of the specified clock clk_id.\n",
      "    \n",
      "    clock_settime_ns(...)\n",
      "        clock_settime_ns(clk_id, time)\n",
      "        \n",
      "        Set the time of the specified clock clk_id with nanoseconds.\n",
      "    \n",
      "    ctime(...)\n",
      "        ctime(seconds) -> string\n",
      "        \n",
      "        Convert a time in seconds since the Epoch to a string in local time.\n",
      "        This is equivalent to asctime(localtime(seconds)). When the time tuple is\n",
      "        not present, current time as returned by localtime() is used.\n",
      "    \n",
      "    get_clock_info(...)\n",
      "        get_clock_info(name: str) -> dict\n",
      "        \n",
      "        Get information of the specified clock.\n",
      "    \n",
      "    gmtime(...)\n",
      "        gmtime([seconds]) -> (tm_year, tm_mon, tm_mday, tm_hour, tm_min,\n",
      "                               tm_sec, tm_wday, tm_yday, tm_isdst)\n",
      "        \n",
      "        Convert seconds since the Epoch to a time tuple expressing UTC (a.k.a.\n",
      "        GMT).  When 'seconds' is not passed in, convert the current time instead.\n",
      "        \n",
      "        If the platform supports the tm_gmtoff and tm_zone, they are available as\n",
      "        attributes only.\n",
      "    \n",
      "    localtime(...)\n",
      "        localtime([seconds]) -> (tm_year,tm_mon,tm_mday,tm_hour,tm_min,\n",
      "                                  tm_sec,tm_wday,tm_yday,tm_isdst)\n",
      "        \n",
      "        Convert seconds since the Epoch to a time tuple expressing local time.\n",
      "        When 'seconds' is not passed in, convert the current time instead.\n",
      "    \n",
      "    mktime(...)\n",
      "        mktime(tuple) -> floating point number\n",
      "        \n",
      "        Convert a time tuple in local time to seconds since the Epoch.\n",
      "        Note that mktime(gmtime(0)) will not generally return zero for most\n",
      "        time zones; instead the returned value will either be equal to that\n",
      "        of the timezone or altzone attributes on the time module.\n",
      "    \n",
      "    monotonic(...)\n",
      "        monotonic() -> float\n",
      "        \n",
      "        Monotonic clock, cannot go backward.\n",
      "    \n",
      "    monotonic_ns(...)\n",
      "        monotonic_ns() -> int\n",
      "        \n",
      "        Monotonic clock, cannot go backward, as nanoseconds.\n",
      "    \n",
      "    perf_counter(...)\n",
      "        perf_counter() -> float\n",
      "        \n",
      "        Performance counter for benchmarking.\n",
      "    \n",
      "    perf_counter_ns(...)\n",
      "        perf_counter_ns() -> int\n",
      "        \n",
      "        Performance counter for benchmarking as nanoseconds.\n",
      "    \n",
      "    process_time(...)\n",
      "        process_time() -> float\n",
      "        \n",
      "        Process time for profiling: sum of the kernel and user-space CPU time.\n",
      "    \n",
      "    process_time_ns(...)\n",
      "        process_time() -> int\n",
      "        \n",
      "        Process time for profiling as nanoseconds:\n",
      "        sum of the kernel and user-space CPU time.\n",
      "    \n",
      "    pthread_getcpuclockid(...)\n",
      "        pthread_getcpuclockid(thread_id) -> int\n",
      "        \n",
      "        Return the clk_id of a thread's CPU time clock.\n",
      "    \n",
      "    sleep(...)\n",
      "        sleep(seconds)\n",
      "        \n",
      "        Delay execution for a given number of seconds.  The argument may be\n",
      "        a floating point number for subsecond precision.\n",
      "    \n",
      "    strftime(...)\n",
      "        strftime(format[, tuple]) -> string\n",
      "        \n",
      "        Convert a time tuple to a string according to a format specification.\n",
      "        See the library reference manual for formatting codes. When the time tuple\n",
      "        is not present, current time as returned by localtime() is used.\n",
      "        \n",
      "        Commonly used format codes:\n",
      "        \n",
      "        %Y  Year with century as a decimal number.\n",
      "        %m  Month as a decimal number [01,12].\n",
      "        %d  Day of the month as a decimal number [01,31].\n",
      "        %H  Hour (24-hour clock) as a decimal number [00,23].\n",
      "        %M  Minute as a decimal number [00,59].\n",
      "        %S  Second as a decimal number [00,61].\n",
      "        %z  Time zone offset from UTC.\n",
      "        %a  Locale's abbreviated weekday name.\n",
      "        %A  Locale's full weekday name.\n",
      "        %b  Locale's abbreviated month name.\n",
      "        %B  Locale's full month name.\n",
      "        %c  Locale's appropriate date and time representation.\n",
      "        %I  Hour (12-hour clock) as a decimal number [01,12].\n",
      "        %p  Locale's equivalent of either AM or PM.\n",
      "        \n",
      "        Other codes may be available on your platform.  See documentation for\n",
      "        the C library strftime function.\n",
      "    \n",
      "    strptime(...)\n",
      "        strptime(string, format) -> struct_time\n",
      "        \n",
      "        Parse a string to a time tuple according to a format specification.\n",
      "        See the library reference manual for formatting codes (same as\n",
      "        strftime()).\n",
      "        \n",
      "        Commonly used format codes:\n",
      "        \n",
      "        %Y  Year with century as a decimal number.\n",
      "        %m  Month as a decimal number [01,12].\n",
      "        %d  Day of the month as a decimal number [01,31].\n",
      "        %H  Hour (24-hour clock) as a decimal number [00,23].\n",
      "        %M  Minute as a decimal number [00,59].\n",
      "        %S  Second as a decimal number [00,61].\n",
      "        %z  Time zone offset from UTC.\n",
      "        %a  Locale's abbreviated weekday name.\n",
      "        %A  Locale's full weekday name.\n",
      "        %b  Locale's abbreviated month name.\n",
      "        %B  Locale's full month name.\n",
      "        %c  Locale's appropriate date and time representation.\n",
      "        %I  Hour (12-hour clock) as a decimal number [01,12].\n",
      "        %p  Locale's equivalent of either AM or PM.\n",
      "        \n",
      "        Other codes may be available on your platform.  See documentation for\n",
      "        the C library strftime function.\n",
      "    \n",
      "    thread_time(...)\n",
      "        thread_time() -> float\n",
      "        \n",
      "        Thread time for profiling: sum of the kernel and user-space CPU time.\n",
      "    \n",
      "    thread_time_ns(...)\n",
      "        thread_time() -> int\n",
      "        \n",
      "        Thread time for profiling as nanoseconds:\n",
      "        sum of the kernel and user-space CPU time.\n",
      "    \n",
      "    time(...)\n",
      "        time() -> floating point number\n",
      "        \n",
      "        Return the current time in seconds since the Epoch.\n",
      "        Fractions of a second may be present if the system clock provides them.\n",
      "    \n",
      "    time_ns(...)\n",
      "        time_ns() -> int\n",
      "        \n",
      "        Return the current time in nanoseconds since the Epoch.\n",
      "    \n",
      "    tzset(...)\n",
      "        tzset()\n",
      "        \n",
      "        Initialize, or reinitialize, the local timezone to the value stored in\n",
      "        os.environ['TZ']. The TZ environment variable should be specified in\n",
      "        standard Unix timezone format as documented in the tzset man page\n",
      "        (eg. 'US/Eastern', 'Europe/Amsterdam'). Unknown timezones will silently\n",
      "        fall back to UTC. If the TZ environment variable is not set, the local\n",
      "        timezone is set to the systems best guess of wallclock time.\n",
      "        Changing the TZ environment variable without calling tzset *may* change\n",
      "        the local timezone used by methods such as localtime, but this behaviour\n",
      "        should not be relied on.\n",
      "\n",
      "DATA\n",
      "    CLOCK_MONOTONIC = 1\n",
      "    CLOCK_MONOTONIC_RAW = 4\n",
      "    CLOCK_PROCESS_CPUTIME_ID = 2\n",
      "    CLOCK_REALTIME = 0\n",
      "    CLOCK_THREAD_CPUTIME_ID = 3\n",
      "    altzone = -28800\n",
      "    daylight = 0\n",
      "    timezone = -28800\n",
      "    tzname = ('CST', 'CST')\n",
      "\n",
      "FILE\n",
      "    (built-in)\n",
      "\n",
      "\n"
     ]
    }
   ],
   "source": [
    "help(time)"
   ]
  },
  {
   "cell_type": "code",
   "execution_count": 93,
   "metadata": {},
   "outputs": [
    {
     "name": "stdout",
     "output_type": "stream",
     "text": [
      "Help on module datetime:\n",
      "\n",
      "NAME\n",
      "    datetime - Fast implementation of the datetime type.\n",
      "\n",
      "MODULE REFERENCE\n",
      "    https://docs.python.org/3.7/library/datetime\n",
      "    \n",
      "    The following documentation is automatically generated from the Python\n",
      "    source files.  It may be incomplete, incorrect or include features that\n",
      "    are considered implementation detail and may vary between Python\n",
      "    implementations.  When in doubt, consult the module reference at the\n",
      "    location listed above.\n",
      "\n",
      "CLASSES\n",
      "    builtins.object\n",
      "        date\n",
      "            datetime\n",
      "        time\n",
      "        timedelta\n",
      "        tzinfo\n",
      "            timezone\n",
      "    \n",
      "    class date(builtins.object)\n",
      "     |  date(year, month, day) --> date object\n",
      "     |  \n",
      "     |  Methods defined here:\n",
      "     |  \n",
      "     |  __add__(self, value, /)\n",
      "     |      Return self+value.\n",
      "     |  \n",
      "     |  __eq__(self, value, /)\n",
      "     |      Return self==value.\n",
      "     |  \n",
      "     |  __format__(...)\n",
      "     |      Formats self with strftime.\n",
      "     |  \n",
      "     |  __ge__(self, value, /)\n",
      "     |      Return self>=value.\n",
      "     |  \n",
      "     |  __getattribute__(self, name, /)\n",
      "     |      Return getattr(self, name).\n",
      "     |  \n",
      "     |  __gt__(self, value, /)\n",
      "     |      Return self>value.\n",
      "     |  \n",
      "     |  __hash__(self, /)\n",
      "     |      Return hash(self).\n",
      "     |  \n",
      "     |  __le__(self, value, /)\n",
      "     |      Return self<=value.\n",
      "     |  \n",
      "     |  __lt__(self, value, /)\n",
      "     |      Return self<value.\n",
      "     |  \n",
      "     |  __ne__(self, value, /)\n",
      "     |      Return self!=value.\n",
      "     |  \n",
      "     |  __radd__(self, value, /)\n",
      "     |      Return value+self.\n",
      "     |  \n",
      "     |  __reduce__(...)\n",
      "     |      __reduce__() -> (cls, state)\n",
      "     |  \n",
      "     |  __repr__(self, /)\n",
      "     |      Return repr(self).\n",
      "     |  \n",
      "     |  __rsub__(self, value, /)\n",
      "     |      Return value-self.\n",
      "     |  \n",
      "     |  __str__(self, /)\n",
      "     |      Return str(self).\n",
      "     |  \n",
      "     |  __sub__(self, value, /)\n",
      "     |      Return self-value.\n",
      "     |  \n",
      "     |  ctime(...)\n",
      "     |      Return ctime() style string.\n",
      "     |  \n",
      "     |  isocalendar(...)\n",
      "     |      Return a 3-tuple containing ISO year, week number, and weekday.\n",
      "     |  \n",
      "     |  isoformat(...)\n",
      "     |      Return string in ISO 8601 format, YYYY-MM-DD.\n",
      "     |  \n",
      "     |  isoweekday(...)\n",
      "     |      Return the day of the week represented by the date.\n",
      "     |      Monday == 1 ... Sunday == 7\n",
      "     |  \n",
      "     |  replace(...)\n",
      "     |      Return date with new specified fields.\n",
      "     |  \n",
      "     |  strftime(...)\n",
      "     |      format -> strftime() style string.\n",
      "     |  \n",
      "     |  timetuple(...)\n",
      "     |      Return time tuple, compatible with time.localtime().\n",
      "     |  \n",
      "     |  toordinal(...)\n",
      "     |      Return proleptic Gregorian ordinal.  January 1 of year 1 is day 1.\n",
      "     |  \n",
      "     |  weekday(...)\n",
      "     |      Return the day of the week represented by the date.\n",
      "     |      Monday == 0 ... Sunday == 6\n",
      "     |  \n",
      "     |  ----------------------------------------------------------------------\n",
      "     |  Class methods defined here:\n",
      "     |  \n",
      "     |  fromisoformat(...) from builtins.type\n",
      "     |      str -> Construct a date from the output of date.isoformat()\n",
      "     |  \n",
      "     |  fromordinal(...) from builtins.type\n",
      "     |      int -> date corresponding to a proleptic Gregorian ordinal.\n",
      "     |  \n",
      "     |  fromtimestamp(...) from builtins.type\n",
      "     |      timestamp -> local date from a POSIX timestamp (like time.time()).\n",
      "     |  \n",
      "     |  today(...) from builtins.type\n",
      "     |      Current date or datetime:  same as self.__class__.fromtimestamp(time.time()).\n",
      "     |  \n",
      "     |  ----------------------------------------------------------------------\n",
      "     |  Static methods defined here:\n",
      "     |  \n",
      "     |  __new__(*args, **kwargs) from builtins.type\n",
      "     |      Create and return a new object.  See help(type) for accurate signature.\n",
      "     |  \n",
      "     |  ----------------------------------------------------------------------\n",
      "     |  Data descriptors defined here:\n",
      "     |  \n",
      "     |  day\n",
      "     |  \n",
      "     |  month\n",
      "     |  \n",
      "     |  year\n",
      "     |  \n",
      "     |  ----------------------------------------------------------------------\n",
      "     |  Data and other attributes defined here:\n",
      "     |  \n",
      "     |  max = datetime.date(9999, 12, 31)\n",
      "     |  \n",
      "     |  min = datetime.date(1, 1, 1)\n",
      "     |  \n",
      "     |  resolution = datetime.timedelta(days=1)\n",
      "    \n",
      "    class datetime(date)\n",
      "     |  datetime(year, month, day[, hour[, minute[, second[, microsecond[,tzinfo]]]]])\n",
      "     |  \n",
      "     |  The year, month and day arguments are required. tzinfo may be None, or an\n",
      "     |  instance of a tzinfo subclass. The remaining arguments may be ints.\n",
      "     |  \n",
      "     |  Method resolution order:\n",
      "     |      datetime\n",
      "     |      date\n",
      "     |      builtins.object\n",
      "     |  \n",
      "     |  Methods defined here:\n",
      "     |  \n",
      "     |  __add__(self, value, /)\n",
      "     |      Return self+value.\n",
      "     |  \n",
      "     |  __eq__(self, value, /)\n",
      "     |      Return self==value.\n",
      "     |  \n",
      "     |  __ge__(self, value, /)\n",
      "     |      Return self>=value.\n",
      "     |  \n",
      "     |  __getattribute__(self, name, /)\n",
      "     |      Return getattr(self, name).\n",
      "     |  \n",
      "     |  __gt__(self, value, /)\n",
      "     |      Return self>value.\n",
      "     |  \n",
      "     |  __hash__(self, /)\n",
      "     |      Return hash(self).\n",
      "     |  \n",
      "     |  __le__(self, value, /)\n",
      "     |      Return self<=value.\n",
      "     |  \n",
      "     |  __lt__(self, value, /)\n",
      "     |      Return self<value.\n",
      "     |  \n",
      "     |  __ne__(self, value, /)\n",
      "     |      Return self!=value.\n",
      "     |  \n",
      "     |  __radd__(self, value, /)\n",
      "     |      Return value+self.\n",
      "     |  \n",
      "     |  __reduce__(...)\n",
      "     |      __reduce__() -> (cls, state)\n",
      "     |  \n",
      "     |  __reduce_ex__(...)\n",
      "     |      __reduce_ex__(proto) -> (cls, state)\n",
      "     |  \n",
      "     |  __repr__(self, /)\n",
      "     |      Return repr(self).\n",
      "     |  \n",
      "     |  __rsub__(self, value, /)\n",
      "     |      Return value-self.\n",
      "     |  \n",
      "     |  __str__(self, /)\n",
      "     |      Return str(self).\n",
      "     |  \n",
      "     |  __sub__(self, value, /)\n",
      "     |      Return self-value.\n",
      "     |  \n",
      "     |  astimezone(...)\n",
      "     |      tz -> convert to local time in new timezone tz\n",
      "     |  \n",
      "     |  ctime(...)\n",
      "     |      Return ctime() style string.\n",
      "     |  \n",
      "     |  date(...)\n",
      "     |      Return date object with same year, month and day.\n",
      "     |  \n",
      "     |  dst(...)\n",
      "     |      Return self.tzinfo.dst(self).\n",
      "     |  \n",
      "     |  isoformat(...)\n",
      "     |      [sep] -> string in ISO 8601 format, YYYY-MM-DDT[HH[:MM[:SS[.mmm[uuu]]]]][+HH:MM].\n",
      "     |      sep is used to separate the year from the time, and defaults to 'T'.\n",
      "     |      timespec specifies what components of the time to include (allowed values are 'auto', 'hours', 'minutes', 'seconds', 'milliseconds', and 'microseconds').\n",
      "     |  \n",
      "     |  replace(...)\n",
      "     |      Return datetime with new specified fields.\n",
      "     |  \n",
      "     |  time(...)\n",
      "     |      Return time object with same time but with tzinfo=None.\n",
      "     |  \n",
      "     |  timestamp(...)\n",
      "     |      Return POSIX timestamp as float.\n",
      "     |  \n",
      "     |  timetuple(...)\n",
      "     |      Return time tuple, compatible with time.localtime().\n",
      "     |  \n",
      "     |  timetz(...)\n",
      "     |      Return time object with same time and tzinfo.\n",
      "     |  \n",
      "     |  tzname(...)\n",
      "     |      Return self.tzinfo.tzname(self).\n",
      "     |  \n",
      "     |  utcoffset(...)\n",
      "     |      Return self.tzinfo.utcoffset(self).\n",
      "     |  \n",
      "     |  utctimetuple(...)\n",
      "     |      Return UTC time tuple, compatible with time.localtime().\n",
      "     |  \n",
      "     |  ----------------------------------------------------------------------\n",
      "     |  Class methods defined here:\n",
      "     |  \n",
      "     |  combine(...) from builtins.type\n",
      "     |      date, time -> datetime with same date and time fields\n",
      "     |  \n",
      "     |  fromisoformat(...) from builtins.type\n",
      "     |      string -> datetime from datetime.isoformat() output\n",
      "     |  \n",
      "     |  fromtimestamp(...) from builtins.type\n",
      "     |      timestamp[, tz] -> tz's local time from POSIX timestamp.\n",
      "     |  \n",
      "     |  now(tz=None) from builtins.type\n",
      "     |      Returns new datetime object representing current time local to tz.\n",
      "     |      \n",
      "     |        tz\n",
      "     |          Timezone object.\n",
      "     |      \n",
      "     |      If no tz is specified, uses local timezone.\n",
      "     |  \n",
      "     |  strptime(...) from builtins.type\n",
      "     |      string, format -> new datetime parsed from a string (like time.strptime()).\n",
      "     |  \n",
      "     |  utcfromtimestamp(...) from builtins.type\n",
      "     |      Construct a naive UTC datetime from a POSIX timestamp.\n",
      "     |  \n",
      "     |  utcnow(...) from builtins.type\n",
      "     |      Return a new datetime representing UTC day and time.\n",
      "     |  \n",
      "     |  ----------------------------------------------------------------------\n",
      "     |  Static methods defined here:\n",
      "     |  \n",
      "     |  __new__(*args, **kwargs) from builtins.type\n",
      "     |      Create and return a new object.  See help(type) for accurate signature.\n",
      "     |  \n",
      "     |  ----------------------------------------------------------------------\n",
      "     |  Data descriptors defined here:\n",
      "     |  \n",
      "     |  fold\n",
      "     |  \n",
      "     |  hour\n",
      "     |  \n",
      "     |  microsecond\n",
      "     |  \n",
      "     |  minute\n",
      "     |  \n",
      "     |  second\n",
      "     |  \n",
      "     |  tzinfo\n",
      "     |  \n",
      "     |  ----------------------------------------------------------------------\n",
      "     |  Data and other attributes defined here:\n",
      "     |  \n",
      "     |  max = datetime.datetime(9999, 12, 31, 23, 59, 59, 999999)\n",
      "     |  \n",
      "     |  min = datetime.datetime(1, 1, 1, 0, 0)\n",
      "     |  \n",
      "     |  resolution = datetime.timedelta(microseconds=1)\n",
      "     |  \n",
      "     |  ----------------------------------------------------------------------\n",
      "     |  Methods inherited from date:\n",
      "     |  \n",
      "     |  __format__(...)\n",
      "     |      Formats self with strftime.\n",
      "     |  \n",
      "     |  isocalendar(...)\n",
      "     |      Return a 3-tuple containing ISO year, week number, and weekday.\n",
      "     |  \n",
      "     |  isoweekday(...)\n",
      "     |      Return the day of the week represented by the date.\n",
      "     |      Monday == 1 ... Sunday == 7\n",
      "     |  \n",
      "     |  strftime(...)\n",
      "     |      format -> strftime() style string.\n",
      "     |  \n",
      "     |  toordinal(...)\n",
      "     |      Return proleptic Gregorian ordinal.  January 1 of year 1 is day 1.\n",
      "     |  \n",
      "     |  weekday(...)\n",
      "     |      Return the day of the week represented by the date.\n",
      "     |      Monday == 0 ... Sunday == 6\n",
      "     |  \n",
      "     |  ----------------------------------------------------------------------\n",
      "     |  Class methods inherited from date:\n",
      "     |  \n",
      "     |  fromordinal(...) from builtins.type\n",
      "     |      int -> date corresponding to a proleptic Gregorian ordinal.\n",
      "     |  \n",
      "     |  today(...) from builtins.type\n",
      "     |      Current date or datetime:  same as self.__class__.fromtimestamp(time.time()).\n",
      "     |  \n",
      "     |  ----------------------------------------------------------------------\n",
      "     |  Data descriptors inherited from date:\n",
      "     |  \n",
      "     |  day\n",
      "     |  \n",
      "     |  month\n",
      "     |  \n",
      "     |  year\n",
      "    \n",
      "    class time(builtins.object)\n",
      "     |  time([hour[, minute[, second[, microsecond[, tzinfo]]]]]) --> a time object\n",
      "     |  \n",
      "     |  All arguments are optional. tzinfo may be None, or an instance of\n",
      "     |  a tzinfo subclass. The remaining arguments may be ints.\n",
      "     |  \n",
      "     |  Methods defined here:\n",
      "     |  \n",
      "     |  __eq__(self, value, /)\n",
      "     |      Return self==value.\n",
      "     |  \n",
      "     |  __format__(...)\n",
      "     |      Formats self with strftime.\n",
      "     |  \n",
      "     |  __ge__(self, value, /)\n",
      "     |      Return self>=value.\n",
      "     |  \n",
      "     |  __getattribute__(self, name, /)\n",
      "     |      Return getattr(self, name).\n",
      "     |  \n",
      "     |  __gt__(self, value, /)\n",
      "     |      Return self>value.\n",
      "     |  \n",
      "     |  __hash__(self, /)\n",
      "     |      Return hash(self).\n",
      "     |  \n",
      "     |  __le__(self, value, /)\n",
      "     |      Return self<=value.\n",
      "     |  \n",
      "     |  __lt__(self, value, /)\n",
      "     |      Return self<value.\n",
      "     |  \n",
      "     |  __ne__(self, value, /)\n",
      "     |      Return self!=value.\n",
      "     |  \n",
      "     |  __reduce__(...)\n",
      "     |      __reduce__() -> (cls, state)\n",
      "     |  \n",
      "     |  __reduce_ex__(...)\n",
      "     |      __reduce_ex__(proto) -> (cls, state)\n",
      "     |  \n",
      "     |  __repr__(self, /)\n",
      "     |      Return repr(self).\n",
      "     |  \n",
      "     |  __str__(self, /)\n",
      "     |      Return str(self).\n",
      "     |  \n",
      "     |  dst(...)\n",
      "     |      Return self.tzinfo.dst(self).\n",
      "     |  \n",
      "     |  isoformat(...)\n",
      "     |      Return string in ISO 8601 format, [HH[:MM[:SS[.mmm[uuu]]]]][+HH:MM].\n",
      "     |      \n",
      "     |      timespec specifies what components of the time to include.\n",
      "     |  \n",
      "     |  replace(...)\n",
      "     |      Return time with new specified fields.\n",
      "     |  \n",
      "     |  strftime(...)\n",
      "     |      format -> strftime() style string.\n",
      "     |  \n",
      "     |  tzname(...)\n",
      "     |      Return self.tzinfo.tzname(self).\n",
      "     |  \n",
      "     |  utcoffset(...)\n",
      "     |      Return self.tzinfo.utcoffset(self).\n",
      "     |  \n",
      "     |  ----------------------------------------------------------------------\n",
      "     |  Class methods defined here:\n",
      "     |  \n",
      "     |  fromisoformat(...) from builtins.type\n",
      "     |      string -> time from time.isoformat() output\n",
      "     |  \n",
      "     |  ----------------------------------------------------------------------\n",
      "     |  Static methods defined here:\n",
      "     |  \n",
      "     |  __new__(*args, **kwargs) from builtins.type\n",
      "     |      Create and return a new object.  See help(type) for accurate signature.\n",
      "     |  \n",
      "     |  ----------------------------------------------------------------------\n",
      "     |  Data descriptors defined here:\n",
      "     |  \n",
      "     |  fold\n",
      "     |  \n",
      "     |  hour\n",
      "     |  \n",
      "     |  microsecond\n",
      "     |  \n",
      "     |  minute\n",
      "     |  \n",
      "     |  second\n",
      "     |  \n",
      "     |  tzinfo\n",
      "     |  \n",
      "     |  ----------------------------------------------------------------------\n",
      "     |  Data and other attributes defined here:\n",
      "     |  \n",
      "     |  max = datetime.time(23, 59, 59, 999999)\n",
      "     |  \n",
      "     |  min = datetime.time(0, 0)\n",
      "     |  \n",
      "     |  resolution = datetime.timedelta(microseconds=1)\n",
      "    \n",
      "    class timedelta(builtins.object)\n",
      "     |  Difference between two datetime values.\n",
      "     |  \n",
      "     |  timedelta(days=0, seconds=0, microseconds=0, milliseconds=0, minutes=0, hours=0, weeks=0)\n",
      "     |  \n",
      "     |  All arguments are optional and default to 0.\n",
      "     |  Arguments may be integers or floats, and may be positive or negative.\n",
      "     |  \n",
      "     |  Methods defined here:\n",
      "     |  \n",
      "     |  __abs__(self, /)\n",
      "     |      abs(self)\n",
      "     |  \n",
      "     |  __add__(self, value, /)\n",
      "     |      Return self+value.\n",
      "     |  \n",
      "     |  __bool__(self, /)\n",
      "     |      self != 0\n",
      "     |  \n",
      "     |  __divmod__(self, value, /)\n",
      "     |      Return divmod(self, value).\n",
      "     |  \n",
      "     |  __eq__(self, value, /)\n",
      "     |      Return self==value.\n",
      "     |  \n",
      "     |  __floordiv__(self, value, /)\n",
      "     |      Return self//value.\n",
      "     |  \n",
      "     |  __ge__(self, value, /)\n",
      "     |      Return self>=value.\n",
      "     |  \n",
      "     |  __getattribute__(self, name, /)\n",
      "     |      Return getattr(self, name).\n",
      "     |  \n",
      "     |  __gt__(self, value, /)\n",
      "     |      Return self>value.\n",
      "     |  \n",
      "     |  __hash__(self, /)\n",
      "     |      Return hash(self).\n",
      "     |  \n",
      "     |  __le__(self, value, /)\n",
      "     |      Return self<=value.\n",
      "     |  \n",
      "     |  __lt__(self, value, /)\n",
      "     |      Return self<value.\n",
      "     |  \n",
      "     |  __mod__(self, value, /)\n",
      "     |      Return self%value.\n",
      "     |  \n",
      "     |  __mul__(self, value, /)\n",
      "     |      Return self*value.\n",
      "     |  \n",
      "     |  __ne__(self, value, /)\n",
      "     |      Return self!=value.\n",
      "     |  \n",
      "     |  __neg__(self, /)\n",
      "     |      -self\n",
      "     |  \n",
      "     |  __pos__(self, /)\n",
      "     |      +self\n",
      "     |  \n",
      "     |  __radd__(self, value, /)\n",
      "     |      Return value+self.\n",
      "     |  \n",
      "     |  __rdivmod__(self, value, /)\n",
      "     |      Return divmod(value, self).\n",
      "     |  \n",
      "     |  __reduce__(...)\n",
      "     |      __reduce__() -> (cls, state)\n",
      "     |  \n",
      "     |  __repr__(self, /)\n",
      "     |      Return repr(self).\n",
      "     |  \n",
      "     |  __rfloordiv__(self, value, /)\n",
      "     |      Return value//self.\n",
      "     |  \n",
      "     |  __rmod__(self, value, /)\n",
      "     |      Return value%self.\n",
      "     |  \n",
      "     |  __rmul__(self, value, /)\n",
      "     |      Return value*self.\n",
      "     |  \n",
      "     |  __rsub__(self, value, /)\n",
      "     |      Return value-self.\n",
      "     |  \n",
      "     |  __rtruediv__(self, value, /)\n",
      "     |      Return value/self.\n",
      "     |  \n",
      "     |  __str__(self, /)\n",
      "     |      Return str(self).\n",
      "     |  \n",
      "     |  __sub__(self, value, /)\n",
      "     |      Return self-value.\n",
      "     |  \n",
      "     |  __truediv__(self, value, /)\n",
      "     |      Return self/value.\n",
      "     |  \n",
      "     |  total_seconds(...)\n",
      "     |      Total seconds in the duration.\n",
      "     |  \n",
      "     |  ----------------------------------------------------------------------\n",
      "     |  Static methods defined here:\n",
      "     |  \n",
      "     |  __new__(*args, **kwargs) from builtins.type\n",
      "     |      Create and return a new object.  See help(type) for accurate signature.\n",
      "     |  \n",
      "     |  ----------------------------------------------------------------------\n",
      "     |  Data descriptors defined here:\n",
      "     |  \n",
      "     |  days\n",
      "     |      Number of days.\n",
      "     |  \n",
      "     |  microseconds\n",
      "     |      Number of microseconds (>= 0 and less than 1 second).\n",
      "     |  \n",
      "     |  seconds\n",
      "     |      Number of seconds (>= 0 and less than 1 day).\n",
      "     |  \n",
      "     |  ----------------------------------------------------------------------\n",
      "     |  Data and other attributes defined here:\n",
      "     |  \n",
      "     |  max = datetime.timedelta(days=999999999, seconds=86399, microseconds=9...\n",
      "     |  \n",
      "     |  min = datetime.timedelta(days=-999999999)\n",
      "     |  \n",
      "     |  resolution = datetime.timedelta(microseconds=1)\n",
      "    \n",
      "    class timezone(tzinfo)\n",
      "     |  Fixed offset from UTC implementation of tzinfo.\n",
      "     |  \n",
      "     |  Method resolution order:\n",
      "     |      timezone\n",
      "     |      tzinfo\n",
      "     |      builtins.object\n",
      "     |  \n",
      "     |  Methods defined here:\n",
      "     |  \n",
      "     |  __eq__(self, value, /)\n",
      "     |      Return self==value.\n",
      "     |  \n",
      "     |  __ge__(self, value, /)\n",
      "     |      Return self>=value.\n",
      "     |  \n",
      "     |  __getinitargs__(...)\n",
      "     |      pickle support\n",
      "     |  \n",
      "     |  __gt__(self, value, /)\n",
      "     |      Return self>value.\n",
      "     |  \n",
      "     |  __hash__(self, /)\n",
      "     |      Return hash(self).\n",
      "     |  \n",
      "     |  __le__(self, value, /)\n",
      "     |      Return self<=value.\n",
      "     |  \n",
      "     |  __lt__(self, value, /)\n",
      "     |      Return self<value.\n",
      "     |  \n",
      "     |  __ne__(self, value, /)\n",
      "     |      Return self!=value.\n",
      "     |  \n",
      "     |  __repr__(self, /)\n",
      "     |      Return repr(self).\n",
      "     |  \n",
      "     |  __str__(self, /)\n",
      "     |      Return str(self).\n",
      "     |  \n",
      "     |  dst(...)\n",
      "     |      Return None.\n",
      "     |  \n",
      "     |  fromutc(...)\n",
      "     |      datetime in UTC -> datetime in local time.\n",
      "     |  \n",
      "     |  tzname(...)\n",
      "     |      If name is specified when timezone is created, returns the name.  Otherwise returns offset as 'UTC(+|-)HH:MM'.\n",
      "     |  \n",
      "     |  utcoffset(...)\n",
      "     |      Return fixed offset.\n",
      "     |  \n",
      "     |  ----------------------------------------------------------------------\n",
      "     |  Static methods defined here:\n",
      "     |  \n",
      "     |  __new__(*args, **kwargs) from builtins.type\n",
      "     |      Create and return a new object.  See help(type) for accurate signature.\n",
      "     |  \n",
      "     |  ----------------------------------------------------------------------\n",
      "     |  Data and other attributes defined here:\n",
      "     |  \n",
      "     |  max = datetime.timezone(datetime.timedelta(seconds=86340))\n",
      "     |  \n",
      "     |  min = datetime.timezone(datetime.timedelta(days=-1, seconds=60))\n",
      "     |  \n",
      "     |  utc = datetime.timezone.utc\n",
      "     |  \n",
      "     |  ----------------------------------------------------------------------\n",
      "     |  Methods inherited from tzinfo:\n",
      "     |  \n",
      "     |  __getattribute__(self, name, /)\n",
      "     |      Return getattr(self, name).\n",
      "     |  \n",
      "     |  __reduce__(...)\n",
      "     |      -> (cls, state)\n",
      "    \n",
      "    class tzinfo(builtins.object)\n",
      "     |  Abstract base class for time zone info objects.\n",
      "     |  \n",
      "     |  Methods defined here:\n",
      "     |  \n",
      "     |  __getattribute__(self, name, /)\n",
      "     |      Return getattr(self, name).\n",
      "     |  \n",
      "     |  __reduce__(...)\n",
      "     |      -> (cls, state)\n",
      "     |  \n",
      "     |  dst(...)\n",
      "     |      datetime -> DST offset as timedelta positive east of UTC.\n",
      "     |  \n",
      "     |  fromutc(...)\n",
      "     |      datetime in UTC -> datetime in local time.\n",
      "     |  \n",
      "     |  tzname(...)\n",
      "     |      datetime -> string name of time zone.\n",
      "     |  \n",
      "     |  utcoffset(...)\n",
      "     |      datetime -> timedelta showing offset from UTC, negative values indicating West of UTC\n",
      "     |  \n",
      "     |  ----------------------------------------------------------------------\n",
      "     |  Static methods defined here:\n",
      "     |  \n",
      "     |  __new__(*args, **kwargs) from builtins.type\n",
      "     |      Create and return a new object.  See help(type) for accurate signature.\n",
      "\n",
      "DATA\n",
      "    MAXYEAR = 9999\n",
      "    MINYEAR = 1\n",
      "    datetime_CAPI = <capsule object \"datetime.datetime_CAPI\">\n",
      "\n",
      "FILE\n",
      "    /data2/hushuhan/tools/anaconda3/envs/d2l/lib/python3.7/datetime.py\n",
      "\n",
      "\n",
      "Help on module timeit:\n",
      "\n",
      "NAME\n",
      "    timeit - Tool for measuring execution time of small code snippets.\n",
      "\n",
      "MODULE REFERENCE\n",
      "    https://docs.python.org/3.7/library/timeit\n",
      "    \n",
      "    The following documentation is automatically generated from the Python\n",
      "    source files.  It may be incomplete, incorrect or include features that\n",
      "    are considered implementation detail and may vary between Python\n",
      "    implementations.  When in doubt, consult the module reference at the\n",
      "    location listed above.\n",
      "\n",
      "DESCRIPTION\n",
      "    This module avoids a number of common traps for measuring execution\n",
      "    times.  See also Tim Peters' introduction to the Algorithms chapter in\n",
      "    the Python Cookbook, published by O'Reilly.\n",
      "    \n",
      "    Library usage: see the Timer class.\n",
      "    \n",
      "    Command line usage:\n",
      "        python timeit.py [-n N] [-r N] [-s S] [-p] [-h] [--] [statement]\n",
      "    \n",
      "    Options:\n",
      "      -n/--number N: how many times to execute 'statement' (default: see below)\n",
      "      -r/--repeat N: how many times to repeat the timer (default 5)\n",
      "      -s/--setup S: statement to be executed once initially (default 'pass').\n",
      "                    Execution time of this setup statement is NOT timed.\n",
      "      -p/--process: use time.process_time() (default is time.perf_counter())\n",
      "      -v/--verbose: print raw timing results; repeat for more digits precision\n",
      "      -u/--unit: set the output time unit (nsec, usec, msec, or sec)\n",
      "      -h/--help: print this usage message and exit\n",
      "      --: separate options from statement, use when statement starts with -\n",
      "      statement: statement to be timed (default 'pass')\n",
      "    \n",
      "    A multi-line statement may be given by specifying each line as a\n",
      "    separate argument; indented lines are possible by enclosing an\n",
      "    argument in quotes and using leading spaces.  Multiple -s options are\n",
      "    treated similarly.\n",
      "    \n",
      "    If -n is not given, a suitable number of loops is calculated by trying\n",
      "    successive powers of 10 until the total time is at least 0.2 seconds.\n",
      "    \n",
      "    Note: there is a certain baseline overhead associated with executing a\n",
      "    pass statement.  It differs between versions.  The code here doesn't try\n",
      "    to hide it, but you should be aware of it.  The baseline overhead can be\n",
      "    measured by invoking the program without arguments.\n",
      "    \n",
      "    Classes:\n",
      "    \n",
      "        Timer\n",
      "    \n",
      "    Functions:\n",
      "    \n",
      "        timeit(string, string) -> float\n",
      "        repeat(string, string) -> list\n",
      "        default_timer() -> float\n",
      "\n",
      "CLASSES\n",
      "    builtins.object\n",
      "        Timer\n",
      "    \n",
      "    class Timer(builtins.object)\n",
      "     |  Timer(stmt='pass', setup='pass', timer=<built-in function perf_counter>, globals=None)\n",
      "     |  \n",
      "     |  Class for timing execution speed of small code snippets.\n",
      "     |  \n",
      "     |  The constructor takes a statement to be timed, an additional\n",
      "     |  statement used for setup, and a timer function.  Both statements\n",
      "     |  default to 'pass'; the timer function is platform-dependent (see\n",
      "     |  module doc string).  If 'globals' is specified, the code will be\n",
      "     |  executed within that namespace (as opposed to inside timeit's\n",
      "     |  namespace).\n",
      "     |  \n",
      "     |  To measure the execution time of the first statement, use the\n",
      "     |  timeit() method.  The repeat() method is a convenience to call\n",
      "     |  timeit() multiple times and return a list of results.\n",
      "     |  \n",
      "     |  The statements may contain newlines, as long as they don't contain\n",
      "     |  multi-line string literals.\n",
      "     |  \n",
      "     |  Methods defined here:\n",
      "     |  \n",
      "     |  __init__(self, stmt='pass', setup='pass', timer=<built-in function perf_counter>, globals=None)\n",
      "     |      Constructor.  See class doc string.\n",
      "     |  \n",
      "     |  autorange(self, callback=None)\n",
      "     |      Return the number of loops and time taken so that total time >= 0.2.\n",
      "     |      \n",
      "     |      Calls the timeit method with increasing numbers from the sequence\n",
      "     |      1, 2, 5, 10, 20, 50, ... until the time taken is at least 0.2\n",
      "     |      second.  Returns (number, time_taken).\n",
      "     |      \n",
      "     |      If *callback* is given and is not None, it will be called after\n",
      "     |      each trial with two arguments: ``callback(number, time_taken)``.\n",
      "     |  \n",
      "     |  print_exc(self, file=None)\n",
      "     |      Helper to print a traceback from the timed code.\n",
      "     |      \n",
      "     |      Typical use:\n",
      "     |      \n",
      "     |          t = Timer(...)       # outside the try/except\n",
      "     |          try:\n",
      "     |              t.timeit(...)    # or t.repeat(...)\n",
      "     |          except:\n",
      "     |              t.print_exc()\n",
      "     |      \n",
      "     |      The advantage over the standard traceback is that source lines\n",
      "     |      in the compiled template will be displayed.\n",
      "     |      \n",
      "     |      The optional file argument directs where the traceback is\n",
      "     |      sent; it defaults to sys.stderr.\n",
      "     |  \n",
      "     |  repeat(self, repeat=5, number=1000000)\n",
      "     |      Call timeit() a few times.\n",
      "     |      \n",
      "     |      This is a convenience function that calls the timeit()\n",
      "     |      repeatedly, returning a list of results.  The first argument\n",
      "     |      specifies how many times to call timeit(), defaulting to 5;\n",
      "     |      the second argument specifies the timer argument, defaulting\n",
      "     |      to one million.\n",
      "     |      \n",
      "     |      Note: it's tempting to calculate mean and standard deviation\n",
      "     |      from the result vector and report these.  However, this is not\n",
      "     |      very useful.  In a typical case, the lowest value gives a\n",
      "     |      lower bound for how fast your machine can run the given code\n",
      "     |      snippet; higher values in the result vector are typically not\n",
      "     |      caused by variability in Python's speed, but by other\n",
      "     |      processes interfering with your timing accuracy.  So the min()\n",
      "     |      of the result is probably the only number you should be\n",
      "     |      interested in.  After that, you should look at the entire\n",
      "     |      vector and apply common sense rather than statistics.\n",
      "     |  \n",
      "     |  timeit(self, number=1000000)\n",
      "     |      Time 'number' executions of the main statement.\n",
      "     |      \n",
      "     |      To be precise, this executes the setup statement once, and\n",
      "     |      then returns the time it takes to execute the main statement\n",
      "     |      a number of times, as a float measured in seconds.  The\n",
      "     |      argument is the number of times through the loop, defaulting\n",
      "     |      to one million.  The main statement, the setup statement and\n",
      "     |      the timer function to be used are passed to the constructor.\n",
      "     |  \n",
      "     |  ----------------------------------------------------------------------\n",
      "     |  Data descriptors defined here:\n",
      "     |  \n",
      "     |  __dict__\n",
      "     |      dictionary for instance variables (if defined)\n",
      "     |  \n",
      "     |  __weakref__\n",
      "     |      list of weak references to the object (if defined)\n",
      "\n",
      "FUNCTIONS\n",
      "    default_timer = perf_counter(...)\n",
      "        perf_counter() -> float\n",
      "        \n",
      "        Performance counter for benchmarking.\n",
      "    \n",
      "    repeat(stmt='pass', setup='pass', timer=<built-in function perf_counter>, repeat=5, number=1000000, globals=None)\n",
      "        Convenience function to create Timer object and call repeat method.\n",
      "    \n",
      "    timeit(stmt='pass', setup='pass', timer=<built-in function perf_counter>, number=1000000, globals=None)\n",
      "        Convenience function to create Timer object and call timeit method.\n",
      "\n",
      "DATA\n",
      "    __all__ = ['Timer', 'timeit', 'repeat', 'default_timer']\n",
      "\n",
      "FILE\n",
      "    /data2/hushuhan/tools/anaconda3/envs/d2l/lib/python3.7/timeit.py\n",
      "\n",
      "\n"
     ]
    },
    {
     "data": {
      "text/plain": [
       "(None, None)"
      ]
     },
     "execution_count": 93,
     "metadata": {},
     "output_type": "execute_result"
    }
   ],
   "source": [
    "import datetime, timeit\n",
    "help(datetime), help(timeit)"
   ]
  },
  {
   "cell_type": "code",
   "execution_count": 102,
   "metadata": {},
   "outputs": [
    {
     "data": {
      "text/plain": [
       "(0.9191372372389914, 0)"
      ]
     },
     "execution_count": 102,
     "metadata": {},
     "output_type": "execute_result"
    }
   ],
   "source": [
    "import random\n",
    "\n",
    "random.random(), random.getrandbits(2)"
   ]
  },
  {
   "cell_type": "code",
   "execution_count": 104,
   "metadata": {},
   "outputs": [
    {
     "data": {
      "text/plain": [
       "55.226138639571985"
      ]
     },
     "execution_count": 104,
     "metadata": {},
     "output_type": "execute_result"
    }
   ],
   "source": [
    "# 0到360的随机均匀分布的实数\n",
    "random.uniform(0, 360)"
   ]
  },
  {
   "cell_type": "code",
   "execution_count": 111,
   "metadata": {},
   "outputs": [
    {
     "data": {
      "text/plain": [
       "0"
      ]
     },
     "execution_count": 111,
     "metadata": {},
     "output_type": "execute_result"
    }
   ],
   "source": [
    "# 范围内的数字随机抽取，使用参数同range()函数\n",
    "random.randrange(10)"
   ]
  },
  {
   "cell_type": "code",
   "execution_count": 112,
   "metadata": {},
   "outputs": [
    {
     "data": {
      "text/plain": [
       "5"
      ]
     },
     "execution_count": 112,
     "metadata": {},
     "output_type": "execute_result"
    }
   ],
   "source": [
    "# 从给定序列随机抽取\n",
    "random.choice([1,2,3,4,5,6,7,8,9,10])"
   ]
  },
  {
   "cell_type": "code",
   "execution_count": 115,
   "metadata": {},
   "outputs": [
    {
     "data": {
      "text/plain": [
       "[6, 2, 8, 4, 5, 10, 3, 9, 7, 1]"
      ]
     },
     "execution_count": 115,
     "metadata": {},
     "output_type": "execute_result"
    }
   ],
   "source": [
    "a = [1,2,3,4,5,6,7,8,9,10]\n",
    "random.shuffle(a)\n",
    "a"
   ]
  },
  {
   "cell_type": "code",
   "execution_count": 120,
   "metadata": {},
   "outputs": [
    {
     "data": {
      "text/plain": [
       "[4, 8, 10, 5, 3]"
      ]
     },
     "execution_count": 120,
     "metadata": {},
     "output_type": "execute_result"
    }
   ],
   "source": [
    "# 从给定序列随机抽取k个数\n",
    "random.sample(a, k=5)"
   ]
  },
  {
   "cell_type": "code",
   "execution_count": 135,
   "metadata": {},
   "outputs": [
    {
     "name": "stdout",
     "output_type": "stream",
     "text": [
      "Mon Jun 12 10:09:27 2023\n"
     ]
    }
   ],
   "source": [
    "# 随机生成一个实践\n",
    "from random import * \n",
    "from time import * \n",
    "date1 = (2023, 1, 1, 0, 0, 0, -1, -1, -1) \n",
    "time1 = mktime(date1) \n",
    "date2 = (2024, 1, 1, 0, 0, 0, -1, -1, -1) \n",
    "time2 = mktime(date2) \n",
    "\n",
    "random_time = uniform(time1, time2)\n",
    "print(asctime(localtime(random_time)))"
   ]
  },
  {
   "cell_type": "code",
   "execution_count": 6,
   "metadata": {},
   "outputs": [
    {
     "name": "stdout",
     "output_type": "stream",
     "text": [
      "['10 of hearts',\n",
      " '4 of diamonds',\n",
      " 'Queen of spades',\n",
      " '3 of clubs',\n",
      " '9 of spades',\n",
      " '6 of spades',\n",
      " '8 of spades',\n",
      " 'King of clubs',\n",
      " '7 of diamonds',\n",
      " '4 of hearts',\n",
      " '9 of hearts',\n",
      " 'Real Clown',\n",
      " '2 of diamonds',\n",
      " '3 of diamonds',\n",
      " '10 of clubs',\n",
      " 'Queen of hearts',\n",
      " '5 of diamonds',\n",
      " 'Queen of diamonds']\n"
     ]
    }
   ],
   "source": [
    "import random\n",
    "values = list(range(1, 11)) + 'Jack Queen King'.split() \n",
    "suits = 'diamonds clubs hearts spades'.split() \n",
    "deck = ['{} of {}'.format(v, s) for v in values for s in suits] + ['Real Clown', 'Fake Clown']\n",
    "\n",
    "from pprint import pprint\n",
    "random.shuffle(deck)\n",
    "pprint(deck[:18])"
   ]
  },
  {
   "cell_type": "code",
   "execution_count": null,
   "metadata": {},
   "outputs": [],
   "source": []
  }
 ],
 "metadata": {
  "kernelspec": {
   "display_name": "d2l",
   "language": "python",
   "name": "python3"
  },
  "language_info": {
   "codemirror_mode": {
    "name": "ipython",
    "version": 3
   },
   "file_extension": ".py",
   "mimetype": "text/x-python",
   "name": "python",
   "nbconvert_exporter": "python",
   "pygments_lexer": "ipython3",
   "version": "3.7.5"
  }
 },
 "nbformat": 4,
 "nbformat_minor": 2
}
