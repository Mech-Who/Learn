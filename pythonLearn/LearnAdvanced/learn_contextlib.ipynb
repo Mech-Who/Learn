{
 "cells": [
  {
   "cell_type": "code",
   "execution_count": 1,
   "id": "9f4ca74b",
   "metadata": {},
   "outputs": [],
   "source": [
    "from contextlib import contextmanager, closing"
   ]
  },
  {
   "cell_type": "markdown",
   "id": "caea68c8",
   "metadata": {},
   "source": [
    "### 1. @contextmanager\n",
    "\n",
    "@contextmanager这个decorator接受一个generator，用yield语句把with ... as var把变量输出出去，然后，with语句就可以正常地工作了："
   ]
  },
  {
   "cell_type": "code",
   "execution_count": 3,
   "id": "f4333427",
   "metadata": {},
   "outputs": [
    {
     "name": "stdout",
     "output_type": "stream",
     "text": [
      "=====[BEGIN]=====\n",
      "*****Get a query for Bob.*****\n",
      "=====[ END ]=====\n"
     ]
    }
   ],
   "source": [
    "@contextmanager\n",
    "def query(name):\n",
    "    print(\"=====[BEGIN]=====\")\n",
    "    query_ = f\"Get a query for {name}.\"\n",
    "    yield query_\n",
    "    print(\"=====[ END ]=====\")\n",
    "\n",
    "\n",
    "with query(\"Bob\") as q:\n",
    "    print(f\"*****{q}*****\")"
   ]
  },
  {
   "cell_type": "markdown",
   "id": "1c2d4229",
   "metadata": {},
   "source": [
    "很多时候，我们希望在某段代码执行前后自动执行特定代码，也可以用@contextmanager实现。例如："
   ]
  },
  {
   "cell_type": "code",
   "execution_count": 4,
   "id": "1526c2b0",
   "metadata": {},
   "outputs": [
    {
     "name": "stdout",
     "output_type": "stream",
     "text": [
      "<h1>\n",
      "hello, world\n",
      "just test\n",
      "</h1>\n"
     ]
    }
   ],
   "source": [
    "@contextmanager\n",
    "def aop_both(tag: str):\n",
    "    print(f\"<{tag}>\")\n",
    "    yield\n",
    "    print(f\"</{tag}>\")\n",
    "\n",
    "\n",
    "with aop_both(\"h1\"):\n",
    "    print(\"hello, world\")\n",
    "    print(\"just test\")"
   ]
  },
  {
   "cell_type": "markdown",
   "id": "14910170",
   "metadata": {},
   "source": [
    "### 2. @closing\n",
    "\n",
    "如果一个对象没有实现上下文，我们就不能把它用于with语句。这个时候，可以用closing()来把该对象变为上下文对象。例如，用with语句使用urlopen()："
   ]
  },
  {
   "cell_type": "code",
   "execution_count": 6,
   "id": "2c70b89b",
   "metadata": {},
   "outputs": [
    {
     "name": "stdout",
     "output_type": "stream",
     "text": [
      "b'<!doctype html>\\n'\n"
     ]
    }
   ],
   "source": [
    "from urllib.request import urlopen\n",
    "\n",
    "with closing(urlopen('https://www.python.org')) as page:\n",
    "    for line in page:\n",
    "        print(line)\n",
    "        break"
   ]
  },
  {
   "cell_type": "code",
   "execution_count": null,
   "id": "7d9f7143",
   "metadata": {},
   "outputs": [],
   "source": []
  }
 ],
 "metadata": {
  "kernelspec": {
   "display_name": ".venv",
   "language": "python",
   "name": "python3"
  },
  "language_info": {
   "codemirror_mode": {
    "name": "ipython",
    "version": 3
   },
   "file_extension": ".py",
   "mimetype": "text/x-python",
   "name": "python",
   "nbconvert_exporter": "python",
   "pygments_lexer": "ipython3",
   "version": "3.12.9"
  }
 },
 "nbformat": 4,
 "nbformat_minor": 5
}
