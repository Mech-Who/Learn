{
 "cells": [
  {
   "cell_type": "code",
   "execution_count": null,
   "id": "0800e056",
   "metadata": {},
   "outputs": [],
   "source": [
    "import asyncio\n",
    "import threading"
   ]
  },
  {
   "cell_type": "markdown",
   "id": "c407f027",
   "metadata": {},
   "source": [
    "### 1. 协程"
   ]
  },
  {
   "cell_type": "code",
   "execution_count": 2,
   "id": "ee77b12b",
   "metadata": {},
   "outputs": [],
   "source": [
    "def consumer():\n",
    "    r = \"\"\n",
    "    while True:\n",
    "        n = yield r\n",
    "        if not n:\n",
    "            return\n",
    "        print(f\"[CONSUMER] Consuming {n}...\")\n",
    "        r = \"200 OK\"\n",
    "\n",
    "\n",
    "def produce(c):\n",
    "    c.send(None)\n",
    "    n = 0\n",
    "    while n<5:\n",
    "        n = n+1\n",
    "        print(f\"[PRODUCER] Producing {n}...\")\n",
    "        r = c.send(c)\n",
    "        print(f\"[PRODUCER] Consumer return: {r}\")\n",
    "    c.close()"
   ]
  },
  {
   "cell_type": "code",
   "execution_count": 3,
   "id": "cbe7c0fc",
   "metadata": {},
   "outputs": [
    {
     "name": "stdout",
     "output_type": "stream",
     "text": [
      "[PRODUCER] Producing 1...\n",
      "[CONSUMER] Consuming <generator object consumer at 0x0000027E9D6E92A0>...\n",
      "[PRODUCER] Consumer return: 200 OK\n",
      "[PRODUCER] Producing 2...\n",
      "[CONSUMER] Consuming <generator object consumer at 0x0000027E9D6E92A0>...\n",
      "[PRODUCER] Consumer return: 200 OK\n",
      "[PRODUCER] Producing 3...\n",
      "[CONSUMER] Consuming <generator object consumer at 0x0000027E9D6E92A0>...\n",
      "[PRODUCER] Consumer return: 200 OK\n",
      "[PRODUCER] Producing 4...\n",
      "[CONSUMER] Consuming <generator object consumer at 0x0000027E9D6E92A0>...\n",
      "[PRODUCER] Consumer return: 200 OK\n",
      "[PRODUCER] Producing 5...\n",
      "[CONSUMER] Consuming <generator object consumer at 0x0000027E9D6E92A0>...\n",
      "[PRODUCER] Consumer return: 200 OK\n"
     ]
    }
   ],
   "source": [
    "c = consumer()\n",
    "produce(c)"
   ]
  },
  {
   "cell_type": "markdown",
   "id": "7e2718de",
   "metadata": {},
   "source": [
    "### 2. asyncio - 异步编程"
   ]
  },
  {
   "cell_type": "code",
   "execution_count": 4,
   "id": "b08286bc",
   "metadata": {},
   "outputs": [
    {
     "ename": "RuntimeError",
     "evalue": "asyncio.run() cannot be called from a running event loop",
     "output_type": "error",
     "traceback": [
      "\u001b[31m---------------------------------------------------------------------------\u001b[39m",
      "\u001b[31mRuntimeError\u001b[39m                              Traceback (most recent call last)",
      "\u001b[36mCell\u001b[39m\u001b[36m \u001b[39m\u001b[32mIn[4]\u001b[39m\u001b[32m, line 7\u001b[39m\n\u001b[32m      4\u001b[39m     \u001b[38;5;28;01mawait\u001b[39;00m asyncio.sleep(\u001b[32m1\u001b[39m)\n\u001b[32m      5\u001b[39m     \u001b[38;5;28mprint\u001b[39m(\u001b[33m\"\u001b[39m\u001b[33mHello again!\u001b[39m\u001b[33m\"\u001b[39m)\n\u001b[32m----> \u001b[39m\u001b[32m7\u001b[39m \u001b[43masyncio\u001b[49m\u001b[43m.\u001b[49m\u001b[43mrun\u001b[49m\u001b[43m(\u001b[49m\u001b[43mhello\u001b[49m\u001b[43m(\u001b[49m\u001b[43m)\u001b[49m\u001b[43m)\u001b[49m\n",
      "\u001b[36mFile \u001b[39m\u001b[32m~\\AppData\\Roaming\\uv\\python\\cpython-3.12.9-windows-x86_64-none\\Lib\\asyncio\\runners.py:191\u001b[39m, in \u001b[36mrun\u001b[39m\u001b[34m(main, debug, loop_factory)\u001b[39m\n\u001b[32m    161\u001b[39m \u001b[38;5;250m\u001b[39m\u001b[33;03m\"\"\"Execute the coroutine and return the result.\u001b[39;00m\n\u001b[32m    162\u001b[39m \n\u001b[32m    163\u001b[39m \u001b[33;03mThis function runs the passed coroutine, taking care of\u001b[39;00m\n\u001b[32m   (...)\u001b[39m\u001b[32m    187\u001b[39m \u001b[33;03m    asyncio.run(main())\u001b[39;00m\n\u001b[32m    188\u001b[39m \u001b[33;03m\"\"\"\u001b[39;00m\n\u001b[32m    189\u001b[39m \u001b[38;5;28;01mif\u001b[39;00m events._get_running_loop() \u001b[38;5;129;01mis\u001b[39;00m \u001b[38;5;129;01mnot\u001b[39;00m \u001b[38;5;28;01mNone\u001b[39;00m:\n\u001b[32m    190\u001b[39m     \u001b[38;5;66;03m# fail fast with short traceback\u001b[39;00m\n\u001b[32m--> \u001b[39m\u001b[32m191\u001b[39m     \u001b[38;5;28;01mraise\u001b[39;00m \u001b[38;5;167;01mRuntimeError\u001b[39;00m(\n\u001b[32m    192\u001b[39m         \u001b[33m\"\u001b[39m\u001b[33masyncio.run() cannot be called from a running event loop\u001b[39m\u001b[33m\"\u001b[39m)\n\u001b[32m    194\u001b[39m \u001b[38;5;28;01mwith\u001b[39;00m Runner(debug=debug, loop_factory=loop_factory) \u001b[38;5;28;01mas\u001b[39;00m runner:\n\u001b[32m    195\u001b[39m     \u001b[38;5;28;01mreturn\u001b[39;00m runner.run(main)\n",
      "\u001b[31mRuntimeError\u001b[39m: asyncio.run() cannot be called from a running event loop"
     ]
    }
   ],
   "source": [
    "async def hello():\n",
    "    print(\"Hello world!\")\n",
    "    # 异步调用asyncio.sleep(1):\n",
    "    await asyncio.sleep(1)\n",
    "    print(\"Hello again!\")\n",
    "\n",
    "asyncio.run(hello())"
   ]
  },
  {
   "cell_type": "markdown",
   "id": "f0570897",
   "metadata": {},
   "source": [
    "执行结果如下：\n",
    "```python\n",
    "Hello!\n",
    "(等待约1秒)\n",
    "Hello again!\n",
    "```"
   ]
  },
  {
   "cell_type": "code",
   "execution_count": null,
   "id": "68492496",
   "metadata": {},
   "outputs": [],
   "source": [
    "# 传入name参数:\n",
    "async def hello(name):\n",
    "    # 打印name和当前线程:\n",
    "    print(\"Hello %s! (%s)\" % (name, threading.current_thread))\n",
    "    # 异步调用asyncio.sleep(1):\n",
    "    await asyncio.sleep(1)\n",
    "    print(\"Hello %s again! (%s)\" % (name, threading.current_thread))\n",
    "    return name\n",
    "\n",
    "async def main():\n",
    "    L = await asyncio.gather(hello(\"Bob\"), hello(\"Alice\"))\n",
    "    print(L)\n",
    "\n",
    "asyncio.run(main())"
   ]
  },
  {
   "cell_type": "markdown",
   "id": "7b78df3d",
   "metadata": {},
   "source": [
    "执行结果如下：\n",
    "```python\n",
    "Hello Bob! (<function current_thread at 0x10387d260>)\n",
    "Hello Alice! (<function current_thread at 0x10387d260>)\n",
    "(等待约1秒)\n",
    "Hello Bob again! (<function current_thread at 0x10387d260>)\n",
    "Hello Alice again! (<function current_thread at 0x10387d260>)\n",
    "['Bob', 'Alice']\n",
    "```"
   ]
  },
  {
   "cell_type": "code",
   "execution_count": null,
   "id": "97ef025f",
   "metadata": {},
   "outputs": [],
   "source": [
    "async def wget(host):\n",
    "    print(f\"wget {host}...\")\n",
    "    # 连接80端口:\n",
    "    reader, writer = await asyncio.open_connection(host, 80)\n",
    "    # 发送HTTP请求:\n",
    "    header = f\"GET / HTTP/1.0\\r\\nHost: {host}\\r\\n\\r\\n\"\n",
    "    writer.write(header.encode(\"utf-8\"))\n",
    "    await writer.drain()\n",
    "\n",
    "    # 读取HTTP响应:\n",
    "    while True:\n",
    "        line = await reader.readline()\n",
    "        if line == b\"\\r\\n\":\n",
    "            break\n",
    "        print(\"%s header > %s\" % (host, line.decode(\"utf-8\").rstrip()))\n",
    "    # Ignore the body, close the socket\n",
    "    writer.close()\n",
    "    await writer.wait_closed()\n",
    "    print(f\"Done {host}.\")\n",
    "\n",
    "\n",
    "async def main():\n",
    "    await asyncio.gather(\n",
    "        wget(\"www.sina.com.cn\"), wget(\"www.sohu.com\"), wget(\"www.163.com\")\n",
    "    )\n",
    "\n",
    "\n",
    "asyncio.run(main())"
   ]
  },
  {
   "cell_type": "markdown",
   "id": "2aff90a9",
   "metadata": {},
   "source": [
    "执行结果如下：\n",
    "\n",
    "```python\n",
    "wget www.sohu.com...\n",
    "wget www.sina.com.cn...\n",
    "wget www.163.com...\n",
    "(等待一段时间)\n",
    "(打印出sohu的header)\n",
    "www.sohu.com header > HTTP/1.1 200 OK\n",
    "www.sohu.com header > Content-Type: text/html\n",
    "...\n",
    "(打印出sina的header)\n",
    "www.sina.com.cn header > HTTP/1.1 200 OK\n",
    "www.sina.com.cn header > Date: Wed, 20 May 2015 04:56:33 GMT\n",
    "...\n",
    "(打印出163的header)\n",
    "www.163.com header > HTTP/1.0 302 Moved Temporarily\n",
    "www.163.com header > Server: Cdn Cache Server V2.0\n",
    "...\n",
    "```"
   ]
  }
 ],
 "metadata": {
  "kernelspec": {
   "display_name": ".venv",
   "language": "python",
   "name": "python3"
  },
  "language_info": {
   "codemirror_mode": {
    "name": "ipython",
    "version": 3
   },
   "file_extension": ".py",
   "mimetype": "text/x-python",
   "name": "python",
   "nbconvert_exporter": "python",
   "pygments_lexer": "ipython3",
   "version": "3.12.9"
  }
 },
 "nbformat": 4,
 "nbformat_minor": 5
}
