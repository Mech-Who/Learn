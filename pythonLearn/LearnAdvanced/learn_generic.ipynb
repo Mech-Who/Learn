{
 "cells": [
  {
   "cell_type": "code",
   "execution_count": 1,
   "id": "49dbc1b0",
   "metadata": {},
   "outputs": [
    {
     "name": "stdout",
     "output_type": "stream",
     "text": [
      "2\n",
      "world\n"
     ]
    }
   ],
   "source": [
    "from typing import TypeVar, Generic, List\n",
    "\n",
    "# Define a generic type variable\n",
    "T = TypeVar('T')\n",
    "\n",
    "# Create a generic class\n",
    "class Stack(Generic[T]):\n",
    "    def __init__(self):\n",
    "        self._items: List[T] = []\n",
    "\n",
    "    def push(self, item: T) -> None:\n",
    "        self._items.append(item)\n",
    "\n",
    "    def pop(self) -> T:\n",
    "        if not self._items:\n",
    "            raise IndexError(\"pop from empty stack\")\n",
    "        return self._items.pop()\n",
    "\n",
    "    def peek(self) -> T:\n",
    "        if not self._items:\n",
    "            raise IndexError(\"peek from empty stack\")\n",
    "        return self._items[-1]\n",
    "\n",
    "    def is_empty(self) -> bool:\n",
    "        return len(self._items) == 0\n",
    "\n",
    "# Example usage\n",
    "if __name__ == \"__main__\":\n",
    "    # Stack of integers\n",
    "    int_stack = Stack[int]()\n",
    "    int_stack.push(1)\n",
    "    int_stack.push(2)\n",
    "    print(int_stack.pop())  # Output: 2\n",
    "\n",
    "    # Stack of strings\n",
    "    str_stack = Stack[str]()\n",
    "    str_stack.push(\"hello\")\n",
    "    str_stack.push(\"world\")\n",
    "    print(str_stack.pop())  # Output: world"
   ]
  }
 ],
 "metadata": {
  "kernelspec": {
   "display_name": ".venv",
   "language": "python",
   "name": "python3"
  },
  "language_info": {
   "codemirror_mode": {
    "name": "ipython",
    "version": 3
   },
   "file_extension": ".py",
   "mimetype": "text/x-python",
   "name": "python",
   "nbconvert_exporter": "python",
   "pygments_lexer": "ipython3",
   "version": "3.12.9"
  }
 },
 "nbformat": 4,
 "nbformat_minor": 5
}
