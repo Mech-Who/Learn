{
 "cells": [
  {
   "cell_type": "code",
   "execution_count": 15,
   "id": "b83e2181",
   "metadata": {},
   "outputs": [],
   "source": [
    "from itertools import count, cycle, repeat, takewhile, chain, groupby"
   ]
  },
  {
   "cell_type": "markdown",
   "id": "73dace97",
   "metadata": {},
   "source": [
    "### 1. count\n",
    "\n",
    "返回无限长的自然数序列。"
   ]
  },
  {
   "cell_type": "code",
   "execution_count": 20,
   "id": "c58614d1",
   "metadata": {},
   "outputs": [
    {
     "name": "stdout",
     "output_type": "stream",
     "text": [
      "1 2 3 4 5 6 7 8 9 10 11 "
     ]
    }
   ],
   "source": [
    "for idx, num in enumerate(count(1)):\n",
    "    if idx > 10:\n",
    "        break\n",
    "    print(num, sep=\" \", end=\" \")"
   ]
  },
  {
   "cell_type": "markdown",
   "id": "e4d126c4",
   "metadata": {},
   "source": [
    "### 2. cycle\n",
    "\n",
    "按顺序无限返回可迭代对象中的元素。"
   ]
  },
  {
   "cell_type": "code",
   "execution_count": 19,
   "id": "ca169665",
   "metadata": {},
   "outputs": [
    {
     "name": "stdout",
     "output_type": "stream",
     "text": [
      "A B C A B C A B C A B "
     ]
    }
   ],
   "source": [
    "for idx, ch in enumerate(cycle(\"ABC\")):\n",
    "    if idx > 10:\n",
    "        break\n",
    "    print(ch, sep=\" \", end=\" \")"
   ]
  },
  {
   "cell_type": "markdown",
   "id": "630da03a",
   "metadata": {},
   "source": [
    "### 3. repeat\n",
    "\n",
    "重复返回传入的对象，第二个参数指定重复次数。"
   ]
  },
  {
   "cell_type": "code",
   "execution_count": 24,
   "id": "580a536e",
   "metadata": {},
   "outputs": [
    {
     "name": "stdout",
     "output_type": "stream",
     "text": [
      "|1| |1| |1| |1| |1| |1| |1| |1| |1| |1| "
     ]
    }
   ],
   "source": [
    "for ch in repeat(\"|1|\", 10):\n",
    "    print(ch, sep=\" \", end=\" \")"
   ]
  },
  {
   "cell_type": "markdown",
   "id": "d3970711",
   "metadata": {},
   "source": [
    "### 4. chain\n",
    "\n",
    "连接多个可迭代对象，形成新的迭代器。"
   ]
  },
  {
   "cell_type": "code",
   "execution_count": 25,
   "id": "21259c28",
   "metadata": {},
   "outputs": [
    {
     "name": "stdout",
     "output_type": "stream",
     "text": [
      "A B C 1 2 3 "
     ]
    }
   ],
   "source": [
    "for ch in chain(\"ABC\", [1,2,3]):\n",
    "    print(ch, sep=\" \", end=\" \")"
   ]
  },
  {
   "cell_type": "markdown",
   "id": "e91cc6c6",
   "metadata": {},
   "source": [
    "### 5. groupby\n",
    "\n",
    "将连续相同的元素设置为一组，形成一个dict，每个分组的第一个元素作为key，整个分组作为value。"
   ]
  },
  {
   "cell_type": "code",
   "execution_count": 28,
   "id": "451c7fa2",
   "metadata": {},
   "outputs": [
    {
     "name": "stdout",
     "output_type": "stream",
     "text": [
      "A => ['A']\n",
      "B => ['B', 'b']\n",
      "C => ['C', 'c', 'C']\n",
      "D => ['D', 'd', 'D', 'd']\n",
      "E => ['E', 'e', 'E', 'e', 'E']\n",
      "F => ['F', 'f', 'F', 'f', 'F', 'f']\n"
     ]
    }
   ],
   "source": [
    "for key, group in groupby(\"ABbCcCDdDdEeEeEFfFfFf\", lambda x: x.upper()):\n",
    "    print(f\"{key} => {list(group)}\")"
   ]
  },
  {
   "cell_type": "markdown",
   "id": "6baf7d0e",
   "metadata": {},
   "source": [
    "### 练习：计算pi\n",
    "\n",
    "计算圆周率可以根据公式：\n",
    "\n",
    "$$\n",
    "\\frac{\\pi}{4} = 1-\\frac{1}{3}+\\frac{1}{5}-\\frac{1}{7}+...\n",
    "$$\n",
    "\n",
    "利用Python提供的itertools模块，我们来计算这个序列的前N项和："
   ]
  },
  {
   "cell_type": "code",
   "execution_count": 16,
   "id": "6f05964f",
   "metadata": {},
   "outputs": [],
   "source": [
    "def pi(N: int) -> float:\n",
    "    ' 计算pi的值 '\n",
    "    if N == 0:\n",
    "        return 0\n",
    "    # step 1: 创建一个奇数序列: 1, 3, 5, 7, 9, ...\n",
    "    natures = count(1)\n",
    "    evens = (2*n-1 for n in natures)\n",
    "    # step 2: 取该序列的前N项: 1, 3, 5, 7, 9, ..., 2*N-1.\n",
    "    nums = takewhile(lambda x: x<=2*N-1, evens)\n",
    "    # step 3: 添加正负符号并用4除: 4/1, -4/3, 4/5, -4/7, 4/9, ...\n",
    "    poses = [4.0/n for n in nums]\n",
    "    alls = [(pos if ((i%2)==0) else -pos) for i, pos in enumerate(poses)]\n",
    "    # step 4: 求和:\n",
    "    return sum(alls)"
   ]
  },
  {
   "cell_type": "code",
   "execution_count": 17,
   "id": "33a4050d",
   "metadata": {},
   "outputs": [
    {
     "name": "stdout",
     "output_type": "stream",
     "text": [
      "3.0418396189294024\n",
      "3.131592903558553\n",
      "3.1405926538397932\n",
      "3.1414926535900434\n",
      "ok\n"
     ]
    }
   ],
   "source": [
    "# 测试:\n",
    "print(pi(10))\n",
    "print(pi(100))\n",
    "print(pi(1000))\n",
    "print(pi(10000))\n",
    "assert 3.04 < pi(10) < 3.05\n",
    "assert 3.13 < pi(100) < 3.14\n",
    "assert 3.140 < pi(1000) < 3.141\n",
    "assert 3.1414 < pi(10000) < 3.1415\n",
    "print('ok')"
   ]
  },
  {
   "cell_type": "code",
   "execution_count": null,
   "id": "fe7af5a9",
   "metadata": {},
   "outputs": [],
   "source": []
  }
 ],
 "metadata": {
  "kernelspec": {
   "display_name": ".venv",
   "language": "python",
   "name": "python3"
  },
  "language_info": {
   "codemirror_mode": {
    "name": "ipython",
    "version": 3
   },
   "file_extension": ".py",
   "mimetype": "text/x-python",
   "name": "python",
   "nbconvert_exporter": "python",
   "pygments_lexer": "ipython3",
   "version": "3.12.9"
  }
 },
 "nbformat": 4,
 "nbformat_minor": 5
}
