{
 "cells": [
  {
   "cell_type": "markdown",
   "source": [
    "# 一、训练模型的模板"
   ],
   "metadata": {
    "collapsed": false
   },
   "id": "32e2e56c02f1e98f"
  },
  {
   "cell_type": "code",
   "execution_count": 46,
   "id": "initial_id",
   "metadata": {
    "collapsed": true,
    "ExecuteTime": {
     "end_time": "2024-04-03T04:29:45.304647Z",
     "start_time": "2024-04-03T04:29:45.286567Z"
    }
   },
   "outputs": [],
   "source": [
    "import time\n",
    "import torchvision\n",
    "import torch\n",
    "import torch.nn as nn\n",
    "import torch.nn.functional as F\n",
    "from torch.utils.data import DataLoader\n",
    "import torch.optim as optim\n",
    "from torch.utils.tensorboard import SummaryWriter"
   ]
  },
  {
   "cell_type": "code",
   "outputs": [
    {
     "name": "stdout",
     "output_type": "stream",
     "text": [
      "Files already downloaded and verified\n",
      "Files already downloaded and verified\n",
      "训练数据集长度为：50000\n",
      "测试数据集长度为：10000\n"
     ]
    }
   ],
   "source": [
    "# dataset\n",
    "train_data = torchvision.datasets.CIFAR10(root='./data', train=True, download=True, transform=torchvision.transforms.ToTensor())\n",
    "test_data = torchvision.datasets.CIFAR10(root='./data', train=False, download=True, transform=torchvision.transforms.ToTensor())\n",
    "\n",
    "\n",
    "train_data_size = len(train_data)\n",
    "test_data_size = len(test_data)\n",
    "\n",
    "print(f\"训练数据集长度为：{train_data_size}\")\n",
    "print(f\"测试数据集长度为：{test_data_size}\")"
   ],
   "metadata": {
    "collapsed": false,
    "ExecuteTime": {
     "end_time": "2024-04-03T04:29:49.559882Z",
     "start_time": "2024-04-03T04:29:47.541446Z"
    }
   },
   "id": "82c0e433ee98db6",
   "execution_count": 47
  },
  {
   "cell_type": "code",
   "outputs": [],
   "source": [
    "# DataLoader\n",
    "train_dataloader = DataLoader(train_data, batch_size=32, shuffle=True)\n",
    "test_dataloader = DataLoader(test_data, batch_size=32, shuffle=True)"
   ],
   "metadata": {
    "collapsed": false,
    "ExecuteTime": {
     "end_time": "2024-04-03T04:29:49.605962Z",
     "start_time": "2024-04-03T04:29:49.562882Z"
    }
   },
   "id": "493e18cc236ab4b9",
   "execution_count": 48
  },
  {
   "cell_type": "code",
   "outputs": [],
   "source": [
    "# Model net\n",
    "# 可以抽离到单独的文件中，并进行测试\n",
    "class Net(nn.Module):\n",
    "    def __init__(self):\n",
    "        super().__init__()\n",
    "        self.model = nn.Sequential(\n",
    "            nn.Conv2d(3, 32, 5, padding=2),\n",
    "            nn.MaxPool2d(2),\n",
    "            nn.Conv2d(32, 32, 5, padding=2),\n",
    "            nn.MaxPool2d(2),\n",
    "            nn.Conv2d(32, 64, 5, padding=2),\n",
    "            nn.MaxPool2d(2),\n",
    "            nn.Flatten(),\n",
    "            nn.Linear(1024, 64),\n",
    "            nn.Linear(64, 10)\n",
    "        )\n",
    "    \n",
    "    def forward(self, x):\n",
    "        return self.model(x)"
   ],
   "metadata": {
    "collapsed": false,
    "ExecuteTime": {
     "end_time": "2024-04-03T04:29:50.913040Z",
     "start_time": "2024-04-03T04:29:50.888726Z"
    }
   },
   "id": "c479fd1ca2040365",
   "execution_count": 49
  },
  {
   "cell_type": "markdown",
   "source": [
    "注意： 在GPU上训练时，只有模型、损失函数和数据（输入和标注信息）可以放到GPU上。"
   ],
   "metadata": {
    "collapsed": false
   },
   "id": "aab22bab12a48529"
  },
  {
   "cell_type": "code",
   "outputs": [
    {
     "name": "stdout",
     "output_type": "stream",
     "text": [
      "----------第 1 轮训练开始----------\n",
      "Epoch[1/3], Step: 100, Loss: 2.311138153076172\n",
      "Epoch[1/3], Step: 200, Loss: 2.2951126098632812\n",
      "Epoch[1/3], Step: 300, Loss: 2.29854416847229\n",
      "Epoch[1/3], Step: 400, Loss: 2.2941946983337402\n",
      "Epoch[1/3], Step: 500, Loss: 2.2997050285339355\n",
      "Epoch[1/3], Step: 600, Loss: 2.3097915649414062\n",
      "Epoch[1/3], Step: 700, Loss: 2.2978742122650146\n",
      "Epoch[1/3], Step: 800, Loss: 2.300922155380249\n",
      "Epoch[1/3], Step: 900, Loss: 2.2940542697906494\n",
      "Epoch[1/3], Step: 1000, Loss: 2.2936084270477295\n",
      "Epoch[1/3], Step: 1100, Loss: 2.2953104972839355\n",
      "Epoch[1/3], Step: 1200, Loss: 2.3037326335906982\n",
      "Epoch[1/3], Step: 1300, Loss: 2.299428701400757\n",
      "Epoch[1/3], Step: 1400, Loss: 2.282520294189453\n",
      "Epoch[1/3], Step: 1500, Loss: 2.292264461517334\n",
      "整体测试集上的Loss: 716.2407293319702\n",
      "整体测试集上的正确率: 0.13529999554157257\n",
      "模型已保存\n",
      "----------第 2 轮训练开始----------\n",
      "Epoch[2/3], Step: 1600, Loss: 2.2681667804718018\n",
      "Epoch[2/3], Step: 1700, Loss: 2.2685704231262207\n",
      "Epoch[2/3], Step: 1800, Loss: 2.2869765758514404\n",
      "Epoch[2/3], Step: 1900, Loss: 2.28713321685791\n",
      "Epoch[2/3], Step: 2000, Loss: 2.2777650356292725\n",
      "Epoch[2/3], Step: 2100, Loss: 2.277026414871216\n",
      "Epoch[2/3], Step: 2200, Loss: 2.277543067932129\n",
      "Epoch[2/3], Step: 2300, Loss: 2.221569061279297\n",
      "Epoch[2/3], Step: 2400, Loss: 2.2964813709259033\n",
      "Epoch[2/3], Step: 2500, Loss: 2.278366804122925\n",
      "Epoch[2/3], Step: 2600, Loss: 2.29801607131958\n",
      "Epoch[2/3], Step: 2700, Loss: 2.2815377712249756\n",
      "Epoch[2/3], Step: 2800, Loss: 2.260915517807007\n",
      "Epoch[2/3], Step: 2900, Loss: 2.2491226196289062\n",
      "Epoch[2/3], Step: 3000, Loss: 2.259828567504883\n",
      "Epoch[2/3], Step: 3100, Loss: 2.277956008911133\n",
      "整体测试集上的Loss: 704.0875980854034\n",
      "整体测试集上的正确率: 0.16609999537467957\n",
      "模型已保存\n",
      "----------第 3 轮训练开始----------\n",
      "Epoch[3/3], Step: 3200, Loss: 2.230915069580078\n",
      "Epoch[3/3], Step: 3300, Loss: 2.2912063598632812\n",
      "Epoch[3/3], Step: 3400, Loss: 2.2289674282073975\n",
      "Epoch[3/3], Step: 3500, Loss: 2.238022804260254\n",
      "Epoch[3/3], Step: 3600, Loss: 2.304663896560669\n",
      "Epoch[3/3], Step: 3700, Loss: 2.1829347610473633\n",
      "Epoch[3/3], Step: 3800, Loss: 2.238619089126587\n",
      "Epoch[3/3], Step: 3900, Loss: 2.1524460315704346\n",
      "Epoch[3/3], Step: 4000, Loss: 2.125251293182373\n",
      "Epoch[3/3], Step: 4100, Loss: 2.1443002223968506\n",
      "Epoch[3/3], Step: 4200, Loss: 2.122075319290161\n",
      "Epoch[3/3], Step: 4300, Loss: 2.2020721435546875\n",
      "Epoch[3/3], Step: 4400, Loss: 2.1182010173797607\n",
      "Epoch[3/3], Step: 4500, Loss: 2.097809314727783\n",
      "Epoch[3/3], Step: 4600, Loss: 2.114781141281128\n",
      "整体测试集上的Loss: 659.8962013721466\n",
      "整体测试集上的正确率: 0.2321999967098236\n",
      "模型已保存\n"
     ]
    }
   ],
   "source": [
    "writer = SummaryWriter(\"train_log\")\n",
    "\n",
    "# 设置设备\n",
    "# 设备参数可以为cuda:0, cuda:1, cpu等\n",
    "device = torch.device(\"cuda\" if torch.cuda.is_available() else \"cpu\")\n",
    "\n",
    "# 实例化模型\n",
    "net = Net()\n",
    "# 方式1\n",
    "if torch.cuda.is_available():\n",
    "    # 将模型放到GPU上(使用GPU训练)\n",
    "    net.cuda()\n",
    "# 方式2\n",
    "net.to(device)\n",
    "# 与方式2等价，只有数据是必须赋值回去的。\n",
    "net = net.to(device)\n",
    "\n",
    "# 损失函数\n",
    "loss = nn.CrossEntropyLoss()\n",
    "# 将损失函数放到GPU上(使用GPU训练)\n",
    "# 方式1\n",
    "if torch.cuda.is_available():\n",
    "    loss.cuda()\n",
    "# 方式2\n",
    "# loss.to(device)\n",
    "loss = loss.to(device)\n",
    "\n",
    "# 优化器\n",
    "learning_rate = 1e-3\n",
    "optimizer = optim.SGD(net.parameters(), lr=learning_rate)\n",
    "\n",
    "epoch_num = 3 # 训练轮次\n",
    "train_start_time = time.time() # 记录训练开始时间\n",
    "for epoch in range(epoch_num):\n",
    "    print(f\"----------第 {epoch+1} 轮训练开始----------\")\n",
    "    \n",
    "    epoch_start_time = time.time() # 记录每轮开始时间\n",
    "    total_train_step = 0 # 记录训练的次数\n",
    "    total_test_step = 0 # 记录测试的次数\n",
    "    \n",
    "    # 训练步骤开始\n",
    "    net.train() # 设置为训练模式，但是这一步只对某些模型有用，比如Dropout\n",
    "    for data in train_dataloader:\n",
    "        step_start_time = time.time()\n",
    "        imgs, labels = data\n",
    "        # 将数据放到GPU上(使用GPU训练)\n",
    "        # 方式1\n",
    "        if torch.cuda.is_available():\n",
    "            imgs = imgs.cuda()\n",
    "            labels = labels.cuda()\n",
    "        # 方式2\n",
    "        imgs = imgs.to(device)\n",
    "        labels = labels.to(device)\n",
    "        \n",
    "        outputs = net(imgs)\n",
    "        res_loss = loss(outputs, labels)\n",
    "        \n",
    "        # 优化器优化模型\n",
    "        optimizer.zero_grad()\n",
    "        res_loss.backward()\n",
    "        optimizer.step()\n",
    "        \n",
    "        # 记录每次训练的信息\n",
    "        total_train_step += 1\n",
    "        writer.add_scalar(f'loss_in_epoch_{epoch}', res_loss.item(), total_train_step)\n",
    "        if total_train_step % 100 == 0:\n",
    "            step_end_time = time.time()\n",
    "            print(f'Epoch[{epoch+1}/{epoch_num}], Step: {total_train_step}, Loss: {res_loss.item()}, Time: {step_end_time-step_start_time}')\n",
    "        \n",
    "    # 测试步骤开始\n",
    "    net.eval() # 设置为测试模式，但是这一步只对某些模型有用，比如Dropout\n",
    "    total_test_loss = 0\n",
    "    total_accuracy = 0\n",
    "    with torch.no_grad():\n",
    "        for data in test_dataloader:\n",
    "            imgs, labels = data\n",
    "            if torch.cuda.is_available():\n",
    "                # 将数据放到GPU上(使用GPU测试)\n",
    "                imgs = imgs.cuda()\n",
    "                labels = labels.cuda()\n",
    "            outputs = net(imgs)\n",
    "            res_loss = loss(outputs, labels)\n",
    "            accuracy = (outputs.argmax(1) == labels).sum()\n",
    "            total_accuracy += accuracy\n",
    "            total_test_loss += res_loss.item()\n",
    "            \n",
    "    total_test_step += 1\n",
    "    print(f\"整体测试集上的Loss: {total_test_loss}\")\n",
    "    print(f\"整体测试集上的正确率: {total_accuracy/test_data_size}\")\n",
    "    writer.add_scalar(f'test_loss_in_epoch_{epoch+1}', total_test_loss, total_test_step)\n",
    "    writer.add_scalar(f'test_accuracy_in_epoch_{epoch+1}', total_accuracy/test_data_size, total_test_step)\n",
    "    \n",
    "    torch.save(net.state_dict(), f'model/cifar_net_{epoch+1}.pth')\n",
    "    print(\"模型已保存\")\n",
    "    \n",
    "writer.close()\n",
    "    "
   ],
   "metadata": {
    "collapsed": false,
    "ExecuteTime": {
     "end_time": "2024-04-03T04:23:23.055971Z",
     "start_time": "2024-04-03T04:21:44.343892Z"
    }
   },
   "id": "2f29d5a2e79e8446",
   "execution_count": 45
  },
  {
   "cell_type": "markdown",
   "source": [
    "# 二、验证模型的模板"
   ],
   "metadata": {
    "collapsed": false
   },
   "id": "e4d230176806fa06"
  },
  {
   "cell_type": "code",
   "outputs": [],
   "source": [
    "from PIL import Image\n",
    "\n",
    "# 获得真实图片并处理，使其符合模型的输入要求\n",
    "image_path = r\"\"\n",
    "image = Image.open(image_path)\n",
    "image.convert(\"RGB\") # 转换为只保留颜色通道（PNG文件会有4个通道）\n",
    "print(image)\n",
    "\n",
    "transform = torchvision.transforms.Compose([\n",
    "    torchvision.transforms.Resize((32, 32)),\n",
    "    torchvision.transforms.ToTensor()\n",
    "])\n",
    "\n",
    "image = transform(image)\n",
    "image.reshape(1, 3, 32, 32)\n",
    "print(image.shape)\n",
    "\n",
    "# 加载模型并进入测试模式\n",
    "model = torch.load(\"model/cifar_net_1.pth\")\n",
    "model.eval()\n",
    "\n",
    "# 使用模型对真实图片进行预测\n",
    "with torch.no_grad():\n",
    "    output = model(image)\n",
    "print(output)\n",
    "print(output.argmax(1))\n"
   ],
   "metadata": {
    "collapsed": false
   },
   "id": "846cc9a40eb2e39"
  },
  {
   "cell_type": "markdown",
   "source": [
    "# 三、使用现有模型进行迁移学习，二次开发"
   ],
   "metadata": {
    "collapsed": false
   },
   "id": "756a6322524b4917"
  },
  {
   "cell_type": "code",
   "outputs": [
    {
     "name": "stdout",
     "output_type": "stream",
     "text": [
      "VGG(\n",
      "  (features): Sequential(\n",
      "    (0): Conv2d(3, 64, kernel_size=(3, 3), stride=(1, 1), padding=(1, 1))\n",
      "    (1): ReLU(inplace=True)\n",
      "    (2): Conv2d(64, 64, kernel_size=(3, 3), stride=(1, 1), padding=(1, 1))\n",
      "    (3): ReLU(inplace=True)\n",
      "    (4): MaxPool2d(kernel_size=2, stride=2, padding=0, dilation=1, ceil_mode=False)\n",
      "    (5): Conv2d(64, 128, kernel_size=(3, 3), stride=(1, 1), padding=(1, 1))\n",
      "    (6): ReLU(inplace=True)\n",
      "    (7): Conv2d(128, 128, kernel_size=(3, 3), stride=(1, 1), padding=(1, 1))\n",
      "    (8): ReLU(inplace=True)\n",
      "    (9): MaxPool2d(kernel_size=2, stride=2, padding=0, dilation=1, ceil_mode=False)\n",
      "    (10): Conv2d(128, 256, kernel_size=(3, 3), stride=(1, 1), padding=(1, 1))\n",
      "    (11): ReLU(inplace=True)\n",
      "    (12): Conv2d(256, 256, kernel_size=(3, 3), stride=(1, 1), padding=(1, 1))\n",
      "    (13): ReLU(inplace=True)\n",
      "    (14): Conv2d(256, 256, kernel_size=(3, 3), stride=(1, 1), padding=(1, 1))\n",
      "    (15): ReLU(inplace=True)\n",
      "    (16): MaxPool2d(kernel_size=2, stride=2, padding=0, dilation=1, ceil_mode=False)\n",
      "    (17): Conv2d(256, 512, kernel_size=(3, 3), stride=(1, 1), padding=(1, 1))\n",
      "    (18): ReLU(inplace=True)\n",
      "    (19): Conv2d(512, 512, kernel_size=(3, 3), stride=(1, 1), padding=(1, 1))\n",
      "    (20): ReLU(inplace=True)\n",
      "    (21): Conv2d(512, 512, kernel_size=(3, 3), stride=(1, 1), padding=(1, 1))\n",
      "    (22): ReLU(inplace=True)\n",
      "    (23): MaxPool2d(kernel_size=2, stride=2, padding=0, dilation=1, ceil_mode=False)\n",
      "    (24): Conv2d(512, 512, kernel_size=(3, 3), stride=(1, 1), padding=(1, 1))\n",
      "    (25): ReLU(inplace=True)\n",
      "    (26): Conv2d(512, 512, kernel_size=(3, 3), stride=(1, 1), padding=(1, 1))\n",
      "    (27): ReLU(inplace=True)\n",
      "    (28): Conv2d(512, 512, kernel_size=(3, 3), stride=(1, 1), padding=(1, 1))\n",
      "    (29): ReLU(inplace=True)\n",
      "    (30): MaxPool2d(kernel_size=2, stride=2, padding=0, dilation=1, ceil_mode=False)\n",
      "  )\n",
      "  (avgpool): AdaptiveAvgPool2d(output_size=(7, 7))\n",
      "  (classifier): Sequential(\n",
      "    (0): Linear(in_features=25088, out_features=4096, bias=True)\n",
      "    (1): ReLU(inplace=True)\n",
      "    (2): Dropout(p=0.5, inplace=False)\n",
      "    (3): Linear(in_features=4096, out_features=4096, bias=True)\n",
      "    (4): ReLU(inplace=True)\n",
      "    (5): Dropout(p=0.5, inplace=False)\n",
      "    (6): Linear(in_features=4096, out_features=1000, bias=True)\n",
      "  )\n",
      ")\n"
     ]
    }
   ],
   "source": [
    "vgg16_false = torchvision.models.vgg16(pretrained=False)\n",
    "vgg16_true = torchvision.models.vgg16(pretrained=True)\n",
    "print(vgg16_true)"
   ],
   "metadata": {
    "collapsed": false,
    "ExecuteTime": {
     "end_time": "2024-04-03T02:46:25.717435Z",
     "start_time": "2024-04-03T02:46:19.159739Z"
    }
   },
   "id": "41ace13c839991e3",
   "execution_count": 26
  },
  {
   "cell_type": "code",
   "outputs": [
    {
     "name": "stdout",
     "output_type": "stream",
     "text": [
      "VGG(\n",
      "  (features): Sequential(\n",
      "    (0): Conv2d(3, 64, kernel_size=(3, 3), stride=(1, 1), padding=(1, 1))\n",
      "    (1): ReLU(inplace=True)\n",
      "    (2): Conv2d(64, 64, kernel_size=(3, 3), stride=(1, 1), padding=(1, 1))\n",
      "    (3): ReLU(inplace=True)\n",
      "    (4): MaxPool2d(kernel_size=2, stride=2, padding=0, dilation=1, ceil_mode=False)\n",
      "    (5): Conv2d(64, 128, kernel_size=(3, 3), stride=(1, 1), padding=(1, 1))\n",
      "    (6): ReLU(inplace=True)\n",
      "    (7): Conv2d(128, 128, kernel_size=(3, 3), stride=(1, 1), padding=(1, 1))\n",
      "    (8): ReLU(inplace=True)\n",
      "    (9): MaxPool2d(kernel_size=2, stride=2, padding=0, dilation=1, ceil_mode=False)\n",
      "    (10): Conv2d(128, 256, kernel_size=(3, 3), stride=(1, 1), padding=(1, 1))\n",
      "    (11): ReLU(inplace=True)\n",
      "    (12): Conv2d(256, 256, kernel_size=(3, 3), stride=(1, 1), padding=(1, 1))\n",
      "    (13): ReLU(inplace=True)\n",
      "    (14): Conv2d(256, 256, kernel_size=(3, 3), stride=(1, 1), padding=(1, 1))\n",
      "    (15): ReLU(inplace=True)\n",
      "    (16): MaxPool2d(kernel_size=2, stride=2, padding=0, dilation=1, ceil_mode=False)\n",
      "    (17): Conv2d(256, 512, kernel_size=(3, 3), stride=(1, 1), padding=(1, 1))\n",
      "    (18): ReLU(inplace=True)\n",
      "    (19): Conv2d(512, 512, kernel_size=(3, 3), stride=(1, 1), padding=(1, 1))\n",
      "    (20): ReLU(inplace=True)\n",
      "    (21): Conv2d(512, 512, kernel_size=(3, 3), stride=(1, 1), padding=(1, 1))\n",
      "    (22): ReLU(inplace=True)\n",
      "    (23): MaxPool2d(kernel_size=2, stride=2, padding=0, dilation=1, ceil_mode=False)\n",
      "    (24): Conv2d(512, 512, kernel_size=(3, 3), stride=(1, 1), padding=(1, 1))\n",
      "    (25): ReLU(inplace=True)\n",
      "    (26): Conv2d(512, 512, kernel_size=(3, 3), stride=(1, 1), padding=(1, 1))\n",
      "    (27): ReLU(inplace=True)\n",
      "    (28): Conv2d(512, 512, kernel_size=(3, 3), stride=(1, 1), padding=(1, 1))\n",
      "    (29): ReLU(inplace=True)\n",
      "    (30): MaxPool2d(kernel_size=2, stride=2, padding=0, dilation=1, ceil_mode=False)\n",
      "  )\n",
      "  (avgpool): AdaptiveAvgPool2d(output_size=(7, 7))\n",
      "  (classifier): Sequential(\n",
      "    (0): Linear(in_features=25088, out_features=4096, bias=True)\n",
      "    (1): ReLU(inplace=True)\n",
      "    (2): Dropout(p=0.5, inplace=False)\n",
      "    (3): Linear(in_features=4096, out_features=4096, bias=True)\n",
      "    (4): ReLU(inplace=True)\n",
      "    (5): Dropout(p=0.5, inplace=False)\n",
      "    (6): Linear(in_features=4096, out_features=1000, bias=True)\n",
      "    (fc2-modify): Linear(in_features=1000, out_features=10, bias=True)\n",
      "  )\n",
      "  (fc1-modify): Linear(in_features=10, out_features=10, bias=True)\n",
      ")\n"
     ]
    }
   ],
   "source": [
    "vgg16_true.add_module('fc1-modify', nn.Linear(10, 10))\n",
    "vgg16_true.classifier.add_module('fc2-modify', nn.Linear(1000, 10))\n",
    "print(vgg16_true)"
   ],
   "metadata": {
    "collapsed": false,
    "ExecuteTime": {
     "end_time": "2024-04-03T02:50:06.529518Z",
     "start_time": "2024-04-03T02:50:06.510062Z"
    }
   },
   "id": "79a6cefea2c7cb7e",
   "execution_count": 29
  },
  {
   "cell_type": "code",
   "outputs": [
    {
     "name": "stdout",
     "output_type": "stream",
     "text": [
      "VGG(\n",
      "  (features): Sequential(\n",
      "    (0): Conv2d(3, 64, kernel_size=(3, 3), stride=(1, 1), padding=(1, 1))\n",
      "    (1): ReLU(inplace=True)\n",
      "    (2): Conv2d(64, 64, kernel_size=(3, 3), stride=(1, 1), padding=(1, 1))\n",
      "    (3): ReLU(inplace=True)\n",
      "    (4): MaxPool2d(kernel_size=2, stride=2, padding=0, dilation=1, ceil_mode=False)\n",
      "    (5): Conv2d(64, 128, kernel_size=(3, 3), stride=(1, 1), padding=(1, 1))\n",
      "    (6): ReLU(inplace=True)\n",
      "    (7): Conv2d(128, 128, kernel_size=(3, 3), stride=(1, 1), padding=(1, 1))\n",
      "    (8): ReLU(inplace=True)\n",
      "    (9): MaxPool2d(kernel_size=2, stride=2, padding=0, dilation=1, ceil_mode=False)\n",
      "    (10): Conv2d(128, 256, kernel_size=(3, 3), stride=(1, 1), padding=(1, 1))\n",
      "    (11): ReLU(inplace=True)\n",
      "    (12): Conv2d(256, 256, kernel_size=(3, 3), stride=(1, 1), padding=(1, 1))\n",
      "    (13): ReLU(inplace=True)\n",
      "    (14): Conv2d(256, 256, kernel_size=(3, 3), stride=(1, 1), padding=(1, 1))\n",
      "    (15): ReLU(inplace=True)\n",
      "    (16): MaxPool2d(kernel_size=2, stride=2, padding=0, dilation=1, ceil_mode=False)\n",
      "    (17): Conv2d(256, 512, kernel_size=(3, 3), stride=(1, 1), padding=(1, 1))\n",
      "    (18): ReLU(inplace=True)\n",
      "    (19): Conv2d(512, 512, kernel_size=(3, 3), stride=(1, 1), padding=(1, 1))\n",
      "    (20): ReLU(inplace=True)\n",
      "    (21): Conv2d(512, 512, kernel_size=(3, 3), stride=(1, 1), padding=(1, 1))\n",
      "    (22): ReLU(inplace=True)\n",
      "    (23): MaxPool2d(kernel_size=2, stride=2, padding=0, dilation=1, ceil_mode=False)\n",
      "    (24): Conv2d(512, 512, kernel_size=(3, 3), stride=(1, 1), padding=(1, 1))\n",
      "    (25): ReLU(inplace=True)\n",
      "    (26): Conv2d(512, 512, kernel_size=(3, 3), stride=(1, 1), padding=(1, 1))\n",
      "    (27): ReLU(inplace=True)\n",
      "    (28): Conv2d(512, 512, kernel_size=(3, 3), stride=(1, 1), padding=(1, 1))\n",
      "    (29): ReLU(inplace=True)\n",
      "    (30): MaxPool2d(kernel_size=2, stride=2, padding=0, dilation=1, ceil_mode=False)\n",
      "  )\n",
      "  (avgpool): AdaptiveAvgPool2d(output_size=(7, 7))\n",
      "  (classifier): Sequential(\n",
      "    (0): Linear(in_features=25088, out_features=4096, bias=True)\n",
      "    (1): ReLU(inplace=True)\n",
      "    (2): Dropout(p=0.5, inplace=False)\n",
      "    (3): Linear(in_features=4096, out_features=4096, bias=True)\n",
      "    (4): ReLU(inplace=True)\n",
      "    (5): Dropout(p=0.5, inplace=False)\n",
      "    (6): Linear(in_features=4096, out_features=10, bias=True)\n",
      "  )\n",
      ")\n"
     ]
    }
   ],
   "source": [
    "vgg16_false.classifier[6] = nn.Linear(4096, 10)\n",
    "print(vgg16_false)"
   ],
   "metadata": {
    "collapsed": false,
    "ExecuteTime": {
     "end_time": "2024-04-03T02:49:47.679895Z",
     "start_time": "2024-04-03T02:49:47.636834Z"
    }
   },
   "id": "a2852ad1502e109f",
   "execution_count": 28
  },
  {
   "cell_type": "markdown",
   "source": [
    "# 四、模型的保存与加载"
   ],
   "metadata": {
    "collapsed": false
   },
   "id": "61b20b0c5d532004"
  },
  {
   "cell_type": "code",
   "outputs": [],
   "source": [
    "vgg16 = torchvision.models.vgg16(pretrained=False)"
   ],
   "metadata": {
    "collapsed": false,
    "ExecuteTime": {
     "end_time": "2024-04-03T02:51:48.586664Z",
     "start_time": "2024-04-03T02:51:46.910714Z"
    }
   },
   "id": "ccd378e47841dd59",
   "execution_count": 30
  },
  {
   "cell_type": "markdown",
   "source": [
    "## 1. 保存模型结构+模型参数\n",
    "\n",
    "注意：要求导入的模型的类是存在的，否则会报错（尤其是自定义的类时）"
   ],
   "metadata": {
    "collapsed": false
   },
   "id": "6e0119c1b88e2a7b"
  },
  {
   "cell_type": "code",
   "outputs": [],
   "source": [
    "torch.save(vgg16, 'model/vgg16.pth')"
   ],
   "metadata": {
    "collapsed": false,
    "ExecuteTime": {
     "end_time": "2024-04-03T02:52:47.012809Z",
     "start_time": "2024-04-03T02:52:46.102777Z"
    }
   },
   "id": "d11fbe709f20d3af",
   "execution_count": 32
  },
  {
   "cell_type": "code",
   "outputs": [
    {
     "name": "stdout",
     "output_type": "stream",
     "text": [
      "VGG(\n",
      "  (features): Sequential(\n",
      "    (0): Conv2d(3, 64, kernel_size=(3, 3), stride=(1, 1), padding=(1, 1))\n",
      "    (1): ReLU(inplace=True)\n",
      "    (2): Conv2d(64, 64, kernel_size=(3, 3), stride=(1, 1), padding=(1, 1))\n",
      "    (3): ReLU(inplace=True)\n",
      "    (4): MaxPool2d(kernel_size=2, stride=2, padding=0, dilation=1, ceil_mode=False)\n",
      "    (5): Conv2d(64, 128, kernel_size=(3, 3), stride=(1, 1), padding=(1, 1))\n",
      "    (6): ReLU(inplace=True)\n",
      "    (7): Conv2d(128, 128, kernel_size=(3, 3), stride=(1, 1), padding=(1, 1))\n",
      "    (8): ReLU(inplace=True)\n",
      "    (9): MaxPool2d(kernel_size=2, stride=2, padding=0, dilation=1, ceil_mode=False)\n",
      "    (10): Conv2d(128, 256, kernel_size=(3, 3), stride=(1, 1), padding=(1, 1))\n",
      "    (11): ReLU(inplace=True)\n",
      "    (12): Conv2d(256, 256, kernel_size=(3, 3), stride=(1, 1), padding=(1, 1))\n",
      "    (13): ReLU(inplace=True)\n",
      "    (14): Conv2d(256, 256, kernel_size=(3, 3), stride=(1, 1), padding=(1, 1))\n",
      "    (15): ReLU(inplace=True)\n",
      "    (16): MaxPool2d(kernel_size=2, stride=2, padding=0, dilation=1, ceil_mode=False)\n",
      "    (17): Conv2d(256, 512, kernel_size=(3, 3), stride=(1, 1), padding=(1, 1))\n",
      "    (18): ReLU(inplace=True)\n",
      "    (19): Conv2d(512, 512, kernel_size=(3, 3), stride=(1, 1), padding=(1, 1))\n",
      "    (20): ReLU(inplace=True)\n",
      "    (21): Conv2d(512, 512, kernel_size=(3, 3), stride=(1, 1), padding=(1, 1))\n",
      "    (22): ReLU(inplace=True)\n",
      "    (23): MaxPool2d(kernel_size=2, stride=2, padding=0, dilation=1, ceil_mode=False)\n",
      "    (24): Conv2d(512, 512, kernel_size=(3, 3), stride=(1, 1), padding=(1, 1))\n",
      "    (25): ReLU(inplace=True)\n",
      "    (26): Conv2d(512, 512, kernel_size=(3, 3), stride=(1, 1), padding=(1, 1))\n",
      "    (27): ReLU(inplace=True)\n",
      "    (28): Conv2d(512, 512, kernel_size=(3, 3), stride=(1, 1), padding=(1, 1))\n",
      "    (29): ReLU(inplace=True)\n",
      "    (30): MaxPool2d(kernel_size=2, stride=2, padding=0, dilation=1, ceil_mode=False)\n",
      "  )\n",
      "  (avgpool): AdaptiveAvgPool2d(output_size=(7, 7))\n",
      "  (classifier): Sequential(\n",
      "    (0): Linear(in_features=25088, out_features=4096, bias=True)\n",
      "    (1): ReLU(inplace=True)\n",
      "    (2): Dropout(p=0.5, inplace=False)\n",
      "    (3): Linear(in_features=4096, out_features=4096, bias=True)\n",
      "    (4): ReLU(inplace=True)\n",
      "    (5): Dropout(p=0.5, inplace=False)\n",
      "    (6): Linear(in_features=4096, out_features=1000, bias=True)\n",
      "  )\n",
      ") VGG(\n",
      "  (features): Sequential(\n",
      "    (0): Conv2d(3, 64, kernel_size=(3, 3), stride=(1, 1), padding=(1, 1))\n",
      "    (1): ReLU(inplace=True)\n",
      "    (2): Conv2d(64, 64, kernel_size=(3, 3), stride=(1, 1), padding=(1, 1))\n",
      "    (3): ReLU(inplace=True)\n",
      "    (4): MaxPool2d(kernel_size=2, stride=2, padding=0, dilation=1, ceil_mode=False)\n",
      "    (5): Conv2d(64, 128, kernel_size=(3, 3), stride=(1, 1), padding=(1, 1))\n",
      "    (6): ReLU(inplace=True)\n",
      "    (7): Conv2d(128, 128, kernel_size=(3, 3), stride=(1, 1), padding=(1, 1))\n",
      "    (8): ReLU(inplace=True)\n",
      "    (9): MaxPool2d(kernel_size=2, stride=2, padding=0, dilation=1, ceil_mode=False)\n",
      "    (10): Conv2d(128, 256, kernel_size=(3, 3), stride=(1, 1), padding=(1, 1))\n",
      "    (11): ReLU(inplace=True)\n",
      "    (12): Conv2d(256, 256, kernel_size=(3, 3), stride=(1, 1), padding=(1, 1))\n",
      "    (13): ReLU(inplace=True)\n",
      "    (14): Conv2d(256, 256, kernel_size=(3, 3), stride=(1, 1), padding=(1, 1))\n",
      "    (15): ReLU(inplace=True)\n",
      "    (16): MaxPool2d(kernel_size=2, stride=2, padding=0, dilation=1, ceil_mode=False)\n",
      "    (17): Conv2d(256, 512, kernel_size=(3, 3), stride=(1, 1), padding=(1, 1))\n",
      "    (18): ReLU(inplace=True)\n",
      "    (19): Conv2d(512, 512, kernel_size=(3, 3), stride=(1, 1), padding=(1, 1))\n",
      "    (20): ReLU(inplace=True)\n",
      "    (21): Conv2d(512, 512, kernel_size=(3, 3), stride=(1, 1), padding=(1, 1))\n",
      "    (22): ReLU(inplace=True)\n",
      "    (23): MaxPool2d(kernel_size=2, stride=2, padding=0, dilation=1, ceil_mode=False)\n",
      "    (24): Conv2d(512, 512, kernel_size=(3, 3), stride=(1, 1), padding=(1, 1))\n",
      "    (25): ReLU(inplace=True)\n",
      "    (26): Conv2d(512, 512, kernel_size=(3, 3), stride=(1, 1), padding=(1, 1))\n",
      "    (27): ReLU(inplace=True)\n",
      "    (28): Conv2d(512, 512, kernel_size=(3, 3), stride=(1, 1), padding=(1, 1))\n",
      "    (29): ReLU(inplace=True)\n",
      "    (30): MaxPool2d(kernel_size=2, stride=2, padding=0, dilation=1, ceil_mode=False)\n",
      "  )\n",
      "  (avgpool): AdaptiveAvgPool2d(output_size=(7, 7))\n",
      "  (classifier): Sequential(\n",
      "    (0): Linear(in_features=25088, out_features=4096, bias=True)\n",
      "    (1): ReLU(inplace=True)\n",
      "    (2): Dropout(p=0.5, inplace=False)\n",
      "    (3): Linear(in_features=4096, out_features=4096, bias=True)\n",
      "    (4): ReLU(inplace=True)\n",
      "    (5): Dropout(p=0.5, inplace=False)\n",
      "    (6): Linear(in_features=4096, out_features=1000, bias=True)\n",
      "  )\n",
      ")\n"
     ]
    }
   ],
   "source": [
    "vgg16_model = torch.load('model/vgg16.pth')\n",
    "print(vgg16_model, vgg16)"
   ],
   "metadata": {
    "collapsed": false,
    "ExecuteTime": {
     "end_time": "2024-04-03T02:55:31.850506Z",
     "start_time": "2024-04-03T02:55:31.152866Z"
    }
   },
   "id": "dda4b36d4ccf968b",
   "execution_count": 35
  },
  {
   "cell_type": "markdown",
   "source": [
    "## 2. 仅保存模型参数（官方推荐）"
   ],
   "metadata": {
    "collapsed": false
   },
   "id": "e8e40e8a901c9720"
  },
  {
   "cell_type": "code",
   "outputs": [],
   "source": [
    "torch.save(vgg16.state_dict(), 'model/vgg16_state_dict.pth')"
   ],
   "metadata": {
    "collapsed": false,
    "ExecuteTime": {
     "end_time": "2024-04-03T02:54:08.463616Z",
     "start_time": "2024-04-03T02:54:07.554364Z"
    }
   },
   "id": "53cc9684e1791da6",
   "execution_count": 33
  },
  {
   "cell_type": "code",
   "outputs": [
    {
     "name": "stdout",
     "output_type": "stream",
     "text": [
      "VGG(\n",
      "  (features): Sequential(\n",
      "    (0): Conv2d(3, 64, kernel_size=(3, 3), stride=(1, 1), padding=(1, 1))\n",
      "    (1): ReLU(inplace=True)\n",
      "    (2): Conv2d(64, 64, kernel_size=(3, 3), stride=(1, 1), padding=(1, 1))\n",
      "    (3): ReLU(inplace=True)\n",
      "    (4): MaxPool2d(kernel_size=2, stride=2, padding=0, dilation=1, ceil_mode=False)\n",
      "    (5): Conv2d(64, 128, kernel_size=(3, 3), stride=(1, 1), padding=(1, 1))\n",
      "    (6): ReLU(inplace=True)\n",
      "    (7): Conv2d(128, 128, kernel_size=(3, 3), stride=(1, 1), padding=(1, 1))\n",
      "    (8): ReLU(inplace=True)\n",
      "    (9): MaxPool2d(kernel_size=2, stride=2, padding=0, dilation=1, ceil_mode=False)\n",
      "    (10): Conv2d(128, 256, kernel_size=(3, 3), stride=(1, 1), padding=(1, 1))\n",
      "    (11): ReLU(inplace=True)\n",
      "    (12): Conv2d(256, 256, kernel_size=(3, 3), stride=(1, 1), padding=(1, 1))\n",
      "    (13): ReLU(inplace=True)\n",
      "    (14): Conv2d(256, 256, kernel_size=(3, 3), stride=(1, 1), padding=(1, 1))\n",
      "    (15): ReLU(inplace=True)\n",
      "    (16): MaxPool2d(kernel_size=2, stride=2, padding=0, dilation=1, ceil_mode=False)\n",
      "    (17): Conv2d(256, 512, kernel_size=(3, 3), stride=(1, 1), padding=(1, 1))\n",
      "    (18): ReLU(inplace=True)\n",
      "    (19): Conv2d(512, 512, kernel_size=(3, 3), stride=(1, 1), padding=(1, 1))\n",
      "    (20): ReLU(inplace=True)\n",
      "    (21): Conv2d(512, 512, kernel_size=(3, 3), stride=(1, 1), padding=(1, 1))\n",
      "    (22): ReLU(inplace=True)\n",
      "    (23): MaxPool2d(kernel_size=2, stride=2, padding=0, dilation=1, ceil_mode=False)\n",
      "    (24): Conv2d(512, 512, kernel_size=(3, 3), stride=(1, 1), padding=(1, 1))\n",
      "    (25): ReLU(inplace=True)\n",
      "    (26): Conv2d(512, 512, kernel_size=(3, 3), stride=(1, 1), padding=(1, 1))\n",
      "    (27): ReLU(inplace=True)\n",
      "    (28): Conv2d(512, 512, kernel_size=(3, 3), stride=(1, 1), padding=(1, 1))\n",
      "    (29): ReLU(inplace=True)\n",
      "    (30): MaxPool2d(kernel_size=2, stride=2, padding=0, dilation=1, ceil_mode=False)\n",
      "  )\n",
      "  (avgpool): AdaptiveAvgPool2d(output_size=(7, 7))\n",
      "  (classifier): Sequential(\n",
      "    (0): Linear(in_features=25088, out_features=4096, bias=True)\n",
      "    (1): ReLU(inplace=True)\n",
      "    (2): Dropout(p=0.5, inplace=False)\n",
      "    (3): Linear(in_features=4096, out_features=4096, bias=True)\n",
      "    (4): ReLU(inplace=True)\n",
      "    (5): Dropout(p=0.5, inplace=False)\n",
      "    (6): Linear(in_features=4096, out_features=1000, bias=True)\n",
      "  )\n",
      ") VGG(\n",
      "  (features): Sequential(\n",
      "    (0): Conv2d(3, 64, kernel_size=(3, 3), stride=(1, 1), padding=(1, 1))\n",
      "    (1): ReLU(inplace=True)\n",
      "    (2): Conv2d(64, 64, kernel_size=(3, 3), stride=(1, 1), padding=(1, 1))\n",
      "    (3): ReLU(inplace=True)\n",
      "    (4): MaxPool2d(kernel_size=2, stride=2, padding=0, dilation=1, ceil_mode=False)\n",
      "    (5): Conv2d(64, 128, kernel_size=(3, 3), stride=(1, 1), padding=(1, 1))\n",
      "    (6): ReLU(inplace=True)\n",
      "    (7): Conv2d(128, 128, kernel_size=(3, 3), stride=(1, 1), padding=(1, 1))\n",
      "    (8): ReLU(inplace=True)\n",
      "    (9): MaxPool2d(kernel_size=2, stride=2, padding=0, dilation=1, ceil_mode=False)\n",
      "    (10): Conv2d(128, 256, kernel_size=(3, 3), stride=(1, 1), padding=(1, 1))\n",
      "    (11): ReLU(inplace=True)\n",
      "    (12): Conv2d(256, 256, kernel_size=(3, 3), stride=(1, 1), padding=(1, 1))\n",
      "    (13): ReLU(inplace=True)\n",
      "    (14): Conv2d(256, 256, kernel_size=(3, 3), stride=(1, 1), padding=(1, 1))\n",
      "    (15): ReLU(inplace=True)\n",
      "    (16): MaxPool2d(kernel_size=2, stride=2, padding=0, dilation=1, ceil_mode=False)\n",
      "    (17): Conv2d(256, 512, kernel_size=(3, 3), stride=(1, 1), padding=(1, 1))\n",
      "    (18): ReLU(inplace=True)\n",
      "    (19): Conv2d(512, 512, kernel_size=(3, 3), stride=(1, 1), padding=(1, 1))\n",
      "    (20): ReLU(inplace=True)\n",
      "    (21): Conv2d(512, 512, kernel_size=(3, 3), stride=(1, 1), padding=(1, 1))\n",
      "    (22): ReLU(inplace=True)\n",
      "    (23): MaxPool2d(kernel_size=2, stride=2, padding=0, dilation=1, ceil_mode=False)\n",
      "    (24): Conv2d(512, 512, kernel_size=(3, 3), stride=(1, 1), padding=(1, 1))\n",
      "    (25): ReLU(inplace=True)\n",
      "    (26): Conv2d(512, 512, kernel_size=(3, 3), stride=(1, 1), padding=(1, 1))\n",
      "    (27): ReLU(inplace=True)\n",
      "    (28): Conv2d(512, 512, kernel_size=(3, 3), stride=(1, 1), padding=(1, 1))\n",
      "    (29): ReLU(inplace=True)\n",
      "    (30): MaxPool2d(kernel_size=2, stride=2, padding=0, dilation=1, ceil_mode=False)\n",
      "  )\n",
      "  (avgpool): AdaptiveAvgPool2d(output_size=(7, 7))\n",
      "  (classifier): Sequential(\n",
      "    (0): Linear(in_features=25088, out_features=4096, bias=True)\n",
      "    (1): ReLU(inplace=True)\n",
      "    (2): Dropout(p=0.5, inplace=False)\n",
      "    (3): Linear(in_features=4096, out_features=4096, bias=True)\n",
      "    (4): ReLU(inplace=True)\n",
      "    (5): Dropout(p=0.5, inplace=False)\n",
      "    (6): Linear(in_features=4096, out_features=1000, bias=True)\n",
      "  )\n",
      ")\n"
     ]
    }
   ],
   "source": [
    "load_vgg16 = torchvision.models.vgg16(pretrained=False)\n",
    "# map_location参数是为了解决CPU和GPU之间的模型加载问题：\n",
    "# 如果模型是在GPU上训练的，加载时需要加上map_location参数，否则会报错\n",
    "vgg16.load_state_dict(torch.load('model/vgg16_state_dict.pth'), map_location=device)\n",
    "print(vgg16, load_vgg16)"
   ],
   "metadata": {
    "collapsed": false,
    "ExecuteTime": {
     "end_time": "2024-04-03T02:57:11.449261Z",
     "start_time": "2024-04-03T02:57:05.040458Z"
    }
   },
   "id": "3db4a8390f5b6b56",
   "execution_count": 36
  },
  {
   "cell_type": "code",
   "outputs": [],
   "source": [],
   "metadata": {
    "collapsed": false
   },
   "id": "e078dc87158d262d"
  }
 ],
 "metadata": {
  "kernelspec": {
   "display_name": "Python 3",
   "language": "python",
   "name": "python3"
  },
  "language_info": {
   "codemirror_mode": {
    "name": "ipython",
    "version": 2
   },
   "file_extension": ".py",
   "mimetype": "text/x-python",
   "name": "python",
   "nbconvert_exporter": "python",
   "pygments_lexer": "ipython2",
   "version": "2.7.6"
  }
 },
 "nbformat": 4,
 "nbformat_minor": 5
}
