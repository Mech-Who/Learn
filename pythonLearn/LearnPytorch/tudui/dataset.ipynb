{
 "cells": [
  {
   "cell_type": "code",
   "execution_count": 23,
   "id": "initial_id",
   "metadata": {
    "collapsed": true,
    "ExecuteTime": {
     "end_time": "2024-04-02T05:00:48.672246Z",
     "start_time": "2024-04-02T05:00:48.507986Z"
    }
   },
   "outputs": [],
   "source": [
    "import os\n",
    "from torch.utils.data import Dataset\n",
    "from PIL import Image"
   ]
  },
  {
   "cell_type": "code",
   "outputs": [],
   "source": [
    "Dataset??"
   ],
   "metadata": {
    "collapsed": false,
    "ExecuteTime": {
     "end_time": "2024-04-02T04:12:59.423749Z",
     "start_time": "2024-04-02T04:12:59.338543Z"
    }
   },
   "id": "fc7435dd784fa210",
   "execution_count": 4
  },
  {
   "cell_type": "code",
   "outputs": [],
   "source": [
    "class MyDataset(Dataset):\n",
    "    def __init__(self, root_dir, label, data_type):\n",
    "        self.root_dir = root_dir\n",
    "        self.label = label\n",
    "        self.data_type = data_type\n",
    "        self.dataset_path = os.path.join(self.root_dir, self.label, self.data_type)\n",
    "        self.image_list = os.listdir(self.dataset_path)\n",
    "        \n",
    "    def __getitem__(self, index):\n",
    "        image_path =  os.path.join(self.root_dir, self.label, self.data_type, self.image_list[index])\n",
    "        img = Image.open(image_path)\n",
    "        return img\n",
    "    \n",
    "    def __len__(self):\n",
    "        return len(self.image_list)\n"
   ],
   "metadata": {
    "collapsed": false,
    "ExecuteTime": {
     "end_time": "2024-04-02T05:01:14.077904Z",
     "start_time": "2024-04-02T05:01:14.065648Z"
    }
   },
   "id": "4889e4a6f9ef552a",
   "execution_count": 24
  },
  {
   "cell_type": "code",
   "outputs": [],
   "source": [
    "class MyDataset2(Dataset):\n",
    "    def __init__(self, root_dir, label, data_type):\n",
    "        self.root_dir = root_dir\n",
    "        self.label = label\n",
    "        self.data_type = data_type\n",
    "        self.label_path = os.path.join(self.root_dir, self.label, self.data_type+\"_label\")\n",
    "        self.image_path = os.path.join(self.root_dir, self.label, self.data_type+\"_image\")\n",
    "        self.data_list = list(zip(os.listdir(self.image_path), os.listdir(self.label_path)))\n",
    "    \n",
    "    def __len__(self):\n",
    "        return len(self.data_list)\n",
    "    \n",
    "    def __getitem__(self, idx):\n",
    "        img_path, label_path = self.data_list[idx]\n",
    "        img_path = os.path.join(self.root_dir, self.label, self.data_type+\"_image\", img_path)\n",
    "        label_path = os.path.join(self.root_dir, self.label, self.data_type+\"_label\", label_path)\n",
    "        img = Image.open(img_path)\n",
    "        label = None\n",
    "        with open(label_path, \"r\") as f:\n",
    "            label = f.readline()\n",
    "        return (img, label)\n",
    "        "
   ],
   "metadata": {
    "collapsed": false,
    "ExecuteTime": {
     "end_time": "2024-04-02T05:03:01.298308Z",
     "start_time": "2024-04-02T05:03:01.273726Z"
    }
   },
   "id": "c5e2328adaa6ab22",
   "execution_count": 25
  },
  {
   "cell_type": "code",
   "outputs": [
    {
     "data": {
      "text/plain": "(124, <PIL.JpegImagePlugin.JpegImageFile image mode=RGB size=768x512>)"
     },
     "execution_count": 26,
     "metadata": {},
     "output_type": "execute_result"
    }
   ],
   "source": [
    "root_dir = r\"D:\\Project\\2x2080\\CVObjectGL\\models\\learn\\dataset\"\n",
    "label = \"train\"\n",
    "data_type = \"ants\"\n",
    "ant_dataset = MyDataset(root_dir, label, data_type)\n",
    "len(ant_dataset), ant_dataset[0]"
   ],
   "metadata": {
    "collapsed": false,
    "ExecuteTime": {
     "end_time": "2024-04-02T05:03:02.900643Z",
     "start_time": "2024-04-02T05:03:02.819003Z"
    }
   },
   "id": "8c339560406e6ce1",
   "execution_count": 26
  },
  {
   "cell_type": "code",
   "outputs": [
    {
     "data": {
      "text/plain": "(124,\n (<PIL.JpegImagePlugin.JpegImageFile image mode=RGB size=768x512>, 'ants'))"
     },
     "execution_count": 27,
     "metadata": {},
     "output_type": "execute_result"
    }
   ],
   "source": [
    "root_dir = r\"D:\\Project\\2x2080\\CVObjectGL\\models\\learn\\dataset2\"\n",
    "label = \"train\"\n",
    "data_type = \"ants\"\n",
    "ant_dataset2 = MyDataset2(root_dir, label, data_type)\n",
    "len(ant_dataset2), ant_dataset2[0]"
   ],
   "metadata": {
    "collapsed": false,
    "ExecuteTime": {
     "end_time": "2024-04-02T05:03:04.379988Z",
     "start_time": "2024-04-02T05:03:04.351654Z"
    }
   },
   "id": "e93b4909e67a4246",
   "execution_count": 27
  },
  {
   "cell_type": "code",
   "outputs": [],
   "source": [],
   "metadata": {
    "collapsed": false
   },
   "id": "73a4f8a117a55d9d"
  }
 ],
 "metadata": {
  "kernelspec": {
   "display_name": "Python 3",
   "language": "python",
   "name": "python3"
  },
  "language_info": {
   "codemirror_mode": {
    "name": "ipython",
    "version": 2
   },
   "file_extension": ".py",
   "mimetype": "text/x-python",
   "name": "python",
   "nbconvert_exporter": "python",
   "pygments_lexer": "ipython2",
   "version": "2.7.6"
  }
 },
 "nbformat": 4,
 "nbformat_minor": 5
}
