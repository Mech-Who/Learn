{
 "cells": [
  {
   "cell_type": "code",
   "execution_count": 13,
   "id": "initial_id",
   "metadata": {
    "collapsed": true,
    "ExecuteTime": {
     "end_time": "2024-04-02T05:05:47.232969Z",
     "start_time": "2024-04-02T05:05:47.228964Z"
    }
   },
   "outputs": [],
   "source": [
    "import os\n",
    "import numpy as np\n",
    "from PIL import Image\n",
    "from torch.utils.tensorboard import SummaryWriter"
   ]
  },
  {
   "cell_type": "code",
   "outputs": [],
   "source": [
    "image_dir = r\"D:\\Project\\2x2080\\CVObjectGL\\models\\learn\\dataset2\\train\\ants_image\"\n",
    "image_list = os.listdir(image_dir)"
   ],
   "metadata": {
    "collapsed": false,
    "ExecuteTime": {
     "end_time": "2024-04-02T05:05:47.493910Z",
     "start_time": "2024-04-02T05:05:47.479922Z"
    }
   },
   "id": "b4e96fdb1edf23",
   "execution_count": 14
  },
  {
   "cell_type": "code",
   "outputs": [],
   "source": [
    "writer = SummaryWriter('logs')\n",
    "\n",
    "for i in range(len(image_list)):\n",
    "    img = Image.open(os.path.join(image_dir, image_list[i]))\n",
    "    img = np.array(img)\n",
    "    if img.size == (768, 512):\n",
    "        writer.add_image(\"Images\", img, i, dataformats='HWC')\n",
    "\n",
    "# y = x\n",
    "for i in range(100):\n",
    "    writer.add_scalar(\"y=3x\", 3 * i, i)\n",
    "    writer.add_scalar(\"y=2x\", 2 * i, i)\n",
    "    writer.add_scalar(\"y=x\", i, i)\n",
    "\n",
    "writer.close()"
   ],
   "metadata": {
    "collapsed": false,
    "ExecuteTime": {
     "end_time": "2024-04-02T05:07:37.390608Z",
     "start_time": "2024-04-02T05:07:36.904899Z"
    }
   },
   "id": "982049891b354c56",
   "execution_count": 16
  },
  {
   "cell_type": "code",
   "outputs": [],
   "source": [],
   "metadata": {
    "collapsed": false
   },
   "id": "9f7a071ee26ac968"
  }
 ],
 "metadata": {
  "kernelspec": {
   "display_name": "Python 3",
   "language": "python",
   "name": "python3"
  },
  "language_info": {
   "codemirror_mode": {
    "name": "ipython",
    "version": 2
   },
   "file_extension": ".py",
   "mimetype": "text/x-python",
   "name": "python",
   "nbconvert_exporter": "python",
   "pygments_lexer": "ipython2",
   "version": "2.7.6"
  }
 },
 "nbformat": 4,
 "nbformat_minor": 5
}
