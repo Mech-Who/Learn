{
 "cells": [
  {
   "cell_type": "code",
   "execution_count": 10,
   "id": "initial_id",
   "metadata": {
    "collapsed": true,
    "ExecuteTime": {
     "end_time": "2024-04-02T05:26:29.635645Z",
     "start_time": "2024-04-02T05:26:29.159478Z"
    }
   },
   "outputs": [],
   "source": [
    "from torchvision import transforms\n",
    "from PIL import Image\n",
    "from torch.utils.tensorboard import SummaryWriter"
   ]
  },
  {
   "cell_type": "code",
   "outputs": [],
   "source": [
    "# img_path = r\"D:\\Project\\2x2080\\CVObjectGL\\models\\learn\\dataset2\\train\\ants_image\\0013035.jpg\"\n",
    "img_path = r\"dataset2\\train\\ants_image\\0013035.jpg\"\n",
    "img = Image.open(img_path)"
   ],
   "metadata": {
    "collapsed": false,
    "ExecuteTime": {
     "end_time": "2024-04-02T05:19:14.442111Z",
     "start_time": "2024-04-02T05:19:14.408990Z"
    }
   },
   "id": "f526fb0724b47f9a",
   "execution_count": 7
  },
  {
   "cell_type": "code",
   "outputs": [
    {
     "data": {
      "text/plain": "torch.Size([3, 512, 768])"
     },
     "execution_count": 8,
     "metadata": {},
     "output_type": "execute_result"
    }
   ],
   "source": [
    "tensor_trans = transforms.ToTensor()\n",
    "tensor_img = tensor_trans(img)\n",
    "tensor_img.shape"
   ],
   "metadata": {
    "collapsed": false,
    "ExecuteTime": {
     "end_time": "2024-04-02T05:19:42.218844Z",
     "start_time": "2024-04-02T05:19:42.137941Z"
    }
   },
   "id": "37ceb6948d89b0d5",
   "execution_count": 8
  },
  {
   "cell_type": "code",
   "outputs": [],
   "source": [
    "writer = SummaryWriter(\"logs\")\n",
    "writer.add_image(\"Tensor_img\", tensor_img)\n",
    "writer.close()"
   ],
   "metadata": {
    "collapsed": false,
    "ExecuteTime": {
     "end_time": "2024-04-02T05:27:27.933461Z",
     "start_time": "2024-04-02T05:27:27.673883Z"
    }
   },
   "id": "175e1b932f2c1663",
   "execution_count": 11
  },
  {
   "cell_type": "markdown",
   "source": [
    "# 常见的Transforms\n",
    "\n",
    "关注点：\n",
    "\n",
    "- 输入\n",
    "- 输出\n",
    "- 作用\n",
    "- 参数"
   ],
   "metadata": {
    "collapsed": false
   },
   "id": "86791f09efa24c60"
  },
  {
   "cell_type": "markdown",
   "source": [
    "## ToTensor\n",
    "\n",
    "- 输入：PIL Image\n",
    "- 输出：Tensor\n",
    "- 作用：将PIL Image转换为Tensor"
   ],
   "metadata": {
    "collapsed": false
   },
   "id": "ee80455a88741bf9"
  },
  {
   "cell_type": "code",
   "outputs": [],
   "source": [
    "to_tensor = transforms.ToTensor()"
   ],
   "metadata": {
    "collapsed": false,
    "ExecuteTime": {
     "end_time": "2024-04-02T06:36:06.389549Z",
     "start_time": "2024-04-02T06:36:06.386163Z"
    }
   },
   "id": "2a5b721aaf57bc75",
   "execution_count": 17
  },
  {
   "cell_type": "markdown",
   "source": [
    "## ToPILImage\n",
    "\n",
    "- 输入：Tensor\n",
    "- 输出：PIL Image\n",
    "- 作用：将Tensor转换为PIL Image"
   ],
   "metadata": {
    "collapsed": false
   },
   "id": "94334358041bd0ba"
  },
  {
   "cell_type": "code",
   "outputs": [],
   "source": [
    "to_pil_image = transforms.ToPILImage()"
   ],
   "metadata": {
    "collapsed": false,
    "ExecuteTime": {
     "end_time": "2024-04-02T06:36:07.132096Z",
     "start_time": "2024-04-02T06:36:07.114929Z"
    }
   },
   "id": "14e003f30f2ff578",
   "execution_count": 18
  },
  {
   "cell_type": "markdown",
   "source": [
    "## Normalize\n",
    "\n",
    "- 输入：Tensor\n",
    "- 输出：Tensor\n",
    "- 作用：对Tensor进行归一化\n",
    "- 参数：\n",
    "    - mean：均值\n",
    "    - std：标准差\n",
    "\n",
    "计算公式：\n",
    "\n",
    "`input[channel] = (input[channel] - mean[channel]) / std[channel]`"
   ],
   "metadata": {
    "collapsed": false
   },
   "id": "d714fcba8b8b2862"
  },
  {
   "cell_type": "code",
   "outputs": [],
   "source": [
    "trans_norm = transforms.Normalize(mean=[0.5, 0.5, 0.5], std=[0.5, 0.5, 0.5])"
   ],
   "metadata": {
    "collapsed": false,
    "ExecuteTime": {
     "end_time": "2024-04-02T06:34:54.950116Z",
     "start_time": "2024-04-02T06:34:54.897150Z"
    }
   },
   "id": "d7e397126fbda159",
   "execution_count": 14
  },
  {
   "cell_type": "markdown",
   "source": [
    "## Resize\n",
    "\n",
    "- 输入：PIL Image\n",
    "- 输出：PIL Image\n",
    "- 作用：调整图片大小\n",
    "- 参数：\n",
    "    - size：调整后的大小"
   ],
   "metadata": {
    "collapsed": false
   },
   "id": "a5f42ead76cfa89c"
  },
  {
   "cell_type": "code",
   "outputs": [],
   "source": [
    "trans_resize = transforms.Resize(size=(512, 512))"
   ],
   "metadata": {
    "collapsed": false,
    "ExecuteTime": {
     "end_time": "2024-04-02T06:41:45.707800Z",
     "start_time": "2024-04-02T06:41:45.691687Z"
    }
   },
   "id": "3461015ea3e68c3d",
   "execution_count": 20
  },
  {
   "cell_type": "markdown",
   "source": [
    "## Compose\n",
    "\n",
    "- 输入：多个Transform\n",
    "- 输出：Transform\n",
    "- 作用：将多个Transform组合成一个Transform"
   ],
   "metadata": {
    "collapsed": false
   },
   "id": "8d872fabd1fd8be9"
  },
  {
   "cell_type": "code",
   "outputs": [],
   "source": [
    "trans_compose = transforms.Compose([trans_resize, to_tensor])"
   ],
   "metadata": {
    "collapsed": false,
    "ExecuteTime": {
     "end_time": "2024-04-02T06:55:19.059888Z",
     "start_time": "2024-04-02T06:55:19.021198Z"
    }
   },
   "id": "383a9414dcd90898",
   "execution_count": 21
  },
  {
   "cell_type": "markdown",
   "source": [
    "## RandomCrop\n",
    "\n",
    "- 输入：PIL Image\n",
    "- 输出：PIL Image\n",
    "- 作用：随机裁剪图片\n",
    "- 参数：\n",
    "    - size：裁剪后的图片尺寸"
   ],
   "metadata": {
    "collapsed": false
   },
   "id": "f0e11ef29350cc44"
  },
  {
   "cell_type": "code",
   "outputs": [],
   "source": [
    "trans_random_crop = transforms.RandomCrop(size=(256, 256))"
   ],
   "metadata": {
    "collapsed": false,
    "ExecuteTime": {
     "end_time": "2024-04-02T06:57:21.060948Z",
     "start_time": "2024-04-02T06:57:21.018007Z"
    }
   },
   "id": "96f43f14dae7e94e",
   "execution_count": 22
  },
  {
   "cell_type": "markdown",
   "source": [
    "## 总结\n",
    "\n",
    "- 关注transform的输入和输出类型\n",
    "- 多看官方文档\n",
    "- 关注方法需要什么参数即可\n",
    "- 不知道返回值的数据类型时，使用断点调试或type函数输出看看"
   ],
   "metadata": {
    "collapsed": false
   },
   "id": "272891aecd5cdfcb"
  },
  {
   "cell_type": "code",
   "outputs": [],
   "source": [],
   "metadata": {
    "collapsed": false
   },
   "id": "ccfdd8903d1f883e"
  }
 ],
 "metadata": {
  "kernelspec": {
   "display_name": "Python 3",
   "language": "python",
   "name": "python3"
  },
  "language_info": {
   "codemirror_mode": {
    "name": "ipython",
    "version": 2
   },
   "file_extension": ".py",
   "mimetype": "text/x-python",
   "name": "python",
   "nbconvert_exporter": "python",
   "pygments_lexer": "ipython2",
   "version": "2.7.6"
  }
 },
 "nbformat": 4,
 "nbformat_minor": 5
}
