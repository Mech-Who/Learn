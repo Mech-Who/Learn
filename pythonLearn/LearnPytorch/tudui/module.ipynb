{
 "cells": [
  {
   "cell_type": "markdown",
   "source": [
    "## Convolution Layer\n",
    "\n",
    "- 输入：Tensor (minibatch, in_channels, iH, iW)\n",
    "- 输出：Tensor (minibatch, out_channels, oH, oW)\n",
    "- 参数：\n",
    "    - out_channels\n",
    "    - in_channels\n",
    "    - kernel_size\n",
    "    - stride：kernel在输入上的滑动步长\n",
    "    - padding：在输入的四周填充0的层数\n",
    "    - padding_mode：'zeros', 'reflect', 'replicate' or 'circular'\n",
    "    - dilation：kernel元素之间的间隔\n",
    "    - groups：分组卷积\n",
    "    - bias：是否使用偏置\n",
    "\n",
    "根据前后两层的尺寸关系，可以计算出padding和stride的值。\n",
    "官方文档中提供了计算的公式。\n"
   ],
   "metadata": {
    "collapsed": false
   },
   "id": "13286cc99b79b5f"
  },
  {
   "cell_type": "code",
   "outputs": [],
   "source": [
    "import torch\n",
    "import torchvision\n",
    "from torch.utils.data import DataLoader\n",
    "from torch.utils.tensorboard import SummaryWriter"
   ],
   "metadata": {
    "collapsed": false,
    "ExecuteTime": {
     "end_time": "2024-04-02T08:44:40.316942Z",
     "start_time": "2024-04-02T08:44:34.472681Z"
    }
   },
   "id": "41350ed709857d1d",
   "execution_count": 13
  },
  {
   "cell_type": "code",
   "outputs": [
    {
     "data": {
      "text/plain": "(torch.Size([1, 1, 5, 5]), torch.Size([1, 1, 3, 3]))"
     },
     "execution_count": 8,
     "metadata": {},
     "output_type": "execute_result"
    }
   ],
   "source": [
    "input = torch.tensor([\n",
    "    [1, 2, 0, 3, 1],\n",
    "    [0, 1, 2, 3, 1],\n",
    "    [1, 2, 1, 0, 0],\n",
    "    [5, 2, 3, 1, 1],\n",
    "    [2, 1, 0, 1, 1]\n",
    "])\n",
    "kernel = torch.tensor([[1, 2, 1],\n",
    "                       [0, 1, 0],\n",
    "                       [2, 1, 0]])\n",
    "\n",
    "# input = input.view(1, 1, 5, 5).float()\n",
    "input = torch.reshape(input, (1, 1, 5, 5))\n",
    "kernel = torch.reshape(kernel, (1, 1, 3, 3))\n",
    "\n",
    "input.shape, kernel.shape"
   ],
   "metadata": {
    "collapsed": false,
    "ExecuteTime": {
     "end_time": "2024-04-02T08:39:02.142628Z",
     "start_time": "2024-04-02T08:39:02.103905Z"
    }
   },
   "id": "ae96cb79f44c197e",
   "execution_count": 8
  },
  {
   "cell_type": "code",
   "outputs": [
    {
     "data": {
      "text/plain": "(torch.Size([1, 1, 3, 3]),\n tensor([[[[10, 12, 12],\n           [18, 16, 16],\n           [13,  9,  3]]]]))"
     },
     "execution_count": 5,
     "metadata": {},
     "output_type": "execute_result"
    }
   ],
   "source": [
    "output = torch.nn.functional.conv2d(input, kernel, stride=1)\n",
    "output.shape, output"
   ],
   "metadata": {
    "collapsed": false,
    "ExecuteTime": {
     "end_time": "2024-04-02T07:49:42.319632Z",
     "start_time": "2024-04-02T07:49:42.305183Z"
    }
   },
   "id": "e35dae8ff3ea4db9",
   "execution_count": 5
  },
  {
   "cell_type": "code",
   "outputs": [
    {
     "data": {
      "text/plain": "(torch.Size([1, 1, 2, 2]),\n tensor([[[[10, 12],\n           [13,  3]]]]))"
     },
     "execution_count": 6,
     "metadata": {},
     "output_type": "execute_result"
    }
   ],
   "source": [
    "output2 = torch.nn.functional.conv2d(input, kernel, stride=2)\n",
    "output2.shape, output2"
   ],
   "metadata": {
    "collapsed": false,
    "ExecuteTime": {
     "end_time": "2024-04-02T07:49:50.764203Z",
     "start_time": "2024-04-02T07:49:50.740693Z"
    }
   },
   "id": "15e839f9b690d42d",
   "execution_count": 6
  },
  {
   "cell_type": "markdown",
   "source": [
    "## Max Pooling Layer\n",
    "\n",
    "- 输入：Tensor (minibatch, in_channels, iH, iW)\n",
    "- 输出：Tensor (minibatch, out_channels, oH, oW)\n",
    "- 参数：\n",
    "    - kernel_size\n",
    "    - stride：kernel在输入上的滑动步长\n",
    "    - padding：在输入的四周填充0的层数\n",
    "    - dilation：kernel元素之间的间隔\n",
    "    - return_indices：是否返回最大值的索引\n",
    "    - ceil_mode：移动步长之后，如果元素不足一个kernel_size，保留，默认不保留"
   ],
   "metadata": {
    "collapsed": false
   },
   "id": "2d7339e714ac5c5"
  },
  {
   "cell_type": "code",
   "outputs": [
    {
     "data": {
      "text/plain": "(torch.Size([1, 1, 2, 2]),\n tensor([[[[2, 3],\n           [5, 1]]]]))"
     },
     "execution_count": 11,
     "metadata": {},
     "output_type": "execute_result"
    }
   ],
   "source": [
    "output3 = torch.nn.functional.max_pool2d(input, kernel_size=3, ceil_mode=True)\n",
    "output3.shape, output3"
   ],
   "metadata": {
    "collapsed": false,
    "ExecuteTime": {
     "end_time": "2024-04-02T08:39:25.420323Z",
     "start_time": "2024-04-02T08:39:25.403440Z"
    }
   },
   "id": "9735073401ecd38d",
   "execution_count": 11
  },
  {
   "cell_type": "code",
   "outputs": [
    {
     "name": "stdout",
     "output_type": "stream",
     "text": [
      "Files already downloaded and verified\n"
     ]
    }
   ],
   "source": [
    "class Yukiiiii(torch.nn.Module):\n",
    "    def __init__(self):\n",
    "        super().__init__()\n",
    "        self.maxpool1 = torch.nn.MaxPool2d(kernel_size=3, ceil_mode=False)\n",
    "        \n",
    "    def forward(self, x):\n",
    "        return self.maxpool1(x)\n",
    "    \n",
    "dataset = torchvision.datasets.CIFAR10(root='./data', train=False, download=True, transform=torchvision.transforms.ToTensor())\n",
    "dataloader = torch.utils.data.DataLoader(dataset, batch_size=64, shuffle=True)\n",
    "\n",
    "net = Yukiiiii()\n",
    "\n",
    "writer = SummaryWriter(\"module\")\n",
    "for epoch in range(2):\n",
    "    step = 0\n",
    "    for data in dataloader:\n",
    "        imgs, targets = data\n",
    "        writer.add_images(f\"before epoch: {epoch}\", imgs, step)\n",
    "        out = net(imgs)  \n",
    "        writer.add_images(f\"epoch: {epoch}\", out, step)\n",
    "        step += 1\n",
    "writer.close()"
   ],
   "metadata": {
    "collapsed": false,
    "ExecuteTime": {
     "end_time": "2024-04-02T08:49:40.795205Z",
     "start_time": "2024-04-02T08:49:25.393745Z"
    }
   },
   "id": "e372b7ad73ee60bf",
   "execution_count": 18
  },
  {
   "cell_type": "code",
   "outputs": [],
   "source": [],
   "metadata": {
    "collapsed": false
   },
   "id": "142a98a05ecfcdde"
  }
 ],
 "metadata": {
  "kernelspec": {
   "display_name": "Python 3",
   "language": "python",
   "name": "python3"
  },
  "language_info": {
   "codemirror_mode": {
    "name": "ipython",
    "version": 2
   },
   "file_extension": ".py",
   "mimetype": "text/x-python",
   "name": "python",
   "nbconvert_exporter": "python",
   "pygments_lexer": "ipython2",
   "version": "2.7.6"
  }
 },
 "nbformat": 4,
 "nbformat_minor": 5
}
