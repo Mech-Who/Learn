{
 "cells": [
  {
   "cell_type": "code",
   "execution_count": 1,
   "id": "initial_id",
   "metadata": {
    "collapsed": true,
    "ExecuteTime": {
     "end_time": "2024-04-03T01:47:39.044472Z",
     "start_time": "2024-04-03T01:47:35.207218Z"
    }
   },
   "outputs": [],
   "source": [
    "import torch\n",
    "import torch.nn as nn\n",
    "import torch.nn.functional as F"
   ]
  },
  {
   "cell_type": "code",
   "outputs": [],
   "source": [
    "inputs = torch.tensor([1, 2, 3], dtype=torch.float32)\n",
    "targets = torch.tensor([1, 2, 5], dtype=torch.float32)\n",
    "\n",
    "loss_l1 = nn.L1Loss()\n",
    "loss_mse = nn.MSELoss()"
   ],
   "metadata": {
    "collapsed": false,
    "ExecuteTime": {
     "end_time": "2024-04-03T01:49:44.979021Z",
     "start_time": "2024-04-03T01:49:44.968499Z"
    }
   },
   "id": "fe4d3de71984b50a",
   "execution_count": 8
  },
  {
   "cell_type": "code",
   "outputs": [
    {
     "data": {
      "text/plain": "tensor(0.6667)"
     },
     "execution_count": 3,
     "metadata": {},
     "output_type": "execute_result"
    }
   ],
   "source": [
    "loss_l1(inputs, targets)"
   ],
   "metadata": {
    "collapsed": false,
    "ExecuteTime": {
     "end_time": "2024-04-03T01:48:43.004678Z",
     "start_time": "2024-04-03T01:48:42.985030Z"
    }
   },
   "id": "103f249c27e0a66a",
   "execution_count": 3
  },
  {
   "cell_type": "code",
   "outputs": [
    {
     "data": {
      "text/plain": "tensor(1.3333)"
     },
     "execution_count": 9,
     "metadata": {},
     "output_type": "execute_result"
    }
   ],
   "source": [
    "loss_mse(inputs, targets)"
   ],
   "metadata": {
    "collapsed": false,
    "ExecuteTime": {
     "end_time": "2024-04-03T01:49:45.616308Z",
     "start_time": "2024-04-03T01:49:45.599733Z"
    }
   },
   "id": "12c2e5faed0f7221",
   "execution_count": 9
  },
  {
   "cell_type": "code",
   "outputs": [],
   "source": [
    "x = torch.tensor([[0.1, .2, .3]])\n",
    "y = torch.tensor([1])\n",
    "loss_cross = nn.CrossEntropyLoss()"
   ],
   "metadata": {
    "collapsed": false,
    "ExecuteTime": {
     "end_time": "2024-04-03T01:50:45.949857Z",
     "start_time": "2024-04-03T01:50:45.943045Z"
    }
   },
   "id": "5127e85eaff71946",
   "execution_count": 12
  },
  {
   "cell_type": "code",
   "outputs": [
    {
     "data": {
      "text/plain": "tensor(1.1019)"
     },
     "execution_count": 13,
     "metadata": {},
     "output_type": "execute_result"
    }
   ],
   "source": [
    "loss_cross(x, y)"
   ],
   "metadata": {
    "collapsed": false,
    "ExecuteTime": {
     "end_time": "2024-04-03T01:50:46.567374Z",
     "start_time": "2024-04-03T01:50:46.552822Z"
    }
   },
   "id": "987561c6d7cf22ce",
   "execution_count": 13
  },
  {
   "cell_type": "code",
   "outputs": [],
   "source": [],
   "metadata": {
    "collapsed": false
   },
   "id": "877cabbb19507f5d"
  }
 ],
 "metadata": {
  "kernelspec": {
   "display_name": "Python 3",
   "language": "python",
   "name": "python3"
  },
  "language_info": {
   "codemirror_mode": {
    "name": "ipython",
    "version": 2
   },
   "file_extension": ".py",
   "mimetype": "text/x-python",
   "name": "python",
   "nbconvert_exporter": "python",
   "pygments_lexer": "ipython2",
   "version": "2.7.6"
  }
 },
 "nbformat": 4,
 "nbformat_minor": 5
}
